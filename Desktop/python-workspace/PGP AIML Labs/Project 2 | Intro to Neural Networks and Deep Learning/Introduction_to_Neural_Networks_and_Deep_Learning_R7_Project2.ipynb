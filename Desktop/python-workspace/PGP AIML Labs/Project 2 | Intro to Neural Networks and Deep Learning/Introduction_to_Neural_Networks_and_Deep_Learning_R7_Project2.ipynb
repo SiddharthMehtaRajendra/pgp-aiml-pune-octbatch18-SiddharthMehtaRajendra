{
 "cells": [
  {
   "cell_type": "code",
   "execution_count": 30,
   "metadata": {
    "colab": {
     "base_uri": "https://localhost:8080/",
     "height": 51
    },
    "colab_type": "code",
    "id": "w4rUFhJ3cqJX",
    "outputId": "e853baa9-1951-4c0d-9b87-ce10274e2ef9",
    "scrolled": true
   },
   "outputs": [
    {
     "name": "stdout",
     "output_type": "stream",
     "text": [
      "Drive already mounted at /content/gdrive; to attempt to forcibly remount, call drive.mount(\"/content/gdrive\", force_remount=True).\n",
      "Keys: KeysView(<HDF5 file \"SVHN_single_grey1.h5\" (mode r)>)\n"
     ]
    }
   ],
   "source": [
    "import pandas as pd\n",
    "import h5py\n",
    "import numpy as np\n",
    "from google.colab import drive\n",
    "drive.mount('/content/gdrive')\n",
    "\n",
    "f = h5py.File('/content/gdrive/My Drive/Colab Notebooks/SVHN_single_grey1.h5', 'r')\n",
    "\n",
    "# List all groups\n",
    "print(\"Keys: %s\" % f.keys())\n",
    "a_group_key = list(f.keys())[0]\n",
    "\n",
    "# Get the data\n",
    "X_test = np.array(f[list(f.keys())[0]])\n",
    "X_train = np.array(f[list(f.keys())[1]])\n",
    "X_val = np.array(f[list(f.keys())[2]])\n",
    "y_test = np.array(f[list(f.keys())[3]])\n",
    "y_train = np.array(f[list(f.keys())[4]])\n",
    "y_val = np.array(f[list(f.keys())[5]])"
   ]
  },
  {
   "cell_type": "code",
   "execution_count": 31,
   "metadata": {
    "colab": {
     "base_uri": "https://localhost:8080/",
     "height": 119
    },
    "colab_type": "code",
    "id": "UtdmDqf9cqJe",
    "outputId": "c2f5502d-a9cd-4544-bfce-d52e287c46da"
   },
   "outputs": [
    {
     "name": "stdout",
     "output_type": "stream",
     "text": [
      "X_test Shape:  (18000, 32, 32)\n",
      "X_train Shape:  (42000, 32, 32)\n",
      "X_val Shape:  (60000, 32, 32)\n",
      "y_test Shape:  (18000,)\n",
      "y_train Shape:  (42000,)\n",
      "y_val Shape:  (60000,)\n"
     ]
    }
   ],
   "source": [
    "print(\"X_test Shape: \", X_test.shape)\n",
    "print(\"X_train Shape: \", X_train.shape)\n",
    "print(\"X_val Shape: \", X_val.shape)\n",
    "print(\"y_test Shape: \", y_test.shape)\n",
    "print(\"y_train Shape: \", y_train.shape)\n",
    "print(\"y_val Shape: \", y_val.shape)"
   ]
  },
  {
   "cell_type": "code",
   "execution_count": 32,
   "metadata": {
    "colab": {
     "base_uri": "https://localhost:8080/",
     "height": 34
    },
    "colab_type": "code",
    "id": "oBiyCnVJcqJi",
    "outputId": "3c147fb4-f4b0-46ac-a483-34da8874b0c8"
   },
   "outputs": [
    {
     "name": "stdout",
     "output_type": "stream",
     "text": [
      "Number of Classes in y_test:10, y_train:10, y_val:10\n"
     ]
    }
   ],
   "source": [
    "print(\"Number of Classes in y_test:{}, y_train:{}, y_val:{}\".format(len(np.unique(y_test)),\n",
    "                                                                    len(np.unique(y_train)), len(np.unique(y_val))))"
   ]
  },
  {
   "cell_type": "code",
   "execution_count": 0,
   "metadata": {
    "colab": {},
    "colab_type": "code",
    "id": "ER-gdjyCcqJl"
   },
   "outputs": [],
   "source": [
    "import tensorflow as tf\n",
    "#Subsample the data for more efficient code execution in this exercise\n",
    "num_training =  5000\n",
    "mask = range(num_training)\n",
    "X_train = X_train[mask]\n",
    "trainY = y_train[mask]\n",
    "\n",
    "num_val = 1000\n",
    "mask = range(num_val)\n",
    "X_val = X_val[mask]\n",
    "valY = y_val[mask]\n",
    "\n",
    "num_test = 1000\n",
    "mask = range(num_test)\n",
    "X_test = X_test[mask]\n",
    "testY = y_test[mask]"
   ]
  },
  {
   "cell_type": "code",
   "execution_count": 35,
   "metadata": {
    "colab": {
     "base_uri": "https://localhost:8080/",
     "height": 51
    },
    "colab_type": "code",
    "id": "EwTR1-PwcqJo",
    "outputId": "ecfd7cbb-8465-46f7-f15e-5275268c548e"
   },
   "outputs": [
    {
     "name": "stdout",
     "output_type": "stream",
     "text": [
      "(5000,)\n",
      "First 2 examples now are:  [2 6]\n"
     ]
    }
   ],
   "source": [
    "print(trainY.shape)\n",
    "print('First 2 examples now are: ', trainY[0:2])"
   ]
  },
  {
   "cell_type": "code",
   "execution_count": 0,
   "metadata": {
    "colab": {},
    "colab_type": "code",
    "id": "o-2HCFj-cqJs"
   },
   "outputs": [],
   "source": [
    "from sklearn.neighbors import KNeighborsClassifier \n",
    "from imutils import paths\n",
    "import numpy as np\n",
    "import argparse\n",
    "import imutils\n",
    "import cv2\n",
    "import os\n",
    "import matplotlib.pyplot as plt\n",
    "%matplotlib inline"
   ]
  },
  {
   "cell_type": "code",
   "execution_count": 37,
   "metadata": {
    "colab": {
     "base_uri": "https://localhost:8080/",
     "height": 286
    },
    "colab_type": "code",
    "id": "_11rygvHcqJu",
    "outputId": "8156d3f7-5743-4b70-90a7-6fbbc71f6611"
   },
   "outputs": [
    {
     "data": {
      "text/plain": [
       "<matplotlib.image.AxesImage at 0x7fd0ce6127f0>"
      ]
     },
     "execution_count": 37,
     "metadata": {
      "tags": []
     },
     "output_type": "execute_result"
    },
    {
     "data": {
      "image/png": "[encoded data removed]",
      "text/plain": [
       "<Figure size 432x288 with 1 Axes>"
      ]
     },
     "metadata": {
      "tags": []
     },
     "output_type": "display_data"
    }
   ],
   "source": [
    "# Display digit 7\n",
    "plt.imshow(X_train[2], cmap=plt.cm.gray_r, interpolation='nearest')"
   ]
  },
  {
   "cell_type": "code",
   "execution_count": 38,
   "metadata": {
    "colab": {
     "base_uri": "https://localhost:8080/",
     "height": 119
    },
    "colab_type": "code",
    "id": "93dp2d_EcqJ0",
    "outputId": "45a64078-f972-4bcc-dd1d-4c98950741ec"
   },
   "outputs": [
    {
     "name": "stdout",
     "output_type": "stream",
     "text": [
      "X_test Shape:  (1000, 32, 32)\n",
      "X_train Shape:  (5000, 32, 32)\n",
      "X_val Shape:  (1000, 32, 32)\n",
      "y_test Shape:  (1000,)\n",
      "y_train Shape:  (5000,)\n",
      "y_val Shape:  (1000,)\n"
     ]
    }
   ],
   "source": [
    "print(\"X_test Shape: \", X_test.shape)\n",
    "print(\"X_train Shape: \", X_train.shape)\n",
    "print(\"X_val Shape: \", X_val.shape)\n",
    "print(\"y_test Shape: \", testY.shape)\n",
    "print(\"y_train Shape: \", trainY.shape)\n",
    "print(\"y_val Shape: \", valY.shape)"
   ]
  },
  {
   "cell_type": "code",
   "execution_count": 0,
   "metadata": {
    "colab": {},
    "colab_type": "code",
    "id": "7jzmTD0OcqJ3"
   },
   "outputs": [],
   "source": [
    "# Reshape the image data into rows\n",
    "X_train_reshaped = np.reshape(X_train, (X_train.shape[0], -1))\n",
    "X_test_reshaped = np.reshape(X_test, (X_test.shape[0], -1))\n",
    "X_val_reshaped = np.reshape(X_val, (X_val.shape[0], -1))"
   ]
  },
  {
   "cell_type": "code",
   "execution_count": 0,
   "metadata": {
    "colab": {},
    "colab_type": "code",
    "id": "O5SRkWxCoXNl"
   },
   "outputs": [],
   "source": []
  },
  {
   "cell_type": "code",
   "execution_count": 40,
   "metadata": {
    "colab": {
     "base_uri": "https://localhost:8080/",
     "height": 68
    },
    "colab_type": "code",
    "id": "DMT2rggpcqJ5",
    "outputId": "69125c97-7c27-4c0d-a1af-173ac669567e"
   },
   "outputs": [
    {
     "name": "stdout",
     "output_type": "stream",
     "text": [
      "(5000, 1024)\n",
      "(1000, 1024)\n",
      "(1000, 1024)\n"
     ]
    }
   ],
   "source": [
    "print(X_train_reshaped.shape)\n",
    "print(X_test_reshaped.shape)\n",
    "print(X_val_reshaped.shape)"
   ]
  },
  {
   "cell_type": "code",
   "execution_count": 0,
   "metadata": {
    "colab": {},
    "colab_type": "code",
    "id": "kY9voZ6AcqJ8"
   },
   "outputs": [],
   "source": [
    "# Create a k-NN classifier with 10 neighbors: knn\n",
    "knn = KNeighborsClassifier(n_neighbors = 10)"
   ]
  },
  {
   "cell_type": "code",
   "execution_count": 42,
   "metadata": {
    "colab": {
     "base_uri": "https://localhost:8080/",
     "height": 68
    },
    "colab_type": "code",
    "id": "Q5PCE2VdcqJ9",
    "outputId": "f3a6d9b0-52d2-418c-ce36-5f407f871c69"
   },
   "outputs": [
    {
     "data": {
      "text/plain": [
       "KNeighborsClassifier(algorithm='auto', leaf_size=30, metric='minkowski',\n",
       "           metric_params=None, n_jobs=None, n_neighbors=10, p=2,\n",
       "           weights='uniform')"
      ]
     },
     "execution_count": 42,
     "metadata": {
      "tags": []
     },
     "output_type": "execute_result"
    }
   ],
   "source": [
    "# Fit the classifier to the training data\n",
    "knn.fit(X_train_reshaped, trainY)"
   ]
  },
  {
   "cell_type": "code",
   "execution_count": 43,
   "metadata": {
    "colab": {
     "base_uri": "https://localhost:8080/",
     "height": 34
    },
    "colab_type": "code",
    "id": "WxFM7I40cqJ_",
    "outputId": "7a083086-04ad-41a4-d029-2505b02877aa"
   },
   "outputs": [
    {
     "name": "stdout",
     "output_type": "stream",
     "text": [
      "Accuracy with k = 10:  54.1 %\n"
     ]
    }
   ],
   "source": [
    "# Print the accuracy\n",
    "print(\"Accuracy with k = 10: \", knn.score(X_val_reshaped, valY)*100, '%')"
   ]
  },
  {
   "cell_type": "code",
   "execution_count": 0,
   "metadata": {
    "colab": {},
    "colab_type": "code",
    "id": "StzIM2PIcqKA"
   },
   "outputs": [],
   "source": [
    "#Very poor Accuracy"
   ]
  },
  {
   "cell_type": "code",
   "execution_count": 45,
   "metadata": {
    "colab": {
     "base_uri": "https://localhost:8080/",
     "height": 204
    },
    "colab_type": "code",
    "id": "edXQx7ducqKC",
    "outputId": "0e780e4f-8bc7-43b5-aefc-1ef0bae15c8b"
   },
   "outputs": [
    {
     "name": "stdout",
     "output_type": "stream",
     "text": [
      "k=1, accuracy=42.20%\n",
      "k=3, accuracy=61.50%\n",
      "k=5, accuracy=56.80%\n",
      "k=7, accuracy=53.70%\n",
      "k=9, accuracy=55.30%\n",
      "k=11, accuracy=53.70%\n",
      "k=13, accuracy=52.30%\n",
      "k=15, accuracy=54.10%\n",
      "k=17, accuracy=54.00%\n",
      "k=19, accuracy=51.00%\n",
      "k=3 achieved highest accuracy of 61.50% on validation data\n"
     ]
    }
   ],
   "source": [
    "# initialize the values of k for our k-Nearest Neighbor classifier along with the\n",
    "# list of accuracies for each value of k\n",
    "kVals = range(1, 30, 2)\n",
    "accuracies = []\n",
    " \n",
    "# loop over various values of `k` for the k-Nearest Neighbor classifier\n",
    "for k in range(1, 20, 2):\n",
    "    # train the k-Nearest Neighbor classifier with the current value of `k`\n",
    "    model = KNeighborsClassifier(n_neighbors=k)\n",
    "    model.fit(X_train_reshaped, trainY)\n",
    " \n",
    "    # evaluate the model and update the accuracies list\n",
    "    score = model.score(X_val_reshaped, valY)\n",
    "    print(\"k=%d, accuracy=%.2f%%\" % (k, score * 100))\n",
    "    accuracies.append(score)\n",
    " \n",
    "# find the value of k that has the largest accuracy\n",
    "i = int(np.argmax(accuracies))\n",
    "print(\"k=%d achieved highest accuracy of %.2f%% on validation data\" % (kVals[i],\n",
    "accuracies[i] * 100))"
   ]
  },
  {
   "cell_type": "code",
   "execution_count": 47,
   "metadata": {
    "colab": {
     "base_uri": "https://localhost:8080/",
     "height": 323
    },
    "colab_type": "code",
    "id": "ptjmh6VucqKG",
    "outputId": "0de6b968-5dcc-4016-c061-c5ad467029cf"
   },
   "outputs": [
    {
     "name": "stdout",
     "output_type": "stream",
     "text": [
      "EVALUATION ON TESTING DATA\n",
      "              precision    recall  f1-score   support\n",
      "\n",
      "           0       0.30      0.63      0.41       117\n",
      "           1       0.29      0.61      0.39        93\n",
      "           2       0.28      0.38      0.33        92\n",
      "           3       0.25      0.25      0.25        85\n",
      "           4       0.51      0.43      0.47        96\n",
      "           5       0.35      0.21      0.26       105\n",
      "           6       0.33      0.22      0.27        94\n",
      "           7       0.72      0.46      0.56       107\n",
      "           8       0.48      0.16      0.24       100\n",
      "           9       0.41      0.17      0.24       111\n",
      "\n",
      "   micro avg       0.35      0.35      0.36      1000\n",
      "   macro avg       0.39      0.35      0.34      1000\n",
      "weighted avg       0.40      0.35      0.34      1000\n",
      "\n"
     ]
    }
   ],
   "source": [
    "from sklearn.metrics import classification_report\n",
    "# re-train our classifier using the best k value and predict the labels of the\n",
    "# test data\n",
    "model = KNeighborsClassifier(n_neighbors=3)\n",
    "model.fit(X_train_reshaped, trainY)\n",
    "predictions = model.predict(X_test_reshaped)\n",
    " \n",
    "# show a final classification report demonstrating the accuracy of the classifier\n",
    "# for each of the digits\n",
    "print(\"EVALUATION ON TESTING DATA\")\n",
    "print(classification_report(testY, predictions))"
   ]
  },
  {
   "cell_type": "code",
   "execution_count": 50,
   "metadata": {
    "colab": {
     "base_uri": "https://localhost:8080/",
     "height": 1362
    },
    "colab_type": "code",
    "id": "SBRkhaJFcqKI",
    "outputId": "c47323c3-ee05-481a-a79f-867366748c8e"
   },
   "outputs": [
    {
     "name": "stdout",
     "output_type": "stream",
     "text": [
      "I think that digit for i - 86 is: 0\n"
     ]
    },
    {
     "data": {
      "image/png": "[encoded data removed]",
      "text/plain": [
       "<Figure size 432x288 with 1 Axes>"
      ]
     },
     "metadata": {
      "tags": []
     },
     "output_type": "display_data"
    },
    {
     "name": "stdout",
     "output_type": "stream",
     "text": [
      "I think that digit for i - 488 is: 2\n"
     ]
    },
    {
     "data": {
      "image/png": "[encoded data removed]",
      "text/plain": [
       "<Figure size 432x288 with 1 Axes>"
      ]
     },
     "metadata": {
      "tags": []
     },
     "output_type": "display_data"
    },
    {
     "name": "stdout",
     "output_type": "stream",
     "text": [
      "I think that digit for i - 899 is: 4\n"
     ]
    },
    {
     "data": {
      "image/png": "[encoded data removed]",
      "text/plain": [
       "<Figure size 432x288 with 1 Axes>"
      ]
     },
     "metadata": {
      "tags": []
     },
     "output_type": "display_data"
    },
    {
     "name": "stdout",
     "output_type": "stream",
     "text": [
      "I think that digit for i - 258 is: 0\n"
     ]
    },
    {
     "data": {
      "image/png": "[encoded data removed]",
      "text/plain": [
       "<Figure size 432x288 with 1 Axes>"
      ]
     },
     "metadata": {
      "tags": []
     },
     "output_type": "display_data"
    },
    {
     "name": "stdout",
     "output_type": "stream",
     "text": [
      "I think that digit for i - 619 is: 0\n"
     ]
    },
    {
     "data": {
      "image/png": "[encoded data removed]",
      "text/plain": [
       "<Figure size 432x288 with 1 Axes>"
      ]
     },
     "metadata": {
      "tags": []
     },
     "output_type": "display_data"
    }
   ],
   "source": [
    "from sklearn import datasets\n",
    "from skimage import exposure\n",
    "import numpy as np\n",
    "import imutils\n",
    "import cv2\n",
    "# loop over a few random digits\n",
    "for i in list(map(int, np.random.randint(0, high=len(testY), size=(5,)))):\n",
    "    # grab the image and classify it\n",
    "    image = X_test[i]\n",
    "    prediction = model.predict(image.reshape(1, -1))[0]\n",
    " \n",
    "    # convert the image for a 1024-dim array to an 32 x 32 image,\n",
    "    # then resize it to 32 x 32 pixels so we can see it better\n",
    "    image = image.reshape((32, 32)).astype(\"uint8\")\n",
    "    image = exposure.rescale_intensity(image, out_range=(0, 255))\n",
    "    image = imutils.resize(image, width=32, inter=cv2.INTER_CUBIC)\n",
    " \n",
    "    # show the prediction\n",
    "    print(\"I think that digit for i - {} is: {}\".format(i, prediction))\n",
    "    plt.imshow(X_train[i], cmap=plt.cm.gray_r, interpolation='nearest')\n",
    "    plt.show()"
   ]
  },
  {
   "cell_type": "markdown",
   "metadata": {
    "colab_type": "text",
    "id": "XslJdMV8cqKK"
   },
   "source": [
    "We see that the KNN Classifier is rather poor in image classification for the above dataset. Now, let us try our hand at image classification through Deep Learning using Keras, with the same dataset."
   ]
  },
  {
   "cell_type": "markdown",
   "metadata": {
    "colab_type": "text",
    "id": "OQHKS5RQcqKL"
   },
   "source": [
    "## Image Classification Using DNN"
   ]
  },
  {
   "cell_type": "code",
   "execution_count": 0,
   "metadata": {
    "colab": {},
    "colab_type": "code",
    "id": "E7SfzectcqKM"
   },
   "outputs": [],
   "source": [
    "# Get the data\n",
    "X_test = np.array(f[list(f.keys())[0]])\n",
    "X_train = np.array(f[list(f.keys())[1]])\n",
    "X_val = np.array(f[list(f.keys())[2]])\n",
    "y_test = np.array(f[list(f.keys())[3]])\n",
    "y_train = np.array(f[list(f.keys())[4]])\n",
    "y_val = np.array(f[list(f.keys())[5]])"
   ]
  },
  {
   "cell_type": "code",
   "execution_count": 67,
   "metadata": {
    "colab": {
     "base_uri": "https://localhost:8080/",
     "height": 119
    },
    "colab_type": "code",
    "id": "NdG_CfSEcqKO",
    "outputId": "558c4b50-323a-4b6d-e1c5-c5fecec5bcb3"
   },
   "outputs": [
    {
     "name": "stdout",
     "output_type": "stream",
     "text": [
      "X_test Shape:  (18000, 32, 32)\n",
      "X_train Shape:  (42000, 32, 32)\n",
      "X_val Shape:  (60000, 32, 32)\n",
      "y_test Shape:  (18000,)\n",
      "y_train Shape:  (42000,)\n",
      "y_val Shape:  (60000,)\n"
     ]
    }
   ],
   "source": [
    "print(\"X_test Shape: \", X_test.shape)\n",
    "print(\"X_train Shape: \", X_train.shape)\n",
    "print(\"X_val Shape: \", X_val.shape)\n",
    "print(\"y_test Shape: \", y_test.shape)\n",
    "print(\"y_train Shape: \", y_train.shape)\n",
    "print(\"y_val Shape: \", y_val.shape)"
   ]
  },
  {
   "cell_type": "code",
   "execution_count": 0,
   "metadata": {
    "colab": {},
    "colab_type": "code",
    "id": "2KuljTsmcqKf"
   },
   "outputs": [],
   "source": [
    "trainY = tf.keras.utils.to_categorical(y_train, num_classes=10)\n",
    "testY = tf.keras.utils.to_categorical(y_test, num_classes=10)\n",
    "valY = tf.keras.utils.to_categorical(y_val, num_classes=10)"
   ]
  },
  {
   "cell_type": "code",
   "execution_count": 0,
   "metadata": {
    "colab": {},
    "colab_type": "code",
    "id": "7XRKuxzLcqKg"
   },
   "outputs": [],
   "source": [
    "#Initialize Sequential model\n",
    "model = tf.keras.models.Sequential()\n",
    "\n",
    "#Reshape data from 2D to 1D -> 32x32 to 1024\n",
    "model.add(tf.keras.layers.Reshape((1024,),input_shape=(32,32,)))\n",
    "\n",
    "#Normalize the data\n",
    "model.add(tf.keras.layers.BatchNormalization())"
   ]
  },
  {
   "cell_type": "code",
   "execution_count": 0,
   "metadata": {
    "colab": {},
    "colab_type": "code",
    "id": "foWYgmPocqKh"
   },
   "outputs": [],
   "source": [
    "#Add 1st hidden layer\n",
    "model.add(tf.keras.layers.Dense(200, activation='relu'))"
   ]
  },
  {
   "cell_type": "code",
   "execution_count": 0,
   "metadata": {
    "colab": {},
    "colab_type": "code",
    "id": "EBE7WNKWcqKi"
   },
   "outputs": [],
   "source": [
    "#Add 2nd hidden layer\n",
    "model.add(tf.keras.layers.Dense(100, activation='relu'))"
   ]
  },
  {
   "cell_type": "code",
   "execution_count": 0,
   "metadata": {
    "colab": {},
    "colab_type": "code",
    "id": "LjUtgxcRcqKj"
   },
   "outputs": [],
   "source": [
    "#Add 3rd hidden layer\n",
    "model.add(tf.keras.layers.Dense(60, activation='relu'))"
   ]
  },
  {
   "cell_type": "code",
   "execution_count": 0,
   "metadata": {
    "colab": {},
    "colab_type": "code",
    "id": "PDVDLrNscqKk"
   },
   "outputs": [],
   "source": [
    "#Add 4th hidden layer\n",
    "model.add(tf.keras.layers.Dense(30, activation='relu'))"
   ]
  },
  {
   "cell_type": "code",
   "execution_count": 0,
   "metadata": {
    "colab": {},
    "colab_type": "code",
    "id": "FMLQwY4pcqKk"
   },
   "outputs": [],
   "source": [
    "#Add OUTPUT layer\n",
    "model.add(tf.keras.layers.Dense(10, activation='softmax'))"
   ]
  },
  {
   "cell_type": "code",
   "execution_count": 0,
   "metadata": {
    "colab": {},
    "colab_type": "code",
    "id": "RR3gy_nccqKl"
   },
   "outputs": [],
   "source": [
    "#Create optimizer with non-default learning rate\n",
    "sgd_optimizer = tf.keras.optimizers.SGD(lr=0.03)"
   ]
  },
  {
   "cell_type": "code",
   "execution_count": 0,
   "metadata": {
    "colab": {},
    "colab_type": "code",
    "id": "p84BMhldcqKm"
   },
   "outputs": [],
   "source": [
    "#Compile the model\n",
    "model.compile(optimizer=sgd_optimizer, loss='categorical_crossentropy', metrics=['accuracy'])"
   ]
  },
  {
   "cell_type": "code",
   "execution_count": 77,
   "metadata": {
    "colab": {
     "base_uri": "https://localhost:8080/",
     "height": 374
    },
    "colab_type": "code",
    "id": "Cu0vhQ_SeJRZ",
    "outputId": "ef0bf3db-2034-4349-a0f0-97a5f5668fd7"
   },
   "outputs": [
    {
     "name": "stdout",
     "output_type": "stream",
     "text": [
      "_________________________________________________________________\n",
      "Layer (type)                 Output Shape              Param #   \n",
      "=================================================================\n",
      "reshape_1 (Reshape)          (None, 1024)              0         \n",
      "_________________________________________________________________\n",
      "batch_normalization_v1_1 (Ba (None, 1024)              4096      \n",
      "_________________________________________________________________\n",
      "dense_5 (Dense)              (None, 200)               205000    \n",
      "_________________________________________________________________\n",
      "dense_6 (Dense)              (None, 100)               20100     \n",
      "_________________________________________________________________\n",
      "dense_7 (Dense)              (None, 60)                6060      \n",
      "_________________________________________________________________\n",
      "dense_8 (Dense)              (None, 30)                1830      \n",
      "_________________________________________________________________\n",
      "dense_9 (Dense)              (None, 10)                310       \n",
      "=================================================================\n",
      "Total params: 237,396\n",
      "Trainable params: 235,348\n",
      "Non-trainable params: 2,048\n",
      "_________________________________________________________________\n"
     ]
    }
   ],
   "source": [
    "model.summary()"
   ]
  },
  {
   "cell_type": "code",
   "execution_count": 85,
   "metadata": {
    "colab": {
     "base_uri": "https://localhost:8080/",
     "height": 391
    },
    "colab_type": "code",
    "id": "zM_kgRkbeM7r",
    "outputId": "1af68e65-025c-49a5-ae80-bcd4db11f276"
   },
   "outputs": [
    {
     "name": "stdout",
     "output_type": "stream",
     "text": [
      "Train on 42000 samples, validate on 18000 samples\n",
      "Epoch 1/10\n",
      "42000/42000 [==============================] - 2s 36us/sample - loss: 0.1309 - acc: 0.9580 - val_loss: 0.8195 - val_acc: 0.8283\n",
      "Epoch 2/10\n",
      "42000/42000 [==============================] - 1s 33us/sample - loss: 0.1302 - acc: 0.9591 - val_loss: 0.9408 - val_acc: 0.8138\n",
      "Epoch 3/10\n",
      "42000/42000 [==============================] - 1s 32us/sample - loss: 0.1283 - acc: 0.9599 - val_loss: 0.6642 - val_acc: 0.8626\n",
      "Epoch 4/10\n",
      "42000/42000 [==============================] - 1s 32us/sample - loss: 0.1284 - acc: 0.9581 - val_loss: 0.7669 - val_acc: 0.8433\n",
      "Epoch 5/10\n",
      "42000/42000 [==============================] - 1s 32us/sample - loss: 0.1270 - acc: 0.9591 - val_loss: 0.7002 - val_acc: 0.8577\n",
      "Epoch 6/10\n",
      "42000/42000 [==============================] - 1s 32us/sample - loss: 0.1231 - acc: 0.9611 - val_loss: 0.7722 - val_acc: 0.8419\n",
      "Epoch 7/10\n",
      "42000/42000 [==============================] - 1s 32us/sample - loss: 0.1231 - acc: 0.9606 - val_loss: 0.7115 - val_acc: 0.8584\n",
      "Epoch 8/10\n",
      "42000/42000 [==============================] - 1s 32us/sample - loss: 0.1203 - acc: 0.9615 - val_loss: 1.1378 - val_acc: 0.7868\n",
      "Epoch 9/10\n",
      "42000/42000 [==============================] - 1s 33us/sample - loss: 0.1211 - acc: 0.9614 - val_loss: 1.6309 - val_acc: 0.7287\n",
      "Epoch 10/10\n",
      "42000/42000 [==============================] - 1s 32us/sample - loss: 0.1289 - acc: 0.9585 - val_loss: 0.6990 - val_acc: 0.8614\n"
     ]
    },
    {
     "data": {
      "text/plain": [
       "<tensorflow.python.keras.callbacks.History at 0x7fd0ce5fa320>"
      ]
     },
     "execution_count": 85,
     "metadata": {
      "tags": []
     },
     "output_type": "execute_result"
    }
   ],
   "source": [
    "model.fit(X_train,trainY,          \n",
    "          validation_data=(X_test,testY),\n",
    "          epochs=10,\n",
    "          batch_size=128)"
   ]
  },
  {
   "cell_type": "markdown",
   "metadata": {
    "colab_type": "text",
    "id": "DJheZK6miDZi"
   },
   "source": [
    "After Several Combinations of the various Epochs and Batch Size, I found that 10 epochs with a batch size of 128 yielded the best results at the extreme end with a accuracy of 86.26% on the 3rd epoch, whereas a batch size of 96 yielded consistently good results of around 84% across all epochs."
   ]
  },
  {
   "cell_type": "code",
   "execution_count": 0,
   "metadata": {
    "colab": {},
    "colab_type": "code",
    "id": "jMl8IDpFiuPe"
   },
   "outputs": [],
   "source": [
    "#Now let us try with varying learning rates with same model hyperparameters\n",
    "sgd_optimizer_lr_1 = tf.keras.optimizers.SGD(lr=0.01)\n",
    "sgd_optimizer_lr_5 = tf.keras.optimizers.SGD(lr=0.05)\n",
    "sgd_optimizer_lr_10 = tf.keras.optimizers.SGD(lr=0.1)"
   ]
  },
  {
   "cell_type": "code",
   "execution_count": 0,
   "metadata": {
    "colab": {},
    "colab_type": "code",
    "id": "qnLKOkjFjNwn"
   },
   "outputs": [],
   "source": [
    "#Compile the model\n",
    "model.compile(optimizer=sgd_optimizer_lr_1, loss='categorical_crossentropy', metrics=['accuracy'])"
   ]
  },
  {
   "cell_type": "code",
   "execution_count": 90,
   "metadata": {
    "colab": {
     "base_uri": "https://localhost:8080/",
     "height": 391
    },
    "colab_type": "code",
    "id": "DsZw_sacjclU",
    "outputId": "9958a09c-e777-47cc-87f5-099104a8ce8d"
   },
   "outputs": [
    {
     "name": "stdout",
     "output_type": "stream",
     "text": [
      "Train on 42000 samples, validate on 18000 samples\n",
      "Epoch 1/10\n",
      "42000/42000 [==============================] - 2s 44us/sample - loss: 0.0916 - acc: 0.9720 - val_loss: 0.7170 - val_acc: 0.8572\n",
      "Epoch 2/10\n",
      "42000/42000 [==============================] - 2s 37us/sample - loss: 0.0880 - acc: 0.9730 - val_loss: 0.7046 - val_acc: 0.8609\n",
      "Epoch 3/10\n",
      "42000/42000 [==============================] - 1s 33us/sample - loss: 0.0869 - acc: 0.9741 - val_loss: 0.7602 - val_acc: 0.8514\n",
      "Epoch 4/10\n",
      "42000/42000 [==============================] - 1s 33us/sample - loss: 0.0864 - acc: 0.9735 - val_loss: 0.7104 - val_acc: 0.8607\n",
      "Epoch 5/10\n",
      "42000/42000 [==============================] - 1s 33us/sample - loss: 0.0822 - acc: 0.9746 - val_loss: 0.7539 - val_acc: 0.8535\n",
      "Epoch 6/10\n",
      "42000/42000 [==============================] - 1s 33us/sample - loss: 0.0822 - acc: 0.9740 - val_loss: 0.7323 - val_acc: 0.8590\n",
      "Epoch 7/10\n",
      "42000/42000 [==============================] - 1s 33us/sample - loss: 0.0823 - acc: 0.9744 - val_loss: 0.7653 - val_acc: 0.8538\n",
      "Epoch 8/10\n",
      "42000/42000 [==============================] - 1s 33us/sample - loss: 0.0837 - acc: 0.9735 - val_loss: 0.7718 - val_acc: 0.8559\n",
      "Epoch 9/10\n",
      "42000/42000 [==============================] - 1s 32us/sample - loss: 0.0826 - acc: 0.9744 - val_loss: 0.7544 - val_acc: 0.8581\n",
      "Epoch 10/10\n",
      "42000/42000 [==============================] - 1s 33us/sample - loss: 0.0810 - acc: 0.9749 - val_loss: 0.7911 - val_acc: 0.8511\n"
     ]
    },
    {
     "data": {
      "text/plain": [
       "<tensorflow.python.keras.callbacks.History at 0x7fd0c00e5a90>"
      ]
     },
     "execution_count": 90,
     "metadata": {
      "tags": []
     },
     "output_type": "execute_result"
    }
   ],
   "source": [
    "model.fit(X_train,trainY,          \n",
    "          validation_data=(X_test,testY),\n",
    "          epochs=10,\n",
    "          batch_size=128)"
   ]
  },
  {
   "cell_type": "code",
   "execution_count": 0,
   "metadata": {
    "colab": {},
    "colab_type": "code",
    "id": "fygtRi1QjdU3"
   },
   "outputs": [],
   "source": [
    "#Compile the model\n",
    "model.compile(optimizer=sgd_optimizer_lr_5, loss='categorical_crossentropy', metrics=['accuracy'])"
   ]
  },
  {
   "cell_type": "code",
   "execution_count": 92,
   "metadata": {
    "colab": {
     "base_uri": "https://localhost:8080/",
     "height": 391
    },
    "colab_type": "code",
    "id": "dew6FbBGjhoA",
    "outputId": "3b9949b3-add8-4064-d122-4420da5a60a3"
   },
   "outputs": [
    {
     "name": "stdout",
     "output_type": "stream",
     "text": [
      "Train on 42000 samples, validate on 18000 samples\n",
      "Epoch 1/10\n",
      "42000/42000 [==============================] - 2s 37us/sample - loss: 0.1789 - acc: 0.9423 - val_loss: 0.8509 - val_acc: 0.8296\n",
      "Epoch 2/10\n",
      "42000/42000 [==============================] - 1s 33us/sample - loss: 0.1623 - acc: 0.9465 - val_loss: 1.8110 - val_acc: 0.7395\n",
      "Epoch 3/10\n",
      "42000/42000 [==============================] - 1s 34us/sample - loss: 0.1684 - acc: 0.9448 - val_loss: 1.6390 - val_acc: 0.7312\n",
      "Epoch 4/10\n",
      "42000/42000 [==============================] - 2s 39us/sample - loss: 0.1651 - acc: 0.9462 - val_loss: 1.0528 - val_acc: 0.8075\n",
      "Epoch 5/10\n",
      "42000/42000 [==============================] - 2s 39us/sample - loss: 0.1574 - acc: 0.9481 - val_loss: 2.1730 - val_acc: 0.7156\n",
      "Epoch 6/10\n",
      "42000/42000 [==============================] - 2s 38us/sample - loss: 0.1619 - acc: 0.9477 - val_loss: 1.2582 - val_acc: 0.7767\n",
      "Epoch 7/10\n",
      "42000/42000 [==============================] - 2s 39us/sample - loss: 0.1488 - acc: 0.9512 - val_loss: 2.1629 - val_acc: 0.7034\n",
      "Epoch 8/10\n",
      "42000/42000 [==============================] - 2s 39us/sample - loss: 0.1571 - acc: 0.9493 - val_loss: 1.7042 - val_acc: 0.7242\n",
      "Epoch 9/10\n",
      "42000/42000 [==============================] - 2s 39us/sample - loss: 0.1627 - acc: 0.9485 - val_loss: 0.7873 - val_acc: 0.8433\n",
      "Epoch 10/10\n",
      "42000/42000 [==============================] - 1s 34us/sample - loss: 0.1366 - acc: 0.9547 - val_loss: 1.3811 - val_acc: 0.7658\n"
     ]
    },
    {
     "data": {
      "text/plain": [
       "<tensorflow.python.keras.callbacks.History at 0x7fd0a0a10b00>"
      ]
     },
     "execution_count": 92,
     "metadata": {
      "tags": []
     },
     "output_type": "execute_result"
    }
   ],
   "source": [
    "model.fit(X_train,trainY,          \n",
    "          validation_data=(X_test,testY),\n",
    "          epochs=10,\n",
    "          batch_size=128)"
   ]
  },
  {
   "cell_type": "code",
   "execution_count": 0,
   "metadata": {
    "colab": {},
    "colab_type": "code",
    "id": "noBwjsAxjjwb"
   },
   "outputs": [],
   "source": [
    "#Compile the model\n",
    "model.compile(optimizer=sgd_optimizer_lr_10, loss='categorical_crossentropy', metrics=['accuracy'])"
   ]
  },
  {
   "cell_type": "code",
   "execution_count": 95,
   "metadata": {
    "colab": {
     "base_uri": "https://localhost:8080/",
     "height": 391
    },
    "colab_type": "code",
    "id": "yWbnhjWGjww6",
    "outputId": "b3e645ba-4fa6-43c9-d05c-0cb1ae45199b"
   },
   "outputs": [
    {
     "name": "stdout",
     "output_type": "stream",
     "text": [
      "Train on 42000 samples, validate on 18000 samples\n",
      "Epoch 1/10\n",
      "42000/42000 [==============================] - 2s 40us/sample - loss: 0.3332 - acc: 0.8946 - val_loss: 1.7162 - val_acc: 0.6572\n",
      "Epoch 2/10\n",
      "42000/42000 [==============================] - 1s 33us/sample - loss: 0.2790 - acc: 0.9101 - val_loss: 2.2207 - val_acc: 0.6417\n",
      "Epoch 3/10\n",
      "42000/42000 [==============================] - 1s 33us/sample - loss: 0.2785 - acc: 0.9120 - val_loss: 3.2853 - val_acc: 0.5955\n",
      "Epoch 4/10\n",
      "42000/42000 [==============================] - 1s 33us/sample - loss: 0.2603 - acc: 0.9175 - val_loss: 1.1151 - val_acc: 0.7649\n",
      "Epoch 5/10\n",
      "42000/42000 [==============================] - 1s 33us/sample - loss: 0.2405 - acc: 0.9204 - val_loss: 1.9820 - val_acc: 0.6706\n",
      "Epoch 6/10\n",
      "42000/42000 [==============================] - 1s 33us/sample - loss: 0.2300 - acc: 0.9262 - val_loss: 1.4599 - val_acc: 0.7356\n",
      "Epoch 7/10\n",
      "42000/42000 [==============================] - 1s 33us/sample - loss: 0.2302 - acc: 0.9264 - val_loss: 1.2232 - val_acc: 0.7362\n",
      "Epoch 8/10\n",
      "42000/42000 [==============================] - 1s 33us/sample - loss: 0.2146 - acc: 0.9290 - val_loss: 2.8415 - val_acc: 0.6281\n",
      "Epoch 9/10\n",
      "42000/42000 [==============================] - 1s 33us/sample - loss: 0.2330 - acc: 0.9265 - val_loss: 1.4814 - val_acc: 0.7385\n",
      "Epoch 10/10\n",
      "42000/42000 [==============================] - 1s 33us/sample - loss: 0.2077 - acc: 0.9315 - val_loss: 1.1744 - val_acc: 0.7746\n"
     ]
    },
    {
     "data": {
      "text/plain": [
       "<tensorflow.python.keras.callbacks.History at 0x7fd0c04a2cc0>"
      ]
     },
     "execution_count": 95,
     "metadata": {
      "tags": []
     },
     "output_type": "execute_result"
    }
   ],
   "source": [
    "model.fit(X_train,trainY,          \n",
    "          validation_data=(X_test,testY),\n",
    "          epochs=10,\n",
    "          batch_size=128)"
   ]
  },
  {
   "cell_type": "code",
   "execution_count": 0,
   "metadata": {
    "colab": {},
    "colab_type": "code",
    "id": "-BHGWEMVj7vf"
   },
   "outputs": [],
   "source": [
    "#It seems increasing learning rates for Stochastic Gradient Descent has a negative effect on the accuracy. However, a learning rate of 0.01 has\n",
    "#proven very effective as can be seen from the above results. Let us now try once with the Adam optimizer."
   ]
  },
  {
   "cell_type": "code",
   "execution_count": 0,
   "metadata": {
    "colab": {},
    "colab_type": "code",
    "id": "YuQWHmIMkPel"
   },
   "outputs": [],
   "source": [
    "#Compile the model\n",
    "adam_optimizer = tf.keras.optimizers.Adam(lr = 0.0005)\n",
    "model.compile(optimizer= adam_optimizer, loss='categorical_crossentropy', metrics=['accuracy'])"
   ]
  },
  {
   "cell_type": "code",
   "execution_count": 112,
   "metadata": {
    "colab": {
     "base_uri": "https://localhost:8080/",
     "height": 391
    },
    "colab_type": "code",
    "id": "e6REGZWXkaTQ",
    "outputId": "98828d7f-ab52-441b-d6b5-baa3aedef085"
   },
   "outputs": [
    {
     "name": "stdout",
     "output_type": "stream",
     "text": [
      "Train on 42000 samples, validate on 18000 samples\n",
      "Epoch 1/10\n",
      "42000/42000 [==============================] - 2s 54us/sample - loss: 0.1425 - acc: 0.9536 - val_loss: 0.6224 - val_acc: 0.8709\n",
      "Epoch 2/10\n",
      "42000/42000 [==============================] - 2s 44us/sample - loss: 0.1361 - acc: 0.9569 - val_loss: 0.6358 - val_acc: 0.8718\n",
      "Epoch 3/10\n",
      "42000/42000 [==============================] - 2s 44us/sample - loss: 0.1350 - acc: 0.9564 - val_loss: 0.6339 - val_acc: 0.8729\n",
      "Epoch 4/10\n",
      "42000/42000 [==============================] - 2s 44us/sample - loss: 0.1317 - acc: 0.9569 - val_loss: 0.6486 - val_acc: 0.8741\n",
      "Epoch 5/10\n",
      "42000/42000 [==============================] - 2s 44us/sample - loss: 0.1336 - acc: 0.9570 - val_loss: 0.6310 - val_acc: 0.8744\n",
      "Epoch 6/10\n",
      "42000/42000 [==============================] - 2s 44us/sample - loss: 0.1256 - acc: 0.9589 - val_loss: 0.6471 - val_acc: 0.8749\n",
      "Epoch 7/10\n",
      "42000/42000 [==============================] - 2s 44us/sample - loss: 0.1261 - acc: 0.9594 - val_loss: 0.6446 - val_acc: 0.8743\n",
      "Epoch 8/10\n",
      "42000/42000 [==============================] - 2s 44us/sample - loss: 0.1258 - acc: 0.9603 - val_loss: 0.6465 - val_acc: 0.8747\n",
      "Epoch 9/10\n",
      "42000/42000 [==============================] - 2s 45us/sample - loss: 0.1240 - acc: 0.9603 - val_loss: 0.6648 - val_acc: 0.8716\n",
      "Epoch 10/10\n",
      "42000/42000 [==============================] - 2s 44us/sample - loss: 0.1218 - acc: 0.9607 - val_loss: 0.6592 - val_acc: 0.8726\n"
     ]
    },
    {
     "data": {
      "text/plain": [
       "<tensorflow.python.keras.callbacks.History at 0x7fd0977fd128>"
      ]
     },
     "execution_count": 112,
     "metadata": {
      "tags": []
     },
     "output_type": "execute_result"
    }
   ],
   "source": [
    "model.fit(X_train,trainY,          \n",
    "          validation_data=(X_test,testY),\n",
    "          epochs=10,\n",
    "          batch_size=128)"
   ]
  },
  {
   "cell_type": "markdown",
   "metadata": {
    "colab_type": "text",
    "id": "fj5xamgpl2Jl"
   },
   "source": [
    "We see excellent results after various combinations of Adam Optimizer Learning Rates and witness the highest accuracy of all models and hyperparameters with Adam Optimizer having a learning rate of 0.0005 and Batch Size 128 with 10 epochs. It is certain that results may improve through further tuning, but I feel we have reached a satisfactory model state with validation accuracy approaching the 90% range, which can be considered a good model for image classification.\n",
    "\n",
    "From above we note that Deep Neural Networks offer a significant improvement in image classification accuracy as compared to plain vanilla KNN Classifiers. Therefore, the use of DNN with Keras for image classification is justified."
   ]
  },
  {
   "cell_type": "code",
   "execution_count": 0,
   "metadata": {
    "colab": {},
    "colab_type": "code",
    "id": "HMdTNH4cmhcG"
   },
   "outputs": [],
   "source": [
    "from keras.preprocessing import image\n",
    "from keras.preprocessing.image import img_to_array"
   ]
  },
  {
   "cell_type": "code",
   "execution_count": 0,
   "metadata": {
    "colab": {},
    "colab_type": "code",
    "id": "vdzuwTHjmvdp"
   },
   "outputs": [],
   "source": [
    "def load_image(img, show=True):\n",
    "  \n",
    "    img_tensor = image.img_to_array(img)                    # (height, width, channels)\n",
    "    img_tensor = np.expand_dims(img_tensor, axis=0)         # (1, height, width, channels), add a dimension because the model expects this shape: (batch_size, height, width, channels)\n",
    "    img_tensor /= 255.                                      # imshow expects values in the range [0, 1]\n",
    "\n",
    "    if show:\n",
    "        plt.imshow(img_tensor[0])                           \n",
    "        plt.axis('off')\n",
    "        plt.show()\n",
    "\n",
    "    return img_tensor"
   ]
  },
  {
   "cell_type": "code",
   "execution_count": 174,
   "metadata": {
    "colab": {
     "base_uri": "https://localhost:8080/",
     "height": 34
    },
    "colab_type": "code",
    "id": "6SwKRUTAnia4",
    "outputId": "12d30634-1760-4c78-926e-0d4e86819db0"
   },
   "outputs": [
    {
     "data": {
      "text/plain": [
       "(32, 32)"
      ]
     },
     "execution_count": 174,
     "metadata": {
      "tags": []
     },
     "output_type": "execute_result"
    }
   ],
   "source": [
    "#Abandoning above POC as its not working. Below POC is better for predictions."
   ]
  },
  {
   "cell_type": "code",
   "execution_count": 190,
   "metadata": {
    "colab": {
     "base_uri": "https://localhost:8080/",
     "height": 34
    },
    "colab_type": "code",
    "id": "zFeS4LMVpsGq",
    "outputId": "5a2aedd3-e9e7-444d-e397-62247817b485"
   },
   "outputs": [
    {
     "name": "stdout",
     "output_type": "stream",
     "text": [
      "[1 7 2 9 0 9 1 8 1 4]\n"
     ]
    }
   ],
   "source": [
    "#Lets Predict Images using our model\n",
    "out = model.predict(X_test[0:10])\n",
    "print(np.argmax(out, axis=1))"
   ]
  },
  {
   "cell_type": "code",
   "execution_count": 191,
   "metadata": {
    "colab": {
     "base_uri": "https://localhost:8080/",
     "height": 2707
    },
    "colab_type": "code",
    "id": "Q0JRID3DvJRB",
    "outputId": "e00a37db-6b88-4dd7-c901-bae0140d588e"
   },
   "outputs": [
    {
     "name": "stdout",
     "output_type": "stream",
     "text": [
      "I think that digit is: 1\n"
     ]
    },
    {
     "data": {
      "image/png": "[encoded data removed]",
      "text/plain": [
       "<Figure size 432x288 with 1 Axes>"
      ]
     },
     "metadata": {
      "tags": []
     },
     "output_type": "display_data"
    },
    {
     "name": "stdout",
     "output_type": "stream",
     "text": [
      "I think that digit is: 7\n"
     ]
    },
    {
     "data": {
      "image/png": "[encoded data removed]",
      "text/plain": [
       "<Figure size 432x288 with 1 Axes>"
      ]
     },
     "metadata": {
      "tags": []
     },
     "output_type": "display_data"
    },
    {
     "name": "stdout",
     "output_type": "stream",
     "text": [
      "I think that digit is: 2\n"
     ]
    },
    {
     "data": {
      "image/png": "[encoded data removed]",
      "text/plain": [
       "<Figure size 432x288 with 1 Axes>"
      ]
     },
     "metadata": {
      "tags": []
     },
     "output_type": "display_data"
    },
    {
     "name": "stdout",
     "output_type": "stream",
     "text": [
      "I think that digit is: 9\n"
     ]
    },
    {
     "data": {
      "image/png": "[encoded data removed]",
      "text/plain": [
       "<Figure size 432x288 with 1 Axes>"
      ]
     },
     "metadata": {
      "tags": []
     },
     "output_type": "display_data"
    },
    {
     "name": "stdout",
     "output_type": "stream",
     "text": [
      "I think that digit is: 0\n"
     ]
    },
    {
     "data": {
      "image/png": "[encoded data removed]",
      "text/plain": [
       "<Figure size 432x288 with 1 Axes>"
      ]
     },
     "metadata": {
      "tags": []
     },
     "output_type": "display_data"
    },
    {
     "name": "stdout",
     "output_type": "stream",
     "text": [
      "I think that digit is: 9\n"
     ]
    },
    {
     "data": {
      "image/png": "[encoded data removed]",
      "text/plain": [
       "<Figure size 432x288 with 1 Axes>"
      ]
     },
     "metadata": {
      "tags": []
     },
     "output_type": "display_data"
    },
    {
     "name": "stdout",
     "output_type": "stream",
     "text": [
      "I think that digit is: 1\n"
     ]
    },
    {
     "data": {
      "image/png": "[encoded data removed]",
      "text/plain": [
       "<Figure size 432x288 with 1 Axes>"
      ]
     },
     "metadata": {
      "tags": []
     },
     "output_type": "display_data"
    },
    {
     "name": "stdout",
     "output_type": "stream",
     "text": [
      "I think that digit is: 8\n"
     ]
    },
    {
     "data": {
      "image/png": "[encoded data removed]",
      "text/plain": [
       "<Figure size 432x288 with 1 Axes>"
      ]
     },
     "metadata": {
      "tags": []
     },
     "output_type": "display_data"
    },
    {
     "name": "stdout",
     "output_type": "stream",
     "text": [
      "I think that digit is: 1\n"
     ]
    },
    {
     "data": {
      "image/png": "[encoded data removed]",
      "text/plain": [
       "<Figure size 432x288 with 1 Axes>"
      ]
     },
     "metadata": {
      "tags": []
     },
     "output_type": "display_data"
    },
    {
     "name": "stdout",
     "output_type": "stream",
     "text": [
      "I think that digit is: 4\n"
     ]
    },
    {
     "data": {
      "image/png": "[encoded data removed]",
      "text/plain": [
       "<Figure size 432x288 with 1 Axes>"
      ]
     },
     "metadata": {
      "tags": []
     },
     "output_type": "display_data"
    }
   ],
   "source": [
    "for i in range(0,10):\n",
    "    print(\"I think that digit is: {}\".format(np.argmax(out, axis=1)[i]))\n",
    "    plt.imshow(X_test[i], cmap=plt.cm.gray_r, interpolation='nearest')\n",
    "    plt.show()"
   ]
  },
  {
   "cell_type": "markdown",
   "metadata": {
    "colab_type": "text",
    "id": "jaTzIdZVyfPR"
   },
   "source": [
    "We see that the model predicts images quite accurately, as per the accuracy mentioned in the model summary. Therefore, it seems we are ok with this model and approaching the human accuracy."
   ]
  },
  {
   "cell_type": "markdown",
   "metadata": {
    "colab_type": "text",
    "id": "rB1xnalRzDny"
   },
   "source": [
    "# Conclusion\n",
    "\n",
    "Based on our experimentation of various classification mechanisms both classical as well through Deep Neural Networks, we may reach the conclusion that DNNs are quite efficient for image classification.\n",
    "\n",
    "Metrics show accuracy to be sub par i.e. below 50% for classical ML KNN models whereas they show a healthy accuracy for tuned models around 87%."
   ]
  },
  {
   "cell_type": "code",
   "execution_count": 0,
   "metadata": {
    "colab": {},
    "colab_type": "code",
    "id": "vqU1xVukzvoh"
   },
   "outputs": [],
   "source": []
  }
 ],
 "metadata": {
  "accelerator": "GPU",
  "colab": {
   "collapsed_sections": [],
   "name": "Introduction to Neural Networks and Deep Learning_R7_Project2.ipynb",
   "provenance": [],
   "version": "0.3.2"
  },
  "kernelspec": {
   "display_name": "Python 3",
   "language": "python",
   "name": "python3"
  },
  "language_info": {
   "codemirror_mode": {
    "name": "ipython",
    "version": 3
   },
   "file_extension": ".py",
   "mimetype": "text/x-python",
   "name": "python",
   "nbconvert_exporter": "python",
   "pygments_lexer": "ipython3",
   "version": "3.6.8"
  }
 },
 "nbformat": 4,
 "nbformat_minor": 1
}
