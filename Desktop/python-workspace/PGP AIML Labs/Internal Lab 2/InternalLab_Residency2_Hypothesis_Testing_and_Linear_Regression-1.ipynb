{
 "cells": [
  {
   "cell_type": "markdown",
   "metadata": {},
   "source": [
    "\n",
    "\n",
    "## Lab 2"
   ]
  },
  {
   "cell_type": "markdown",
   "metadata": {},
   "source": [
    "Welcome to the second lab of the AIML!\n",
    "In addition to implementing code, there will be questions that you must answer which relate to the lab and your implementation. Each question you will answer is preceded by a **'Question X'** header. Carefully read each question and provide you answer or code in the following textboxes with **'Answer:'** header. Your lab submission will be evaluated based on your answers to each of the questions and the implementation you provide."
   ]
  },
  {
   "cell_type": "markdown",
   "metadata": {},
   "source": [
    "# Every question is of 1 mark."
   ]
  },
  {
   "cell_type": "markdown",
   "metadata": {},
   "source": [
    "## Hypothesis Testing"
   ]
  },
  {
   "cell_type": "markdown",
   "metadata": {},
   "source": [
    "The purpose of the test is to tell if there is any significant difference between two data sets.\n",
    "\n"
   ]
  },
  {
   "cell_type": "markdown",
   "metadata": {},
   "source": [
    "## Overview"
   ]
  },
  {
   "cell_type": "markdown",
   "metadata": {},
   "source": [
    "This module covers,\n",
    "\n",
    "1) One sample and Two sample t-tests\n",
    "\n",
    "2) ANOVA\n",
    "\n",
    "3) Type I and Type II errors\n",
    "\n",
    "4) Chi-Squared Tests\n",
    "\n",
    "5) Linear Regression"
   ]
  },
  {
   "cell_type": "markdown",
   "metadata": {},
   "source": [
    "## Question 1 \n",
    "\n",
    "*A student is trying to decide between two GPUs. He want to use the GPU for his research to run Deep learning algorithms, so the only thing he is concerned with is speed.*\n",
    "\n",
    "*He picks a Deep Learning algorithm and a large data set and runs it on both GPUs 15 times, timing each run in hours. Results are given in the below lists GPU1 and GPU2.*"
   ]
  },
  {
   "cell_type": "code",
   "execution_count": 1,
   "metadata": {},
   "outputs": [],
   "source": [
    "import pandas as pd\n",
    "GPU1 = pd.DataFrame([11,9,10,11,10,12,9,11,12,9,11,12,9,10,9])\n",
    "GPU2 = pd.DataFrame([11,13,10,13,12,9,11,12,12,11,12,12,10,11,13])\n",
    "\n",
    "#Assumption: Both the datasets (GPU1 & GPU 2) are random, independent, parametric & normally distributed"
   ]
  },
  {
   "cell_type": "markdown",
   "metadata": {},
   "source": [
    "Hint: You can import ttest function from scipy to perform t tests "
   ]
  },
  {
   "cell_type": "markdown",
   "metadata": {},
   "source": [
    "Given,\n",
    "\n",
    "Null Hypothesis : There is no significant difference between data sets\n",
    "\n",
    "Alternate Hypothesis : There is a significant difference\n",
    "\n",
    "*Do two-sample testing and check whether to reject Null Hypothesis or not.*\n",
    "\n",
    "#### Answer:"
   ]
  },
  {
   "cell_type": "code",
   "execution_count": 7,
   "metadata": {},
   "outputs": [
    {
     "data": {
      "text/plain": [
       "Ttest_relResult(statistic=array([-2.542294]), pvalue=array([0.02346537]))"
      ]
     },
     "execution_count": 7,
     "metadata": {},
     "output_type": "execute_result"
    }
   ],
   "source": [
    "from scipy.stats import ttest_rel\n",
    "two_sample = ttest_rel(GPU1, GPU2)\n",
    "two_sample\n",
    "#Assume alpha as 0.05"
   ]
  },
  {
   "cell_type": "code",
   "execution_count": 8,
   "metadata": {},
   "outputs": [],
   "source": [
    "#As p-value is less than alpha so we reject H0 i.e. null hypothesis"
   ]
  },
  {
   "cell_type": "markdown",
   "metadata": {},
   "source": [
    "## Question 2 \n",
    "\n",
    "He is trying a third GPU - GPU3."
   ]
  },
  {
   "cell_type": "code",
   "execution_count": 10,
   "metadata": {},
   "outputs": [],
   "source": [
    "GPU3 = pd.DataFrame([9,10,9,11,10,13,12,9,12,12,13,12,13,10,11])\n",
    "\n",
    "#Assumption: Both the datasets (GPU1 & GPU 3) are random, independent, parametric & normally distributed"
   ]
  },
  {
   "cell_type": "markdown",
   "metadata": {},
   "source": [
    "*Do two-sample testing and check whether there is significant differene between speeds of two GPUs GPU1 and GPU3.*\n",
    "\n",
    "#### Answer:"
   ]
  },
  {
   "cell_type": "code",
   "execution_count": 11,
   "metadata": {},
   "outputs": [
    {
     "data": {
      "text/plain": [
       "Ttest_relResult(statistic=array([-1.58535583]), pvalue=array([0.13520778]))"
      ]
     },
     "execution_count": 11,
     "metadata": {},
     "output_type": "execute_result"
    }
   ],
   "source": [
    "gpu1_3_two_sample = ttest_rel(GPU1, GPU3)\n",
    "gpu1_3_two_sample\n",
    "#Ho (Null Hypothesis): There is no significant difference between speeds of two GPUs\n",
    "#H1 (Alternative Hypothesis): There is significant difference between speeds of two GPUs\n",
    "#As the pvalue is greater than alpha, we can accept null hypothesis and state that there is no significant difference \n",
    "#between GPU1 and GPU3\n"
   ]
  },
  {
   "cell_type": "markdown",
   "metadata": {},
   "source": [
    "### ANOVA"
   ]
  },
  {
   "cell_type": "markdown",
   "metadata": {},
   "source": [
    "## Question 3 \n",
    "\n",
    "If you need to compare more than two data sets at a time, an ANOVA is your best bet. \n",
    "\n",
    "*The results from three experiments with overlapping 95% confidence intervals are given below, and we want to confirm that the results for all three experiments are not significantly different.*\n",
    "\n",
    "#Assumption: All the 3 datasets (e1,e2 & e3) are random, independent, parametric & normally distributed\n",
    "But before conducting ANOVA, test equality of variances (using Levene's test) is satisfied or not. If not, then mention that we cannot depend on the result of ANOVA"
   ]
  },
  {
   "cell_type": "code",
   "execution_count": 16,
   "metadata": {},
   "outputs": [
    {
     "data": {
      "text/plain": [
       "0    1.59544\n",
       "1    1.41973\n",
       "2    0.00000\n",
       "3    0.00000\n",
       "Name: 0, dtype: float64"
      ]
     },
     "execution_count": 16,
     "metadata": {},
     "output_type": "execute_result"
    }
   ],
   "source": [
    "import pandas as pd\n",
    "e1 = pd.DataFrame([1.595440,1.419730,0.000000,0.000000])\n",
    "e2 = pd.DataFrame([1.433800,2.079700,0.892139,2.384740])\n",
    "e3 = pd.DataFrame([0.036930,0.938018,0.995956,1.006970])"
   ]
  },
  {
   "cell_type": "markdown",
   "metadata": {},
   "source": [
    "#### Answer:"
   ]
  },
  {
   "cell_type": "code",
   "execution_count": 21,
   "metadata": {},
   "outputs": [
    {
     "name": "stdout",
     "output_type": "stream",
     "text": [
      "Std. Dev of e1 0.8733555088040227\n",
      "Std. Dev of e2 0.6674627709994392\n",
      "Std. Dev of e3 0.47266095603896313\n"
     ]
    },
    {
     "data": {
      "text/plain": [
       "LeveneResult(statistic=2.6741725711150446, pvalue=0.12259792666001798)"
      ]
     },
     "execution_count": 21,
     "metadata": {},
     "output_type": "execute_result"
    }
   ],
   "source": [
    "#H0: Homogenous Variance\n",
    "#H1: Heterogenous Data\n",
    "import statistics as stats\n",
    "print(\"Std. Dev of e1\", stats.stdev(e1[0]))\n",
    "print(\"Std. Dev of e2\", stats.stdev(e2[0]))\n",
    "print(\"Std. Dev of e3\", stats.stdev(e3[0]))\n",
    "\n",
    "from scipy.stats import levene\n",
    "levene(e1[0], e2[0], e3[0])\n",
    "\n",
    "#As pvalue is greater than alpha (assuming alpha is 0.05), we can conclude that the 3 datasets are homogenous\n",
    "#or that there is insufficient evidence to prove that the data is heterogenous"
   ]
  },
  {
   "cell_type": "markdown",
   "metadata": {},
   "source": [
    "## Question 4 \n",
    "\n",
    "*In one or two sentences explain about **TypeI** and **TypeII** errors.*\n",
    "\n",
    "#### Answer:"
   ]
  },
  {
   "cell_type": "code",
   "execution_count": 22,
   "metadata": {},
   "outputs": [],
   "source": [
    "#Type 1 Error: This is also be called as a false alarm and occurs when you reject H0 (null hypothesis) \n",
    "#even when it is true. Probability of Type 1 error is denoted by alpha.\n",
    "#Type 2 Error: This is also called as a missed opportunity and occurs when you accept H0 (null hypothesis)\n",
    "#even though it should have been rejected. Probability of Type 2 error is denoted by alpha.\n"
   ]
  },
  {
   "cell_type": "markdown",
   "metadata": {},
   "source": [
    "## Question 5 \n",
    "\n",
    "Explain how the higher confidence value effects TypeI and TypeII error.\n",
    "\n",
    "#### Answer:\n"
   ]
  },
  {
   "cell_type": "code",
   "execution_count": 23,
   "metadata": {},
   "outputs": [],
   "source": [
    "#Higher confidence level (1 - alpha) is when you will not reject the null hypothesis when it is true and should not\n",
    "#be rejected i.e. reduced risk of committing a Type I error. However, increased confidence levels generally result\n",
    "#in increased risk of a Type II error."
   ]
  },
  {
   "cell_type": "markdown",
   "metadata": {},
   "source": [
    "## Question 6 \n",
    "\n",
    "*A computer expert wants to test the null hypothesis that a new GPU is no more effective than the older model.*\n",
    "\n",
    "Lets consider that he selects the GPU which he think is more effective.\n",
    "\n",
    "Now, find out which GPU he has selected if he made Type I error. And give reasoning about which is more effective.\n",
    "\n",
    "**Answer:**"
   ]
  },
  {
   "cell_type": "code",
   "execution_count": 24,
   "metadata": {},
   "outputs": [],
   "source": [
    "#H0: Null Hypothesis is that the new GPU is equal in effectiveness to the older model\n",
    "#H1: Alternate Hypothesis is that the new GPU is more effective than the older model\n",
    "#Answer: Type I error means he has rejected the null hypothesis which is actually true in this case\n",
    "#even though it should have been accepted, i.e. the new GPU is no more effective than the older model.\n",
    "#He has selected the new GPU which means that he has hypothesized that the new GPU is more effective than the \n",
    "#older model, which is actually false."
   ]
  },
  {
   "cell_type": "markdown",
   "metadata": {},
   "source": [
    "## Question 7 \n",
    "\n",
    "From question6, if he made Type II error.\n",
    "\n",
    "*Now, find out which GPU he has selected. And give reasoning about which is more effective.*\n",
    "\n",
    "#### Answer:"
   ]
  },
  {
   "cell_type": "code",
   "execution_count": null,
   "metadata": {},
   "outputs": [],
   "source": [
    "#H0: Null Hypothesis is that the new GPU is equal in effectiveness to the older model\n",
    "#H1: Alternate Hypothesis is that the new GPU is more effective than the older model\n",
    "#Answer: Type II error means that he has not rejected the null hypothesis, even when it should have been rejected. \n",
    "#He has selected the old GPU. This means that he has hypothesized that the new GPU is no more in effectiveness\n",
    "#than the older model, whereas this is false and the new GPU is acually more effective than the earlier model."
   ]
  },
  {
   "cell_type": "markdown",
   "metadata": {},
   "source": [
    "# Linear Regression\n"
   ]
  },
  {
   "cell_type": "markdown",
   "metadata": {},
   "source": [
    "# Simple Linear Regression"
   ]
  },
  {
   "cell_type": "markdown",
   "metadata": {},
   "source": [
    "## Dataset\n",
    "\n",
    "Population of U.S. Cities\n",
    "\n",
    "### Description\n",
    "The bigcity data frame has 49 rows and 2 columns.\n",
    "\n",
    "The measurements are the population (in 1000's) of 49 U.S. cities in 1920 and 1930. The 49 cities are a random sample taken from the 196 largest cities in 1920.\n",
    "\n",
    "### Format\n",
    "This data frame contains the following columns:\n",
    "\n",
    "`u`\n",
    "The 1920 population.\n",
    "\n",
    "`x`\n",
    "The 1930 population.\n",
    "\n",
    "Source\n",
    "\n",
    "The data were obtained from\n",
    "\n",
    "Cochran, W.G. (1977) Sampling Techniques. Third edition. John Wiley\n",
    "\n",
    "References\n",
    "\n",
    "Davison, A.C. and Hinkley, D.V. (1997) Bootstrap Methods and Their Application. Cambridge University Press."
   ]
  },
  {
   "cell_type": "markdown",
   "metadata": {},
   "source": [
    "# Question 8 \n",
    "Read the dataset given in file named 'bigcity.csv'."
   ]
  },
  {
   "cell_type": "code",
   "execution_count": 42,
   "metadata": {},
   "outputs": [],
   "source": [
    "import pandas as pd\n",
    "dataset = pd.read_csv(\"bigcity-1.csv\")\n",
    "dataset.drop(\"Unnamed: 0\", axis=1, inplace=True)"
   ]
  },
  {
   "cell_type": "markdown",
   "metadata": {},
   "source": [
    "# Question 9 - Transform the dataset \n",
    "Find the number of rows in given dataset and separate the input and target variables into X and Y.\n",
    "Hint: You can shape function to get the size of the dataframe"
   ]
  },
  {
   "cell_type": "code",
   "execution_count": 47,
   "metadata": {},
   "outputs": [
    {
     "name": "stdout",
     "output_type": "stream",
     "text": [
      "Number of rows:  49\n"
     ]
    }
   ],
   "source": [
    "number_of_rows = dataset.shape[0]\n",
    "print(\"Number of rows: \", number_of_rows)\n",
    "input_vars_X = dataset[[\"u\"]]\n",
    "target_vars_Y = dataset[[\"x\"]]"
   ]
  },
  {
   "cell_type": "markdown",
   "metadata": {},
   "source": [
    "## Question 10 - Check the dataset for any missing values and also print out the correlation matrix "
   ]
  },
  {
   "cell_type": "markdown",
   "metadata": {},
   "source": [
    "You can use .isna() and .corr() functions to check NA's and correlation in the dataframe respectively"
   ]
  },
  {
   "cell_type": "code",
   "execution_count": 101,
   "metadata": {},
   "outputs": [
    {
     "data": {
      "text/html": [
       "<div>\n",
       "<style scoped>\n",
       "    .dataframe tbody tr th:only-of-type {\n",
       "        vertical-align: middle;\n",
       "    }\n",
       "\n",
       "    .dataframe tbody tr th {\n",
       "        vertical-align: top;\n",
       "    }\n",
       "\n",
       "    .dataframe thead th {\n",
       "        text-align: right;\n",
       "    }\n",
       "</style>\n",
       "<table border=\"1\" class=\"dataframe\">\n",
       "  <thead>\n",
       "    <tr style=\"text-align: right;\">\n",
       "      <th></th>\n",
       "      <th>u</th>\n",
       "      <th>x</th>\n",
       "    </tr>\n",
       "  </thead>\n",
       "  <tbody>\n",
       "    <tr>\n",
       "      <th>0</th>\n",
       "      <td>False</td>\n",
       "      <td>False</td>\n",
       "    </tr>\n",
       "    <tr>\n",
       "      <th>1</th>\n",
       "      <td>False</td>\n",
       "      <td>False</td>\n",
       "    </tr>\n",
       "    <tr>\n",
       "      <th>2</th>\n",
       "      <td>False</td>\n",
       "      <td>False</td>\n",
       "    </tr>\n",
       "    <tr>\n",
       "      <th>3</th>\n",
       "      <td>False</td>\n",
       "      <td>False</td>\n",
       "    </tr>\n",
       "    <tr>\n",
       "      <th>4</th>\n",
       "      <td>False</td>\n",
       "      <td>False</td>\n",
       "    </tr>\n",
       "    <tr>\n",
       "      <th>5</th>\n",
       "      <td>False</td>\n",
       "      <td>False</td>\n",
       "    </tr>\n",
       "    <tr>\n",
       "      <th>6</th>\n",
       "      <td>False</td>\n",
       "      <td>False</td>\n",
       "    </tr>\n",
       "    <tr>\n",
       "      <th>7</th>\n",
       "      <td>False</td>\n",
       "      <td>False</td>\n",
       "    </tr>\n",
       "    <tr>\n",
       "      <th>8</th>\n",
       "      <td>False</td>\n",
       "      <td>False</td>\n",
       "    </tr>\n",
       "    <tr>\n",
       "      <th>9</th>\n",
       "      <td>False</td>\n",
       "      <td>False</td>\n",
       "    </tr>\n",
       "    <tr>\n",
       "      <th>10</th>\n",
       "      <td>False</td>\n",
       "      <td>False</td>\n",
       "    </tr>\n",
       "    <tr>\n",
       "      <th>11</th>\n",
       "      <td>False</td>\n",
       "      <td>False</td>\n",
       "    </tr>\n",
       "    <tr>\n",
       "      <th>12</th>\n",
       "      <td>False</td>\n",
       "      <td>False</td>\n",
       "    </tr>\n",
       "    <tr>\n",
       "      <th>13</th>\n",
       "      <td>False</td>\n",
       "      <td>False</td>\n",
       "    </tr>\n",
       "    <tr>\n",
       "      <th>14</th>\n",
       "      <td>False</td>\n",
       "      <td>False</td>\n",
       "    </tr>\n",
       "    <tr>\n",
       "      <th>15</th>\n",
       "      <td>False</td>\n",
       "      <td>False</td>\n",
       "    </tr>\n",
       "    <tr>\n",
       "      <th>16</th>\n",
       "      <td>False</td>\n",
       "      <td>False</td>\n",
       "    </tr>\n",
       "    <tr>\n",
       "      <th>17</th>\n",
       "      <td>False</td>\n",
       "      <td>False</td>\n",
       "    </tr>\n",
       "    <tr>\n",
       "      <th>18</th>\n",
       "      <td>False</td>\n",
       "      <td>False</td>\n",
       "    </tr>\n",
       "    <tr>\n",
       "      <th>19</th>\n",
       "      <td>False</td>\n",
       "      <td>False</td>\n",
       "    </tr>\n",
       "    <tr>\n",
       "      <th>20</th>\n",
       "      <td>False</td>\n",
       "      <td>False</td>\n",
       "    </tr>\n",
       "    <tr>\n",
       "      <th>21</th>\n",
       "      <td>False</td>\n",
       "      <td>False</td>\n",
       "    </tr>\n",
       "    <tr>\n",
       "      <th>22</th>\n",
       "      <td>False</td>\n",
       "      <td>False</td>\n",
       "    </tr>\n",
       "    <tr>\n",
       "      <th>23</th>\n",
       "      <td>False</td>\n",
       "      <td>False</td>\n",
       "    </tr>\n",
       "    <tr>\n",
       "      <th>24</th>\n",
       "      <td>False</td>\n",
       "      <td>False</td>\n",
       "    </tr>\n",
       "    <tr>\n",
       "      <th>25</th>\n",
       "      <td>False</td>\n",
       "      <td>False</td>\n",
       "    </tr>\n",
       "    <tr>\n",
       "      <th>26</th>\n",
       "      <td>False</td>\n",
       "      <td>False</td>\n",
       "    </tr>\n",
       "    <tr>\n",
       "      <th>27</th>\n",
       "      <td>False</td>\n",
       "      <td>False</td>\n",
       "    </tr>\n",
       "    <tr>\n",
       "      <th>28</th>\n",
       "      <td>False</td>\n",
       "      <td>False</td>\n",
       "    </tr>\n",
       "    <tr>\n",
       "      <th>29</th>\n",
       "      <td>False</td>\n",
       "      <td>False</td>\n",
       "    </tr>\n",
       "    <tr>\n",
       "      <th>30</th>\n",
       "      <td>False</td>\n",
       "      <td>False</td>\n",
       "    </tr>\n",
       "    <tr>\n",
       "      <th>31</th>\n",
       "      <td>False</td>\n",
       "      <td>False</td>\n",
       "    </tr>\n",
       "    <tr>\n",
       "      <th>32</th>\n",
       "      <td>False</td>\n",
       "      <td>False</td>\n",
       "    </tr>\n",
       "    <tr>\n",
       "      <th>33</th>\n",
       "      <td>False</td>\n",
       "      <td>False</td>\n",
       "    </tr>\n",
       "    <tr>\n",
       "      <th>34</th>\n",
       "      <td>False</td>\n",
       "      <td>False</td>\n",
       "    </tr>\n",
       "    <tr>\n",
       "      <th>35</th>\n",
       "      <td>False</td>\n",
       "      <td>False</td>\n",
       "    </tr>\n",
       "    <tr>\n",
       "      <th>36</th>\n",
       "      <td>False</td>\n",
       "      <td>False</td>\n",
       "    </tr>\n",
       "    <tr>\n",
       "      <th>37</th>\n",
       "      <td>False</td>\n",
       "      <td>False</td>\n",
       "    </tr>\n",
       "    <tr>\n",
       "      <th>38</th>\n",
       "      <td>False</td>\n",
       "      <td>False</td>\n",
       "    </tr>\n",
       "    <tr>\n",
       "      <th>39</th>\n",
       "      <td>False</td>\n",
       "      <td>False</td>\n",
       "    </tr>\n",
       "    <tr>\n",
       "      <th>40</th>\n",
       "      <td>False</td>\n",
       "      <td>False</td>\n",
       "    </tr>\n",
       "    <tr>\n",
       "      <th>41</th>\n",
       "      <td>False</td>\n",
       "      <td>False</td>\n",
       "    </tr>\n",
       "    <tr>\n",
       "      <th>42</th>\n",
       "      <td>False</td>\n",
       "      <td>False</td>\n",
       "    </tr>\n",
       "    <tr>\n",
       "      <th>43</th>\n",
       "      <td>False</td>\n",
       "      <td>False</td>\n",
       "    </tr>\n",
       "    <tr>\n",
       "      <th>44</th>\n",
       "      <td>False</td>\n",
       "      <td>False</td>\n",
       "    </tr>\n",
       "    <tr>\n",
       "      <th>45</th>\n",
       "      <td>False</td>\n",
       "      <td>False</td>\n",
       "    </tr>\n",
       "    <tr>\n",
       "      <th>46</th>\n",
       "      <td>False</td>\n",
       "      <td>False</td>\n",
       "    </tr>\n",
       "    <tr>\n",
       "      <th>47</th>\n",
       "      <td>False</td>\n",
       "      <td>False</td>\n",
       "    </tr>\n",
       "    <tr>\n",
       "      <th>48</th>\n",
       "      <td>False</td>\n",
       "      <td>False</td>\n",
       "    </tr>\n",
       "  </tbody>\n",
       "</table>\n",
       "</div>"
      ],
      "text/plain": [
       "        u      x\n",
       "0   False  False\n",
       "1   False  False\n",
       "2   False  False\n",
       "3   False  False\n",
       "4   False  False\n",
       "5   False  False\n",
       "6   False  False\n",
       "7   False  False\n",
       "8   False  False\n",
       "9   False  False\n",
       "10  False  False\n",
       "11  False  False\n",
       "12  False  False\n",
       "13  False  False\n",
       "14  False  False\n",
       "15  False  False\n",
       "16  False  False\n",
       "17  False  False\n",
       "18  False  False\n",
       "19  False  False\n",
       "20  False  False\n",
       "21  False  False\n",
       "22  False  False\n",
       "23  False  False\n",
       "24  False  False\n",
       "25  False  False\n",
       "26  False  False\n",
       "27  False  False\n",
       "28  False  False\n",
       "29  False  False\n",
       "30  False  False\n",
       "31  False  False\n",
       "32  False  False\n",
       "33  False  False\n",
       "34  False  False\n",
       "35  False  False\n",
       "36  False  False\n",
       "37  False  False\n",
       "38  False  False\n",
       "39  False  False\n",
       "40  False  False\n",
       "41  False  False\n",
       "42  False  False\n",
       "43  False  False\n",
       "44  False  False\n",
       "45  False  False\n",
       "46  False  False\n",
       "47  False  False\n",
       "48  False  False"
      ]
     },
     "execution_count": 101,
     "metadata": {},
     "output_type": "execute_result"
    }
   ],
   "source": [
    "dataset.isna()"
   ]
  },
  {
   "cell_type": "code",
   "execution_count": 49,
   "metadata": {},
   "outputs": [
    {
     "data": {
      "text/html": [
       "<div>\n",
       "<style scoped>\n",
       "    .dataframe tbody tr th:only-of-type {\n",
       "        vertical-align: middle;\n",
       "    }\n",
       "\n",
       "    .dataframe tbody tr th {\n",
       "        vertical-align: top;\n",
       "    }\n",
       "\n",
       "    .dataframe thead th {\n",
       "        text-align: right;\n",
       "    }\n",
       "</style>\n",
       "<table border=\"1\" class=\"dataframe\">\n",
       "  <thead>\n",
       "    <tr style=\"text-align: right;\">\n",
       "      <th></th>\n",
       "      <th>u</th>\n",
       "      <th>x</th>\n",
       "    </tr>\n",
       "  </thead>\n",
       "  <tbody>\n",
       "    <tr>\n",
       "      <th>u</th>\n",
       "      <td>1.000000</td>\n",
       "      <td>0.981742</td>\n",
       "    </tr>\n",
       "    <tr>\n",
       "      <th>x</th>\n",
       "      <td>0.981742</td>\n",
       "      <td>1.000000</td>\n",
       "    </tr>\n",
       "  </tbody>\n",
       "</table>\n",
       "</div>"
      ],
      "text/plain": [
       "          u         x\n",
       "u  1.000000  0.981742\n",
       "x  0.981742  1.000000"
      ]
     },
     "execution_count": 49,
     "metadata": {},
     "output_type": "execute_result"
    }
   ],
   "source": [
    "dataset.corr()"
   ]
  },
  {
   "cell_type": "code",
   "execution_count": null,
   "metadata": {},
   "outputs": [],
   "source": []
  },
  {
   "cell_type": "markdown",
   "metadata": {},
   "source": [
    "### The high correlation betwwen u and x indicates that the variable u is a good predictor of variable x"
   ]
  },
  {
   "cell_type": "markdown",
   "metadata": {},
   "source": [
    "# Question 11 - Split data into train, test sets \n",
    "Divide the data into training and test sets with 80-20 split using scikit-learn. Print the shapes of training and test feature sets.*"
   ]
  },
  {
   "cell_type": "markdown",
   "metadata": {},
   "source": [
    "Check: train_test_split function"
   ]
  },
  {
   "cell_type": "code",
   "execution_count": 54,
   "metadata": {},
   "outputs": [
    {
     "name": "stdout",
     "output_type": "stream",
     "text": [
      "Shape X-Train: (39, 1)\n",
      "Shape X-Test: (10, 1)\n",
      "Shape Y-Train: (39, 1)\n",
      "Shape Y-Test: (10, 1)\n"
     ]
    }
   ],
   "source": [
    "from sklearn.linear_model import LinearRegression\n",
    "from sklearn.model_selection import train_test_split\n",
    "x_train, x_test, y_train, y_test = train_test_split(input_vars_X, target_vars_Y, test_size=0.20, random_state=1)\n",
    "print(\"Shape X-Train:\", x_train.shape)\n",
    "print(\"Shape X-Test:\", x_test.shape)\n",
    "print(\"Shape Y-Train:\", y_train.shape)\n",
    "print(\"Shape Y-Test:\", y_test.shape)"
   ]
  },
  {
   "cell_type": "markdown",
   "metadata": {},
   "source": [
    "# Question 12 - Find coefficients & intercept\n",
    "Estimate the coefficients b0 and b1 using scikit-learn."
   ]
  },
  {
   "cell_type": "markdown",
   "metadata": {},
   "source": [
    "Check: coef_ and intercept_ functions can help you get coefficients & intercept"
   ]
  },
  {
   "cell_type": "code",
   "execution_count": 63,
   "metadata": {},
   "outputs": [
    {
     "name": "stdout",
     "output_type": "stream",
     "text": [
      "Intercept (b0):  [9.71845532]\n",
      "Coef (b1):  [[1.15945123]]\n"
     ]
    }
   ],
   "source": [
    "model = LinearRegression()\n",
    "model.fit(x_train, y_train)\n",
    "beta0 = model.intercept_\n",
    "beta1 = model.coef_\n",
    "print(\"Intercept (b0): \", beta0)\n",
    "print(\"Coef (b1): \", beta1)"
   ]
  },
  {
   "cell_type": "markdown",
   "metadata": {},
   "source": [
    "# Question 13 - Linear Relationship between feature and target \n",
    "Plot the line with b1 and b0 as slope and y-intercept."
   ]
  },
  {
   "cell_type": "code",
   "execution_count": 113,
   "metadata": {},
   "outputs": [
    {
     "data": {
      "text/plain": [
       "[<matplotlib.lines.Line2D at 0x1a196724e0>]"
      ]
     },
     "execution_count": 113,
     "metadata": {},
     "output_type": "execute_result"
    },
    {
     "data": {
      "image/png": "[encoded data removed]",
      "text/plain": [
       "<Figure size 432x288 with 1 Axes>"
      ]
     },
     "metadata": {
      "needs_background": "light"
     },
     "output_type": "display_data"
    }
   ],
   "source": [
    "import matplotlib.pyplot as plt\n",
    "import numpy as np\n",
    "%matplotlib inline\n",
    "import seaborn as sns\n",
    "plt.xlim([0, 200])\n",
    "plt.ylim([0, 200])\n",
    "plt.plot(input_vars_X.values, beta1 * input_vars_X.values + beta0)\n",
    "\n"
   ]
  },
  {
   "cell_type": "markdown",
   "metadata": {},
   "source": [
    "# Question 14 - Evaluation of model with scikit-learn \n",
    "Validate the model with Root Mean Squares error and R^2 score using scikit-learn. RMSE and R2 for test data and prediction"
   ]
  },
  {
   "cell_type": "markdown",
   "metadata": {},
   "source": [
    "Hint: You can import mean_squared_error function & r2 (R square) from sklearn.metrics. Performing root operation over mean square error over mean square error gives you root mean square error"
   ]
  },
  {
   "cell_type": "code",
   "execution_count": 118,
   "metadata": {},
   "outputs": [
    {
     "name": "stdout",
     "output_type": "stream",
     "text": [
      "Mean Squared Error:  539.6110660595995\n",
      "RMS Error:  23.229530043881635\n"
     ]
    }
   ],
   "source": [
    "from sklearn import metrics\n",
    "Prediction = model.predict(input_vars_X)\n",
    "print(\"Mean Squared Error: \", metrics.mean_squared_error(Prediction, target_vars_Y))\n",
    "rmse = np.sqrt(metrics.mean_squared_error(Prediction, target_vars_Y))\n",
    "print(\"RMS Error: \", rmse)"
   ]
  },
  {
   "cell_type": "markdown",
   "metadata": {},
   "source": [
    "## Question 15 - Calculate the accuracy of the model for both training and test data set "
   ]
  },
  {
   "cell_type": "markdown",
   "metadata": {},
   "source": [
    "### Hint: .score() function "
   ]
  },
  {
   "cell_type": "code",
   "execution_count": 120,
   "metadata": {},
   "outputs": [
    {
     "name": "stdout",
     "output_type": "stream",
     "text": [
      "Model Score:  0.9636612539991335\n"
     ]
    }
   ],
   "source": [
    "print(\"Model Score: \", model.score(input_vars_X, target_vars_Y))"
   ]
  },
  {
   "cell_type": "code",
   "execution_count": null,
   "metadata": {},
   "outputs": [],
   "source": []
  }
 ],
 "metadata": {
  "kernelspec": {
   "display_name": "Python 3",
   "language": "python",
   "name": "python3"
  },
  "language_info": {
   "codemirror_mode": {
    "name": "ipython",
    "version": 3
   },
   "file_extension": ".py",
   "mimetype": "text/x-python",
   "name": "python",
   "nbconvert_exporter": "python",
   "pygments_lexer": "ipython3",
   "version": "3.7.0"
  }
 },
 "nbformat": 4,
 "nbformat_minor": 2
}
