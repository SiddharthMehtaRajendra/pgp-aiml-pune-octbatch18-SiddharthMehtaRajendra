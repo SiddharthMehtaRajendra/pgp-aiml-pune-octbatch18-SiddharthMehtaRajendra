{
 "cells": [
  {
   "cell_type": "code",
   "execution_count": 218,
   "metadata": {},
   "outputs": [],
   "source": [
    "import pandas as pd\n",
    "import numpy as np"
   ]
  },
  {
   "cell_type": "code",
   "execution_count": 219,
   "metadata": {},
   "outputs": [],
   "source": [
    "product = pd.read_csv(\"ratings_Electronics.csv\", names = ['userid', 'productid', 'ratings', 'timestamp'])"
   ]
  },
  {
   "cell_type": "code",
   "execution_count": 220,
   "metadata": {},
   "outputs": [
    {
     "name": "stdout",
     "output_type": "stream",
     "text": [
      "<class 'pandas.core.frame.DataFrame'>\n",
      "RangeIndex: 7824482 entries, 0 to 7824481\n",
      "Data columns (total 4 columns):\n",
      "userid       object\n",
      "productid    object\n",
      "ratings      float64\n",
      "timestamp    int64\n",
      "dtypes: float64(1), int64(1), object(2)\n",
      "memory usage: 238.8+ MB\n"
     ]
    }
   ],
   "source": [
    "product.info()"
   ]
  },
  {
   "cell_type": "code",
   "execution_count": 221,
   "metadata": {},
   "outputs": [
    {
     "data": {
      "text/html": [
       "<div>\n",
       "<style scoped>\n",
       "    .dataframe tbody tr th:only-of-type {\n",
       "        vertical-align: middle;\n",
       "    }\n",
       "\n",
       "    .dataframe tbody tr th {\n",
       "        vertical-align: top;\n",
       "    }\n",
       "\n",
       "    .dataframe thead th {\n",
       "        text-align: right;\n",
       "    }\n",
       "</style>\n",
       "<table border=\"1\" class=\"dataframe\">\n",
       "  <thead>\n",
       "    <tr style=\"text-align: right;\">\n",
       "      <th></th>\n",
       "      <th>userid</th>\n",
       "      <th>productid</th>\n",
       "      <th>ratings</th>\n",
       "      <th>timestamp</th>\n",
       "    </tr>\n",
       "  </thead>\n",
       "  <tbody>\n",
       "    <tr>\n",
       "      <th>0</th>\n",
       "      <td>AKM1MP6P0OYPR</td>\n",
       "      <td>0132793040</td>\n",
       "      <td>5.0</td>\n",
       "      <td>1365811200</td>\n",
       "    </tr>\n",
       "    <tr>\n",
       "      <th>1</th>\n",
       "      <td>A2CX7LUOHB2NDG</td>\n",
       "      <td>0321732944</td>\n",
       "      <td>5.0</td>\n",
       "      <td>1341100800</td>\n",
       "    </tr>\n",
       "    <tr>\n",
       "      <th>2</th>\n",
       "      <td>A2NWSAGRHCP8N5</td>\n",
       "      <td>0439886341</td>\n",
       "      <td>1.0</td>\n",
       "      <td>1367193600</td>\n",
       "    </tr>\n",
       "    <tr>\n",
       "      <th>3</th>\n",
       "      <td>A2WNBOD3WNDNKT</td>\n",
       "      <td>0439886341</td>\n",
       "      <td>3.0</td>\n",
       "      <td>1374451200</td>\n",
       "    </tr>\n",
       "    <tr>\n",
       "      <th>4</th>\n",
       "      <td>A1GI0U4ZRJA8WN</td>\n",
       "      <td>0439886341</td>\n",
       "      <td>1.0</td>\n",
       "      <td>1334707200</td>\n",
       "    </tr>\n",
       "  </tbody>\n",
       "</table>\n",
       "</div>"
      ],
      "text/plain": [
       "           userid   productid  ratings   timestamp\n",
       "0   AKM1MP6P0OYPR  0132793040      5.0  1365811200\n",
       "1  A2CX7LUOHB2NDG  0321732944      5.0  1341100800\n",
       "2  A2NWSAGRHCP8N5  0439886341      1.0  1367193600\n",
       "3  A2WNBOD3WNDNKT  0439886341      3.0  1374451200\n",
       "4  A1GI0U4ZRJA8WN  0439886341      1.0  1334707200"
      ]
     },
     "execution_count": 221,
     "metadata": {},
     "output_type": "execute_result"
    }
   ],
   "source": [
    "product.head()"
   ]
  },
  {
   "cell_type": "code",
   "execution_count": 222,
   "metadata": {},
   "outputs": [],
   "source": [
    "product.drop(columns = 'timestamp', inplace = True)"
   ]
  },
  {
   "cell_type": "code",
   "execution_count": 223,
   "metadata": {},
   "outputs": [
    {
     "data": {
      "text/html": [
       "<div>\n",
       "<style scoped>\n",
       "    .dataframe tbody tr th:only-of-type {\n",
       "        vertical-align: middle;\n",
       "    }\n",
       "\n",
       "    .dataframe tbody tr th {\n",
       "        vertical-align: top;\n",
       "    }\n",
       "\n",
       "    .dataframe thead th {\n",
       "        text-align: right;\n",
       "    }\n",
       "</style>\n",
       "<table border=\"1\" class=\"dataframe\">\n",
       "  <thead>\n",
       "    <tr style=\"text-align: right;\">\n",
       "      <th></th>\n",
       "      <th>userid</th>\n",
       "      <th>productid</th>\n",
       "      <th>ratings</th>\n",
       "    </tr>\n",
       "  </thead>\n",
       "  <tbody>\n",
       "    <tr>\n",
       "      <th>0</th>\n",
       "      <td>AKM1MP6P0OYPR</td>\n",
       "      <td>0132793040</td>\n",
       "      <td>5.0</td>\n",
       "    </tr>\n",
       "    <tr>\n",
       "      <th>1</th>\n",
       "      <td>A2CX7LUOHB2NDG</td>\n",
       "      <td>0321732944</td>\n",
       "      <td>5.0</td>\n",
       "    </tr>\n",
       "    <tr>\n",
       "      <th>2</th>\n",
       "      <td>A2NWSAGRHCP8N5</td>\n",
       "      <td>0439886341</td>\n",
       "      <td>1.0</td>\n",
       "    </tr>\n",
       "    <tr>\n",
       "      <th>3</th>\n",
       "      <td>A2WNBOD3WNDNKT</td>\n",
       "      <td>0439886341</td>\n",
       "      <td>3.0</td>\n",
       "    </tr>\n",
       "    <tr>\n",
       "      <th>4</th>\n",
       "      <td>A1GI0U4ZRJA8WN</td>\n",
       "      <td>0439886341</td>\n",
       "      <td>1.0</td>\n",
       "    </tr>\n",
       "  </tbody>\n",
       "</table>\n",
       "</div>"
      ],
      "text/plain": [
       "           userid   productid  ratings\n",
       "0   AKM1MP6P0OYPR  0132793040      5.0\n",
       "1  A2CX7LUOHB2NDG  0321732944      5.0\n",
       "2  A2NWSAGRHCP8N5  0439886341      1.0\n",
       "3  A2WNBOD3WNDNKT  0439886341      3.0\n",
       "4  A1GI0U4ZRJA8WN  0439886341      1.0"
      ]
     },
     "execution_count": 223,
     "metadata": {},
     "output_type": "execute_result"
    }
   ],
   "source": [
    "product.head()"
   ]
  },
  {
   "cell_type": "code",
   "execution_count": 224,
   "metadata": {},
   "outputs": [
    {
     "data": {
      "text/plain": [
       "userid       0\n",
       "productid    0\n",
       "ratings      0\n",
       "dtype: int64"
      ]
     },
     "execution_count": 224,
     "metadata": {},
     "output_type": "execute_result"
    }
   ],
   "source": [
    "product.isna().sum()"
   ]
  },
  {
   "cell_type": "markdown",
   "metadata": {},
   "source": [
    "As we see above, no null/NaN data. Now we shall reduce the data based on the condition that the user has met a minimum ratings threshold, say a user has given at least 50 ratings."
   ]
  },
  {
   "cell_type": "code",
   "execution_count": 225,
   "metadata": {},
   "outputs": [],
   "source": [
    "product.userid = product.userid.astype(str)\n",
    "product.productid = product.productid.astype(str)"
   ]
  },
  {
   "cell_type": "code",
   "execution_count": 226,
   "metadata": {},
   "outputs": [],
   "source": [
    "# Get the count of each value\n",
    "value_counts = product['userid'].value_counts()\n",
    "\n",
    "# Select the values where the count is less than 3 (or 5 if you like)\n",
    "to_remove = value_counts[value_counts <= 50].index"
   ]
  },
  {
   "cell_type": "code",
   "execution_count": 227,
   "metadata": {},
   "outputs": [],
   "source": [
    "# Keep rows where the userid column is not in to_remove\n",
    "product_processed = product[~product.userid.isin(to_remove)]"
   ]
  },
  {
   "cell_type": "code",
   "execution_count": 228,
   "metadata": {},
   "outputs": [
    {
     "name": "stdout",
     "output_type": "stream",
     "text": [
      "<class 'pandas.core.frame.DataFrame'>\n",
      "Int64Index: 122171 entries, 118 to 7824444\n",
      "Data columns (total 3 columns):\n",
      "userid       122171 non-null object\n",
      "productid    122171 non-null object\n",
      "ratings      122171 non-null float64\n",
      "dtypes: float64(1), object(2)\n",
      "memory usage: 3.7+ MB\n"
     ]
    }
   ],
   "source": [
    "product_processed.info()\n",
    "#Clean and less sparse CSV For future use\n",
    "product_processed.to_csv(\"processed_product.csv\")"
   ]
  },
  {
   "cell_type": "code",
   "execution_count": 229,
   "metadata": {},
   "outputs": [
    {
     "data": {
      "text/html": [
       "<div>\n",
       "<style scoped>\n",
       "    .dataframe tbody tr th:only-of-type {\n",
       "        vertical-align: middle;\n",
       "    }\n",
       "\n",
       "    .dataframe tbody tr th {\n",
       "        vertical-align: top;\n",
       "    }\n",
       "\n",
       "    .dataframe thead th {\n",
       "        text-align: right;\n",
       "    }\n",
       "</style>\n",
       "<table border=\"1\" class=\"dataframe\">\n",
       "  <thead>\n",
       "    <tr style=\"text-align: right;\">\n",
       "      <th></th>\n",
       "      <th>userid</th>\n",
       "      <th>productid</th>\n",
       "      <th>ratings</th>\n",
       "    </tr>\n",
       "  </thead>\n",
       "  <tbody>\n",
       "    <tr>\n",
       "      <th>118</th>\n",
       "      <td>AT09WGFUM934H</td>\n",
       "      <td>0594481813</td>\n",
       "      <td>3.0</td>\n",
       "    </tr>\n",
       "    <tr>\n",
       "      <th>177</th>\n",
       "      <td>A32HSNCNPRUMTR</td>\n",
       "      <td>0970407998</td>\n",
       "      <td>1.0</td>\n",
       "    </tr>\n",
       "    <tr>\n",
       "      <th>178</th>\n",
       "      <td>A17HMM1M7T9PJ1</td>\n",
       "      <td>0970407998</td>\n",
       "      <td>4.0</td>\n",
       "    </tr>\n",
       "    <tr>\n",
       "      <th>492</th>\n",
       "      <td>A3CLWR1UUZT6TG</td>\n",
       "      <td>0972683275</td>\n",
       "      <td>5.0</td>\n",
       "    </tr>\n",
       "    <tr>\n",
       "      <th>631</th>\n",
       "      <td>A3TAS1AG6FMBQW</td>\n",
       "      <td>0972683275</td>\n",
       "      <td>5.0</td>\n",
       "    </tr>\n",
       "  </tbody>\n",
       "</table>\n",
       "</div>"
      ],
      "text/plain": [
       "             userid   productid  ratings\n",
       "118   AT09WGFUM934H  0594481813      3.0\n",
       "177  A32HSNCNPRUMTR  0970407998      1.0\n",
       "178  A17HMM1M7T9PJ1  0970407998      4.0\n",
       "492  A3CLWR1UUZT6TG  0972683275      5.0\n",
       "631  A3TAS1AG6FMBQW  0972683275      5.0"
      ]
     },
     "execution_count": 229,
     "metadata": {},
     "output_type": "execute_result"
    }
   ],
   "source": [
    "#Now that we have a substantially more manageable data set, we can proceed.\n",
    "product_processed.head()"
   ]
  },
  {
   "cell_type": "code",
   "execution_count": 230,
   "metadata": {},
   "outputs": [
    {
     "data": {
      "text/plain": [
       "(122171, 3)"
      ]
     },
     "execution_count": 230,
     "metadata": {},
     "output_type": "execute_result"
    }
   ],
   "source": [
    "product_processed.shape"
   ]
  },
  {
   "cell_type": "code",
   "execution_count": 231,
   "metadata": {},
   "outputs": [
    {
     "name": "stdout",
     "output_type": "stream",
     "text": [
      "total unique users -  1466\n"
     ]
    }
   ],
   "source": [
    "# Total unique users \n",
    "print(\"total unique users - \",len(product_processed[\"userid\"].unique()))"
   ]
  },
  {
   "cell_type": "code",
   "execution_count": 232,
   "metadata": {},
   "outputs": [
    {
     "data": {
      "text/plain": [
       "A5JLAU2ARJ0BO     520\n",
       "ADLVFFE4VBT8      501\n",
       "A3OXHLG6DIBRW8    498\n",
       "A6FIAB28IS79      431\n",
       "A680RUE1FDO8B     406\n",
       "Name: userid, dtype: int64"
      ]
     },
     "execution_count": 232,
     "metadata": {},
     "output_type": "execute_result"
    }
   ],
   "source": [
    "# Users providing the maximum ratings\n",
    "product_processed[\"userid\"].value_counts().head()"
   ]
  },
  {
   "cell_type": "markdown",
   "metadata": {},
   "source": [
    "### Visualization"
   ]
  },
  {
   "cell_type": "code",
   "execution_count": 233,
   "metadata": {},
   "outputs": [
    {
     "data": {
      "text/html": [
       "<script>requirejs.config({paths: { 'plotly': ['https://cdn.plot.ly/plotly-latest.min']},});if(!window.Plotly) {{require(['plotly'],function(plotly) {window.Plotly=plotly;});}}</script>"
      ],
      "text/vnd.plotly.v1+html": [
       "<script>requirejs.config({paths: { 'plotly': ['https://cdn.plot.ly/plotly-latest.min']},});if(!window.Plotly) {{require(['plotly'],function(plotly) {window.Plotly=plotly;});}}</script>"
      ]
     },
     "metadata": {},
     "output_type": "display_data"
    },
    {
     "data": {
      "application/vnd.plotly.v1+json": {
       "data": [
        {
         "text": [
          "56.4 %",
          "25.8 %",
          "9.6 %",
          "4.2 %",
          "4.0 %"
         ],
         "textfont": {
          "color": "#000000"
         },
         "textposition": "auto",
         "type": "bar",
         "uid": "9f7d10c4-3da4-11e9-a9fd-acde48001122",
         "x": [
          5,
          4,
          3,
          2,
          1
         ],
         "y": [
          68872,
          31480,
          11747,
          5175,
          4897
         ]
        }
       ],
       "layout": {
        "title": "Distribution Of 122171 product-ratings",
        "xaxis": {
         "title": "Rating"
        },
        "yaxis": {
         "title": "Count"
        }
       }
      },
      "text/html": [
       "<div id=\"b5142528-190e-41ba-a006-1ef0d247220d\" style=\"height: 525px; width: 100%;\" class=\"plotly-graph-div\"></div><script type=\"text/javascript\">require([\"plotly\"], function(Plotly) { window.PLOTLYENV=window.PLOTLYENV || {};window.PLOTLYENV.BASE_URL=\"https://plot.ly\";Plotly.newPlot(\"b5142528-190e-41ba-a006-1ef0d247220d\", [{\"text\": [\"56.4 %\", \"25.8 %\", \"9.6 %\", \"4.2 %\", \"4.0 %\"], \"textfont\": {\"color\": \"#000000\"}, \"textposition\": \"auto\", \"x\": [5.0, 4.0, 3.0, 2.0, 1.0], \"y\": [68872, 31480, 11747, 5175, 4897], \"type\": \"bar\", \"uid\": \"9f7d10c4-3da4-11e9-a9fd-acde48001122\"}], {\"title\": \"Distribution Of 122171 product-ratings\", \"xaxis\": {\"title\": \"Rating\"}, \"yaxis\": {\"title\": \"Count\"}}, {\"showLink\": true, \"linkText\": \"Export to plot.ly\"})});</script>"
      ],
      "text/vnd.plotly.v1+html": [
       "<div id=\"b5142528-190e-41ba-a006-1ef0d247220d\" style=\"height: 525px; width: 100%;\" class=\"plotly-graph-div\"></div><script type=\"text/javascript\">require([\"plotly\"], function(Plotly) { window.PLOTLYENV=window.PLOTLYENV || {};window.PLOTLYENV.BASE_URL=\"https://plot.ly\";Plotly.newPlot(\"b5142528-190e-41ba-a006-1ef0d247220d\", [{\"text\": [\"56.4 %\", \"25.8 %\", \"9.6 %\", \"4.2 %\", \"4.0 %\"], \"textfont\": {\"color\": \"#000000\"}, \"textposition\": \"auto\", \"x\": [5.0, 4.0, 3.0, 2.0, 1.0], \"y\": [68872, 31480, 11747, 5175, 4897], \"type\": \"bar\", \"uid\": \"9f7d10c4-3da4-11e9-a9fd-acde48001122\"}], {\"title\": \"Distribution Of 122171 product-ratings\", \"xaxis\": {\"title\": \"Rating\"}, \"yaxis\": {\"title\": \"Count\"}}, {\"showLink\": true, \"linkText\": \"Export to plot.ly\"})});</script>"
      ]
     },
     "metadata": {},
     "output_type": "display_data"
    }
   ],
   "source": [
    "from plotly.offline import init_notebook_mode, plot, iplot\n",
    "import plotly.graph_objs as go\n",
    "init_notebook_mode(connected=True)\n",
    "\n",
    "data = product_processed['ratings'].value_counts().sort_index(ascending=False)\n",
    "trace = go.Bar(x = data.index,\n",
    "               text = ['{:.1f} %'.format(val) for val in (data.values / product_processed.shape[0] * 100)],\n",
    "               textposition = 'auto',\n",
    "               textfont = dict(color = '#000000'),\n",
    "               y = data.values,\n",
    "               )\n",
    "# Create layout\n",
    "layout = dict(title = 'Distribution Of {} product-ratings'.format(product_processed.shape[0]),\n",
    "              xaxis = dict(title = 'Rating'),\n",
    "              yaxis = dict(title = 'Count'))\n",
    "# Create plot\n",
    "fig = go.Figure(data=[trace], layout=layout)\n",
    "iplot(fig)"
   ]
  },
  {
   "cell_type": "markdown",
   "metadata": {},
   "source": [
    "We can see from above that over half of the ratings for products are 5 starred, therefore it is likely that the top N recommendations will have an average rating around 5 stars."
   ]
  },
  {
   "cell_type": "markdown",
   "metadata": {},
   "source": [
    "### Please note that a graph has been generated on local connection which cannot be exported to git. Hence attaching a snapshot of the same separately."
   ]
  },
  {
   "cell_type": "markdown",
   "metadata": {},
   "source": [
    "### Collaborative Filtering"
   ]
  },
  {
   "cell_type": "markdown",
   "metadata": {},
   "source": [
    "### POC: For demo purposes only, prior to actual assignment requirements. We shall create a utiltity matrix with products as columns and users as rows with the rating being the the value for the user item combination i.e. for user u and item i, the rating is r (u,i) - intersection."
   ]
  },
  {
   "cell_type": "code",
   "execution_count": 234,
   "metadata": {},
   "outputs": [],
   "source": [
    "ratings_crosstab = product_processed.pivot_table(values='ratings', index='userid', columns='productid', fill_value = 0)"
   ]
  },
  {
   "cell_type": "code",
   "execution_count": 235,
   "metadata": {},
   "outputs": [
    {
     "name": "stdout",
     "output_type": "stream",
     "text": [
      "<class 'pandas.core.frame.DataFrame'>\n",
      "Index: 1466 entries, A100UD67AHFODS to AZOK5STV85FBJ\n",
      "Columns: 47155 entries, 0594481813 to B00LKG1MC8\n",
      "dtypes: int64(47155)\n",
      "memory usage: 527.4+ MB\n"
     ]
    }
   ],
   "source": [
    "ratings_crosstab.info()"
   ]
  },
  {
   "cell_type": "code",
   "execution_count": 236,
   "metadata": {},
   "outputs": [
    {
     "data": {
      "text/plain": [
       "3"
      ]
     },
     "execution_count": 236,
     "metadata": {},
     "output_type": "execute_result"
    }
   ],
   "source": [
    "#Verifying sample known value for accuracy\n",
    "ratings_crosstab['0594481813']['AT09WGFUM934H']"
   ]
  },
  {
   "cell_type": "code",
   "execution_count": 237,
   "metadata": {},
   "outputs": [
    {
     "data": {
      "text/plain": [
       "(1466, 47155)"
      ]
     },
     "execution_count": 237,
     "metadata": {},
     "output_type": "execute_result"
    }
   ],
   "source": [
    "ratings_crosstab.shape"
   ]
  },
  {
   "cell_type": "code",
   "execution_count": 238,
   "metadata": {},
   "outputs": [
    {
     "data": {
      "text/plain": [
       "(47155, 1466)"
      ]
     },
     "execution_count": 238,
     "metadata": {},
     "output_type": "execute_result"
    }
   ],
   "source": [
    "#Transposing the matrix\n",
    "X = ratings_crosstab.T\n",
    "X.shape"
   ]
  },
  {
   "cell_type": "markdown",
   "metadata": {},
   "source": [
    "### As we observe the size of the matrix, and corresponding computation requirements, it would be worthwhile to decompose the matrix by using TruncatedSVD. A brief description of the same is provided below."
   ]
  },
  {
   "cell_type": "markdown",
   "metadata": {},
   "source": [
    "This transformer performs linear dimensionality reduction by means of truncated singular value decomposition (SVD). Contrary to PCA, this estimator does not center the data before computing the singular value decomposition. This means it can work with scipy.sparse matrices efficiently.\n",
    "Basically, it identifies latent features from the data matrix provided, for more efficient future computation."
   ]
  },
  {
   "cell_type": "code",
   "execution_count": 239,
   "metadata": {},
   "outputs": [],
   "source": [
    "from sklearn.decomposition import TruncatedSVD\n",
    "SVD = TruncatedSVD(n_components=12, random_state=17)"
   ]
  },
  {
   "cell_type": "code",
   "execution_count": 240,
   "metadata": {},
   "outputs": [
    {
     "data": {
      "text/plain": [
       "(47155, 12)"
      ]
     },
     "execution_count": 240,
     "metadata": {},
     "output_type": "execute_result"
    }
   ],
   "source": [
    "resultant_matrix = SVD.fit_transform(X)\n",
    "resultant_matrix.shape"
   ]
  },
  {
   "cell_type": "markdown",
   "metadata": {},
   "source": [
    "### Generating a Correlation Matrix"
   ]
  },
  {
   "cell_type": "code",
   "execution_count": 241,
   "metadata": {},
   "outputs": [],
   "source": [
    "###corr_mat = np.corrcoef(resultant_matrix)\n",
    "###corr_mat.shape"
   ]
  },
  {
   "cell_type": "code",
   "execution_count": 242,
   "metadata": {},
   "outputs": [],
   "source": [
    "#As given dataset seems computationally inefficient (expensive) for correlation generation, let us reduce the size \n",
    "#of the data by taking a random products sample of 20% and then attempt to generate the correlation matrix"
   ]
  },
  {
   "cell_type": "code",
   "execution_count": 243,
   "metadata": {},
   "outputs": [],
   "source": [
    "sample_ratings_crosstab = ratings_crosstab.sample(frac = 0.2, random_state = 42, axis = 1)"
   ]
  },
  {
   "cell_type": "code",
   "execution_count": 244,
   "metadata": {},
   "outputs": [
    {
     "data": {
      "text/html": [
       "<div>\n",
       "<style scoped>\n",
       "    .dataframe tbody tr th:only-of-type {\n",
       "        vertical-align: middle;\n",
       "    }\n",
       "\n",
       "    .dataframe tbody tr th {\n",
       "        vertical-align: top;\n",
       "    }\n",
       "\n",
       "    .dataframe thead th {\n",
       "        text-align: right;\n",
       "    }\n",
       "</style>\n",
       "<table border=\"1\" class=\"dataframe\">\n",
       "  <thead>\n",
       "    <tr style=\"text-align: right;\">\n",
       "      <th>productid</th>\n",
       "      <th>B002ONCCZC</th>\n",
       "      <th>B00894YWD0</th>\n",
       "      <th>B008RCF5XK</th>\n",
       "      <th>B00BC80UX6</th>\n",
       "      <th>B0034U3KXM</th>\n",
       "      <th>B009QV72VY</th>\n",
       "      <th>B003BEDTBY</th>\n",
       "      <th>B00FX6ST8G</th>\n",
       "      <th>B0057XBZCM</th>\n",
       "      <th>B000300Y9O</th>\n",
       "      <th>...</th>\n",
       "      <th>B002GHBW4S</th>\n",
       "      <th>B00CH5U24A</th>\n",
       "      <th>B002HU27UW</th>\n",
       "      <th>B00004U47J</th>\n",
       "      <th>B0001LXQIG</th>\n",
       "      <th>B007IHEPW2</th>\n",
       "      <th>B000WQ21SQ</th>\n",
       "      <th>B00000J9Z7</th>\n",
       "      <th>B0075GDS60</th>\n",
       "      <th>B002W7U3E2</th>\n",
       "    </tr>\n",
       "    <tr>\n",
       "      <th>userid</th>\n",
       "      <th></th>\n",
       "      <th></th>\n",
       "      <th></th>\n",
       "      <th></th>\n",
       "      <th></th>\n",
       "      <th></th>\n",
       "      <th></th>\n",
       "      <th></th>\n",
       "      <th></th>\n",
       "      <th></th>\n",
       "      <th></th>\n",
       "      <th></th>\n",
       "      <th></th>\n",
       "      <th></th>\n",
       "      <th></th>\n",
       "      <th></th>\n",
       "      <th></th>\n",
       "      <th></th>\n",
       "      <th></th>\n",
       "      <th></th>\n",
       "      <th></th>\n",
       "    </tr>\n",
       "  </thead>\n",
       "  <tbody>\n",
       "    <tr>\n",
       "      <th>A100UD67AHFODS</th>\n",
       "      <td>0</td>\n",
       "      <td>0</td>\n",
       "      <td>0</td>\n",
       "      <td>0</td>\n",
       "      <td>0</td>\n",
       "      <td>0</td>\n",
       "      <td>0</td>\n",
       "      <td>0</td>\n",
       "      <td>0</td>\n",
       "      <td>0</td>\n",
       "      <td>...</td>\n",
       "      <td>0</td>\n",
       "      <td>0</td>\n",
       "      <td>0</td>\n",
       "      <td>0</td>\n",
       "      <td>0</td>\n",
       "      <td>0</td>\n",
       "      <td>0</td>\n",
       "      <td>0</td>\n",
       "      <td>0</td>\n",
       "      <td>0</td>\n",
       "    </tr>\n",
       "    <tr>\n",
       "      <th>A100WO06OQR8BQ</th>\n",
       "      <td>0</td>\n",
       "      <td>0</td>\n",
       "      <td>0</td>\n",
       "      <td>0</td>\n",
       "      <td>0</td>\n",
       "      <td>0</td>\n",
       "      <td>0</td>\n",
       "      <td>0</td>\n",
       "      <td>0</td>\n",
       "      <td>0</td>\n",
       "      <td>...</td>\n",
       "      <td>0</td>\n",
       "      <td>0</td>\n",
       "      <td>0</td>\n",
       "      <td>0</td>\n",
       "      <td>0</td>\n",
       "      <td>0</td>\n",
       "      <td>0</td>\n",
       "      <td>0</td>\n",
       "      <td>0</td>\n",
       "      <td>0</td>\n",
       "    </tr>\n",
       "    <tr>\n",
       "      <th>A105S56ODHGJEK</th>\n",
       "      <td>0</td>\n",
       "      <td>0</td>\n",
       "      <td>0</td>\n",
       "      <td>0</td>\n",
       "      <td>0</td>\n",
       "      <td>0</td>\n",
       "      <td>0</td>\n",
       "      <td>0</td>\n",
       "      <td>0</td>\n",
       "      <td>0</td>\n",
       "      <td>...</td>\n",
       "      <td>0</td>\n",
       "      <td>0</td>\n",
       "      <td>0</td>\n",
       "      <td>0</td>\n",
       "      <td>0</td>\n",
       "      <td>0</td>\n",
       "      <td>0</td>\n",
       "      <td>0</td>\n",
       "      <td>0</td>\n",
       "      <td>0</td>\n",
       "    </tr>\n",
       "    <tr>\n",
       "      <th>A105TOJ6LTVMBG</th>\n",
       "      <td>0</td>\n",
       "      <td>0</td>\n",
       "      <td>0</td>\n",
       "      <td>0</td>\n",
       "      <td>0</td>\n",
       "      <td>0</td>\n",
       "      <td>0</td>\n",
       "      <td>0</td>\n",
       "      <td>0</td>\n",
       "      <td>0</td>\n",
       "      <td>...</td>\n",
       "      <td>0</td>\n",
       "      <td>0</td>\n",
       "      <td>0</td>\n",
       "      <td>0</td>\n",
       "      <td>0</td>\n",
       "      <td>0</td>\n",
       "      <td>0</td>\n",
       "      <td>0</td>\n",
       "      <td>0</td>\n",
       "      <td>0</td>\n",
       "    </tr>\n",
       "    <tr>\n",
       "      <th>A10AFVU66A79Y1</th>\n",
       "      <td>0</td>\n",
       "      <td>0</td>\n",
       "      <td>0</td>\n",
       "      <td>0</td>\n",
       "      <td>0</td>\n",
       "      <td>4</td>\n",
       "      <td>0</td>\n",
       "      <td>0</td>\n",
       "      <td>0</td>\n",
       "      <td>0</td>\n",
       "      <td>...</td>\n",
       "      <td>0</td>\n",
       "      <td>0</td>\n",
       "      <td>0</td>\n",
       "      <td>0</td>\n",
       "      <td>0</td>\n",
       "      <td>0</td>\n",
       "      <td>0</td>\n",
       "      <td>0</td>\n",
       "      <td>0</td>\n",
       "      <td>0</td>\n",
       "    </tr>\n",
       "  </tbody>\n",
       "</table>\n",
       "<p>5 rows × 9431 columns</p>\n",
       "</div>"
      ],
      "text/plain": [
       "productid       B002ONCCZC  B00894YWD0  B008RCF5XK  B00BC80UX6  B0034U3KXM  \\\n",
       "userid                                                                       \n",
       "A100UD67AHFODS           0           0           0           0           0   \n",
       "A100WO06OQR8BQ           0           0           0           0           0   \n",
       "A105S56ODHGJEK           0           0           0           0           0   \n",
       "A105TOJ6LTVMBG           0           0           0           0           0   \n",
       "A10AFVU66A79Y1           0           0           0           0           0   \n",
       "\n",
       "productid       B009QV72VY  B003BEDTBY  B00FX6ST8G  B0057XBZCM  B000300Y9O  \\\n",
       "userid                                                                       \n",
       "A100UD67AHFODS           0           0           0           0           0   \n",
       "A100WO06OQR8BQ           0           0           0           0           0   \n",
       "A105S56ODHGJEK           0           0           0           0           0   \n",
       "A105TOJ6LTVMBG           0           0           0           0           0   \n",
       "A10AFVU66A79Y1           4           0           0           0           0   \n",
       "\n",
       "productid          ...      B002GHBW4S  B00CH5U24A  B002HU27UW  B00004U47J  \\\n",
       "userid             ...                                                       \n",
       "A100UD67AHFODS     ...               0           0           0           0   \n",
       "A100WO06OQR8BQ     ...               0           0           0           0   \n",
       "A105S56ODHGJEK     ...               0           0           0           0   \n",
       "A105TOJ6LTVMBG     ...               0           0           0           0   \n",
       "A10AFVU66A79Y1     ...               0           0           0           0   \n",
       "\n",
       "productid       B0001LXQIG  B007IHEPW2  B000WQ21SQ  B00000J9Z7  B0075GDS60  \\\n",
       "userid                                                                       \n",
       "A100UD67AHFODS           0           0           0           0           0   \n",
       "A100WO06OQR8BQ           0           0           0           0           0   \n",
       "A105S56ODHGJEK           0           0           0           0           0   \n",
       "A105TOJ6LTVMBG           0           0           0           0           0   \n",
       "A10AFVU66A79Y1           0           0           0           0           0   \n",
       "\n",
       "productid       B002W7U3E2  \n",
       "userid                      \n",
       "A100UD67AHFODS           0  \n",
       "A100WO06OQR8BQ           0  \n",
       "A105S56ODHGJEK           0  \n",
       "A105TOJ6LTVMBG           0  \n",
       "A10AFVU66A79Y1           0  \n",
       "\n",
       "[5 rows x 9431 columns]"
      ]
     },
     "execution_count": 244,
     "metadata": {},
     "output_type": "execute_result"
    }
   ],
   "source": [
    "sample_ratings_crosstab.head()"
   ]
  },
  {
   "cell_type": "code",
   "execution_count": 245,
   "metadata": {},
   "outputs": [
    {
     "data": {
      "text/plain": [
       "(1466, 9431)"
      ]
     },
     "execution_count": 245,
     "metadata": {},
     "output_type": "execute_result"
    }
   ],
   "source": [
    "sample_ratings_crosstab.shape"
   ]
  },
  {
   "cell_type": "code",
   "execution_count": 246,
   "metadata": {},
   "outputs": [
    {
     "data": {
      "text/plain": [
       "(9431, 1466)"
      ]
     },
     "execution_count": 246,
     "metadata": {},
     "output_type": "execute_result"
    }
   ],
   "source": [
    "X_sample = sample_ratings_crosstab.T\n",
    "X_sample.shape"
   ]
  },
  {
   "cell_type": "code",
   "execution_count": 247,
   "metadata": {},
   "outputs": [],
   "source": [
    "SVD_sample = TruncatedSVD(n_components=12, random_state=17)"
   ]
  },
  {
   "cell_type": "code",
   "execution_count": 248,
   "metadata": {},
   "outputs": [
    {
     "data": {
      "text/plain": [
       "(9431, 12)"
      ]
     },
     "execution_count": 248,
     "metadata": {},
     "output_type": "execute_result"
    }
   ],
   "source": [
    "resultant_matrix_sample = SVD_sample.fit_transform(X_sample)\n",
    "resultant_matrix_sample.shape"
   ]
  },
  {
   "cell_type": "code",
   "execution_count": 249,
   "metadata": {},
   "outputs": [
    {
     "data": {
      "text/plain": [
       "(9431, 9431)"
      ]
     },
     "execution_count": 249,
     "metadata": {},
     "output_type": "execute_result"
    }
   ],
   "source": [
    "corr_mat = np.corrcoef(resultant_matrix_sample)\n",
    "corr_mat.shape"
   ]
  },
  {
   "cell_type": "markdown",
   "metadata": {},
   "source": [
    "### Isolating a Certain Product From the Correlation Matrix (say B0034U3KXM)"
   ]
  },
  {
   "cell_type": "code",
   "execution_count": 250,
   "metadata": {},
   "outputs": [],
   "source": [
    "product_names = sample_ratings_crosstab.columns\n",
    "product_list = list(product_names)"
   ]
  },
  {
   "cell_type": "code",
   "execution_count": 251,
   "metadata": {},
   "outputs": [],
   "source": [
    "sample_prod = product_list.index('B0034U3KXM')"
   ]
  },
  {
   "cell_type": "code",
   "execution_count": 252,
   "metadata": {},
   "outputs": [
    {
     "name": "stdout",
     "output_type": "stream",
     "text": [
      "Index:  4\n"
     ]
    }
   ],
   "source": [
    "print(\"Index: \", sample_prod)"
   ]
  },
  {
   "cell_type": "code",
   "execution_count": 253,
   "metadata": {},
   "outputs": [
    {
     "data": {
      "text/plain": [
       "(9431,)"
      ]
     },
     "execution_count": 253,
     "metadata": {},
     "output_type": "execute_result"
    }
   ],
   "source": [
    "corr_sample_prod = corr_mat[sample_prod]\n",
    "corr_sample_prod.shape"
   ]
  },
  {
   "cell_type": "code",
   "execution_count": 254,
   "metadata": {},
   "outputs": [
    {
     "data": {
      "text/plain": [
       "['B0034U3KXM',\n",
       " 'B003V13RVE',\n",
       " 'B003LM2K3Y',\n",
       " 'B002U4QIBY',\n",
       " 'B002M78L0U',\n",
       " 'B00BWA48AA',\n",
       " 'B005A2QDWC',\n",
       " 'B0078IWQEU',\n",
       " 'B00006BB9Q',\n",
       " 'B0002JUHS4',\n",
       " 'B002UV4NQO',\n",
       " 'B000I64NTA',\n",
       " 'B0042ORPK8',\n",
       " 'B00065W74G',\n",
       " 'B001YMCNOE',\n",
       " 'B00008VSL3',\n",
       " 'B0038L495U',\n",
       " 'B000IZC0LY',\n",
       " 'B00AQNTPBG',\n",
       " 'B00007KQMC',\n",
       " 'B00079AGU8',\n",
       " 'B001LDRNY6',\n",
       " 'B0046F22ZQ',\n",
       " 'B00B7RJNPS',\n",
       " 'B001GC9C9Q',\n",
       " 'B009YDO05U',\n",
       " 'B004WIUNZI',\n",
       " 'B001FB6S0E',\n",
       " 'B00G69FC48',\n",
       " 'B00005A8XW',\n",
       " 'B000NW12D4',\n",
       " 'B00126PHV8',\n",
       " 'B0036DDXUC',\n",
       " 'B001MQ4NJU',\n",
       " 'B00552PAEO',\n",
       " 'B003LLPZFK',\n",
       " 'B004S7ZVQO',\n",
       " 'B001QTW2BE',\n",
       " 'B00CHZSV2A',\n",
       " 'B009JGTVOM',\n",
       " 'B0007OWNBS',\n",
       " 'B00A0IICY8',\n",
       " 'B009GUX85E',\n",
       " 'B000MQ6W5E',\n",
       " 'B00612XNSW',\n",
       " 'B001NPEB7E',\n",
       " 'B005BLO21Q',\n",
       " 'B00JLMRXCQ',\n",
       " 'B000IZC19A',\n",
       " 'B009QVE6T0',\n",
       " 'B0042FPA90',\n",
       " 'B002OJTJIY',\n",
       " 'B004XXQI1U',\n",
       " 'B001F8Q0DM',\n",
       " 'B003YT8YTS',\n",
       " 'B0007CO8B8',\n",
       " 'B003EEMFUC',\n",
       " 'B004PKC9XM',\n",
       " 'B0060R9P44',\n",
       " 'B00006JPDE',\n",
       " 'B001OJI7V0',\n",
       " 'B000OY7XTS',\n",
       " 'B002D4AHT0',\n",
       " 'B0038W0K1G',\n",
       " 'B004LT1TO2',\n",
       " 'B000067RC2',\n",
       " 'B0090COZCS',\n",
       " 'B007JV5OWM',\n",
       " 'B0000B006U',\n",
       " 'B00834SJNA',\n",
       " 'B000O3N71W',\n",
       " 'B004EI29VC',\n",
       " 'B002BBHOTQ',\n",
       " 'B00006MJF9',\n",
       " 'B00DJ3DWFK',\n",
       " 'B008GAMNBK',\n",
       " 'B000FS9DP0',\n",
       " 'B000BUNKME',\n",
       " 'B001HOSYO2',\n",
       " 'B005BCL66Y',\n",
       " 'B00006I5V3',\n",
       " 'B001Q3LU22',\n",
       " 'B000I21Z7W',\n",
       " 'B007IIT8KU',\n",
       " 'B000MMHOY6',\n",
       " 'B00004XRDM',\n",
       " 'B006FCQDZS',\n",
       " 'B009U4WCY4',\n",
       " 'B001P9XHHS',\n",
       " 'B0032U7VMK',\n",
       " 'B002LZ0FYI',\n",
       " 'B00069QSK6',\n",
       " 'B003QKTMI2',\n",
       " 'B00ALSNEKY',\n",
       " 'B00GLU4C6G',\n",
       " 'B0000U3DSQ',\n",
       " 'B00D4CW0RW',\n",
       " 'B004HJN4I0',\n",
       " 'B000TD5G84',\n",
       " 'B005BGK9JA',\n",
       " 'B002VCHJC2',\n",
       " 'B00CE58ZYC',\n",
       " 'B0001PFQ76',\n",
       " 'B0092HWU2I',\n",
       " 'B0084ZYDZ6',\n",
       " 'B0017HTEX4',\n",
       " 'B001C37QUQ',\n",
       " 'B00BEWHOQ6',\n",
       " 'B001CJPNDC',\n",
       " 'B00139VKV0',\n",
       " 'B00FCU6NWM',\n",
       " 'B000EVPJLK',\n",
       " 'B007R663ME',\n",
       " 'B009GPY97A',\n",
       " 'B00272NFVA',\n",
       " 'B0000D15C5',\n",
       " 'B007RONVRQ',\n",
       " 'B002ZVAX40',\n",
       " 'B004M8SU1W',\n",
       " 'B0024WRS6G',\n",
       " 'B008AJKIN2',\n",
       " 'B000YWESMU',\n",
       " 'B005LS6NNO',\n",
       " 'B002YOIG7Y',\n",
       " 'B00006345I',\n",
       " 'B003493ZT2',\n",
       " 'B000NAQV5K',\n",
       " 'B007Y0EQE0',\n",
       " 'B000EHUR3O',\n",
       " 'B003IEZBLS',\n",
       " 'B006ZOI9YY',\n",
       " 'B002FYCH9Q',\n",
       " 'B003V75UIG',\n",
       " 'B000GBS4KG',\n",
       " 'B000P8DHP2',\n",
       " 'B000I62PEU',\n",
       " 'B002BH4PP6',\n",
       " 'B001VHMRWA',\n",
       " 'B001D0IUP8',\n",
       " 'B0000932KS',\n",
       " 'B000ELOQGE',\n",
       " 'B000BPGA30',\n",
       " 'B0048FFHTC',\n",
       " 'B007B5PSG8',\n",
       " 'B000B63KQ4',\n",
       " 'B004HL1R6Y',\n",
       " 'B000MANFIC',\n",
       " 'B003F1X1GQ',\n",
       " 'B0006TW04E',\n",
       " 'B0080REM4A',\n",
       " 'B0057608TU',\n",
       " 'B001AZUWXE',\n",
       " 'B001TBWWTQ',\n",
       " 'B000VXHBAI',\n",
       " 'B001CIE5XM',\n",
       " 'B00017H7SA',\n",
       " 'B00003006Q',\n",
       " 'B000BSLW8U',\n",
       " 'B008CTB0B4',\n",
       " 'B004K6M8XC',\n",
       " 'B009B3R2QW',\n",
       " 'B0001DB3HU',\n",
       " 'B00003G1LP',\n",
       " 'B001WAPIRW',\n",
       " 'B0082PW3R8',\n",
       " 'B00009UHCJ',\n",
       " 'B0002MH3HE',\n",
       " 'B007POCJGC',\n",
       " 'B00DD7204G',\n",
       " 'B004JHY3X0']"
      ]
     },
     "execution_count": 254,
     "metadata": {},
     "output_type": "execute_result"
    }
   ],
   "source": [
    "list(product_names[(corr_sample_prod<1.0) & (corr_sample_prod > 0.9)])"
   ]
  },
  {
   "cell_type": "markdown",
   "metadata": {},
   "source": [
    "### Recommending a Highly Correlated Product"
   ]
  },
  {
   "cell_type": "code",
   "execution_count": 255,
   "metadata": {},
   "outputs": [
    {
     "data": {
      "text/plain": [
       "['B0034U3KXM',\n",
       " 'B002U4QIBY',\n",
       " 'B00BWA48AA',\n",
       " 'B005A2QDWC',\n",
       " 'B0078IWQEU',\n",
       " 'B00006BB9Q',\n",
       " 'B002UV4NQO',\n",
       " 'B000I64NTA',\n",
       " 'B00065W74G',\n",
       " 'B001YMCNOE',\n",
       " 'B00AQNTPBG',\n",
       " 'B00007KQMC',\n",
       " 'B00B7RJNPS',\n",
       " 'B004WIUNZI',\n",
       " 'B00G69FC48',\n",
       " 'B00126PHV8',\n",
       " 'B001QTW2BE',\n",
       " 'B009JGTVOM',\n",
       " 'B00612XNSW',\n",
       " 'B001NPEB7E',\n",
       " 'B005BLO21Q',\n",
       " 'B00JLMRXCQ',\n",
       " 'B0042FPA90',\n",
       " 'B002OJTJIY',\n",
       " 'B0007CO8B8',\n",
       " 'B004PKC9XM',\n",
       " 'B0060R9P44',\n",
       " 'B00006JPDE',\n",
       " 'B001OJI7V0',\n",
       " 'B000067RC2',\n",
       " 'B0090COZCS',\n",
       " 'B007JV5OWM',\n",
       " 'B00006MJF9',\n",
       " 'B000BUNKME',\n",
       " 'B001HOSYO2',\n",
       " 'B005BCL66Y',\n",
       " 'B001Q3LU22',\n",
       " 'B000I21Z7W',\n",
       " 'B007IIT8KU',\n",
       " 'B000MMHOY6',\n",
       " 'B009U4WCY4',\n",
       " 'B001P9XHHS',\n",
       " 'B002LZ0FYI',\n",
       " 'B00069QSK6',\n",
       " 'B00D4CW0RW',\n",
       " 'B000TD5G84',\n",
       " 'B005BGK9JA',\n",
       " 'B002VCHJC2',\n",
       " 'B00CE58ZYC',\n",
       " 'B001C37QUQ',\n",
       " 'B001CJPNDC',\n",
       " 'B00139VKV0',\n",
       " 'B00FCU6NWM',\n",
       " 'B007R663ME',\n",
       " 'B009GPY97A',\n",
       " 'B002ZVAX40',\n",
       " 'B004M8SU1W',\n",
       " 'B0024WRS6G',\n",
       " 'B000YWESMU',\n",
       " 'B005LS6NNO',\n",
       " 'B003493ZT2',\n",
       " 'B000NAQV5K',\n",
       " 'B007Y0EQE0',\n",
       " 'B003IEZBLS',\n",
       " 'B000GBS4KG',\n",
       " 'B002BH4PP6',\n",
       " 'B001VHMRWA',\n",
       " 'B0000932KS',\n",
       " 'B004HL1R6Y',\n",
       " 'B003F1X1GQ',\n",
       " 'B0057608TU',\n",
       " 'B001TBWWTQ',\n",
       " 'B001CIE5XM',\n",
       " 'B000BSLW8U',\n",
       " 'B008CTB0B4',\n",
       " 'B004K6M8XC',\n",
       " 'B009B3R2QW',\n",
       " 'B0001DB3HU',\n",
       " 'B00009UHCJ',\n",
       " 'B0002MH3HE',\n",
       " 'B00DD7204G']"
      ]
     },
     "execution_count": 255,
     "metadata": {},
     "output_type": "execute_result"
    }
   ],
   "source": [
    "list(product_names[(corr_sample_prod<1.0) & (corr_sample_prod > 0.98)])"
   ]
  },
  {
   "cell_type": "markdown",
   "metadata": {},
   "source": [
    "### Above was a rather manual or under-the-hoods method used in some recommendation systems, let us now proceed with our surprise package KNN and SVD based standard procedure. We shall first build a popularity recommender model, before we proceed for neighbourhood based collaborative filtering."
   ]
  },
  {
   "cell_type": "markdown",
   "metadata": {},
   "source": [
    "### Popularity Based Filtering"
   ]
  },
  {
   "cell_type": "code",
   "execution_count": 256,
   "metadata": {},
   "outputs": [],
   "source": [
    "## Recommending based on counts. Products with the most ratings are considered most popular."
   ]
  },
  {
   "cell_type": "code",
   "execution_count": 257,
   "metadata": {},
   "outputs": [],
   "source": [
    "rating_count = pd.DataFrame(product_processed.groupby('productid')['ratings'].count())"
   ]
  },
  {
   "cell_type": "code",
   "execution_count": 258,
   "metadata": {},
   "outputs": [
    {
     "data": {
      "text/html": [
       "<div>\n",
       "<style scoped>\n",
       "    .dataframe tbody tr th:only-of-type {\n",
       "        vertical-align: middle;\n",
       "    }\n",
       "\n",
       "    .dataframe tbody tr th {\n",
       "        vertical-align: top;\n",
       "    }\n",
       "\n",
       "    .dataframe thead th {\n",
       "        text-align: right;\n",
       "    }\n",
       "</style>\n",
       "<table border=\"1\" class=\"dataframe\">\n",
       "  <thead>\n",
       "    <tr style=\"text-align: right;\">\n",
       "      <th></th>\n",
       "      <th>ratings</th>\n",
       "    </tr>\n",
       "    <tr>\n",
       "      <th>productid</th>\n",
       "      <th></th>\n",
       "    </tr>\n",
       "  </thead>\n",
       "  <tbody>\n",
       "    <tr>\n",
       "      <th>B0088CJT4U</th>\n",
       "      <td>204</td>\n",
       "    </tr>\n",
       "    <tr>\n",
       "      <th>B003ES5ZUU</th>\n",
       "      <td>177</td>\n",
       "    </tr>\n",
       "    <tr>\n",
       "      <th>B000N99BBC</th>\n",
       "      <td>163</td>\n",
       "    </tr>\n",
       "    <tr>\n",
       "      <th>B007WTAJTO</th>\n",
       "      <td>156</td>\n",
       "    </tr>\n",
       "    <tr>\n",
       "      <th>B00829TIEK</th>\n",
       "      <td>146</td>\n",
       "    </tr>\n",
       "  </tbody>\n",
       "</table>\n",
       "</div>"
      ],
      "text/plain": [
       "            ratings\n",
       "productid          \n",
       "B0088CJT4U      204\n",
       "B003ES5ZUU      177\n",
       "B000N99BBC      163\n",
       "B007WTAJTO      156\n",
       "B00829TIEK      146"
      ]
     },
     "execution_count": 258,
     "metadata": {},
     "output_type": "execute_result"
    }
   ],
   "source": [
    "#Let us now find the most rated products\n",
    "rating_count.sort_values('ratings', ascending=False).head()"
   ]
  },
  {
   "cell_type": "markdown",
   "metadata": {},
   "source": [
    "Therefore, the products above seem to have the maximum ratings, indicating popularity. However, popularity recommender models are not effective in practice, primarily due to a lower rate of recall for a diverse user base. Further, popularity recommender models generally produce obvious results, leading to a less effective recommender system."
   ]
  },
  {
   "cell_type": "markdown",
   "metadata": {},
   "source": [
    "### Collaborative Filtering"
   ]
  },
  {
   "cell_type": "code",
   "execution_count": 259,
   "metadata": {},
   "outputs": [],
   "source": [
    "from surprise import Dataset,Reader\n",
    "reader = Reader(rating_scale=(1, 5))"
   ]
  },
  {
   "cell_type": "code",
   "execution_count": 260,
   "metadata": {},
   "outputs": [],
   "source": [
    "data = Dataset.load_from_df(product_processed[['userid', 'productid', 'ratings']], reader)"
   ]
  },
  {
   "cell_type": "code",
   "execution_count": 261,
   "metadata": {},
   "outputs": [],
   "source": [
    "# Split data to train and test\n",
    "from surprise.model_selection import train_test_split\n",
    "trainset, testset = train_test_split(data, test_size=.30, random_state = 42)"
   ]
  },
  {
   "cell_type": "markdown",
   "metadata": {},
   "source": [
    "### Training the model"
   ]
  },
  {
   "cell_type": "code",
   "execution_count": 262,
   "metadata": {},
   "outputs": [],
   "source": [
    "from surprise import KNNWithMeans\n",
    "from surprise import accuracy"
   ]
  },
  {
   "cell_type": "code",
   "execution_count": 263,
   "metadata": {},
   "outputs": [
    {
     "name": "stdout",
     "output_type": "stream",
     "text": [
      "Computing the cosine similarity matrix...\n",
      "Done computing similarity matrix.\n"
     ]
    },
    {
     "data": {
      "text/plain": [
       "<surprise.prediction_algorithms.knns.KNNWithMeans at 0x11990f588>"
      ]
     },
     "execution_count": 263,
     "metadata": {},
     "output_type": "execute_result"
    }
   ],
   "source": [
    "#From all similarity measures, I choose to use cosine against pearson, spearman rank, jaccard due to its robust and\n",
    "#fair nature. We shall use item based collaborative filtering, given the use case with K as the default 40.\n",
    "model_one = KNNWithMeans(sim_options={'name': 'cosine', 'user_based': False})\n",
    "model_one.fit(trainset)"
   ]
  },
  {
   "cell_type": "code",
   "execution_count": 264,
   "metadata": {},
   "outputs": [],
   "source": [
    "#Which product is most similar to say 'B0034U3KXM'"
   ]
  },
  {
   "cell_type": "code",
   "execution_count": 265,
   "metadata": {},
   "outputs": [
    {
     "data": {
      "text/plain": [
       "31405"
      ]
     },
     "execution_count": 265,
     "metadata": {},
     "output_type": "execute_result"
    }
   ],
   "source": [
    "inner_id = trainset.to_inner_iid(\"B0034U3KXM\")\n",
    "inner_id"
   ]
  },
  {
   "cell_type": "code",
   "execution_count": 266,
   "metadata": {},
   "outputs": [
    {
     "data": {
      "text/plain": [
       "[103, 400, 497, 801, 814]"
      ]
     },
     "execution_count": 266,
     "metadata": {},
     "output_type": "execute_result"
    }
   ],
   "source": [
    "sim_product_inner_ids = model_one.get_neighbors(inner_id, k = 5)\n",
    "sim_product_inner_ids"
   ]
  },
  {
   "cell_type": "code",
   "execution_count": 267,
   "metadata": {},
   "outputs": [
    {
     "name": "stdout",
     "output_type": "stream",
     "text": [
      "Similar Products:\n",
      "B005Y8BYOE\n",
      "B007QXLIWI\n",
      "B002V8C3W2\n",
      "B003ES5ZUU\n",
      "B00DR0PDNE\n"
     ]
    }
   ],
   "source": [
    "print(\"Similar Products:\")\n",
    "for iid in sim_product_inner_ids:\n",
    "    print(trainset.to_raw_iid(iid))"
   ]
  },
  {
   "cell_type": "markdown",
   "metadata": {},
   "source": [
    "### Evaluating Model Performance"
   ]
  },
  {
   "cell_type": "code",
   "execution_count": 268,
   "metadata": {},
   "outputs": [
    {
     "data": {
      "text/plain": [
       "36652"
      ]
     },
     "execution_count": 268,
     "metadata": {},
     "output_type": "execute_result"
    }
   ],
   "source": [
    "len(testset)"
   ]
  },
  {
   "cell_type": "code",
   "execution_count": 269,
   "metadata": {},
   "outputs": [
    {
     "name": "stdout",
     "output_type": "stream",
     "text": [
      "RMSE: 1.1260\n"
     ]
    },
    {
     "data": {
      "text/plain": [
       "1.125968313593513"
      ]
     },
     "execution_count": 269,
     "metadata": {},
     "output_type": "execute_result"
    }
   ],
   "source": [
    "# Evaluate on the test set\n",
    "test_pred = model_one.test(testset)\n",
    "\n",
    "# Compute the RMSE\n",
    "accuracy.rmse(test_pred)"
   ]
  },
  {
   "cell_type": "code",
   "execution_count": 270,
   "metadata": {},
   "outputs": [
    {
     "data": {
      "text/plain": [
       "Prediction(uid='A2LTYEYGKBYXRR', iid='B000CKVOOY', r_ui=5.0, est=4.83452380952381, details={'actual_k': 6, 'was_impossible': False})"
      ]
     },
     "execution_count": 270,
     "metadata": {},
     "output_type": "execute_result"
    }
   ],
   "source": [
    "# View a prediction\n",
    "test_pred[12]"
   ]
  },
  {
   "cell_type": "markdown",
   "metadata": {},
   "source": [
    "### Generating Top 5 Recommendations"
   ]
  },
  {
   "cell_type": "code",
   "execution_count": 271,
   "metadata": {},
   "outputs": [],
   "source": [
    "testset_new = trainset.build_anti_testset()"
   ]
  },
  {
   "cell_type": "code",
   "execution_count": 272,
   "metadata": {},
   "outputs": [
    {
     "data": {
      "text/plain": [
       "54716493"
      ]
     },
     "execution_count": 272,
     "metadata": {},
     "output_type": "execute_result"
    }
   ],
   "source": [
    "len(testset_new)"
   ]
  },
  {
   "cell_type": "code",
   "execution_count": 273,
   "metadata": {},
   "outputs": [],
   "source": [
    "predictions = model_one.test(testset_new[0:10000])"
   ]
  },
  {
   "cell_type": "code",
   "execution_count": 274,
   "metadata": {},
   "outputs": [],
   "source": [
    "predictions_df = pd.DataFrame([[x.iid,x.est] for x in predictions])"
   ]
  },
  {
   "cell_type": "code",
   "execution_count": 275,
   "metadata": {},
   "outputs": [],
   "source": [
    "predictions_df.columns = [\"productid\",\"estimated_rating\"]\n",
    "predictions_df.sort_values(by = [\"productid\", \"estimated_rating\"],ascending=False,inplace=True)"
   ]
  },
  {
   "cell_type": "code",
   "execution_count": 276,
   "metadata": {},
   "outputs": [
    {
     "data": {
      "text/html": [
       "<div>\n",
       "<style scoped>\n",
       "    .dataframe tbody tr th:only-of-type {\n",
       "        vertical-align: middle;\n",
       "    }\n",
       "\n",
       "    .dataframe tbody tr th {\n",
       "        vertical-align: top;\n",
       "    }\n",
       "\n",
       "    .dataframe thead th {\n",
       "        text-align: right;\n",
       "    }\n",
       "</style>\n",
       "<table border=\"1\" class=\"dataframe\">\n",
       "  <thead>\n",
       "    <tr style=\"text-align: right;\">\n",
       "      <th></th>\n",
       "      <th>productid</th>\n",
       "      <th>estimated_rating</th>\n",
       "    </tr>\n",
       "  </thead>\n",
       "  <tbody>\n",
       "    <tr>\n",
       "      <th>4136</th>\n",
       "      <td>B00LGQ6HL8</td>\n",
       "      <td>5.000000</td>\n",
       "    </tr>\n",
       "    <tr>\n",
       "      <th>5252</th>\n",
       "      <td>B00L8I6SFY</td>\n",
       "      <td>5.000000</td>\n",
       "    </tr>\n",
       "    <tr>\n",
       "      <th>1564</th>\n",
       "      <td>B00L3YHF6O</td>\n",
       "      <td>5.000000</td>\n",
       "    </tr>\n",
       "    <tr>\n",
       "      <th>7748</th>\n",
       "      <td>B00L2442H0</td>\n",
       "      <td>5.000000</td>\n",
       "    </tr>\n",
       "    <tr>\n",
       "      <th>8707</th>\n",
       "      <td>B00L21HC7A</td>\n",
       "      <td>4.842776</td>\n",
       "    </tr>\n",
       "  </tbody>\n",
       "</table>\n",
       "</div>"
      ],
      "text/plain": [
       "       productid  estimated_rating\n",
       "4136  B00LGQ6HL8          5.000000\n",
       "5252  B00L8I6SFY          5.000000\n",
       "1564  B00L3YHF6O          5.000000\n",
       "7748  B00L2442H0          5.000000\n",
       "8707  B00L21HC7A          4.842776"
      ]
     },
     "execution_count": 276,
     "metadata": {},
     "output_type": "execute_result"
    }
   ],
   "source": [
    "predictions_df.head()"
   ]
  },
  {
   "cell_type": "code",
   "execution_count": 277,
   "metadata": {},
   "outputs": [],
   "source": [
    "top_5_recos = predictions_df.groupby(\"productid\").head(5)"
   ]
  },
  {
   "cell_type": "code",
   "execution_count": 278,
   "metadata": {},
   "outputs": [
    {
     "data": {
      "text/html": [
       "<div>\n",
       "<style scoped>\n",
       "    .dataframe tbody tr th:only-of-type {\n",
       "        vertical-align: middle;\n",
       "    }\n",
       "\n",
       "    .dataframe tbody tr th {\n",
       "        vertical-align: top;\n",
       "    }\n",
       "\n",
       "    .dataframe thead th {\n",
       "        text-align: right;\n",
       "    }\n",
       "</style>\n",
       "<table border=\"1\" class=\"dataframe\">\n",
       "  <thead>\n",
       "    <tr style=\"text-align: right;\">\n",
       "      <th></th>\n",
       "      <th>productid</th>\n",
       "      <th>estimated_rating</th>\n",
       "    </tr>\n",
       "  </thead>\n",
       "  <tbody>\n",
       "    <tr>\n",
       "      <th>4136</th>\n",
       "      <td>B00LGQ6HL8</td>\n",
       "      <td>5.000000</td>\n",
       "    </tr>\n",
       "    <tr>\n",
       "      <th>5252</th>\n",
       "      <td>B00L8I6SFY</td>\n",
       "      <td>5.000000</td>\n",
       "    </tr>\n",
       "    <tr>\n",
       "      <th>1564</th>\n",
       "      <td>B00L3YHF6O</td>\n",
       "      <td>5.000000</td>\n",
       "    </tr>\n",
       "    <tr>\n",
       "      <th>7748</th>\n",
       "      <td>B00L2442H0</td>\n",
       "      <td>5.000000</td>\n",
       "    </tr>\n",
       "    <tr>\n",
       "      <th>8707</th>\n",
       "      <td>B00L21HC7A</td>\n",
       "      <td>4.842776</td>\n",
       "    </tr>\n",
       "  </tbody>\n",
       "</table>\n",
       "</div>"
      ],
      "text/plain": [
       "       productid  estimated_rating\n",
       "4136  B00LGQ6HL8          5.000000\n",
       "5252  B00L8I6SFY          5.000000\n",
       "1564  B00L3YHF6O          5.000000\n",
       "7748  B00L2442H0          5.000000\n",
       "8707  B00L21HC7A          4.842776"
      ]
     },
     "execution_count": 278,
     "metadata": {},
     "output_type": "execute_result"
    }
   ],
   "source": [
    "top_5_recos.head(5)"
   ]
  },
  {
   "cell_type": "markdown",
   "metadata": {},
   "source": [
    "## SVD Based Recommendation"
   ]
  },
  {
   "cell_type": "code",
   "execution_count": 279,
   "metadata": {},
   "outputs": [],
   "source": [
    "from surprise import SVD\n",
    "from surprise import accuracy"
   ]
  },
  {
   "cell_type": "code",
   "execution_count": 280,
   "metadata": {},
   "outputs": [],
   "source": [
    "trainset_svd, testset_svd = train_test_split(data, test_size=.25, random_state=123)"
   ]
  },
  {
   "cell_type": "code",
   "execution_count": 281,
   "metadata": {},
   "outputs": [
    {
     "data": {
      "text/plain": [
       "<surprise.prediction_algorithms.matrix_factorization.SVD at 0x1bd5429be0>"
      ]
     },
     "execution_count": 281,
     "metadata": {},
     "output_type": "execute_result"
    }
   ],
   "source": [
    "svd_model = SVD(n_factors = 5, biased=False, random_state = 123)\n",
    "svd_model.fit(trainset_svd)"
   ]
  },
  {
   "cell_type": "code",
   "execution_count": 282,
   "metadata": {},
   "outputs": [],
   "source": [
    "test_pred_svd = svd_model.test(testset_svd)"
   ]
  },
  {
   "cell_type": "code",
   "execution_count": 283,
   "metadata": {},
   "outputs": [
    {
     "name": "stdout",
     "output_type": "stream",
     "text": [
      "RMSE: 1.5830\n"
     ]
    },
    {
     "data": {
      "text/plain": [
       "1.583034009588521"
      ]
     },
     "execution_count": 283,
     "metadata": {},
     "output_type": "execute_result"
    }
   ],
   "source": [
    "# compute RMSE to measure accuracy\n",
    "accuracy.rmse(test_pred_svd)"
   ]
  },
  {
   "cell_type": "code",
   "execution_count": 284,
   "metadata": {},
   "outputs": [],
   "source": [
    "#I found that reducing the factors decreased the error rate. We shall evaluate further using GridSearchCV"
   ]
  },
  {
   "cell_type": "code",
   "execution_count": 285,
   "metadata": {},
   "outputs": [],
   "source": [
    "from surprise.model_selection import GridSearchCV\n",
    "param_grid = {'n_factors' : [5,10,15], \"reg_all\":[0.01,0.02]}\n",
    "gs = GridSearchCV(SVD, param_grid, measures=['rmse'], cv=3,refit = True)"
   ]
  },
  {
   "cell_type": "code",
   "execution_count": 286,
   "metadata": {},
   "outputs": [],
   "source": [
    "gs.fit(data)"
   ]
  },
  {
   "cell_type": "code",
   "execution_count": 287,
   "metadata": {},
   "outputs": [
    {
     "data": {
      "text/plain": [
       "[{'n_factors': 5, 'reg_all': 0.01},\n",
       " {'n_factors': 5, 'reg_all': 0.02},\n",
       " {'n_factors': 10, 'reg_all': 0.01},\n",
       " {'n_factors': 10, 'reg_all': 0.02},\n",
       " {'n_factors': 15, 'reg_all': 0.01},\n",
       " {'n_factors': 15, 'reg_all': 0.02}]"
      ]
     },
     "execution_count": 287,
     "metadata": {},
     "output_type": "execute_result"
    }
   ],
   "source": [
    "# get all parameter combinations\n",
    "gs.param_combinations"
   ]
  },
  {
   "cell_type": "code",
   "execution_count": 288,
   "metadata": {},
   "outputs": [
    {
     "data": {
      "text/plain": [
       "{'rmse': {'n_factors': 10, 'reg_all': 0.02}}"
      ]
     },
     "execution_count": 288,
     "metadata": {},
     "output_type": "execute_result"
    }
   ],
   "source": [
    "# get best parameters\n",
    "gs.best_params"
   ]
  },
  {
   "cell_type": "code",
   "execution_count": 289,
   "metadata": {},
   "outputs": [],
   "source": [
    "# Use the \"best model\" for prediction\n",
    "pred_gs = gs.test(testset)"
   ]
  },
  {
   "cell_type": "code",
   "execution_count": 290,
   "metadata": {},
   "outputs": [
    {
     "data": {
      "text/plain": [
       "{'rmse': 0.9782170989191622}"
      ]
     },
     "execution_count": 290,
     "metadata": {},
     "output_type": "execute_result"
    }
   ],
   "source": [
    "#Check Accuracy with best parameters\n",
    "gs.best_score"
   ]
  },
  {
   "cell_type": "markdown",
   "metadata": {},
   "source": [
    "The SVD model after finding the best parameters using Grid Search CV definitely performed better registering a lower RMSE error score of 0.977 as against 1.125 with KNN."
   ]
  },
  {
   "cell_type": "code",
   "execution_count": 291,
   "metadata": {},
   "outputs": [],
   "source": [
    "#Now, lets evaluate the top 5 recommendations using the best parameters for the SVD model.\n",
    "testset_svd = trainset_svd.build_anti_testset()"
   ]
  },
  {
   "cell_type": "code",
   "execution_count": 292,
   "metadata": {},
   "outputs": [
    {
     "data": {
      "text/plain": [
       "57132216"
      ]
     },
     "execution_count": 292,
     "metadata": {},
     "output_type": "execute_result"
    }
   ],
   "source": [
    "len(testset_svd)"
   ]
  },
  {
   "cell_type": "code",
   "execution_count": 293,
   "metadata": {},
   "outputs": [],
   "source": [
    "predictions_svd = gs.test(testset_new[0:10000])"
   ]
  },
  {
   "cell_type": "code",
   "execution_count": 294,
   "metadata": {},
   "outputs": [],
   "source": [
    "predictions_svd_df = pd.DataFrame([[x.iid,x.est] for x in predictions_svd])"
   ]
  },
  {
   "cell_type": "code",
   "execution_count": 295,
   "metadata": {},
   "outputs": [],
   "source": [
    "predictions_svd_df.columns = [\"productid\",\"estimated_rating\"]\n",
    "predictions_svd_df.sort_values(by = [\"productid\", \"estimated_rating\"],ascending=False,inplace=True)"
   ]
  },
  {
   "cell_type": "code",
   "execution_count": 296,
   "metadata": {},
   "outputs": [
    {
     "data": {
      "text/html": [
       "<div>\n",
       "<style scoped>\n",
       "    .dataframe tbody tr th:only-of-type {\n",
       "        vertical-align: middle;\n",
       "    }\n",
       "\n",
       "    .dataframe tbody tr th {\n",
       "        vertical-align: top;\n",
       "    }\n",
       "\n",
       "    .dataframe thead th {\n",
       "        text-align: right;\n",
       "    }\n",
       "</style>\n",
       "<table border=\"1\" class=\"dataframe\">\n",
       "  <thead>\n",
       "    <tr style=\"text-align: right;\">\n",
       "      <th></th>\n",
       "      <th>productid</th>\n",
       "      <th>estimated_rating</th>\n",
       "    </tr>\n",
       "  </thead>\n",
       "  <tbody>\n",
       "    <tr>\n",
       "      <th>4136</th>\n",
       "      <td>B00LGQ6HL8</td>\n",
       "      <td>4.575451</td>\n",
       "    </tr>\n",
       "    <tr>\n",
       "      <th>5252</th>\n",
       "      <td>B00L8I6SFY</td>\n",
       "      <td>4.563632</td>\n",
       "    </tr>\n",
       "    <tr>\n",
       "      <th>1564</th>\n",
       "      <td>B00L3YHF6O</td>\n",
       "      <td>4.859051</td>\n",
       "    </tr>\n",
       "    <tr>\n",
       "      <th>7748</th>\n",
       "      <td>B00L2442H0</td>\n",
       "      <td>4.725796</td>\n",
       "    </tr>\n",
       "    <tr>\n",
       "      <th>8707</th>\n",
       "      <td>B00L21HC7A</td>\n",
       "      <td>4.562033</td>\n",
       "    </tr>\n",
       "  </tbody>\n",
       "</table>\n",
       "</div>"
      ],
      "text/plain": [
       "       productid  estimated_rating\n",
       "4136  B00LGQ6HL8          4.575451\n",
       "5252  B00L8I6SFY          4.563632\n",
       "1564  B00L3YHF6O          4.859051\n",
       "7748  B00L2442H0          4.725796\n",
       "8707  B00L21HC7A          4.562033"
      ]
     },
     "execution_count": 296,
     "metadata": {},
     "output_type": "execute_result"
    }
   ],
   "source": [
    "predictions_svd_df.head(5)"
   ]
  },
  {
   "cell_type": "code",
   "execution_count": 297,
   "metadata": {},
   "outputs": [],
   "source": [
    "top_5_recos = predictions_svd_df.groupby(\"productid\").head(5)"
   ]
  },
  {
   "cell_type": "code",
   "execution_count": 298,
   "metadata": {},
   "outputs": [
    {
     "name": "stdout",
     "output_type": "stream",
     "text": [
      "       productid  estimated_rating\n",
      "4136  B00LGQ6HL8          4.575451\n",
      "5252  B00L8I6SFY          4.563632\n",
      "1564  B00L3YHF6O          4.859051\n",
      "7748  B00L2442H0          4.725796\n",
      "8707  B00L21HC7A          4.562033\n"
     ]
    }
   ],
   "source": [
    "print(top_5_recos.head(5))"
   ]
  },
  {
   "cell_type": "markdown",
   "metadata": {},
   "source": [
    "### The results seem to be very positive since both SVD (finetuned by GridSearchCV) and KNN provide the same top 5 product recommendations, namely:\n",
    "    1. B00LGQ6HL8\n",
    "    2. B00L8I6SFY\n",
    "    3. B00L3YHF6O\n",
    "    4. B00L2442H0\n",
    "    5. B00L21HC7A"
   ]
  },
  {
   "cell_type": "markdown",
   "metadata": {},
   "source": [
    "For evaluation purposes only, let us calculate the precision and recall for our best performing SVD model."
   ]
  },
  {
   "cell_type": "code",
   "execution_count": 299,
   "metadata": {},
   "outputs": [],
   "source": [
    "from collections import defaultdict\n",
    "def precision_recall_at_k(predictions, k=10, threshold=3.5):\n",
    "    '''Return precision and recall at k metrics for each product.'''\n",
    "\n",
    "    # First map the predictions to each product.\n",
    "    prod_est_true = defaultdict(list)\n",
    "    for iid, _, true_r, est, _ in predictions:\n",
    "        prod_est_true[iid].append((est, true_r))\n",
    "\n",
    "    precisions = dict()\n",
    "    recalls = dict()\n",
    "    for iid, product_ratings in prod_est_true.items():\n",
    "\n",
    "        # Sort product ratings by estimated value\n",
    "        product_ratings.sort(key=lambda x: x[0], reverse=True)\n",
    "\n",
    "        # Number of relevant items\n",
    "        n_rel = sum((true_r >= threshold) for (_, true_r) in product_ratings)\n",
    "\n",
    "        # Number of recommended items in top k\n",
    "        n_rec_k = sum((est >= threshold) for (est, _) in product_ratings[:k])\n",
    "\n",
    "        # Number of relevant and recommended items in top k\n",
    "        n_rel_and_rec_k = sum(((true_r >= threshold) and (est >= threshold))\n",
    "                              for (est, true_r) in product_ratings[:k])\n",
    "\n",
    "        # Precision@K: Proportion of recommended items that are relevant\n",
    "        precisions[iid] = n_rel_and_rec_k / n_rec_k if n_rec_k != 0 else 1\n",
    "\n",
    "        # Recall@K: Proportion of relevant items that are recommended\n",
    "        recalls[iid] = n_rel_and_rec_k / n_rel if n_rel != 0 else 1\n",
    "\n",
    "    return precisions, recalls"
   ]
  },
  {
   "cell_type": "code",
   "execution_count": 300,
   "metadata": {},
   "outputs": [],
   "source": [
    "precisions, recalls = precision_recall_at_k(pred_gs)"
   ]
  },
  {
   "cell_type": "code",
   "execution_count": 301,
   "metadata": {},
   "outputs": [
    {
     "name": "stdout",
     "output_type": "stream",
     "text": [
      "Precision Score:  0.962308083761019\n",
      "Recall Score:  0.5488613504592932\n"
     ]
    }
   ],
   "source": [
    "# Precision and recall can then be averaged over all products\n",
    "print(\"Precision Score: \", sum(prec for prec in precisions.values()) / len(precisions))\n",
    "print(\"Recall Score: \", sum(rec for rec in recalls.values()) / len(recalls))"
   ]
  },
  {
   "cell_type": "markdown",
   "metadata": {},
   "source": [
    "Therefore, we have a healthy precision score of around 96% which is the proportion of top results that are relevant and a stable recall score of 54.9% which is the proportion of all relevant results included in the top recommendations"
   ]
  },
  {
   "cell_type": "code",
   "execution_count": null,
   "metadata": {},
   "outputs": [],
   "source": []
  }
 ],
 "metadata": {
  "kernelspec": {
   "display_name": "Python 3",
   "language": "python",
   "name": "python3"
  },
  "language_info": {
   "codemirror_mode": {
    "name": "ipython",
    "version": 3
   },
   "file_extension": ".py",
   "mimetype": "text/x-python",
   "name": "python",
   "nbconvert_exporter": "python",
   "pygments_lexer": "ipython3",
   "version": "3.7.2"
  }
 },
 "nbformat": 4,
 "nbformat_minor": 2
}
