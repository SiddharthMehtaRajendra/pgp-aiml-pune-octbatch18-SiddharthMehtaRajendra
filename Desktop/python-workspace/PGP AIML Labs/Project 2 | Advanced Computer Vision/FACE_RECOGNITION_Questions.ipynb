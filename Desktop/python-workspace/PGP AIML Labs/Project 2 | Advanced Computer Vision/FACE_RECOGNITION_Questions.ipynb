{
  "nbformat": 4,
  "nbformat_minor": 0,
  "metadata": {
    "colab": {
      "name": "FACE_RECOGNITION_Questions.ipynb",
      "version": "0.3.2",
      "provenance": [],
      "collapsed_sections": []
    },
    "kernelspec": {
      "name": "python3",
      "display_name": "Python 3"
    },
    "accelerator": "GPU"
  },
  "cells": [
    {
      "cell_type": "markdown",
      "metadata": {
        "id": "FZPrUBuA2D9n",
        "colab_type": "text"
      },
      "source": [
        "## Deep face recognition with Keras"
      ]
    },
    {
      "cell_type": "markdown",
      "metadata": {
        "id": "7jpaCy9Q1y4M",
        "colab_type": "text"
      },
      "source": [
        "### First, lets install the required libraries. Upload the `requirements.txt` file given and run the below commands."
      ]
    },
    {
      "cell_type": "code",
      "metadata": {
        "id": "IRH6B9LWrsps",
        "colab_type": "code",
        "colab": {}
      },
      "source": [
        "from google.colab import drive\n",
        "import os\n",
        "drive.mount('/content/drive/')"
      ],
      "execution_count": 0,
      "outputs": []
    },
    {
      "cell_type": "code",
      "metadata": {
        "id": "TGn93FVxtTJK",
        "colab_type": "code",
        "colab": {
          "base_uri": "https://localhost:8080/",
          "height": 68
        },
        "outputId": "05c95497-4ebc-4150-fddc-0056a29ed518"
      },
      "source": [
        "import warnings\n",
        "warnings.filterwarnings(\"ignore\")\n",
        "\n",
        "from keras.optimizers import Adam, SGD, Nadam\n",
        "from keras.callbacks import ModelCheckpoint, EarlyStopping, ReduceLROnPlateau, TensorBoard, LearningRateScheduler\n",
        "from keras.callbacks import Callback\n",
        "from keras import backend as K \n",
        "from keras.models import load_model\n",
        "from math import ceil \n",
        "import numpy as np\n",
        "from keras import backend as K"
      ],
      "execution_count": 2,
      "outputs": [
        {
          "output_type": "stream",
          "text": [
            "Using TensorFlow backend.\n",
            "WARNING: Logging before flag parsing goes to stderr.\n",
            "W0714 13:45:48.673352 139764774565760 __init__.py:308] Limited tf.compat.v2.summary API due to missing TensorBoard installation.\n"
          ],
          "name": "stderr"
        }
      ]
    },
    {
      "cell_type": "code",
      "metadata": {
        "id": "DqqV2QMasCaH",
        "colab_type": "code",
        "colab": {}
      },
      "source": [
        "project_path = '/content/drive/My Drive/Colab Notebooks/Project 2 | Advanced Computer Vision'"
      ],
      "execution_count": 0,
      "outputs": []
    },
    {
      "cell_type": "code",
      "metadata": {
        "id": "LD3g3yKqsREt",
        "colab_type": "code",
        "colab": {}
      },
      "source": [
        "os.chdir('..' + project_path)"
      ],
      "execution_count": 0,
      "outputs": []
    },
    {
      "cell_type": "code",
      "metadata": {
        "id": "cRgMMogbsZOa",
        "colab_type": "code",
        "colab": {
          "base_uri": "https://localhost:8080/",
          "height": 34
        },
        "outputId": "9c16478e-ee68-4322-e326-ac53c3148640"
      },
      "source": [
        "print(os.getcwd())"
      ],
      "execution_count": 5,
      "outputs": [
        {
          "output_type": "stream",
          "text": [
            "/content/drive/My Drive/Colab Notebooks/Project 2 | Advanced Computer Vision\n"
          ],
          "name": "stdout"
        }
      ]
    },
    {
      "cell_type": "code",
      "metadata": {
        "id": "e9k1hVvWLnGw",
        "colab_type": "code",
        "colab": {
          "base_uri": "https://localhost:8080/",
          "height": 1000
        },
        "outputId": "39996c5a-364d-4040-9bff-e2b8f8b6dc8a"
      },
      "source": [
        "!pip install -r requirements.txt --user"
      ],
      "execution_count": 6,
      "outputs": [
        {
          "output_type": "stream",
          "text": [
            "Collecting absl-py==0.1.10 (from -r requirements.txt (line 1))\n",
            "Requirement already satisfied: appnope==0.1.0 in /root/.local/lib/python3.6/site-packages (from -r requirements.txt (line 2)) (0.1.0)\n",
            "Requirement already satisfied: bleach==1.5.0 in /root/.local/lib/python3.6/site-packages (from -r requirements.txt (line 3)) (1.5.0)\n",
            "Requirement already satisfied: cycler==0.10.0 in /usr/local/lib/python3.6/dist-packages (from -r requirements.txt (line 4)) (0.10.0)\n",
            "Requirement already satisfied: decorator==4.2.1 in /root/.local/lib/python3.6/site-packages (from -r requirements.txt (line 5)) (4.2.1)\n",
            "Requirement already satisfied: entrypoints==0.2.3 in /root/.local/lib/python3.6/site-packages (from -r requirements.txt (line 6)) (0.2.3)\n",
            "Requirement already satisfied: h5py==2.7.1 in /root/.local/lib/python3.6/site-packages (from -r requirements.txt (line 7)) (2.7.1)\n",
            "Requirement already satisfied: html5lib==0.9999999 in /root/.local/lib/python3.6/site-packages (from -r requirements.txt (line 8)) (0.9999999)\n",
            "Requirement already satisfied: ipykernel==4.8.0 in /root/.local/lib/python3.6/site-packages (from -r requirements.txt (line 9)) (4.8.0)\n",
            "Requirement already satisfied: ipython==6.2.1 in /root/.local/lib/python3.6/site-packages (from -r requirements.txt (line 10)) (6.2.1)\n",
            "Requirement already satisfied: ipython-genutils==0.2.0 in /usr/local/lib/python3.6/dist-packages (from -r requirements.txt (line 11)) (0.2.0)\n",
            "Requirement already satisfied: ipywidgets==7.1.1 in /root/.local/lib/python3.6/site-packages (from -r requirements.txt (line 12)) (7.1.1)\n",
            "Requirement already satisfied: jedi==0.11.1 in /root/.local/lib/python3.6/site-packages (from -r requirements.txt (line 13)) (0.11.1)\n",
            "Requirement already satisfied: Jinja2==2.10 in /root/.local/lib/python3.6/site-packages (from -r requirements.txt (line 14)) (2.10)\n",
            "Requirement already satisfied: jsonschema==2.6.0 in /usr/local/lib/python3.6/dist-packages (from -r requirements.txt (line 15)) (2.6.0)\n",
            "Requirement already satisfied: jupyter==1.0.0 in /usr/local/lib/python3.6/dist-packages (from -r requirements.txt (line 16)) (1.0.0)\n",
            "Requirement already satisfied: jupyter-client==5.2.2 in /root/.local/lib/python3.6/site-packages (from -r requirements.txt (line 17)) (5.2.2)\n",
            "Requirement already satisfied: jupyter-console==5.2.0 in /root/.local/lib/python3.6/site-packages (from -r requirements.txt (line 18)) (5.2.0)\n",
            "Requirement already satisfied: jupyter-core==4.4.0 in /root/.local/lib/python3.6/site-packages (from -r requirements.txt (line 19)) (4.4.0)\n",
            "Requirement already satisfied: Keras==2.1.3 in /root/.local/lib/python3.6/site-packages (from -r requirements.txt (line 20)) (2.1.3)\n",
            "Requirement already satisfied: Markdown==2.6.11 in /root/.local/lib/python3.6/site-packages (from -r requirements.txt (line 21)) (2.6.11)\n",
            "Requirement already satisfied: MarkupSafe==1.0 in /root/.local/lib/python3.6/site-packages (from -r requirements.txt (line 22)) (1.0)\n",
            "Requirement already satisfied: matplotlib==2.1.2 in /root/.local/lib/python3.6/site-packages (from -r requirements.txt (line 23)) (2.1.2)\n",
            "Requirement already satisfied: mistune==0.8.3 in /root/.local/lib/python3.6/site-packages (from -r requirements.txt (line 24)) (0.8.3)\n",
            "Requirement already satisfied: nbconvert==5.3.1 in /root/.local/lib/python3.6/site-packages (from -r requirements.txt (line 25)) (5.3.1)\n",
            "Requirement already satisfied: nbformat==4.4.0 in /usr/local/lib/python3.6/dist-packages (from -r requirements.txt (line 26)) (4.4.0)\n",
            "Requirement already satisfied: notebook==5.4.0 in /root/.local/lib/python3.6/site-packages (from -r requirements.txt (line 27)) (5.4.0)\n",
            "Requirement already satisfied: numpy==1.14.0 in /root/.local/lib/python3.6/site-packages (from -r requirements.txt (line 28)) (1.14.0)\n",
            "Requirement already satisfied: opencv-python==3.4.0.12 in /root/.local/lib/python3.6/site-packages (from -r requirements.txt (line 29)) (3.4.0.12)\n",
            "Requirement already satisfied: pandocfilters==1.4.2 in /usr/local/lib/python3.6/dist-packages (from -r requirements.txt (line 30)) (1.4.2)\n",
            "Requirement already satisfied: parso==0.1.1 in /root/.local/lib/python3.6/site-packages (from -r requirements.txt (line 31)) (0.1.1)\n",
            "Requirement already satisfied: pexpect==4.3.1 in /root/.local/lib/python3.6/site-packages (from -r requirements.txt (line 32)) (4.3.1)\n",
            "Requirement already satisfied: pickleshare==0.7.4 in /root/.local/lib/python3.6/site-packages (from -r requirements.txt (line 33)) (0.7.4)\n",
            "Requirement already satisfied: prompt-toolkit==1.0.15 in /root/.local/lib/python3.6/site-packages (from -r requirements.txt (line 34)) (1.0.15)\n",
            "Requirement already satisfied: protobuf in /usr/local/lib/python3.6/dist-packages (from -r requirements.txt (line 35)) (3.7.1)\n",
            "Requirement already satisfied: ptyprocess==0.5.2 in /root/.local/lib/python3.6/site-packages (from -r requirements.txt (line 36)) (0.5.2)\n",
            "Requirement already satisfied: Pygments==2.2.0 in /root/.local/lib/python3.6/site-packages (from -r requirements.txt (line 37)) (2.2.0)\n",
            "Requirement already satisfied: pyparsing==2.2.0 in /root/.local/lib/python3.6/site-packages (from -r requirements.txt (line 38)) (2.2.0)\n",
            "Requirement already satisfied: python-dateutil==2.6.1 in /root/.local/lib/python3.6/site-packages (from -r requirements.txt (line 39)) (2.6.1)\n",
            "Requirement already satisfied: pytz==2017.3 in /root/.local/lib/python3.6/site-packages (from -r requirements.txt (line 40)) (2017.3)\n",
            "Requirement already satisfied: PyYAML==3.12 in /root/.local/lib/python3.6/site-packages (from -r requirements.txt (line 41)) (3.12)\n",
            "Requirement already satisfied: pyzmq==16.0.4 in /root/.local/lib/python3.6/site-packages (from -r requirements.txt (line 42)) (16.0.4)\n",
            "Requirement already satisfied: scikit-learn in /usr/local/lib/python3.6/dist-packages (from -r requirements.txt (line 43)) (0.21.2)\n",
            "Requirement already satisfied: scipy==1.1.0 in /root/.local/lib/python3.6/site-packages (from -r requirements.txt (line 44)) (1.1.0)\n",
            "Requirement already satisfied: Send2Trash==1.4.2 in /root/.local/lib/python3.6/site-packages (from -r requirements.txt (line 45)) (1.4.2)\n",
            "Requirement already satisfied: simplegeneric==0.8.1 in /usr/local/lib/python3.6/dist-packages (from -r requirements.txt (line 46)) (0.8.1)\n",
            "Requirement already satisfied: six==1.11.0 in /root/.local/lib/python3.6/site-packages (from -r requirements.txt (line 47)) (1.11.0)\n",
            "Requirement already satisfied: tensorflow-tensorboard==1.5.1 in /root/.local/lib/python3.6/site-packages (from -r requirements.txt (line 48)) (1.5.1)\n",
            "Requirement already satisfied: traitlets>=4.1.0 in /usr/local/lib/python3.6/dist-packages (from ipykernel==4.8.0->-r requirements.txt (line 9)) (4.3.2)\n",
            "Requirement already satisfied: tornado>=4.0 in /usr/local/lib/python3.6/dist-packages (from ipykernel==4.8.0->-r requirements.txt (line 9)) (4.5.3)\n",
            "Requirement already satisfied: setuptools>=18.5 in /usr/local/lib/python3.6/dist-packages (from ipython==6.2.1->-r requirements.txt (line 10)) (41.0.1)\n",
            "Requirement already satisfied: widgetsnbextension~=3.1.0 in /root/.local/lib/python3.6/site-packages (from ipywidgets==7.1.1->-r requirements.txt (line 12)) (3.1.4)\n",
            "Requirement already satisfied: qtconsole in /usr/local/lib/python3.6/dist-packages (from jupyter==1.0.0->-r requirements.txt (line 16)) (4.5.1)\n",
            "Requirement already satisfied: testpath in /usr/local/lib/python3.6/dist-packages (from nbconvert==5.3.1->-r requirements.txt (line 25)) (0.4.2)\n",
            "Requirement already satisfied: terminado>=0.8.1 in /usr/local/lib/python3.6/dist-packages (from notebook==5.4.0->-r requirements.txt (line 27)) (0.8.2)\n",
            "Requirement already satisfied: wcwidth in /usr/local/lib/python3.6/dist-packages (from prompt-toolkit==1.0.15->-r requirements.txt (line 34)) (0.1.7)\n",
            "Requirement already satisfied: joblib>=0.11 in /usr/local/lib/python3.6/dist-packages (from scikit-learn->-r requirements.txt (line 43)) (0.13.2)\n",
            "Requirement already satisfied: wheel>=0.26; python_version >= \"3\" in /usr/local/lib/python3.6/dist-packages (from tensorflow-tensorboard==1.5.1->-r requirements.txt (line 48)) (0.33.4)\n",
            "Requirement already satisfied: werkzeug>=0.11.10 in /usr/local/lib/python3.6/dist-packages (from tensorflow-tensorboard==1.5.1->-r requirements.txt (line 48)) (0.15.4)\n",
            "\u001b[31mERROR: tensorflow 1.14.0 has requirement absl-py>=0.7.0, but you'll have absl-py 0.1.10 which is incompatible.\u001b[0m\n",
            "\u001b[31mERROR: tensorflow 1.14.0 has requirement numpy<2.0,>=1.14.5, but you'll have numpy 1.14.0 which is incompatible.\u001b[0m\n",
            "\u001b[31mERROR: tensorboard 1.14.0 has requirement absl-py>=0.4, but you'll have absl-py 0.1.10 which is incompatible.\u001b[0m\n",
            "\u001b[31mERROR: dopamine-rl 1.0.5 has requirement absl-py>=0.2.2, but you'll have absl-py 0.1.10 which is incompatible.\u001b[0m\n",
            "\u001b[31mERROR: dopamine-rl 1.0.5 has requirement opencv-python>=3.4.1.15, but you'll have opencv-python 3.4.0.12 which is incompatible.\u001b[0m\n",
            "Installing collected packages: absl-py\n",
            "Successfully installed absl-py-0.1.10\n"
          ],
          "name": "stdout"
        },
        {
          "output_type": "display_data",
          "data": {
            "application/vnd.colab-display-data+json": {
              "pip_warning": {
                "packages": [
                  "absl"
                ]
              }
            }
          },
          "metadata": {
            "tags": []
          }
        }
      ]
    },
    {
      "cell_type": "code",
      "metadata": {
        "id": "N0YcTuo3MmBS",
        "colab_type": "code",
        "colab": {
          "base_uri": "https://localhost:8080/",
          "height": 148
        },
        "outputId": "d61cc967-e2a1-444d-e469-68a212621452"
      },
      "source": [
        "!pip install request"
      ],
      "execution_count": 7,
      "outputs": [
        {
          "output_type": "stream",
          "text": [
            "Requirement already satisfied: request in /usr/local/lib/python3.6/dist-packages (2019.4.13)\n",
            "Requirement already satisfied: post in /usr/local/lib/python3.6/dist-packages (from request) (2019.4.13)\n",
            "Requirement already satisfied: get in /usr/local/lib/python3.6/dist-packages (from request) (2019.4.13)\n",
            "Requirement already satisfied: setuptools in /usr/local/lib/python3.6/dist-packages (from request) (41.0.1)\n",
            "Requirement already satisfied: query-string in /usr/local/lib/python3.6/dist-packages (from get->request) (2019.4.13)\n",
            "Requirement already satisfied: public in /usr/local/lib/python3.6/dist-packages (from query-string->get->request) (2019.4.13)\n"
          ],
          "name": "stdout"
        }
      ]
    },
    {
      "cell_type": "markdown",
      "metadata": {
        "id": "1aI_DPyNaeaX",
        "colab_type": "text"
      },
      "source": [
        "### Installing Dlib"
      ]
    },
    {
      "cell_type": "code",
      "metadata": {
        "id": "0uZqN-rFXknw",
        "colab_type": "code",
        "colab": {
          "base_uri": "https://localhost:8080/",
          "height": 335
        },
        "outputId": "6822142f-ce3f-4dce-c979-921c554ba28c"
      },
      "source": [
        "!apt install python python-pip build-essential cmake pkg-config libx11-dev libatlas-base-dev libgtk-3-dev libboost-python-dev -y\n",
        "\n",
        "!pip install dlib"
      ],
      "execution_count": 8,
      "outputs": [
        {
          "output_type": "stream",
          "text": [
            "Reading package lists... Done\n",
            "Building dependency tree       \n",
            "Reading state information... Done\n",
            "build-essential is already the newest version (12.4ubuntu1).\n",
            "cmake is already the newest version (3.10.2-1ubuntu2).\n",
            "pkg-config is already the newest version (0.29.1-0ubuntu2).\n",
            "python is already the newest version (2.7.15~rc1-1).\n",
            "libatlas-base-dev is already the newest version (3.10.3-5).\n",
            "libboost-python-dev is already the newest version (1.65.1.0ubuntu1).\n",
            "libgtk-3-dev is already the newest version (3.22.30-1ubuntu3).\n",
            "libx11-dev is already the newest version (2:1.6.4-3ubuntu0.2).\n",
            "python-pip is already the newest version (9.0.1-2.3~ubuntu1.18.04.1).\n",
            "The following package was automatically installed and is no longer required:\n",
            "  libnvidia-common-410\n",
            "Use 'apt autoremove' to remove it.\n",
            "0 upgraded, 0 newly installed, 0 to remove and 4 not upgraded.\n",
            "Requirement already satisfied: dlib in /usr/local/lib/python3.6/dist-packages (19.16.0)\n"
          ],
          "name": "stdout"
        }
      ]
    },
    {
      "cell_type": "markdown",
      "metadata": {
        "id": "BXiNriJXOYCa",
        "colab_type": "text"
      },
      "source": [
        "### Download Dlib's face landmarks data file for running face alignment.\n",
        "\n",
        "This will helps us in aligning faces before we learn the features for each face. **`Run the below code.`** It will create a directory with name **`models` **and save **`landmarks.dat`** file in that folder."
      ]
    },
    {
      "cell_type": "code",
      "metadata": {
        "id": "iOAofB2nLoii",
        "colab_type": "code",
        "colab": {}
      },
      "source": [
        "import bz2\n",
        "import os\n",
        "\n",
        "from urllib.request import urlopen\n",
        "\n",
        "def download_landmarks(dst_file):\n",
        "    url = 'http://dlib.net/files/shape_predictor_68_face_landmarks.dat.bz2'\n",
        "    decompressor = bz2.BZ2Decompressor()\n",
        "    \n",
        "    with urlopen(url) as src, open(dst_file, 'wb') as dst:\n",
        "        data = src.read(1024)\n",
        "        while len(data) > 0:\n",
        "            dst.write(decompressor.decompress(data))\n",
        "            data = src.read(1024)\n",
        "\n",
        "dst_dir = 'models'\n",
        "dst_file = os.path.join(dst_dir, 'landmarks.dat')\n",
        "\n",
        "if not os.path.exists(dst_file):\n",
        "    os.makedirs(dst_dir)\n",
        "    download_landmarks(dst_file)\n"
      ],
      "execution_count": 0,
      "outputs": []
    },
    {
      "cell_type": "markdown",
      "metadata": {
        "id": "bNbjzAgh3em-",
        "colab_type": "text"
      },
      "source": [
        "### Training the network\n",
        "\n",
        "The CNN model is taken from the Keras-OpenFace project. The architecture details aren't too important here, it's only useful to know that there is a fully connected layer with 128 hidden units followed by an L2 normalization layer on top of the convolutional base. These two top layers are referred to as the embedding layer from which the 128-dimensional embedding vectors can be obtained. The complete model is defined in `model.py` and a graphical overview is given in `model.png`. A Keras version of the `nn4.small2` model can be created with `create_model()`.\n",
        "\n",
        "\n",
        "**Run the below code to initialize the model**"
      ]
    },
    {
      "cell_type": "code",
      "metadata": {
        "id": "NA0nCCQLufPg",
        "colab_type": "code",
        "colab": {
          "base_uri": "https://localhost:8080/",
          "height": 256
        },
        "outputId": "7a228442-50b1-4297-d38c-d023888ce346"
      },
      "source": [
        "pip install -U absl-py"
      ],
      "execution_count": 10,
      "outputs": [
        {
          "output_type": "stream",
          "text": [
            "Collecting absl-py\n",
            "Requirement already satisfied, skipping upgrade: six in /root/.local/lib/python3.6/site-packages (from absl-py) (1.11.0)\n",
            "\u001b[31mERROR: tensorflow 1.14.0 has requirement numpy<2.0,>=1.14.5, but you'll have numpy 1.14.0 which is incompatible.\u001b[0m\n",
            "\u001b[31mERROR: dopamine-rl 1.0.5 has requirement opencv-python>=3.4.1.15, but you'll have opencv-python 3.4.0.12 which is incompatible.\u001b[0m\n",
            "Installing collected packages: absl-py\n",
            "  Found existing installation: absl-py 0.1.10\n",
            "    Uninstalling absl-py-0.1.10:\n",
            "      Successfully uninstalled absl-py-0.1.10\n",
            "Successfully installed absl-py-0.7.1\n"
          ],
          "name": "stdout"
        },
        {
          "output_type": "display_data",
          "data": {
            "application/vnd.colab-display-data+json": {
              "pip_warning": {
                "packages": [
                  "absl"
                ]
              }
            }
          },
          "metadata": {
            "tags": []
          }
        }
      ]
    },
    {
      "cell_type": "code",
      "metadata": {
        "id": "cRMdAbSsMcPC",
        "colab_type": "code",
        "colab": {}
      },
      "source": [
        "from model import create_model\n",
        "\n",
        "nn4_small2 = create_model()"
      ],
      "execution_count": 0,
      "outputs": []
    },
    {
      "cell_type": "markdown",
      "metadata": {
        "id": "XyCaIac9N8_8",
        "colab_type": "text"
      },
      "source": [
        "#### Idea of Training the model with Triplet loss function "
      ]
    },
    {
      "cell_type": "markdown",
      "metadata": {
        "id": "fNKudbMe4u7W",
        "colab_type": "text"
      },
      "source": [
        "Model training aims to learn an embedding f(x) of image x such that the squared L2 distance between all faces of the same identity is small and the distance between a pair of faces from different identities is large. This can be achieved with a triplet loss L that is minimized when the distance between an anchor image xai and a positive image xpi (same identity) in embedding space is smaller than the distance between that anchor image and a negative image xni (different identity) by at least a margin α."
      ]
    },
    {
      "cell_type": "code",
      "metadata": {
        "id": "2Ose4tTyPDeU",
        "colab_type": "code",
        "colab": {}
      },
      "source": [
        "from keras import backend as K\n",
        "from keras.models import Model\n",
        "from keras.layers import Input, Layer\n",
        "\n",
        "# Input for anchor, positive and negative images\n",
        "in_a = Input(shape=(96, 96, 3))\n",
        "in_p = Input(shape=(96, 96, 3))\n",
        "in_n = Input(shape=(96, 96, 3))\n",
        "\n",
        "# Output for anchor, positive and negative embedding vectors\n",
        "# The nn4_small model instance is shared (Siamese network)\n",
        "emb_a = nn4_small2(in_a)\n",
        "emb_p = nn4_small2(in_p)\n",
        "emb_n = nn4_small2(in_n)\n",
        "\n",
        "class TripletLossLayer(Layer):\n",
        "    def __init__(self, alpha, **kwargs):\n",
        "        self.alpha = alpha\n",
        "        super(TripletLossLayer, self).__init__(**kwargs)\n",
        "    \n",
        "    def triplet_loss(self, inputs):\n",
        "        a, p, n = inputs\n",
        "        p_dist = K.sum(K.square(a-p), axis=-1)\n",
        "        n_dist = K.sum(K.square(a-n), axis=-1)\n",
        "        return K.sum(K.maximum(p_dist - n_dist + self.alpha, 0), axis=0)\n",
        "    \n",
        "    def call(self, inputs):\n",
        "        loss = self.triplet_loss(inputs)\n",
        "        self.add_loss(loss)\n",
        "        return loss\n",
        "\n",
        "# Layer that computes the triplet loss from anchor, positive and negative embedding vectors\n",
        "triplet_loss_layer = TripletLossLayer(alpha=0.2, name='triplet_loss_layer')([emb_a, emb_p, emb_n])\n",
        "\n",
        "# Model that can be trained with anchor, positive negative images\n",
        "nn4_small2_train = Model([in_a, in_p, in_n], triplet_loss_layer)"
      ],
      "execution_count": 0,
      "outputs": []
    },
    {
      "cell_type": "code",
      "metadata": {
        "id": "qpTO6eimP5t0",
        "colab_type": "code",
        "colab": {
          "base_uri": "https://localhost:8080/",
          "height": 374
        },
        "outputId": "8ac89109-48a2-4095-cdc3-98b330bf2d2f"
      },
      "source": [
        "from data import triplet_generator\n",
        "\n",
        "# triplet_generator() creates a generator that continuously returns \n",
        "# ([a_batch, p_batch, n_batch], None) tuples where a_batch, p_batch \n",
        "# and n_batch are batches of anchor, positive and negative RGB images \n",
        "# each having a shape of (batch_size, 96, 96, 3).\n",
        "generator = triplet_generator() \n",
        "\n",
        "nn4_small2_train.compile(loss=None, optimizer='adam')\n",
        "nn4_small2_train.fit_generator(generator, epochs=10, steps_per_epoch=100)\n",
        "\n",
        "# Please note that the current implementation of the generator only generates \n",
        "# random image data. The main goal of this code snippet is to demonstrate \n",
        "# the general setup for model training. In the following, we will anyway \n",
        "# use a pre-trained model so we don't need a generator here that operates \n",
        "# on real training data."
      ],
      "execution_count": 41,
      "outputs": [
        {
          "output_type": "stream",
          "text": [
            "Epoch 1/10\n",
            "100/100 [==============================] - 36s 360ms/step - loss: 0.7963\n",
            "Epoch 2/10\n",
            "100/100 [==============================] - 17s 172ms/step - loss: 0.8000\n",
            "Epoch 3/10\n",
            "100/100 [==============================] - 16s 164ms/step - loss: 0.8022\n",
            "Epoch 4/10\n",
            "100/100 [==============================] - 17s 169ms/step - loss: 0.8001\n",
            "Epoch 5/10\n",
            "100/100 [==============================] - 17s 171ms/step - loss: 0.8006\n",
            "Epoch 6/10\n",
            "100/100 [==============================] - 17s 171ms/step - loss: 0.7992\n",
            "Epoch 7/10\n",
            "100/100 [==============================] - 16s 164ms/step - loss: 0.8029\n",
            "Epoch 8/10\n",
            "100/100 [==============================] - 16s 164ms/step - loss: 0.8004\n",
            "Epoch 9/10\n",
            "100/100 [==============================] - 16s 161ms/step - loss: 0.7998\n",
            "Epoch 10/10\n",
            "100/100 [==============================] - 16s 159ms/step - loss: 0.8000\n"
          ],
          "name": "stdout"
        },
        {
          "output_type": "execute_result",
          "data": {
            "text/plain": [
              "<keras.callbacks.History at 0x7f1ccbf100b8>"
            ]
          },
          "metadata": {
            "tags": []
          },
          "execution_count": 41
        }
      ]
    },
    {
      "cell_type": "markdown",
      "metadata": {
        "id": "AdsuNBe9OHyZ",
        "colab_type": "text"
      },
      "source": [
        "For this project, we are considering a pre-trained model given in file path **`nn4.small2.v1.h5`**.\n",
        "\n",
        "Write code: Using **load_weights()** function load the given pre-trained weight file."
      ]
    },
    {
      "cell_type": "code",
      "metadata": {
        "id": "oV73nKP3QCLT",
        "colab_type": "code",
        "colab": {}
      },
      "source": [
        "nn4_small2.load_weights(\"nn4.small2.v1.h5\")"
      ],
      "execution_count": 0,
      "outputs": []
    },
    {
      "cell_type": "markdown",
      "metadata": {
        "id": "bulEElwQ54g6",
        "colab_type": "text"
      },
      "source": [
        "### Dataset"
      ]
    },
    {
      "cell_type": "markdown",
      "metadata": {
        "id": "re9AUK4f520z",
        "colab_type": "text"
      },
      "source": [
        "To demonstrate face recognition on a custom dataset, a small dataset is used. It consists of around 15-25 face images of 10 different persons. The metadata for each image (file and identity name) are loaded into memory for later processing.\n",
        "\n",
        "\n",
        "Upload Images zip file given to drive and download and extract it using the below code. And we will pass the folder `images` to `load_metadata` function to save all the images filenames and person numbers."
      ]
    },
    {
      "cell_type": "markdown",
      "metadata": {
        "id": "sbDurWRMQnw7",
        "colab_type": "text"
      },
      "source": [
        "#### Import drive module from google.colab"
      ]
    },
    {
      "cell_type": "code",
      "metadata": {
        "id": "KYr8qfMD7Poc",
        "colab_type": "code",
        "colab": {}
      },
      "source": [
        "from google.colab import drive"
      ],
      "execution_count": 0,
      "outputs": []
    },
    {
      "cell_type": "markdown",
      "metadata": {
        "id": "0GlBCA8wQ1cX",
        "colab_type": "text"
      },
      "source": [
        "#### Give a path to mount the files in your drive"
      ]
    },
    {
      "cell_type": "code",
      "metadata": {
        "id": "ZxhxrGQS7Pq2",
        "colab_type": "code",
        "colab": {}
      },
      "source": [
        "drive.mount('/content/drive')"
      ],
      "execution_count": 0,
      "outputs": []
    },
    {
      "cell_type": "markdown",
      "metadata": {
        "id": "CBB_OncAQ8h_",
        "colab_type": "text"
      },
      "source": [
        "#### Using the above given mounted path, give the images.zip path dependent on where you placed the file in your drive."
      ]
    },
    {
      "cell_type": "code",
      "metadata": {
        "id": "pprDxdHT7S6N",
        "colab_type": "code",
        "colab": {}
      },
      "source": [
        "## For example\n",
        "images_path = project_path + \"/files_required_for_face_recognition/\" + \"images.zip\""
      ],
      "execution_count": 0,
      "outputs": []
    },
    {
      "cell_type": "markdown",
      "metadata": {
        "id": "edsF05iuRkOd",
        "colab_type": "text"
      },
      "source": [
        "#### Using ZipFile module to extract the images zip file"
      ]
    },
    {
      "cell_type": "code",
      "metadata": {
        "id": "m3eIglFdVcvB",
        "colab_type": "code",
        "colab": {}
      },
      "source": [
        "from zipfile import ZipFile"
      ],
      "execution_count": 0,
      "outputs": []
    },
    {
      "cell_type": "code",
      "metadata": {
        "id": "CVAjzG4IXYQX",
        "colab_type": "code",
        "colab": {}
      },
      "source": [
        "with ZipFile(images_path, 'r') as zip:\n",
        "  zip.extractall()"
      ],
      "execution_count": 0,
      "outputs": []
    },
    {
      "cell_type": "markdown",
      "metadata": {
        "id": "oesXJD9ySB6w",
        "colab_type": "text"
      },
      "source": [
        "#### Run the below function to load the images from the extracted images folder from the above step and map each image with person id \n"
      ]
    },
    {
      "cell_type": "code",
      "metadata": {
        "id": "4Q7TS19vVbGb",
        "colab_type": "code",
        "colab": {}
      },
      "source": [
        "import numpy as np\n",
        "import os.path\n",
        "\n",
        "class IdentityMetadata():\n",
        "    def __init__(self, base, name, file):\n",
        "        # print(base, name, file)\n",
        "        # dataset base directory\n",
        "        self.base = base\n",
        "        # identity name\n",
        "        self.name = name\n",
        "        # image file name\n",
        "        self.file = file\n",
        "\n",
        "    def __repr__(self):\n",
        "        return self.image_path()\n",
        "\n",
        "    def image_path(self):\n",
        "        return os.path.join(self.base, self.name, self.file) \n",
        "    \n",
        "def load_metadata(path):\n",
        "    metadata = []\n",
        "    for i in os.listdir(path):\n",
        "        for f in os.listdir(os.path.join(path, i)):\n",
        "            # Check file extension. Allow only jpg/jpeg' files.\n",
        "            ext = os.path.splitext(f)[1]\n",
        "            if ext == '.jpg' or ext == '.jpeg':\n",
        "                metadata.append(IdentityMetadata(path, i, f))\n",
        "    return np.array(metadata)\n",
        "\n",
        "metadata = load_metadata('images')"
      ],
      "execution_count": 0,
      "outputs": []
    },
    {
      "cell_type": "markdown",
      "metadata": {
        "id": "Vr4xVNqIaHgE",
        "colab_type": "text"
      },
      "source": [
        "### Face alignment\n",
        "The nn4.small2.v1 model was trained with aligned face images, therefore, the face images from the custom dataset must be aligned too. Here, we use Dlib for face detection and OpenCV for image transformation and cropping to produce aligned 96x96 RGB face images. We are using the AlignDlib utility from the OpenFace project."
      ]
    },
    {
      "cell_type": "markdown",
      "metadata": {
        "id": "vZJXEFz9UaAR",
        "colab_type": "text"
      },
      "source": [
        "##### 1. Run the below code to import AlignDlib\n",
        "\n",
        "For this you need align.py available in the environment."
      ]
    },
    {
      "cell_type": "code",
      "metadata": {
        "id": "DFCOKB1AUq0c",
        "colab_type": "code",
        "colab": {}
      },
      "source": [
        "from align import AlignDlib"
      ],
      "execution_count": 0,
      "outputs": []
    },
    {
      "cell_type": "markdown",
      "metadata": {
        "id": "tsTnKz_zWVM_",
        "colab_type": "text"
      },
      "source": [
        "Use the landmarks data file downloaded in the first steps for face alignment. file path **`models/landmarks.dat`**"
      ]
    },
    {
      "cell_type": "code",
      "metadata": {
        "id": "ijh2N8QxWSN4",
        "colab_type": "code",
        "colab": {}
      },
      "source": [
        "# Initialize the OpenFace face alignment utility\n",
        "alignment = AlignDlib('models/landmarks.dat')"
      ],
      "execution_count": 0,
      "outputs": []
    },
    {
      "cell_type": "markdown",
      "metadata": {
        "id": "JbWhL7jbUwHg",
        "colab_type": "text"
      },
      "source": [
        "##### 2. Run the beloiw code to  load an image from the metadata created in the step before Face Alignment\n",
        "\n",
        "You can access each image path from `metadata[i].image_path()` where, i is the image number. i can take values from 1 to no.of images in the dataset given."
      ]
    },
    {
      "cell_type": "code",
      "metadata": {
        "id": "ape5WxvVWKOe",
        "colab_type": "code",
        "colab": {}
      },
      "source": [
        "import cv2\n",
        "def load_image(path):\n",
        "    img = cv2.imread(path, 1)\n",
        "    # OpenCV loads images with color channels\n",
        "    # in BGR order. So we need to reverse them\n",
        "    return img[...,::-1]"
      ],
      "execution_count": 0,
      "outputs": []
    },
    {
      "cell_type": "code",
      "metadata": {
        "id": "ptDNq8noWK89",
        "colab_type": "code",
        "colab": {}
      },
      "source": [
        "# Load an image\n",
        "# for example, loading the image with index 1\n",
        "one_image = load_image(metadata[0].image_path())"
      ],
      "execution_count": 0,
      "outputs": []
    },
    {
      "cell_type": "code",
      "metadata": {
        "id": "-Ld6s60lDci6",
        "colab_type": "code",
        "colab": {
          "base_uri": "https://localhost:8080/",
          "height": 34
        },
        "outputId": "f7c2ea05-27b0-4d65-f2b8-449441f0d056"
      },
      "source": [
        "one_image.shape"
      ],
      "execution_count": 120,
      "outputs": [
        {
          "output_type": "execute_result",
          "data": {
            "text/plain": [
              "(592, 896, 3)"
            ]
          },
          "metadata": {
            "tags": []
          },
          "execution_count": 120
        }
      ]
    },
    {
      "cell_type": "markdown",
      "metadata": {
        "id": "fpe2G6JSbTis",
        "colab_type": "text"
      },
      "source": [
        "#### Write code to load 2nd and 3rd images in the metadata using load_image()"
      ]
    },
    {
      "cell_type": "code",
      "metadata": {
        "id": "vEEzp1SkbdxI",
        "colab_type": "code",
        "colab": {}
      },
      "source": [
        "two_image = load_image(metadata[1].image_path())\n",
        "three_image = load_image(metadata[2].image_path())"
      ],
      "execution_count": 0,
      "outputs": []
    },
    {
      "cell_type": "markdown",
      "metadata": {
        "id": "f0ywYChhXHQI",
        "colab_type": "text"
      },
      "source": [
        "##### 3. Run the below code to align the above loaded image."
      ]
    },
    {
      "cell_type": "code",
      "metadata": {
        "id": "0_GO6xugXHd8",
        "colab_type": "code",
        "colab": {
          "base_uri": "https://localhost:8080/",
          "height": 150
        },
        "outputId": "05b8cc7e-bc72-4854-d153-1d4956a98d70"
      },
      "source": [
        "# Detect face and return bounding box\n",
        "bb = alignment.getLargestFaceBoundingBox(one_image)\n",
        "\n",
        "# Transform image using specified face landmark indices and crop image to 96x96\n",
        "one_image_aligned = alignment.align(96, one_image, bb, landmarkIndices=AlignDlib.OUTER_EYES_AND_NOSE)\n",
        "\n",
        "import matplotlib.pyplot as plt\n",
        "import matplotlib.patches as patches\n",
        "\n",
        "# Show original image\n",
        "plt.subplot(131)\n",
        "plt.imshow(one_image)\n",
        "\n",
        "# Show original image with bounding box\n",
        "plt.subplot(132)\n",
        "plt.imshow(one_image)\n",
        "plt.gca().add_patch(patches.Rectangle((bb.left(), bb.top()), bb.width(), bb.height(), fill=False, color='red'))\n",
        "\n",
        "# Show aligned image\n",
        "plt.subplot(133)\n",
        "plt.imshow(one_image_aligned);"
      ],
      "execution_count": 156,
      "outputs": [
        {
          "output_type": "display_data",
          "data": {
            "image/png": "[encoded data removed]",
            "text/plain": [
              "<matplotlib.figure.Figure at 0x7f1cb6407550>"
            ]
          },
          "metadata": {
            "tags": []
          }
        }
      ]
    },
    {
      "cell_type": "code",
      "metadata": {
        "id": "SgB251nOAK4C",
        "colab_type": "code",
        "colab": {
          "base_uri": "https://localhost:8080/",
          "height": 167
        },
        "outputId": "c04c0cb4-e99f-4599-ebc8-999929b7430e"
      },
      "source": [
        "# Detect face and return bounding box\n",
        "bb = alignment.getLargestFaceBoundingBox(two_image)\n",
        "\n",
        "# Transform image using specified face landmark indices and crop image to 96x96\n",
        "two_image_aligned = alignment.align(96, two_image, bb, landmarkIndices=AlignDlib.OUTER_EYES_AND_NOSE)\n",
        "\n",
        "import matplotlib.pyplot as plt\n",
        "import matplotlib.patches as patches\n",
        "\n",
        "print(\"****Image Two****\")\n",
        "\n",
        "# Show original image\n",
        "plt.subplot(131)\n",
        "plt.imshow(two_image)\n",
        "\n",
        "# Show original image with bounding box\n",
        "plt.subplot(132)\n",
        "plt.imshow(two_image)\n",
        "plt.gca().add_patch(patches.Rectangle((bb.left(), bb.top()), bb.width(), bb.height(), fill=False, color='red'))\n",
        "\n",
        "# Show aligned image\n",
        "plt.subplot(133)\n",
        "plt.imshow(two_image_aligned);"
      ],
      "execution_count": 158,
      "outputs": [
        {
          "output_type": "stream",
          "text": [
            "****Image Two****\n"
          ],
          "name": "stdout"
        },
        {
          "output_type": "display_data",
          "data": {
            "image/png": "[encoded data removed]",
            "text/plain": [
              "<matplotlib.figure.Figure at 0x7f1cb640aa90>"
            ]
          },
          "metadata": {
            "tags": []
          }
        }
      ]
    },
    {
      "cell_type": "code",
      "metadata": {
        "id": "gW1iLdt1AQx9",
        "colab_type": "code",
        "colab": {
          "base_uri": "https://localhost:8080/",
          "height": 167
        },
        "outputId": "59042108-1228-4e6d-aad5-881d7510dc95"
      },
      "source": [
        "# Detect face and return bounding box\n",
        "bb = alignment.getLargestFaceBoundingBox(three_image)\n",
        "\n",
        "# Transform image using specified face landmark indices and crop image to 96x96\n",
        "three_image_aligned = alignment.align(96, three_image, bb, landmarkIndices=AlignDlib.OUTER_EYES_AND_NOSE)\n",
        "\n",
        "import matplotlib.pyplot as plt\n",
        "import matplotlib.patches as patches\n",
        "\n",
        "print(\"****Image Three****\")\n",
        "\n",
        "# Show original image\n",
        "plt.subplot(131)\n",
        "plt.imshow(three_image)\n",
        "\n",
        "# Show original image with bounding box\n",
        "plt.subplot(132)\n",
        "plt.imshow(three_image)\n",
        "plt.gca().add_patch(patches.Rectangle((bb.left(), bb.top()), bb.width(), bb.height(), fill=False, color='red'))\n",
        "\n",
        "# Show aligned image\n",
        "plt.subplot(133)\n",
        "plt.imshow(three_image_aligned);"
      ],
      "execution_count": 91,
      "outputs": [
        {
          "output_type": "stream",
          "text": [
            "****Image Three****\n"
          ],
          "name": "stdout"
        },
        {
          "output_type": "display_data",
          "data": {
            "image/png": "[encoded data removed]",
            "text/plain": [
              "<matplotlib.figure.Figure at 0x7f1cb72e2630>"
            ]
          },
          "metadata": {
            "tags": []
          }
        }
      ]
    },
    {
      "cell_type": "markdown",
      "metadata": {
        "id": "w5BrN6vpX_kj",
        "colab_type": "text"
      },
      "source": [
        "#### Write a function image_align() which take image path as input and returns the aligned image in output.\n",
        "\n"
      ]
    },
    {
      "cell_type": "code",
      "metadata": {
        "id": "inrLd5JCYYB2",
        "colab_type": "code",
        "colab": {}
      },
      "source": [
        "def image_align(image_path):\n",
        "  print(image_path)\n",
        "  img = cv2.imread(image_path, 1)[...,::-1]\n",
        "  # Detect face and return bounding box\n",
        "  bb = alignment.getLargestFaceBoundingBox(img)\n",
        "  image_aligned = alignment.align(96, img, bb, landmarkIndices=AlignDlib.OUTER_EYES_AND_NOSE)\n",
        "  return image_aligned"
      ],
      "execution_count": 0,
      "outputs": []
    },
    {
      "cell_type": "markdown",
      "metadata": {
        "id": "LkBQRL_sd2U8",
        "colab_type": "text"
      },
      "source": [
        "### Generate embeddings for each image in the dataset\n",
        "\n",
        "Given below is an example to load the first image in the metadata and get its embedding vector from the pre-trained model. "
      ]
    },
    {
      "cell_type": "markdown",
      "metadata": {
        "id": "S01r8UzXc-8s",
        "colab_type": "text"
      },
      "source": [
        "#### Get embedding vector for first image in the metadata using the pre-trained model"
      ]
    },
    {
      "cell_type": "code",
      "metadata": {
        "id": "B2yd69OydBAq",
        "colab_type": "code",
        "colab": {
          "base_uri": "https://localhost:8080/",
          "height": 34
        },
        "outputId": "eb982397-66f8-4af5-a347-174c555f6fec"
      },
      "source": [
        "# Align the image\n",
        "img_aligned = image_align(metadata[0].image_path())\n",
        "\n",
        "# Normalising pixel values from [0-255] to [0-1]: scale RGB values to interval [0,1]\n",
        "img = (img_aligned / 255.).astype(np.float32)\n",
        "\n",
        "# obtain embedding vector for an image\n",
        "embedding_vector = nn4_small2.predict(np.expand_dims(img, axis=0))[0]"
      ],
      "execution_count": 184,
      "outputs": [
        {
          "output_type": "stream",
          "text": [
            "images/subject_4/image_0403.jpg\n"
          ],
          "name": "stdout"
        }
      ]
    },
    {
      "cell_type": "code",
      "metadata": {
        "id": "u23oksgyF3kX",
        "colab_type": "code",
        "colab": {
          "base_uri": "https://localhost:8080/",
          "height": 34
        },
        "outputId": "ef6db359-f44d-4adc-ed78-e6211ec506f9"
      },
      "source": [
        "print(nn4_small2.predict(np.expand_dims(img, axis=0)).shape)"
      ],
      "execution_count": 175,
      "outputs": [
        {
          "output_type": "stream",
          "text": [
            "(1, 128)\n"
          ],
          "name": "stdout"
        }
      ]
    },
    {
      "cell_type": "code",
      "metadata": {
        "id": "_KiMOqIlI8by",
        "colab_type": "code",
        "colab": {
          "base_uri": "https://localhost:8080/",
          "height": 578
        },
        "outputId": "b8d5022f-c351-4e56-bf90-c2dffea022d5"
      },
      "source": [
        "embedding_vector"
      ],
      "execution_count": 172,
      "outputs": [
        {
          "output_type": "execute_result",
          "data": {
            "text/plain": [
              "array([-2.03412236e-03,  1.68384954e-01, -9.83416587e-02,  3.00051719e-02,\n",
              "        4.43789363e-02,  1.12064123e-01,  7.21058808e-03, -4.64932285e-02,\n",
              "       -3.31005789e-02,  4.52573113e-02,  5.54484874e-02,  2.58338507e-02,\n",
              "        8.47509950e-02,  2.07348559e-02,  1.00956848e-02,  3.62633280e-02,\n",
              "        8.13433304e-02, -1.57385450e-02, -4.27131355e-02,  1.31100312e-01,\n",
              "        3.03491540e-02, -1.43879443e-01,  6.40703663e-02,  1.58454046e-01,\n",
              "        9.28272679e-03, -1.07320584e-01, -7.55298883e-02, -4.71968353e-02,\n",
              "        7.01035336e-02,  7.87593648e-02,  9.00081918e-02,  1.06799819e-01,\n",
              "        3.31651233e-02,  6.96505606e-02, -9.61524993e-02,  1.45916313e-01,\n",
              "        2.73364112e-02,  8.24338719e-02, -7.68324062e-02, -7.34240457e-04,\n",
              "       -1.04227252e-02, -4.06475924e-02,  4.20400612e-02, -6.61152452e-02,\n",
              "       -4.29464094e-02, -4.59912745e-03,  1.61578357e-01,  3.39466482e-02,\n",
              "       -1.01219907e-01,  7.28937015e-02, -1.59052890e-02,  2.04133391e-02,\n",
              "       -6.01997562e-02, -3.19545567e-02,  1.05230458e-01,  1.08153246e-01,\n",
              "       -8.76933932e-02,  1.36343956e-01,  2.67839036e-03, -4.67108935e-02,\n",
              "       -1.87026247e-01,  3.79624851e-02,  1.35099381e-01, -3.09718281e-01,\n",
              "        9.28722844e-02,  7.42678270e-02, -3.65547300e-03, -2.42244955e-02,\n",
              "       -2.44077817e-01,  8.36176276e-02, -1.97900087e-02,  7.81612471e-02,\n",
              "       -1.21204533e-01,  9.05242041e-02,  1.05545871e-01,  3.60175930e-02,\n",
              "        1.35651499e-01,  9.98553783e-02,  4.51060617e-03, -7.09604695e-02,\n",
              "       -1.17397062e-01, -9.78637114e-03, -7.04974830e-02, -4.33970429e-02,\n",
              "       -5.75756617e-02,  7.67984614e-02, -6.03921488e-02, -3.68907154e-02,\n",
              "        7.03605637e-02,  5.70871085e-02,  4.02879566e-02, -1.48591623e-01,\n",
              "        1.92274135e-02, -4.39590495e-03,  1.46790490e-01, -2.41935346e-03,\n",
              "       -1.50981965e-02,  8.72190297e-02,  4.86028241e-03,  1.45371705e-02,\n",
              "       -5.47310561e-02, -2.29176730e-02, -7.33692497e-02,  1.13763221e-01,\n",
              "       -1.22681051e-01,  1.98483393e-01, -8.82477686e-02, -2.02607494e-02,\n",
              "        4.42507677e-02, -7.87525326e-02, -1.08475395e-01,  1.25334606e-01,\n",
              "        1.22345444e-02,  1.77040696e-02,  6.83671013e-02,  6.18080812e-05,\n",
              "        4.59157117e-02, -7.05259442e-02,  1.01196453e-01,  2.31876925e-01,\n",
              "        3.49286720e-02, -4.05709594e-02,  2.44488232e-02,  1.25187337e-01,\n",
              "       -9.90851149e-02,  1.06753595e-01,  6.15970464e-03, -4.11806218e-02],\n",
              "      dtype=float32)"
            ]
          },
          "metadata": {
            "tags": []
          },
          "execution_count": 172
        }
      ]
    },
    {
      "cell_type": "markdown",
      "metadata": {
        "id": "Z7vEE0PiF2aG",
        "colab_type": "text"
      },
      "source": [
        ""
      ]
    },
    {
      "cell_type": "markdown",
      "metadata": {
        "id": "plHvUTytcTGo",
        "colab_type": "text"
      },
      "source": [
        "#### Write code to iterate through metadata and create embeddings for each image using nn4_small2_pretrained.predict() and store in a list with name `embeddings`\n",
        "\n",
        "If there is any error in reading any image in the dataset, fill the emebdding vector of that image with 128-zeroes as the final embedding from the model is of length 128."
      ]
    },
    {
      "cell_type": "code",
      "metadata": {
        "id": "yY9ykxtueY4k",
        "colab_type": "code",
        "colab": {
          "base_uri": "https://localhost:8080/",
          "height": 1000
        },
        "outputId": "08f6f209-6374-4178-ced3-585262fa82ef"
      },
      "source": [
        "embeddings = []\n",
        "for index, met_img in enumerate(metadata):\n",
        "  try:\n",
        "    img_aligned = image_align(metadata[index].image_path())\n",
        "    img = (img_aligned / 255.).astype(np.float32)\n",
        "    embeddings.append(nn4_small2.predict(np.expand_dims(img, axis=0))[0])\n",
        "  except:\n",
        "    print(index)\n",
        "    embeddings.append(np.zeros((128,)))"
      ],
      "execution_count": 241,
      "outputs": [
        {
          "output_type": "stream",
          "text": [
            "images/subject_4/image_0403.jpg\n",
            "images/subject_4/image_0402.jpg\n",
            "images/subject_4/image_0400.jpg\n",
            "images/subject_3/image_0408.jpg\n",
            "images/subject_3/image_0405.jpg\n",
            "images/subject_3/image_0404.jpg\n",
            "images/subject_3/image_0406.jpg\n",
            "images/subject_3/image_0407.jpg\n",
            "images/subject_2/image_0422.jpg\n",
            "images/subject_2/image_0423.jpg\n",
            "images/subject_2/image_0409.jpg\n",
            "images/subject_2/image_0421.jpg\n",
            "images/subject_2/image_0420.jpg\n",
            "images/subject_2/image_0424.jpg\n",
            "images/subject_2/image_0418.jpg\n",
            "images/subject_2/image_0419.jpg\n",
            "images/subject_2/image_0425.jpg\n",
            "images/subject_2/image_0427.jpg\n",
            "images/subject_2/image_0426.jpg\n",
            "images/subject_2/image_0417.jpg\n",
            "images/subject_2/image_0416.jpg\n",
            "images/subject_2/image_0428.jpg\n",
            "images/subject_2/image_0414.jpg\n",
            "images/subject_2/image_0415.jpg\n",
            "images/subject_2/image_0411.jpg\n",
            "images/subject_2/image_0410.jpg\n",
            "images/subject_2/image_0412.jpg\n",
            "images/subject_2/image_0413.jpg\n",
            "images/subject_5/image_0378.jpg\n",
            "images/subject_5/image_0387.jpg\n",
            "images/subject_5/image_0393.jpg\n",
            "images/subject_5/image_0392.jpg\n",
            "images/subject_5/image_0386.jpg\n",
            "images/subject_5/image_0379.jpg\n",
            "images/subject_5/image_0390.jpg\n",
            "images/subject_5/image_0384.jpg\n",
            "images/subject_5/image_0385.jpg\n",
            "images/subject_5/image_0391.jpg\n",
            "images/subject_5/image_0395.jpg\n",
            "images/subject_5/image_0381.jpg\n",
            "images/subject_5/image_0380.jpg\n",
            "images/subject_5/image_0394.jpg\n",
            "images/subject_5/image_0382.jpg\n",
            "images/subject_5/image_0396.jpg\n",
            "images/subject_5/image_0397.jpg\n",
            "images/subject_5/image_0383.jpg\n",
            "images/subject_5/image_0398.jpg\n",
            "images/subject_5/image_0377.jpg\n",
            "images/subject_5/image_0388.jpg\n",
            "images/subject_5/image_0389.jpg\n",
            "images/subject_10/image_0284.jpg\n",
            "images/subject_10/image_0285.jpg\n",
            "images/subject_10/image_0278.jpg\n",
            "images/subject_10/image_0287.jpg\n",
            "images/subject_10/image_0286.jpg\n",
            "images/subject_10/image_0279.jpg\n",
            "images/subject_10/image_0269.jpg\n",
            "images/subject_10/image_0282.jpg\n",
            "images/subject_10/image_0283.jpg\n",
            "images/subject_10/image_0281.jpg\n",
            "images/subject_10/image_0280.jpg\n",
            "images/subject_10/image_0272.jpg\n",
            "images/subject_10/image_0273.jpg\n",
            "images/subject_10/image_0271.jpg\n",
            "images/subject_10/image_0270.jpg\n",
            "images/subject_10/image_0274.jpg\n",
            "images/subject_10/image_0275.jpg\n",
            "images/subject_10/image_0277.jpg\n",
            "images/subject_10/image_0276.jpg\n",
            "images/subject_0/image_0019.jpg\n",
            "images/subject_0/image_0018.jpg\n",
            "images/subject_0/image_0020.jpg\n",
            "images/subject_0/image_0008.jpg\n",
            "images/subject_0/image_0009.jpg\n",
            "images/subject_0/image_0021.jpg\n",
            "images/subject_0/image_0013.jpg\n",
            "images/subject_0/image_0007.jpg\n",
            "images/subject_0/image_0006.jpg\n",
            "images/subject_0/image_0012.jpg\n",
            "images/subject_0/image_0004.jpg\n",
            "images/subject_0/image_0010.jpg\n",
            "images/subject_0/image_0011.jpg\n",
            "images/subject_0/image_0005.jpg\n",
            "images/subject_0/image_0001.jpg\n",
            "images/subject_0/image_0015.jpg\n",
            "images/subject_0/image_0014.jpg\n",
            "images/subject_0/image_0016.jpg\n",
            "images/subject_0/image_0002.jpg\n",
            "images/subject_0/image_0003.jpg\n",
            "images/subject_0/image_0017.jpg\n",
            "images/subject_7/image_0344.jpg\n",
            "images/subject_7/image_0350.jpg\n",
            "images/subject_7/image_0351.jpg\n",
            "images/subject_7/image_0345.jpg\n",
            "images/subject_7/image_0353.jpg\n",
            "images/subject_7/image_0347.jpg\n",
            "images/subject_7/image_0346.jpg\n",
            "images/subject_7/image_0352.jpg\n",
            "images/subject_7/image_0356.jpg\n",
            "images/subject_7/image_0342.jpg\n",
            "images/subject_7/image_0343.jpg\n",
            "images/subject_7/image_0341.jpg\n",
            "images/subject_7/image_0355.jpg\n",
            "images/subject_7/image_0354.jpg\n",
            "images/subject_7/image_0340.jpg\n",
            "images/subject_7/image_0337.jpg\n",
            "images/subject_7/image_0339.jpg\n",
            "images/subject_7/image_0338.jpg\n",
            "images/subject_7/image_0348.jpg\n",
            "images/subject_7/image_0349.jpg\n",
            "images/subject_9/image_0290.jpg\n",
            "images/subject_9/image_0291.jpg\n",
            "images/subject_9/image_0293.jpg\n",
            "images/subject_9/image_0292.jpg\n",
            "images/subject_9/image_0296.jpg\n",
            "images/subject_9/image_0297.jpg\n",
            "images/subject_9/image_0295.jpg\n",
            "images/subject_9/image_0294.jpg\n",
            "images/subject_9/image_0306.jpg\n",
            "images/subject_9/image_0299.jpg\n",
            "images/subject_9/image_0298.jpg\n",
            "images/subject_9/image_0307.jpg\n",
            "images/subject_9/image_0305.jpg\n",
            "images/subject_9/image_0304.jpg\n",
            "images/subject_9/image_0300.jpg\n",
            "images/subject_9/image_0301.jpg\n",
            "images/subject_9/image_0303.jpg\n",
            "images/subject_9/image_0288.jpg\n",
            "images/subject_9/image_0289.jpg\n",
            "images/subject_9/image_0302.jpg\n",
            "images/subject_8/image_0327.jpg\n",
            "130\n",
            "images/subject_8/image_0333.jpg\n",
            "images/subject_8/image_0332.jpg\n",
            "images/subject_8/image_0326.jpg\n",
            "images/subject_8/image_0318.jpg\n",
            "images/subject_8/image_0330.jpg\n",
            "images/subject_8/image_0324.jpg\n",
            "images/subject_8/image_0325.jpg\n",
            "images/subject_8/image_0331.jpg\n",
            "images/subject_8/image_0319.jpg\n",
            "images/subject_8/image_0335.jpg\n",
            "images/subject_8/image_0321.jpg\n",
            "images/subject_8/image_0309.jpg\n",
            "images/subject_8/image_0308.jpg\n",
            "images/subject_8/image_0320.jpg\n",
            "144\n",
            "images/subject_8/image_0334.jpg\n",
            "images/subject_8/image_0322.jpg\n",
            "images/subject_8/image_0336.jpg\n",
            "images/subject_8/image_0323.jpg\n",
            "images/subject_8/image_0312.jpg\n",
            "images/subject_8/image_0313.jpg\n",
            "images/subject_8/image_0311.jpg\n",
            "images/subject_8/image_0310.jpg\n",
            "images/subject_8/image_0314.jpg\n",
            "images/subject_8/image_0328.jpg\n",
            "images/subject_8/image_0329.jpg\n",
            "images/subject_8/image_0315.jpg\n",
            "images/subject_8/image_0317.jpg\n",
            "images/subject_8/image_0316.jpg\n",
            "images/subject_6/image_0357.jpg\n",
            "images/subject_6/image_0369.jpg\n",
            "images/subject_6/image_0368.jpg\n",
            "images/subject_6/image_0359.jpg\n",
            "images/subject_6/image_0365.jpg\n",
            "images/subject_6/image_0371.jpg\n",
            "images/subject_6/image_0370.jpg\n",
            "images/subject_6/image_0364.jpg\n",
            "images/subject_6/image_0358.jpg\n",
            "images/subject_6/image_0372.jpg\n",
            "images/subject_6/image_0366.jpg\n",
            "images/subject_6/image_0367.jpg\n",
            "images/subject_6/image_0373.jpg\n",
            "images/subject_6/image_0363.jpg\n",
            "images/subject_6/image_0362.jpg\n",
            "images/subject_6/image_0376.jpg\n",
            "images/subject_6/image_0360.jpg\n",
            "images/subject_6/image_0374.jpg\n",
            "images/subject_6/image_0375.jpg\n",
            "images/subject_6/image_0361.jpg\n",
            "images/subject_1/image_0436.jpg\n",
            "images/subject_1/image_0437.jpg\n",
            "images/subject_1/image_0435.jpg\n",
            "images/subject_1/image_0434.jpg\n",
            "images/subject_1/image_0430.jpg\n",
            "images/subject_1/image_0431.jpg\n",
            "images/subject_1/image_0433.jpg\n",
            "images/subject_1/image_0432.jpg\n",
            "images/subject_1/image_0441.jpg\n",
            "images/subject_1/image_0440.jpg\n",
            "images/subject_1/image_0442.jpg\n",
            "images/subject_1/image_0443.jpg\n",
            "images/subject_1/image_0447.jpg\n",
            "images/subject_1/image_0446.jpg\n",
            "images/subject_1/image_0444.jpg\n",
            "images/subject_1/image_0450.jpg\n",
            "images/subject_1/image_0445.jpg\n",
            "images/subject_1/image_0448.jpg\n",
            "images/subject_1/image_0449.jpg\n",
            "images/subject_1/image_0429.jpg\n",
            "images/subject_1/image_0439.jpg\n",
            "images/subject_1/image_0438.jpg\n"
          ],
          "name": "stdout"
        }
      ]
    },
    {
      "cell_type": "markdown",
      "metadata": {
        "id": "4hb3XSDsfTMG",
        "colab_type": "text"
      },
      "source": [
        "#### Write code to get the distance between given 2 pairs of images.\n",
        "\n",
        "Consider distance metric as \"Squared L2 distance\"\n",
        "\n",
        "squared l2 distance between 2 points (x1, y1) and (x2, y2) = (x1-x2)^2 + (y1-y2)^2\n",
        "\n",
        "\n",
        "\n",
        "##### Plot images and get distance between the pairs given below.\n",
        "\n",
        "1. 2,3 and 2,120\n",
        "\n",
        "2. 30,31 and 30,100\n",
        "\n",
        "3. 70,72 and 70,115"
      ]
    },
    {
      "cell_type": "code",
      "metadata": {
        "id": "KF1OFzRDsP--",
        "colab_type": "code",
        "colab": {}
      },
      "source": [
        "def sq_euclidean_distance(x1, x2, y1, y2):\n",
        "    '''Compute Squared Euclidean Distance between two vectors'''\n",
        "    return (x1 - x2)**2 + (y1 - y2)**2"
      ],
      "execution_count": 0,
      "outputs": []
    },
    {
      "cell_type": "code",
      "metadata": {
        "id": "dh1MxMTzsQNB",
        "colab_type": "code",
        "colab": {
          "base_uri": "https://localhost:8080/",
          "height": 85
        },
        "outputId": "37a98a43-4247-427d-a558-3fa26a738bbb"
      },
      "source": [
        "print(\"****Squared L2 Distances****\")\n",
        "print(\"Pair 1: \", sq_euclidean_distance(2, 2, 3, 120))\n",
        "print(\"Pair 2: \", sq_euclidean_distance(30, 30, 31, 100))\n",
        "print(\"Pair 3: \", sq_euclidean_distance(70, 70, 72, 115))"
      ],
      "execution_count": 247,
      "outputs": [
        {
          "output_type": "stream",
          "text": [
            "****Squared L2 Distances****\n",
            "Pair 1:  13689\n",
            "Pair 2:  4761\n",
            "Pair 3:  1849\n"
          ],
          "name": "stdout"
        }
      ]
    },
    {
      "cell_type": "code",
      "metadata": {
        "id": "LOFOx4iUBFvX",
        "colab_type": "code",
        "colab": {
          "base_uri": "https://localhost:8080/",
          "height": 34
        },
        "outputId": "ffea107f-c77b-4cd2-c11e-85578378ae90"
      },
      "source": [
        "len(embeddings)"
      ],
      "execution_count": 248,
      "outputs": [
        {
          "output_type": "execute_result",
          "data": {
            "text/plain": [
              "201"
            ]
          },
          "metadata": {
            "tags": []
          },
          "execution_count": 248
        }
      ]
    },
    {
      "cell_type": "markdown",
      "metadata": {
        "id": "N_HfgsQXgV6u",
        "colab_type": "text"
      },
      "source": [
        "#### Now lets build a SVM classifier to predict person in the given image. "
      ]
    },
    {
      "cell_type": "markdown",
      "metadata": {
        "id": "AahHoLK1hZJj",
        "colab_type": "text"
      },
      "source": [
        "Use LinearSVC in sklearn.svm\n",
        "\n",
        "Run the below code to divide half of the images as training set and another half of the images as test set."
      ]
    },
    {
      "cell_type": "code",
      "metadata": {
        "id": "2gfLzoBIhrpV",
        "colab_type": "code",
        "colab": {
          "base_uri": "https://localhost:8080/",
          "height": 68
        },
        "outputId": "3894be18-9528-41f5-e97d-1ca07c9cfaa9"
      },
      "source": [
        "from sklearn.metrics import f1_score, accuracy_score\n",
        "from sklearn.preprocessing import LabelEncoder\n",
        "from sklearn.svm import LinearSVC\n",
        "\n",
        "targets = np.array([m.name for m in metadata])\n",
        "\n",
        "encoder = LabelEncoder()\n",
        "encoder.fit(targets)\n",
        "\n",
        "# Numerical encoding of identities\n",
        "y = encoder.transform(targets)\n",
        "\n",
        "train_idx = np.arange(metadata.shape[0]) % 2 != 0\n",
        "test_idx = np.arange(metadata.shape[0]) % 2 == 0\n",
        "\n",
        "## checking the shapes of metaadata and test and train sets\n",
        "print(metadata.shape)\n",
        "print(train_idx.shape)\n",
        "print(test_idx.shape)\n",
        "\n",
        "# one half as train examples of 10 identities\n",
        "X_train = embeddings[1::2]\n",
        "# another half as test examples of 10 identities\n",
        "X_test = embeddings[0::2]\n",
        "\n",
        "y_train = y[train_idx]\n",
        "y_test = y[test_idx]"
      ],
      "execution_count": 249,
      "outputs": [
        {
          "output_type": "stream",
          "text": [
            "(201,)\n",
            "(201,)\n",
            "(201,)\n"
          ],
          "name": "stdout"
        }
      ]
    },
    {
      "cell_type": "markdown",
      "metadata": {
        "id": "312NcUeuiNpL",
        "colab_type": "text"
      },
      "source": [
        "#### Build SVM and report the accuracy"
      ]
    },
    {
      "cell_type": "code",
      "metadata": {
        "id": "6ybglrDph7tJ",
        "colab_type": "code",
        "colab": {}
      },
      "source": [
        "clf = LinearSVC(random_state = 42)"
      ],
      "execution_count": 0,
      "outputs": []
    },
    {
      "cell_type": "code",
      "metadata": {
        "id": "92SW_YgsCiJ6",
        "colab_type": "code",
        "colab": {
          "base_uri": "https://localhost:8080/",
          "height": 85
        },
        "outputId": "596954da-e8fc-47ee-b7f9-d5c7f7900a10"
      },
      "source": [
        "clf.fit(X_train, y_train)"
      ],
      "execution_count": 251,
      "outputs": [
        {
          "output_type": "execute_result",
          "data": {
            "text/plain": [
              "LinearSVC(C=1.0, class_weight=None, dual=True, fit_intercept=True,\n",
              "          intercept_scaling=1, loss='squared_hinge', max_iter=1000,\n",
              "          multi_class='ovr', penalty='l2', random_state=42, tol=0.0001,\n",
              "          verbose=0)"
            ]
          },
          "metadata": {
            "tags": []
          },
          "execution_count": 251
        }
      ]
    },
    {
      "cell_type": "code",
      "metadata": {
        "id": "pGwOM2KzPGGW",
        "colab_type": "code",
        "colab": {
          "base_uri": "https://localhost:8080/",
          "height": 34
        },
        "outputId": "39b9e46c-6373-4591-8ecd-9d836959543b"
      },
      "source": [
        "clf.score(X_test, y_test)"
      ],
      "execution_count": 252,
      "outputs": [
        {
          "output_type": "execute_result",
          "data": {
            "text/plain": [
              "0.9603960396039604"
            ]
          },
          "metadata": {
            "tags": []
          },
          "execution_count": 252
        }
      ]
    },
    {
      "cell_type": "code",
      "metadata": {
        "id": "oM9t8ZNBR0oz",
        "colab_type": "code",
        "colab": {}
      },
      "source": [
        "#Good Score Achieved"
      ],
      "execution_count": 0,
      "outputs": []
    },
    {
      "cell_type": "markdown",
      "metadata": {
        "id": "JqFfYIZbiXG8",
        "colab_type": "text"
      },
      "source": [
        "#### Test the classifier\n",
        "\n",
        "Take 35th image from test set and plot the image, report to which person(folder name in dataset) the image belongs to."
      ]
    },
    {
      "cell_type": "code",
      "metadata": {
        "id": "p2E6WBuMiBmX",
        "colab_type": "code",
        "colab": {}
      },
      "source": [
        "from google.colab.patches import cv2_imshow"
      ],
      "execution_count": 0,
      "outputs": []
    },
    {
      "cell_type": "code",
      "metadata": {
        "id": "TL5NZ7DIaUoP",
        "colab_type": "code",
        "colab": {}
      },
      "source": [
        "resized_image = cv2.resize(X_test[35], (96, 96))"
      ],
      "execution_count": 0,
      "outputs": []
    },
    {
      "cell_type": "code",
      "metadata": {
        "id": "s-XDKD_1ahIP",
        "colab_type": "code",
        "colab": {
          "base_uri": "https://localhost:8080/",
          "height": 113
        },
        "outputId": "9ef2d63f-3764-4a63-cacd-62dd147a9da6"
      },
      "source": [
        "cv2_imshow(resized_image)"
      ],
      "execution_count": 279,
      "outputs": [
        {
          "output_type": "display_data",
          "data": {
            "image/png": "[encoded data removed]",
            "text/plain": [
              "<PIL.Image.Image image mode=L size=96x96 at 0x7F1CB09067F0>"
            ]
          },
          "metadata": {
            "tags": []
          }
        }
      ]
    }
  ]
}