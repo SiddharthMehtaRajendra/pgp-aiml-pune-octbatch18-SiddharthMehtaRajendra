{
 "cells": [
  {
   "cell_type": "code",
   "execution_count": 151,
   "metadata": {},
   "outputs": [],
   "source": [
    "import numpy as np\n",
    "import pandas as pd"
   ]
  },
  {
   "cell_type": "code",
   "execution_count": 152,
   "metadata": {},
   "outputs": [],
   "source": [
    "df = pd.read_csv('Salesperson_Data.csv')\n",
    "old_scheme = df[df.columns[1]]\n",
    "new_scheme = df[df.columns[2]]"
   ]
  },
  {
   "cell_type": "code",
   "execution_count": 153,
   "metadata": {},
   "outputs": [],
   "source": [
    "old_scheme_mean = df.iloc[:,1:2].mean()"
   ]
  },
  {
   "cell_type": "code",
   "execution_count": 154,
   "metadata": {},
   "outputs": [],
   "source": [
    "new_scheme_mean = df.iloc[:,2:3].mean()"
   ]
  },
  {
   "cell_type": "code",
   "execution_count": 155,
   "metadata": {},
   "outputs": [
    {
     "name": "stdout",
     "output_type": "stream",
     "text": [
      "Old Scheme Mean: 68.033333, New Scheme Mean: 72.033333 \n"
     ]
    }
   ],
   "source": [
    "print(\"Old Scheme Mean: %f, New Scheme Mean: %f \" % (old_scheme_mean, new_scheme_mean))"
   ]
  },
  {
   "cell_type": "code",
   "execution_count": 156,
   "metadata": {},
   "outputs": [
    {
     "name": "stdout",
     "output_type": "stream",
     "text": [
      "Confidence Interval for Lower Tail Test:  -1.671552762153672\n"
     ]
    }
   ],
   "source": [
    "import scipy.stats as stats\n",
    "from scipy.stats import t\n",
    "N1 = len(old_scheme)\n",
    "N2 = len(new_scheme)\n",
    "degrees_of_freedom = (N1 + N2 - 2)\n",
    "t_val = t.ppf([0.95], degrees_of_freedom)\n",
    "print(\"Confidence Interval for Lower Tail Test: \", -t_val[0])"
   ]
  },
  {
   "cell_type": "markdown",
   "metadata": {},
   "source": [
    "As there are 2 independent samples, and we are not aware of the population standard deviation, I suggest to use the Student T Test for 2 samples, given that we are aware of the means of each sample.\n",
    "We will form the hypothesis as follows:\n",
    "    H0 (Null Hypothesis): There has been no significant change in the output\n",
    "    H1 (Alternate Hypothesis): The new scheme has been effective in significantly raising output\n",
    "Note that this is a one tail test (lower tail) as we attempt to check whether the new sample indicates significant increase in output, or rather that the old sample is significantly less effective. The alpha value we will use is 0.05 (95% confidence level)\n",
    "\n",
    "The t-statistic for a lower tail test with significance level 95% will be taken. However, we will first have to undertake the Normality Test for ensuring normal distribution and the Levene test for equal variance, to detect whether there is a variability in variance between the 2 samples of the old and new scheme, with alpha 0.05.\n",
    "\n",
    "Subject to passing the Normality and Levene test, we shall perform the t test for 2 independent samples and we shall reject the null hypothesis should the t-value be lesser than/outside the confidence interval (-1.672) calculated above and the p-value to fall below alpha i.e. p-value < 0.05, else we will not reject the null hypothesis. Note that the program calculated p-value will be divided by two as it is a one tail test.\n",
    "Rejecting the null hypothesis would indicate that the new scheme has indeed caused a significant increase in output."
   ]
  },
  {
   "cell_type": "code",
   "execution_count": 157,
   "metadata": {},
   "outputs": [
    {
     "name": "stdout",
     "output_type": "stream",
     "text": [
      "Statistics=0.989, p=0.981\n"
     ]
    }
   ],
   "source": [
    "## normality test\n",
    "## p <= alpha: reject H0, not normal.\n",
    "## p > alpha: fail to reject H0, normal.\n",
    "\n",
    "from scipy.stats import shapiro\n",
    "stat, p = shapiro(old_scheme)\n",
    "print('Statistics=%.3f, p=%.3f' % (stat, p))\n"
   ]
  },
  {
   "cell_type": "code",
   "execution_count": 158,
   "metadata": {},
   "outputs": [
    {
     "name": "stdout",
     "output_type": "stream",
     "text": [
      "Statistics=0.969, p=0.506\n"
     ]
    }
   ],
   "source": [
    "stat, p = shapiro(new_scheme)\n",
    "print('Statistics=%.3f, p=%.3f' % (stat, p))"
   ]
  },
  {
   "cell_type": "code",
   "execution_count": 159,
   "metadata": {},
   "outputs": [
    {
     "name": "stdout",
     "output_type": "stream",
     "text": [
      "Std. Dev of Old Scheme 20.455980212074454\n",
      "Std. Dev of New Scheme 24.06239494677769\n"
     ]
    },
    {
     "data": {
      "text/plain": [
       "LeveneResult(statistic=1.063061539437244, pvalue=0.30679836081811235)"
      ]
     },
     "execution_count": 159,
     "metadata": {},
     "output_type": "execute_result"
    }
   ],
   "source": [
    "## Levene test for Equal Variance\n",
    "## p <= alpha: reject H0, not equal variance.\n",
    "## p > alpha: fail to reject H0, equal variance.\n",
    "import statistics as stats\n",
    "print(\"Std. Dev of Old Scheme\", stats.stdev(old_scheme))\n",
    "print(\"Std. Dev of New Scheme\", stats.stdev(new_scheme))\n",
    "\n",
    "from scipy.stats import levene\n",
    "levene(old_scheme, new_scheme)"
   ]
  },
  {
   "cell_type": "markdown",
   "metadata": {},
   "source": [
    "Thus, the p-value of both normality tests for old and new schemes and the p-value of the Levene test for equal variance are higher than the alpha value, which indicates that the data is sufficiently clean to undertake the t test for 2 independent samples."
   ]
  },
  {
   "cell_type": "code",
   "execution_count": 160,
   "metadata": {},
   "outputs": [
    {
     "name": "stdout",
     "output_type": "stream",
     "text": [
      "T-statistic:  -0.6937067608923764\n",
      "p-value (One Tail):  0.24531757843124052\n"
     ]
    }
   ],
   "source": [
    "from scipy.stats import ttest_ind\n",
    "\n",
    "ttest = ttest_ind(old_scheme, new_scheme, equal_var=True)\n",
    "print('T-statistic: ', ttest.statistic)\n",
    "print('p-value (One Tail): ', ttest.pvalue/2)"
   ]
  },
  {
   "cell_type": "code",
   "execution_count": 167,
   "metadata": {},
   "outputs": [
    {
     "name": "stdout",
     "output_type": "stream",
     "text": [
      "\n",
      "The difference between groups is \n",
      "       -4.000 [-13.638 to 5.638] (mean [95% CI])\n"
     ]
    }
   ],
   "source": [
    "from scipy.stats import t\n",
    "N1 = len(old_scheme)\n",
    "N2 = len(new_scheme)\n",
    "df = (N1 + N2 - 2)\n",
    "std1 = old_scheme.std()\n",
    "std2 = new_scheme.std()\n",
    "std_N1N2 = sqrt( ((N1 - 1)*(std1)**2 + (N2 - 1)*(std2)**2) / df) \n",
    "\n",
    "diff_mean_old = old_scheme.mean() - new_scheme.mean()\n",
    "MoE_old = t.ppf(0.95, df) * std_N1N2 * sqrt(1/N1 + 1/N2)\n",
    "\n",
    "print (\"\\nThe difference between groups is \\n\\\n",
    "       {:3.3f} [{:3.3f} to {:3.3f}] (mean [95% CI])\".format(\n",
    "        diff_mean_old, diff_mean_old - MoE_old, diff_mean_old + MoE_old))"
   ]
  },
  {
   "cell_type": "markdown",
   "metadata": {},
   "source": [
    "Based on the above results, we see that the t-stat value is greater than the confidence interval i.e. t-stat (-0.6937) > -1.672 and the one tailed p-value (0.2453) is greater than alpha. Based on the theory of t-stat and p-value tests for 2 independent samples, we conclude that there is insufficient evidence to prove that the null hypothesis can be rejected. Thus we may not reject the null hypothesis. "
   ]
  },
  {
   "cell_type": "markdown",
   "metadata": {},
   "source": [
    "Based on the p-value calculation (0.2453) above, which is greater than alpha (0.05), we cannot reject the null hypothesis. Thus we can say that the new scheme has not been effective in significantly raising output or that there has been no significant change in the output after bringing in the new scheme, based on the sample data provided. We can thus accept H0 as there is not much of a difference."
   ]
  },
  {
   "cell_type": "markdown",
   "metadata": {},
   "source": [
    "Q4. Suppose it has been calculated that in order for Titan to break even, the average output must increase by £5000 in the scheme compared to the old scheme.\n",
    "\n",
    "Ans:\n",
    "The null and alternate hypothesis would then be,\n",
    "H0: Titan will not break even on increasing average output by 5000.\n",
    "H1: Titan will break even on increasing average output by 5000.\n",
    "\n",
    "Ans 4a) We will take the probability of a type I error i.e. alpha to be 5% or 0.05 for this test. The probability of a type I error indicates the probability where we may reject the null hypothesis, even if it is true.\n",
    "\n",
    "Now, for the p-value of the new test we shall add all rows of the new scheme by 5 (in thousands) considering the average output will increase by 5 (in thousands), and then run the t test for 2 independent samples, as we had done previously."
   ]
  },
  {
   "cell_type": "code",
   "execution_count": 162,
   "metadata": {},
   "outputs": [],
   "source": [
    "#Increase Average Output by 5 (in thousands) for Titan to break even with the new scheme\n",
    "new_scheme_post_add = new_scheme + 5"
   ]
  },
  {
   "cell_type": "markdown",
   "metadata": {},
   "source": [
    "Considering the Levene and normality test has been cleared, we shall perform the t test for 2 independent samples and we shall reject the null hypothesis should the t-value be lesser than/outside the confidence interval (-1.672) and the p-value to fall below alpha i.e. p-value < 0.05, else we will not reject the null hypothesis. Note that the program calculated p-value will be divided by two as it is a one tail test.\n",
    "Rejecting the null hypothesis would indicate that the increasing output by 5000 has allowed Titan to break even."
   ]
  },
  {
   "cell_type": "code",
   "execution_count": 163,
   "metadata": {},
   "outputs": [
    {
     "name": "stdout",
     "output_type": "stream",
     "text": [
      "T-statistic:  -1.5608402120078468\n",
      "p-value (One Tail):  0.062000899994376045\n"
     ]
    }
   ],
   "source": [
    "ttest = ttest_ind(old_scheme, new_scheme_post_add, equal_var=True)\n",
    "print('T-statistic: ', ttest.statistic)\n",
    "print('p-value (One Tail): ', ttest.pvalue/2)"
   ]
  },
  {
   "cell_type": "code",
   "execution_count": 164,
   "metadata": {},
   "outputs": [
    {
     "name": "stdout",
     "output_type": "stream",
     "text": [
      "22.33210667415296\n",
      "\n",
      "The difference between groups is \n",
      "       -9.000 [-18.638 to 0.638] (mean [95% CI])\n"
     ]
    }
   ],
   "source": [
    "N1 = len(old_scheme)\n",
    "N2 = len(new_scheme_post_add)\n",
    "df = (N1 + N2 - 2)\n",
    "std1 = old_scheme.std()\n",
    "std2 = new_scheme_post_add.std()\n",
    "std_N1N2 = sqrt( ((N1 - 1)*(std1)**2 + (N2 - 1)*(std2)**2) / df) \n",
    "print(std_N1N2)\n",
    "diff_mean_new = old_scheme.mean() - new_scheme_post_add.mean()\n",
    "MoE_new = t.ppf(0.95, df) * std_N1N2 * sqrt(1/N1 + 1/N2)\n",
    "\n",
    "print (\"\\nThe difference between groups is \\n\\\n",
    "       {:3.3f} [{:3.3f} to {:3.3f}] (mean [95% CI])\".format(\n",
    "        diff_mean_new, diff_mean_new - MoE_new, diff_mean_new + MoE_new))"
   ]
  },
  {
   "cell_type": "markdown",
   "metadata": {},
   "source": [
    "Based on the above results, we see that the t-stat value is greater than the confidence interval i.e. t-stat (-1.561) > -1.672 and the one tailed p-value (0.062) is greater than alpha. Based on the theory of t-stat and p-value tests for 2 independent samples, we conclude that there is insufficient evidence to prove that the null hypothesis can be rejected. Thus we may not reject the null hypothesis."
   ]
  },
  {
   "cell_type": "markdown",
   "metadata": {},
   "source": [
    "Based on the p-value calculation (0.062) above, which is greater than alpha (0.05), we cannot reject the null hypothesis. Thus we can say that Titan will not break even on increasing output by 5 (in thousands)."
   ]
  },
  {
   "cell_type": "markdown",
   "metadata": {},
   "source": [
    "After extensive research on the internet, it was very difficult to find a correct method for the above case to detect the probability of making a type II error, through which we can deduce the power of our test i.e. (1 - type II error). I referred a reference from an R tutorial, and deduced a method, which was to calculate new t scores based on the confidence intervals obtained previously. I used the formula for retrieving the t score for each tail of the confidence interval, and then deduced the cumulative distribution function difference for the 2 scores, for the lower and upper tail. This provided me the probability of a type II error, which I subtracted from 1 to get the power of the test.\n"
   ]
  },
  {
   "cell_type": "code",
   "execution_count": 169,
   "metadata": {},
   "outputs": [
    {
     "name": "stdout",
     "output_type": "stream",
     "text": [
      "0.22389289434063872\n",
      "1.0870790290243961\n",
      "Power of Test in Percent (Approximate):  72.8935774921431 %\n"
     ]
    }
   ],
   "source": [
    "from scipy.stats import t\n",
    "df = (N1 + N2 - 2)\n",
    "std1 = old_scheme.std()\n",
    "std2 = new_scheme_post_add.std()\n",
    "std_N1N2 = sqrt( ((N1 - 1)*(std1)**2 + (N2 - 1)*(std2)**2) / df) \n",
    "tleft = ((diff_mean_old - MoE_old) - (diff_mean_new - MoE_new))/std_N1N2\n",
    "tright = ((diff_mean_old + MoE_old) - (diff_mean_new - MoE_new))/std_N1N2\n",
    "print(tleft)\n",
    "print(tright)\n",
    "typeIIprob = (t.cdf(tright,df=df)) - (t.cdf(tleft,df=df))\n",
    "power = 1 - typeIIprob\n",
    "print(\"Power of Test in Percent (Approximate): \", power*100,\"%\")"
   ]
  },
  {
   "cell_type": "markdown",
   "metadata": {},
   "source": [
    "Thus, the power of the test is approximately 72.89% which means that if we increase the average output by 5 (in thousands), the probability that we will reject the null hypothesis is 72.89%."
   ]
  },
  {
   "cell_type": "code",
   "execution_count": null,
   "metadata": {},
   "outputs": [],
   "source": []
  },
  {
   "cell_type": "code",
   "execution_count": null,
   "metadata": {},
   "outputs": [],
   "source": []
  }
 ],
 "metadata": {
  "kernelspec": {
   "display_name": "Python 3",
   "language": "python",
   "name": "python3"
  },
  "language_info": {
   "codemirror_mode": {
    "name": "ipython",
    "version": 3
   },
   "file_extension": ".py",
   "mimetype": "text/x-python",
   "name": "python",
   "nbconvert_exporter": "python",
   "pygments_lexer": "ipython3",
   "version": "3.7.0"
  }
 },
 "nbformat": 4,
 "nbformat_minor": 2
}
