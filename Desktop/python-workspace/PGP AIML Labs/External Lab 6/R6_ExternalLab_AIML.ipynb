{
 "cells": [
  {
   "cell_type": "markdown",
   "metadata": {
    "colab_type": "text",
    "id": "YYk8NG3yOIT9"
   },
   "source": [
    "### A MNIST-like fashion product database\n",
    "\n",
    "In this, we classify the images into respective classes given in the dataset. We use a Neural Net and a Deep Neural Net in Keras to solve this and check the accuracy scores."
   ]
  },
  {
   "cell_type": "markdown",
   "metadata": {
    "colab_type": "text",
    "id": "tFO6PuxzOIT_",
    "slideshow": {
     "slide_type": "slide"
    }
   },
   "source": [
    "### Load tensorflow"
   ]
  },
  {
   "cell_type": "code",
   "execution_count": 1,
   "metadata": {
    "colab": {},
    "colab_type": "code",
    "id": "efNjNImfOIUC"
   },
   "outputs": [],
   "source": [
    "import tensorflow as tf\n",
    "tf.set_random_seed(42)"
   ]
  },
  {
   "cell_type": "code",
   "execution_count": 2,
   "metadata": {
    "colab": {},
    "colab_type": "code",
    "id": "l9C4aAIGOIUH",
    "outputId": "5ef9aff6-a7bd-4b26-cba6-8750955f6ca3"
   },
   "outputs": [
    {
     "data": {
      "text/plain": [
       "'1.13.1'"
      ]
     },
     "execution_count": 2,
     "metadata": {},
     "output_type": "execute_result"
    }
   ],
   "source": [
    "tf.__version__"
   ]
  },
  {
   "cell_type": "markdown",
   "metadata": {
    "colab_type": "text",
    "id": "HcoZBStrOIUQ",
    "slideshow": {
     "slide_type": "slide"
    }
   },
   "source": [
    "### Collect Data"
   ]
  },
  {
   "cell_type": "code",
   "execution_count": 3,
   "metadata": {
    "colab": {},
    "colab_type": "code",
    "id": "XA1WsFSeOIUS"
   },
   "outputs": [],
   "source": [
    "from tensorflow import keras"
   ]
  },
  {
   "cell_type": "code",
   "execution_count": 25,
   "metadata": {
    "colab": {},
    "colab_type": "code",
    "id": "qnbx7TyQOIUY"
   },
   "outputs": [],
   "source": [
    "(trainX, trainY), (testX, testY) = keras.datasets.fashion_mnist.load_data()\n",
    "train_labels = trainY"
   ]
  },
  {
   "cell_type": "code",
   "execution_count": 26,
   "metadata": {
    "colab": {},
    "colab_type": "code",
    "id": "UbiHj5YPOIUc",
    "outputId": "87e1b9cd-07f0-45cb-e706-0d51ad742d72",
    "slideshow": {
     "slide_type": "fragment"
    }
   },
   "outputs": [
    {
     "name": "stdout",
     "output_type": "stream",
     "text": [
      "[9 2 1 1 6]\n"
     ]
    }
   ],
   "source": [
    "print(testY[0:5])"
   ]
  },
  {
   "cell_type": "markdown",
   "metadata": {
    "colab_type": "text",
    "id": "lDAYzkwyOIUj",
    "slideshow": {
     "slide_type": "slide"
    }
   },
   "source": [
    "### Convert both training and testing labels into one-hot vectors.\n",
    "\n",
    "**Hint:** check **tf.keras.utils.to_categorical()**"
   ]
  },
  {
   "cell_type": "code",
   "execution_count": 27,
   "metadata": {
    "colab": {},
    "colab_type": "code",
    "id": "vBlfYlANOIUk"
   },
   "outputs": [],
   "source": [
    "trainY = tf.keras.utils.to_categorical(trainY, num_classes=10)\n",
    "testY = tf.keras.utils.to_categorical(testY, num_classes=10)"
   ]
  },
  {
   "cell_type": "code",
   "execution_count": 28,
   "metadata": {
    "colab": {},
    "colab_type": "code",
    "id": "RHV3b9mzOIUq",
    "outputId": "27bdfe58-91ee-4677-fe49-e742ad306c70",
    "scrolled": true,
    "slideshow": {
     "slide_type": "fragment"
    }
   },
   "outputs": [
    {
     "name": "stdout",
     "output_type": "stream",
     "text": [
      "(60000, 10)\n",
      "First 5 examples now are:  [[0. 0. 0. 0. 0. 0. 0. 0. 0. 1.]\n",
      " [1. 0. 0. 0. 0. 0. 0. 0. 0. 0.]\n",
      " [1. 0. 0. 0. 0. 0. 0. 0. 0. 0.]\n",
      " [0. 0. 0. 1. 0. 0. 0. 0. 0. 0.]\n",
      " [1. 0. 0. 0. 0. 0. 0. 0. 0. 0.]]\n"
     ]
    }
   ],
   "source": [
    "print(trainY.shape)\n",
    "print('First 5 examples now are: ', trainY[0:5])"
   ]
  },
  {
   "cell_type": "markdown",
   "metadata": {
    "colab_type": "text",
    "id": "FwhQ8e7VOIUw"
   },
   "source": [
    "### Visualize the data\n",
    "\n",
    "Plot first 10 images in the triaining set and their labels."
   ]
  },
  {
   "cell_type": "code",
   "execution_count": 30,
   "metadata": {
    "colab": {},
    "colab_type": "code",
    "id": "AvDML2OoOIUx",
    "outputId": "9dafc94e-61a8-4089-be03-d143163d68aa"
   },
   "outputs": [
    {
     "data": {
      "image/png": "[encoded data removed]",
      "text/plain": [
       "<Figure size 432x288 with 1 Axes>"
      ]
     },
     "metadata": {
      "needs_background": "light"
     },
     "output_type": "display_data"
    },
    {
     "data": {
      "image/png": "[encoded data removed]",
      "text/plain": [
       "<Figure size 432x288 with 1 Axes>"
      ]
     },
     "metadata": {
      "needs_background": "light"
     },
     "output_type": "display_data"
    },
    {
     "data": {
      "image/png": "[encoded data removed]",
      "text/plain": [
       "<Figure size 432x288 with 1 Axes>"
      ]
     },
     "metadata": {
      "needs_background": "light"
     },
     "output_type": "display_data"
    },
    {
     "data": {
      "image/png": "[encoded data removed]",
      "text/plain": [
       "<Figure size 432x288 with 1 Axes>"
      ]
     },
     "metadata": {
      "needs_background": "light"
     },
     "output_type": "display_data"
    },
    {
     "data": {
      "image/png": "[encoded data removed]",
      "text/plain": [
       "<Figure size 432x288 with 1 Axes>"
      ]
     },
     "metadata": {
      "needs_background": "light"
     },
     "output_type": "display_data"
    },
    {
     "data": {
      "image/png": "[encoded data removed]",
      "text/plain": [
       "<Figure size 432x288 with 1 Axes>"
      ]
     },
     "metadata": {
      "needs_background": "light"
     },
     "output_type": "display_data"
    },
    {
     "data": {
      "image/png": "[encoded data removed]",
      "text/plain": [
       "<Figure size 432x288 with 1 Axes>"
      ]
     },
     "metadata": {
      "needs_background": "light"
     },
     "output_type": "display_data"
    },
    {
     "data": {
      "image/png": "[encoded data removed]",
      "text/plain": [
       "<Figure size 432x288 with 1 Axes>"
      ]
     },
     "metadata": {
      "needs_background": "light"
     },
     "output_type": "display_data"
    },
    {
     "data": {
      "image/png": "[encoded data removed]",
      "text/plain": [
       "<Figure size 432x288 with 1 Axes>"
      ]
     },
     "metadata": {
      "needs_background": "light"
     },
     "output_type": "display_data"
    },
    {
     "data": {
      "image/png": "[encoded data removed]",
      "text/plain": [
       "<Figure size 432x288 with 1 Axes>"
      ]
     },
     "metadata": {
      "needs_background": "light"
     },
     "output_type": "display_data"
    }
   ],
   "source": [
    "#Lets print the image as well\n",
    "import matplotlib.pyplot as plt\n",
    "    \n",
    "for i in range(10):\n",
    "    img = trainX[i].reshape((28,28))\n",
    "    plt.imshow(img, cmap=\"Greys\")\n",
    "    plt.title(\"Label: \" + str(train_labels[i]))\n",
    "    plt.show()"
   ]
  },
  {
   "cell_type": "markdown",
   "metadata": {
    "colab_type": "text",
    "id": "l4TbJGeSOIU4",
    "slideshow": {
     "slide_type": "slide"
    }
   },
   "source": [
    "### Build a neural Network with a cross entropy loss function and sgd optimizer in Keras. The output layer with 10 neurons as we have 10 classes."
   ]
  },
  {
   "cell_type": "code",
   "execution_count": 43,
   "metadata": {
    "colab": {},
    "colab_type": "code",
    "id": "Ac06XZZTOIU6"
   },
   "outputs": [],
   "source": [
    "#Initialize Sequential model\n",
    "model = tf.keras.models.Sequential()\n",
    "\n",
    "#Reshape data from 2D to 1D -> 28x28 to 784\n",
    "model.add(tf.keras.layers.Reshape((784,),input_shape=(28,28,)))\n",
    "\n",
    "#Add Dense Layer which provides 10 Outputs after applying softmax\n",
    "model.add(tf.keras.layers.Dense(10, activation='softmax'))\n",
    "\n",
    "#Comile the model\n",
    "model.compile(optimizer='sgd', loss='categorical_crossentropy', metrics=['accuracy'])"
   ]
  },
  {
   "cell_type": "markdown",
   "metadata": {
    "colab_type": "text",
    "id": "3hQpLv3aOIU_",
    "slideshow": {
     "slide_type": "slide"
    }
   },
   "source": [
    "### Execute the model using model.fit()"
   ]
  },
  {
   "cell_type": "code",
   "execution_count": 44,
   "metadata": {
    "colab": {},
    "colab_type": "code",
    "id": "O59C_-IgOIVB"
   },
   "outputs": [
    {
     "name": "stdout",
     "output_type": "stream",
     "text": [
      "Train on 60000 samples, validate on 10000 samples\n",
      "Epoch 1/50\n",
      "60000/60000 [==============================] - 0s 7us/sample - loss: 14.8652 - acc: 0.0645 - val_loss: 12.1014 - val_acc: 0.2454\n",
      "Epoch 2/50\n",
      "60000/60000 [==============================] - 0s 5us/sample - loss: 12.0908 - acc: 0.2461 - val_loss: 12.5048 - val_acc: 0.2203\n",
      "Epoch 3/50\n",
      "60000/60000 [==============================] - 0s 4us/sample - loss: 12.5004 - acc: 0.2204 - val_loss: 12.8701 - val_acc: 0.2008\n",
      "Epoch 4/50\n",
      "60000/60000 [==============================] - 0s 4us/sample - loss: 12.8708 - acc: 0.2008 - val_loss: 12.8173 - val_acc: 0.2039\n",
      "Epoch 5/50\n",
      "60000/60000 [==============================] - 0s 4us/sample - loss: 12.8214 - acc: 0.2036 - val_loss: 12.6406 - val_acc: 0.2140\n",
      "Epoch 6/50\n",
      "60000/60000 [==============================] - 0s 4us/sample - loss: 12.6417 - acc: 0.2140 - val_loss: 11.5029 - val_acc: 0.2848\n",
      "Epoch 7/50\n",
      "60000/60000 [==============================] - 0s 4us/sample - loss: 11.4744 - acc: 0.2867 - val_loss: 11.4888 - val_acc: 0.2861\n",
      "Epoch 8/50\n",
      "60000/60000 [==============================] - 0s 4us/sample - loss: 11.4452 - acc: 0.2890 - val_loss: 11.3895 - val_acc: 0.2926\n",
      "Epoch 9/50\n",
      "60000/60000 [==============================] - 0s 4us/sample - loss: 11.3744 - acc: 0.2932 - val_loss: 11.3628 - val_acc: 0.2941\n",
      "Epoch 10/50\n",
      "60000/60000 [==============================] - 0s 5us/sample - loss: 11.3394 - acc: 0.2954 - val_loss: 11.3155 - val_acc: 0.2965\n",
      "Epoch 11/50\n",
      "60000/60000 [==============================] - 0s 4us/sample - loss: 11.2959 - acc: 0.2980 - val_loss: 11.2300 - val_acc: 0.3017\n",
      "Epoch 12/50\n",
      "60000/60000 [==============================] - 0s 4us/sample - loss: 11.2182 - acc: 0.3025 - val_loss: 11.0997 - val_acc: 0.3104\n",
      "Epoch 13/50\n",
      "60000/60000 [==============================] - 0s 5us/sample - loss: 11.1061 - acc: 0.3091 - val_loss: 10.9671 - val_acc: 0.3177\n",
      "Epoch 14/50\n",
      "60000/60000 [==============================] - 0s 4us/sample - loss: 10.9821 - acc: 0.3163 - val_loss: 10.8597 - val_acc: 0.3227\n",
      "Epoch 15/50\n",
      "60000/60000 [==============================] - 0s 4us/sample - loss: 10.8854 - acc: 0.3219 - val_loss: 10.8032 - val_acc: 0.3266\n",
      "Epoch 16/50\n",
      "60000/60000 [==============================] - 0s 5us/sample - loss: 10.8323 - acc: 0.3253 - val_loss: 10.7764 - val_acc: 0.3282\n",
      "Epoch 17/50\n",
      "60000/60000 [==============================] - 0s 5us/sample - loss: 10.8008 - acc: 0.3270 - val_loss: 10.7582 - val_acc: 0.3306\n",
      "Epoch 18/50\n",
      "60000/60000 [==============================] - 0s 4us/sample - loss: 10.7779 - acc: 0.3288 - val_loss: 10.7199 - val_acc: 0.3322\n",
      "Epoch 19/50\n",
      "60000/60000 [==============================] - 0s 4us/sample - loss: 10.7684 - acc: 0.3290 - val_loss: 10.7273 - val_acc: 0.3320\n",
      "Epoch 20/50\n",
      "60000/60000 [==============================] - 0s 4us/sample - loss: 10.7454 - acc: 0.3313 - val_loss: 10.6891 - val_acc: 0.3338\n",
      "Epoch 21/50\n",
      "60000/60000 [==============================] - 0s 5us/sample - loss: 10.7362 - acc: 0.3316 - val_loss: 10.6721 - val_acc: 0.3348\n",
      "Epoch 22/50\n",
      "60000/60000 [==============================] - 0s 5us/sample - loss: 10.7208 - acc: 0.3325 - val_loss: 10.6543 - val_acc: 0.3358\n",
      "Epoch 23/50\n",
      "60000/60000 [==============================] - 0s 4us/sample - loss: 10.7041 - acc: 0.3336 - val_loss: 10.6671 - val_acc: 0.3362\n",
      "Epoch 24/50\n",
      "60000/60000 [==============================] - 0s 4us/sample - loss: 10.6949 - acc: 0.3342 - val_loss: 10.6340 - val_acc: 0.3383\n",
      "Epoch 25/50\n",
      "60000/60000 [==============================] - 0s 4us/sample - loss: 10.6812 - acc: 0.3348 - val_loss: 10.6184 - val_acc: 0.3389\n",
      "Epoch 26/50\n",
      "60000/60000 [==============================] - 0s 4us/sample - loss: 10.6664 - acc: 0.3358 - val_loss: 10.6066 - val_acc: 0.3396\n",
      "Epoch 27/50\n",
      "60000/60000 [==============================] - 0s 4us/sample - loss: 10.6525 - acc: 0.3365 - val_loss: 10.6251 - val_acc: 0.3387\n",
      "Epoch 28/50\n",
      "60000/60000 [==============================] - 0s 4us/sample - loss: 10.6513 - acc: 0.3370 - val_loss: 10.5981 - val_acc: 0.3395\n",
      "Epoch 29/50\n",
      "60000/60000 [==============================] - 0s 4us/sample - loss: 10.6481 - acc: 0.3363 - val_loss: 10.6535 - val_acc: 0.3371\n",
      "Epoch 30/50\n",
      "60000/60000 [==============================] - 0s 4us/sample - loss: 10.6653 - acc: 0.3363 - val_loss: 10.5753 - val_acc: 0.3414\n",
      "Epoch 31/50\n",
      "60000/60000 [==============================] - 0s 4us/sample - loss: 10.6132 - acc: 0.3391 - val_loss: 10.5946 - val_acc: 0.3408\n",
      "Epoch 32/50\n",
      "60000/60000 [==============================] - 0s 5us/sample - loss: 10.6058 - acc: 0.3397 - val_loss: 10.5515 - val_acc: 0.3426\n",
      "Epoch 33/50\n",
      "60000/60000 [==============================] - 0s 5us/sample - loss: 10.6012 - acc: 0.3397 - val_loss: 10.5895 - val_acc: 0.3413\n",
      "Epoch 34/50\n",
      "60000/60000 [==============================] - 0s 4us/sample - loss: 10.6047 - acc: 0.3402 - val_loss: 10.5417 - val_acc: 0.3436\n",
      "Epoch 35/50\n",
      "60000/60000 [==============================] - 0s 4us/sample - loss: 10.5901 - acc: 0.3399 - val_loss: 10.6113 - val_acc: 0.3399\n",
      "Epoch 36/50\n",
      "60000/60000 [==============================] - 0s 4us/sample - loss: 10.6134 - acc: 0.3397 - val_loss: 10.5217 - val_acc: 0.3453\n",
      "Epoch 37/50\n",
      "60000/60000 [==============================] - 0s 4us/sample - loss: 10.5636 - acc: 0.3422 - val_loss: 10.5480 - val_acc: 0.3435\n",
      "Epoch 38/50\n",
      "60000/60000 [==============================] - 0s 4us/sample - loss: 10.5555 - acc: 0.3428 - val_loss: 10.5342 - val_acc: 0.3443\n",
      "Epoch 39/50\n",
      "60000/60000 [==============================] - 0s 4us/sample - loss: 10.5732 - acc: 0.3413 - val_loss: 10.6019 - val_acc: 0.3410\n",
      "Epoch 40/50\n",
      "60000/60000 [==============================] - 0s 4us/sample - loss: 10.6012 - acc: 0.3406 - val_loss: 10.5073 - val_acc: 0.3463\n",
      "Epoch 41/50\n",
      "60000/60000 [==============================] - 0s 4us/sample - loss: 10.5341 - acc: 0.3440 - val_loss: 10.5540 - val_acc: 0.3433\n",
      "Epoch 42/50\n",
      "60000/60000 [==============================] - 0s 4us/sample - loss: 10.5416 - acc: 0.3439 - val_loss: 10.4968 - val_acc: 0.3455\n",
      "Epoch 43/50\n",
      "60000/60000 [==============================] - 0s 4us/sample - loss: 10.5322 - acc: 0.3439 - val_loss: 10.5519 - val_acc: 0.3434\n",
      "Epoch 44/50\n",
      "60000/60000 [==============================] - 0s 4us/sample - loss: 10.5445 - acc: 0.3436 - val_loss: 10.4996 - val_acc: 0.3453\n",
      "Epoch 45/50\n",
      "60000/60000 [==============================] - 0s 4us/sample - loss: 10.5296 - acc: 0.3438 - val_loss: 10.5299 - val_acc: 0.3444\n",
      "Epoch 46/50\n",
      "60000/60000 [==============================] - 0s 4us/sample - loss: 10.5248 - acc: 0.3451 - val_loss: 10.4756 - val_acc: 0.3473\n",
      "Epoch 47/50\n",
      "60000/60000 [==============================] - 0s 4us/sample - loss: 10.4974 - acc: 0.3461 - val_loss: 10.5077 - val_acc: 0.3461\n",
      "Epoch 48/50\n",
      "60000/60000 [==============================] - 0s 4us/sample - loss: 10.4944 - acc: 0.3468 - val_loss: 10.4658 - val_acc: 0.3485\n",
      "Epoch 49/50\n",
      "60000/60000 [==============================] - 0s 4us/sample - loss: 10.4832 - acc: 0.3468 - val_loss: 10.4639 - val_acc: 0.3487\n",
      "Epoch 50/50\n",
      "60000/60000 [==============================] - 0s 4us/sample - loss: 10.4712 - acc: 0.3478 - val_loss: 10.4620 - val_acc: 0.3480\n"
     ]
    },
    {
     "data": {
      "text/plain": [
       "<tensorflow.python.keras.callbacks.History at 0xb271e9400>"
      ]
     },
     "execution_count": 44,
     "metadata": {},
     "output_type": "execute_result"
    }
   ],
   "source": [
    "model.fit(trainX, trainY, \n",
    "          validation_data=(testX, testY), \n",
    "          epochs=50,\n",
    "          batch_size=trainX.shape[0])"
   ]
  },
  {
   "cell_type": "markdown",
   "metadata": {
    "colab_type": "text",
    "id": "JdzDtGwDOIVF",
    "slideshow": {
     "slide_type": "slide"
    }
   },
   "source": [
    "### In the above Neural Network model add Batch Normalization layer after the input layer and repeat the steps."
   ]
  },
  {
   "cell_type": "code",
   "execution_count": 45,
   "metadata": {
    "colab": {},
    "colab_type": "code",
    "id": "kndfpdidOIVI"
   },
   "outputs": [],
   "source": [
    "#Initialize Sequential model\n",
    "model_batch = tf.keras.models.Sequential()\n",
    "\n",
    "#Reshape data from 2D to 1D -> 28x28 to 784\n",
    "model_batch.add(tf.keras.layers.Reshape((784,),input_shape=(28,28,)))\n",
    "\n",
    "#Normalize the data\n",
    "model_batch.add(tf.keras.layers.BatchNormalization())\n",
    "\n",
    "#Add Dense Layer which provides 10 Outputs after applying softmax\n",
    "model_batch.add(tf.keras.layers.Dense(10, activation='softmax'))\n",
    "\n",
    "#Comile the model\n",
    "model_batch.compile(optimizer='sgd', loss='categorical_crossentropy', metrics=['accuracy'])"
   ]
  },
  {
   "cell_type": "markdown",
   "metadata": {
    "colab_type": "text",
    "id": "mwk3T5LJOIVN",
    "slideshow": {
     "slide_type": "slide"
    }
   },
   "source": [
    "### Execute the model"
   ]
  },
  {
   "cell_type": "code",
   "execution_count": 46,
   "metadata": {
    "colab": {},
    "colab_type": "code",
    "id": "JNLR8tcBOIVP"
   },
   "outputs": [
    {
     "name": "stdout",
     "output_type": "stream",
     "text": [
      "Train on 60000 samples, validate on 10000 samples\n",
      "Epoch 1/50\n",
      "60000/60000 [==============================] - 1s 15us/sample - loss: 2.9762 - acc: 0.0770 - val_loss: 11.4598 - val_acc: 0.1754\n",
      "Epoch 2/50\n",
      "60000/60000 [==============================] - 1s 11us/sample - loss: 2.6708 - acc: 0.1087 - val_loss: 9.6894 - val_acc: 0.1921\n",
      "Epoch 3/50\n",
      "60000/60000 [==============================] - 1s 11us/sample - loss: 2.4203 - acc: 0.1567 - val_loss: 7.8740 - val_acc: 0.2211\n",
      "Epoch 4/50\n",
      "60000/60000 [==============================] - 1s 11us/sample - loss: 2.2165 - acc: 0.2147 - val_loss: 6.5122 - val_acc: 0.2514\n",
      "Epoch 5/50\n",
      "60000/60000 [==============================] - 1s 11us/sample - loss: 2.0508 - acc: 0.2711 - val_loss: 5.5759 - val_acc: 0.2858\n",
      "Epoch 6/50\n",
      "60000/60000 [==============================] - 1s 12us/sample - loss: 1.9152 - acc: 0.3215 - val_loss: 4.9051 - val_acc: 0.3174\n",
      "Epoch 7/50\n",
      "60000/60000 [==============================] - 1s 11us/sample - loss: 1.8035 - acc: 0.3653 - val_loss: 4.3981 - val_acc: 0.3411\n",
      "Epoch 8/50\n",
      "60000/60000 [==============================] - 1s 11us/sample - loss: 1.7106 - acc: 0.4036 - val_loss: 3.9966 - val_acc: 0.3597\n",
      "Epoch 9/50\n",
      "60000/60000 [==============================] - 1s 11us/sample - loss: 1.6325 - acc: 0.4363 - val_loss: 3.6714 - val_acc: 0.3745\n",
      "Epoch 10/50\n",
      "60000/60000 [==============================] - 1s 11us/sample - loss: 1.5663 - acc: 0.4629 - val_loss: 3.4021 - val_acc: 0.3889\n",
      "Epoch 11/50\n",
      "60000/60000 [==============================] - 1s 11us/sample - loss: 1.5094 - acc: 0.4871 - val_loss: 3.1752 - val_acc: 0.4029\n",
      "Epoch 12/50\n",
      "60000/60000 [==============================] - 1s 11us/sample - loss: 1.4601 - acc: 0.5071 - val_loss: 2.9814 - val_acc: 0.4167\n",
      "Epoch 13/50\n",
      "60000/60000 [==============================] - 1s 11us/sample - loss: 1.4170 - acc: 0.5237 - val_loss: 2.8135 - val_acc: 0.4266\n",
      "Epoch 14/50\n",
      "60000/60000 [==============================] - 1s 11us/sample - loss: 1.3789 - acc: 0.5390 - val_loss: 2.6663 - val_acc: 0.4370\n",
      "Epoch 15/50\n",
      "60000/60000 [==============================] - 1s 11us/sample - loss: 1.3450 - acc: 0.5517 - val_loss: 2.5364 - val_acc: 0.4477\n",
      "Epoch 16/50\n",
      "60000/60000 [==============================] - 1s 11us/sample - loss: 1.3146 - acc: 0.5623 - val_loss: 2.4207 - val_acc: 0.4578\n",
      "Epoch 17/50\n",
      "60000/60000 [==============================] - 1s 12us/sample - loss: 1.2871 - acc: 0.5718 - val_loss: 2.3172 - val_acc: 0.4684\n",
      "Epoch 18/50\n",
      "60000/60000 [==============================] - 1s 11us/sample - loss: 1.2622 - acc: 0.5799 - val_loss: 2.2239 - val_acc: 0.4796\n",
      "Epoch 19/50\n",
      "60000/60000 [==============================] - 1s 11us/sample - loss: 1.2393 - acc: 0.5882 - val_loss: 2.1395 - val_acc: 0.4900\n",
      "Epoch 20/50\n",
      "60000/60000 [==============================] - 1s 11us/sample - loss: 1.2183 - acc: 0.5950 - val_loss: 2.0627 - val_acc: 0.4991\n",
      "Epoch 21/50\n",
      "60000/60000 [==============================] - 1s 11us/sample - loss: 1.1989 - acc: 0.6011 - val_loss: 1.9925 - val_acc: 0.5076\n",
      "Epoch 22/50\n",
      "60000/60000 [==============================] - 1s 11us/sample - loss: 1.1808 - acc: 0.6069 - val_loss: 1.9282 - val_acc: 0.5161\n",
      "Epoch 23/50\n",
      "60000/60000 [==============================] - 1s 12us/sample - loss: 1.1641 - acc: 0.6126 - val_loss: 1.8691 - val_acc: 0.5252\n",
      "Epoch 24/50\n",
      "60000/60000 [==============================] - 1s 11us/sample - loss: 1.1484 - acc: 0.6177 - val_loss: 1.8146 - val_acc: 0.5344\n",
      "Epoch 25/50\n",
      "60000/60000 [==============================] - 1s 11us/sample - loss: 1.1337 - acc: 0.6225 - val_loss: 1.7641 - val_acc: 0.5432\n",
      "Epoch 26/50\n",
      "60000/60000 [==============================] - 1s 11us/sample - loss: 1.1198 - acc: 0.6270 - val_loss: 1.7174 - val_acc: 0.5489\n",
      "Epoch 27/50\n",
      "60000/60000 [==============================] - 1s 11us/sample - loss: 1.1068 - acc: 0.6309 - val_loss: 1.6739 - val_acc: 0.5564\n",
      "Epoch 28/50\n",
      "60000/60000 [==============================] - 1s 11us/sample - loss: 1.0945 - acc: 0.6349 - val_loss: 1.6333 - val_acc: 0.5619\n",
      "Epoch 29/50\n",
      "60000/60000 [==============================] - 1s 11us/sample - loss: 1.0828 - acc: 0.6386 - val_loss: 1.5954 - val_acc: 0.5683\n",
      "Epoch 30/50\n",
      "60000/60000 [==============================] - 1s 12us/sample - loss: 1.0717 - acc: 0.6424 - val_loss: 1.5599 - val_acc: 0.5742\n",
      "Epoch 31/50\n",
      "60000/60000 [==============================] - 1s 12us/sample - loss: 1.0612 - acc: 0.6457 - val_loss: 1.5266 - val_acc: 0.5810\n",
      "Epoch 32/50\n",
      "60000/60000 [==============================] - 1s 11us/sample - loss: 1.0511 - acc: 0.6487 - val_loss: 1.4953 - val_acc: 0.5884\n",
      "Epoch 33/50\n",
      "60000/60000 [==============================] - 1s 11us/sample - loss: 1.0415 - acc: 0.6520 - val_loss: 1.4658 - val_acc: 0.5939\n",
      "Epoch 34/50\n",
      "60000/60000 [==============================] - 1s 12us/sample - loss: 1.0323 - acc: 0.6550 - val_loss: 1.4381 - val_acc: 0.5992\n",
      "Epoch 35/50\n",
      "60000/60000 [==============================] - 1s 12us/sample - loss: 1.0235 - acc: 0.6576 - val_loss: 1.4119 - val_acc: 0.6043\n",
      "Epoch 36/50\n",
      "60000/60000 [==============================] - 1s 11us/sample - loss: 1.0151 - acc: 0.6603 - val_loss: 1.3871 - val_acc: 0.6094\n",
      "Epoch 37/50\n",
      "60000/60000 [==============================] - 1s 12us/sample - loss: 1.0070 - acc: 0.6626 - val_loss: 1.3636 - val_acc: 0.6137\n",
      "Epoch 38/50\n",
      "60000/60000 [==============================] - 1s 11us/sample - loss: 0.9992 - acc: 0.6647 - val_loss: 1.3414 - val_acc: 0.6179\n",
      "Epoch 39/50\n",
      "60000/60000 [==============================] - 1s 11us/sample - loss: 0.9918 - acc: 0.6671 - val_loss: 1.3202 - val_acc: 0.6220\n",
      "Epoch 40/50\n",
      "60000/60000 [==============================] - 1s 11us/sample - loss: 0.9845 - acc: 0.6694 - val_loss: 1.3001 - val_acc: 0.6266\n",
      "Epoch 41/50\n",
      "60000/60000 [==============================] - 1s 11us/sample - loss: 0.9776 - acc: 0.6716 - val_loss: 1.2809 - val_acc: 0.6314\n",
      "Epoch 42/50\n",
      "60000/60000 [==============================] - 1s 11us/sample - loss: 0.9709 - acc: 0.6739 - val_loss: 1.2627 - val_acc: 0.6344\n",
      "Epoch 43/50\n",
      "60000/60000 [==============================] - 1s 11us/sample - loss: 0.9644 - acc: 0.6764 - val_loss: 1.2452 - val_acc: 0.6384\n",
      "Epoch 44/50\n",
      "60000/60000 [==============================] - 1s 11us/sample - loss: 0.9581 - acc: 0.6783 - val_loss: 1.2286 - val_acc: 0.6417\n",
      "Epoch 45/50\n",
      "60000/60000 [==============================] - 1s 11us/sample - loss: 0.9520 - acc: 0.6805 - val_loss: 1.2127 - val_acc: 0.6442\n",
      "Epoch 46/50\n",
      "60000/60000 [==============================] - 1s 11us/sample - loss: 0.9462 - acc: 0.6822 - val_loss: 1.1974 - val_acc: 0.6469\n",
      "Epoch 47/50\n",
      "60000/60000 [==============================] - 1s 11us/sample - loss: 0.9405 - acc: 0.6839 - val_loss: 1.1828 - val_acc: 0.6497\n",
      "Epoch 48/50\n",
      "60000/60000 [==============================] - 1s 11us/sample - loss: 0.9349 - acc: 0.6856 - val_loss: 1.1688 - val_acc: 0.6519\n",
      "Epoch 49/50\n",
      "60000/60000 [==============================] - 1s 11us/sample - loss: 0.9295 - acc: 0.6871 - val_loss: 1.1553 - val_acc: 0.6546\n",
      "Epoch 50/50\n",
      "60000/60000 [==============================] - 1s 11us/sample - loss: 0.9243 - acc: 0.6885 - val_loss: 1.1424 - val_acc: 0.6576\n"
     ]
    },
    {
     "data": {
      "text/plain": [
       "<tensorflow.python.keras.callbacks.History at 0xb2732ef98>"
      ]
     },
     "execution_count": 46,
     "metadata": {},
     "output_type": "execute_result"
    }
   ],
   "source": [
    "model_batch.fit(trainX, trainY, \n",
    "          validation_data=(testX, testY), \n",
    "          epochs=50,\n",
    "          batch_size=trainX.shape[0])"
   ]
  },
  {
   "cell_type": "markdown",
   "metadata": {
    "colab_type": "text",
    "id": "Py-KwkmjOIVU"
   },
   "source": [
    "### Customize the learning rate to 0.001 in sgd optimizer and run the model"
   ]
  },
  {
   "cell_type": "code",
   "execution_count": 48,
   "metadata": {
    "colab": {},
    "colab_type": "code",
    "id": "yLXUE9jWOIVV"
   },
   "outputs": [],
   "source": [
    "#Initialize Sequential model\n",
    "model_batch_lr = tf.keras.models.Sequential()\n",
    "\n",
    "#Reshape data from 2D to 1D -> 28x28 to 784\n",
    "model_batch_lr.add(tf.keras.layers.Reshape((784,),input_shape=(28,28,)))\n",
    "\n",
    "#Normalize the data\n",
    "model_batch_lr.add(tf.keras.layers.BatchNormalization())\n",
    "\n",
    "#Add Dense Layer which provides 10 Outputs after applying softmax\n",
    "model_batch_lr.add(tf.keras.layers.Dense(10, activation='softmax'))\n",
    "\n",
    "sgd_optimizer = tf.keras.optimizers.SGD(lr=0.001)\n",
    "\n",
    "#Comile the model\n",
    "model_batch_lr.compile(optimizer = sgd_optimizer, loss='categorical_crossentropy', metrics=['accuracy'])"
   ]
  },
  {
   "cell_type": "code",
   "execution_count": 49,
   "metadata": {
    "colab": {},
    "colab_type": "code",
    "id": "pJUqA5T4OIVc"
   },
   "outputs": [
    {
     "name": "stdout",
     "output_type": "stream",
     "text": [
      "Train on 60000 samples, validate on 10000 samples\n",
      "Epoch 1/50\n",
      "60000/60000 [==============================] - 1s 16us/sample - loss: 2.6877 - acc: 0.2103 - val_loss: 11.2439 - val_acc: 0.1843\n",
      "Epoch 2/50\n",
      "60000/60000 [==============================] - 1s 11us/sample - loss: 2.6628 - acc: 0.2144 - val_loss: 10.4445 - val_acc: 0.1874\n",
      "Epoch 3/50\n",
      "60000/60000 [==============================] - 1s 11us/sample - loss: 2.6383 - acc: 0.2183 - val_loss: 9.7957 - val_acc: 0.1915\n",
      "Epoch 4/50\n",
      "60000/60000 [==============================] - 1s 11us/sample - loss: 2.6143 - acc: 0.2219 - val_loss: 9.2140 - val_acc: 0.1967\n",
      "Epoch 5/50\n",
      "60000/60000 [==============================] - 1s 11us/sample - loss: 2.5906 - acc: 0.2259 - val_loss: 8.6828 - val_acc: 0.2005\n",
      "Epoch 6/50\n",
      "60000/60000 [==============================] - 1s 12us/sample - loss: 2.5674 - acc: 0.2299 - val_loss: 8.1961 - val_acc: 0.2031\n",
      "Epoch 7/50\n",
      "60000/60000 [==============================] - 1s 12us/sample - loss: 2.5445 - acc: 0.2341 - val_loss: 7.7544 - val_acc: 0.2064\n",
      "Epoch 8/50\n",
      "60000/60000 [==============================] - 1s 11us/sample - loss: 2.5221 - acc: 0.2381 - val_loss: 7.3547 - val_acc: 0.2099\n",
      "Epoch 9/50\n",
      "60000/60000 [==============================] - 1s 11us/sample - loss: 2.5000 - acc: 0.2420 - val_loss: 6.9922 - val_acc: 0.2136\n",
      "Epoch 10/50\n",
      "60000/60000 [==============================] - 1s 11us/sample - loss: 2.4783 - acc: 0.2461 - val_loss: 6.6623 - val_acc: 0.2163\n",
      "Epoch 11/50\n",
      "60000/60000 [==============================] - 1s 12us/sample - loss: 2.4570 - acc: 0.2501 - val_loss: 6.3617 - val_acc: 0.2199\n",
      "Epoch 12/50\n",
      "60000/60000 [==============================] - 1s 11us/sample - loss: 2.4360 - acc: 0.2537 - val_loss: 6.0862 - val_acc: 0.2229\n",
      "Epoch 13/50\n",
      "60000/60000 [==============================] - 1s 11us/sample - loss: 2.4154 - acc: 0.2575 - val_loss: 5.8312 - val_acc: 0.2259\n",
      "Epoch 14/50\n",
      "60000/60000 [==============================] - 1s 11us/sample - loss: 2.3951 - acc: 0.2614 - val_loss: 5.5960 - val_acc: 0.2294\n",
      "Epoch 15/50\n",
      "60000/60000 [==============================] - 1s 11us/sample - loss: 2.3752 - acc: 0.2652 - val_loss: 5.3778 - val_acc: 0.2322\n",
      "Epoch 16/50\n",
      "60000/60000 [==============================] - 1s 11us/sample - loss: 2.3557 - acc: 0.2689 - val_loss: 5.1749 - val_acc: 0.2340\n",
      "Epoch 17/50\n",
      "60000/60000 [==============================] - 1s 12us/sample - loss: 2.3364 - acc: 0.2727 - val_loss: 4.9851 - val_acc: 0.2372\n",
      "Epoch 18/50\n",
      "60000/60000 [==============================] - 1s 12us/sample - loss: 2.3176 - acc: 0.2760 - val_loss: 4.8082 - val_acc: 0.2401\n",
      "Epoch 19/50\n",
      "60000/60000 [==============================] - 1s 12us/sample - loss: 2.2990 - acc: 0.2793 - val_loss: 4.6432 - val_acc: 0.2423\n",
      "Epoch 20/50\n",
      "60000/60000 [==============================] - 1s 11us/sample - loss: 2.2807 - acc: 0.2825 - val_loss: 4.4888 - val_acc: 0.2439\n",
      "Epoch 21/50\n",
      "60000/60000 [==============================] - 1s 11us/sample - loss: 2.2628 - acc: 0.2860 - val_loss: 4.3442 - val_acc: 0.2477\n",
      "Epoch 22/50\n",
      "60000/60000 [==============================] - 1s 11us/sample - loss: 2.2451 - acc: 0.2890 - val_loss: 4.2085 - val_acc: 0.2502\n",
      "Epoch 23/50\n",
      "60000/60000 [==============================] - 1s 11us/sample - loss: 2.2278 - acc: 0.2921 - val_loss: 4.0811 - val_acc: 0.2544\n",
      "Epoch 24/50\n",
      "60000/60000 [==============================] - 1s 12us/sample - loss: 2.2108 - acc: 0.2953 - val_loss: 3.9615 - val_acc: 0.2575\n",
      "Epoch 25/50\n",
      "60000/60000 [==============================] - 1s 12us/sample - loss: 2.1940 - acc: 0.2986 - val_loss: 3.8491 - val_acc: 0.2616\n",
      "Epoch 26/50\n",
      "60000/60000 [==============================] - 1s 12us/sample - loss: 2.1776 - acc: 0.3022 - val_loss: 3.7432 - val_acc: 0.2630\n",
      "Epoch 27/50\n",
      "60000/60000 [==============================] - 1s 12us/sample - loss: 2.1614 - acc: 0.3054 - val_loss: 3.6433 - val_acc: 0.2648\n",
      "Epoch 28/50\n",
      "60000/60000 [==============================] - 1s 11us/sample - loss: 2.1455 - acc: 0.3088 - val_loss: 3.5491 - val_acc: 0.2682\n",
      "Epoch 29/50\n",
      "60000/60000 [==============================] - 1s 11us/sample - loss: 2.1299 - acc: 0.3118 - val_loss: 3.4602 - val_acc: 0.2722\n",
      "Epoch 30/50\n",
      "60000/60000 [==============================] - 1s 11us/sample - loss: 2.1146 - acc: 0.3149 - val_loss: 3.3762 - val_acc: 0.2767\n",
      "Epoch 31/50\n",
      "60000/60000 [==============================] - 1s 11us/sample - loss: 2.0995 - acc: 0.3178 - val_loss: 3.2967 - val_acc: 0.2792\n",
      "Epoch 32/50\n",
      "60000/60000 [==============================] - 1s 11us/sample - loss: 2.0846 - acc: 0.3212 - val_loss: 3.2214 - val_acc: 0.2829\n",
      "Epoch 33/50\n",
      "60000/60000 [==============================] - 1s 11us/sample - loss: 2.0700 - acc: 0.3244 - val_loss: 3.1499 - val_acc: 0.2859\n",
      "Epoch 34/50\n",
      "60000/60000 [==============================] - 1s 12us/sample - loss: 2.0557 - acc: 0.3277 - val_loss: 3.0820 - val_acc: 0.2891\n",
      "Epoch 35/50\n",
      "60000/60000 [==============================] - 1s 12us/sample - loss: 2.0416 - acc: 0.3307 - val_loss: 3.0175 - val_acc: 0.2915\n",
      "Epoch 36/50\n",
      "60000/60000 [==============================] - 1s 12us/sample - loss: 2.0278 - acc: 0.3338 - val_loss: 2.9561 - val_acc: 0.2942\n",
      "Epoch 37/50\n",
      "60000/60000 [==============================] - 1s 12us/sample - loss: 2.0142 - acc: 0.3368 - val_loss: 2.8975 - val_acc: 0.2977\n",
      "Epoch 38/50\n",
      "60000/60000 [==============================] - 1s 11us/sample - loss: 2.0008 - acc: 0.3396 - val_loss: 2.8417 - val_acc: 0.3019\n",
      "Epoch 39/50\n",
      "60000/60000 [==============================] - 1s 11us/sample - loss: 1.9876 - acc: 0.3426 - val_loss: 2.7885 - val_acc: 0.3059\n",
      "Epoch 40/50\n",
      "60000/60000 [==============================] - 1s 11us/sample - loss: 1.9747 - acc: 0.3456 - val_loss: 2.7377 - val_acc: 0.3104\n",
      "Epoch 41/50\n",
      "60000/60000 [==============================] - 1s 11us/sample - loss: 1.9620 - acc: 0.3482 - val_loss: 2.6892 - val_acc: 0.3145\n",
      "Epoch 42/50\n",
      "60000/60000 [==============================] - 1s 12us/sample - loss: 1.9495 - acc: 0.3510 - val_loss: 2.6428 - val_acc: 0.3178\n",
      "Epoch 43/50\n",
      "60000/60000 [==============================] - 1s 11us/sample - loss: 1.9372 - acc: 0.3537 - val_loss: 2.5985 - val_acc: 0.3215\n",
      "Epoch 44/50\n",
      "60000/60000 [==============================] - 1s 12us/sample - loss: 1.9251 - acc: 0.3568 - val_loss: 2.5560 - val_acc: 0.3256\n",
      "Epoch 45/50\n",
      "60000/60000 [==============================] - 1s 11us/sample - loss: 1.9133 - acc: 0.3598 - val_loss: 2.5153 - val_acc: 0.3276\n",
      "Epoch 46/50\n",
      "60000/60000 [==============================] - 1s 11us/sample - loss: 1.9016 - acc: 0.3627 - val_loss: 2.4763 - val_acc: 0.3305\n",
      "Epoch 47/50\n",
      "60000/60000 [==============================] - 1s 11us/sample - loss: 1.8901 - acc: 0.3653 - val_loss: 2.4389 - val_acc: 0.3345\n",
      "Epoch 48/50\n",
      "60000/60000 [==============================] - 1s 11us/sample - loss: 1.8788 - acc: 0.3683 - val_loss: 2.4030 - val_acc: 0.3381\n",
      "Epoch 49/50\n",
      "60000/60000 [==============================] - 1s 12us/sample - loss: 1.8677 - acc: 0.3711 - val_loss: 2.3684 - val_acc: 0.3411\n",
      "Epoch 50/50\n",
      "60000/60000 [==============================] - 1s 11us/sample - loss: 1.8568 - acc: 0.3742 - val_loss: 2.3352 - val_acc: 0.3442\n"
     ]
    },
    {
     "data": {
      "text/plain": [
       "<tensorflow.python.keras.callbacks.History at 0xb27dd7f60>"
      ]
     },
     "execution_count": 49,
     "metadata": {},
     "output_type": "execute_result"
    }
   ],
   "source": [
    "model_batch_lr.fit(trainX, trainY, \n",
    "          validation_data=(testX, testY), \n",
    "          epochs=50,\n",
    "          batch_size=trainX.shape[0])"
   ]
  },
  {
   "cell_type": "markdown",
   "metadata": {
    "colab_type": "text",
    "id": "j9CSqKvpOIVk",
    "slideshow": {
     "slide_type": "slide"
    }
   },
   "source": [
    "### Build the Neural Network model with 3 Dense layers with 100,100,10 neurons respectively in each layer. Use cross entropy loss function and singmoid as activation in the hidden layers and softmax as activation function in the output layer. Use sgd optimizer with learning rate 0.03."
   ]
  },
  {
   "cell_type": "code",
   "execution_count": 53,
   "metadata": {
    "colab": {},
    "colab_type": "code",
    "id": "GGAad54JOIVm"
   },
   "outputs": [],
   "source": [
    "model_dense = tf.keras.models.Sequential()\n",
    "\n",
    "model_dense.add(tf.keras.layers.Reshape((784,),input_shape=(28,28,)))\n",
    "\n",
    "model_dense.add(tf.keras.layers.BatchNormalization())\n",
    "\n",
    "model_dense.add(tf.keras.layers.Dense(100, activation='sigmoid'))\n",
    "\n",
    "model_dense.add(tf.keras.layers.Dense(100, activation='sigmoid'))\n",
    "\n",
    "model_dense.add(tf.keras.layers.Dense(10, activation='softmax'))\n",
    "\n",
    "sgd_optimizer_lr_3 = tf.keras.optimizers.SGD(lr=0.03)\n",
    "\n",
    "model_dense.compile(optimizer=sgd_optimizer_lr_3, loss='categorical_crossentropy', metrics=['accuracy'])"
   ]
  },
  {
   "cell_type": "markdown",
   "metadata": {
    "colab_type": "text",
    "id": "Nr2YsZV0OIV0",
    "slideshow": {
     "slide_type": "slide"
    }
   },
   "source": [
    "## Review model"
   ]
  },
  {
   "cell_type": "code",
   "execution_count": 54,
   "metadata": {
    "colab": {},
    "colab_type": "code",
    "id": "h4ojW6-oOIV2"
   },
   "outputs": [
    {
     "name": "stdout",
     "output_type": "stream",
     "text": [
      "_________________________________________________________________\n",
      "Layer (type)                 Output Shape              Param #   \n",
      "=================================================================\n",
      "reshape_13 (Reshape)         (None, 784)               0         \n",
      "_________________________________________________________________\n",
      "batch_normalization_v1_8 (Ba (None, 784)               3136      \n",
      "_________________________________________________________________\n",
      "dense_17 (Dense)             (None, 100)               78500     \n",
      "_________________________________________________________________\n",
      "dense_18 (Dense)             (None, 100)               10100     \n",
      "_________________________________________________________________\n",
      "dense_19 (Dense)             (None, 10)                1010      \n",
      "=================================================================\n",
      "Total params: 92,746\n",
      "Trainable params: 91,178\n",
      "Non-trainable params: 1,568\n",
      "_________________________________________________________________\n"
     ]
    }
   ],
   "source": [
    "model_dense.summary()"
   ]
  },
  {
   "cell_type": "markdown",
   "metadata": {
    "colab_type": "text",
    "id": "gfFGmbZLOIV5",
    "slideshow": {
     "slide_type": "slide"
    }
   },
   "source": [
    "### Run the model"
   ]
  },
  {
   "cell_type": "code",
   "execution_count": 55,
   "metadata": {
    "colab": {},
    "colab_type": "code",
    "id": "bIkbMEN5OIV7"
   },
   "outputs": [
    {
     "name": "stdout",
     "output_type": "stream",
     "text": [
      "Train on 60000 samples, validate on 10000 samples\n",
      "Epoch 1/50\n",
      "60000/60000 [==============================] - 1s 18us/sample - loss: 2.6792 - acc: 0.1000 - val_loss: 2.5925 - val_acc: 0.0985\n",
      "Epoch 2/50\n",
      "60000/60000 [==============================] - 1s 13us/sample - loss: 2.6021 - acc: 0.1000 - val_loss: 2.5322 - val_acc: 0.0953\n",
      "Epoch 3/50\n",
      "60000/60000 [==============================] - 1s 15us/sample - loss: 2.5408 - acc: 0.1000 - val_loss: 2.4835 - val_acc: 0.0921\n",
      "Epoch 4/50\n",
      "60000/60000 [==============================] - 1s 14us/sample - loss: 2.4912 - acc: 0.0998 - val_loss: 2.4436 - val_acc: 0.0954\n",
      "Epoch 5/50\n",
      "60000/60000 [==============================] - 1s 13us/sample - loss: 2.4506 - acc: 0.1001 - val_loss: 2.4108 - val_acc: 0.1016\n",
      "Epoch 6/50\n",
      "60000/60000 [==============================] - 1s 13us/sample - loss: 2.4171 - acc: 0.1018 - val_loss: 2.3836 - val_acc: 0.1072\n",
      "Epoch 7/50\n",
      "60000/60000 [==============================] - 1s 13us/sample - loss: 2.3892 - acc: 0.1064 - val_loss: 2.3609 - val_acc: 0.1125\n",
      "Epoch 8/50\n",
      "60000/60000 [==============================] - 1s 13us/sample - loss: 2.3660 - acc: 0.1136 - val_loss: 2.3419 - val_acc: 0.1210\n",
      "Epoch 9/50\n",
      "60000/60000 [==============================] - 1s 13us/sample - loss: 2.3464 - acc: 0.1223 - val_loss: 2.3258 - val_acc: 0.1264\n",
      "Epoch 10/50\n",
      "60000/60000 [==============================] - 1s 13us/sample - loss: 2.3299 - acc: 0.1327 - val_loss: 2.3121 - val_acc: 0.1277\n",
      "Epoch 11/50\n",
      "60000/60000 [==============================] - 1s 13us/sample - loss: 2.3158 - acc: 0.1422 - val_loss: 2.3004 - val_acc: 0.1304\n",
      "Epoch 12/50\n",
      "60000/60000 [==============================] - 1s 13us/sample - loss: 2.3037 - acc: 0.1508 - val_loss: 2.2902 - val_acc: 0.1308\n",
      "Epoch 13/50\n",
      "60000/60000 [==============================] - 1s 13us/sample - loss: 2.2933 - acc: 0.1583 - val_loss: 2.2812 - val_acc: 0.1326\n",
      "Epoch 14/50\n",
      "60000/60000 [==============================] - 1s 13us/sample - loss: 2.2841 - acc: 0.1652 - val_loss: 2.2734 - val_acc: 0.1338\n",
      "Epoch 15/50\n",
      "60000/60000 [==============================] - 1s 13us/sample - loss: 2.2761 - acc: 0.1715 - val_loss: 2.2663 - val_acc: 0.1338\n",
      "Epoch 16/50\n",
      "60000/60000 [==============================] - 1s 13us/sample - loss: 2.2689 - acc: 0.1778 - val_loss: 2.2599 - val_acc: 0.1345\n",
      "Epoch 17/50\n",
      "60000/60000 [==============================] - 1s 13us/sample - loss: 2.2624 - acc: 0.1846 - val_loss: 2.2541 - val_acc: 0.1365\n",
      "Epoch 18/50\n",
      "60000/60000 [==============================] - 1s 13us/sample - loss: 2.2565 - acc: 0.1916 - val_loss: 2.2487 - val_acc: 0.1387\n",
      "Epoch 19/50\n",
      "60000/60000 [==============================] - 1s 13us/sample - loss: 2.2511 - acc: 0.2001 - val_loss: 2.2437 - val_acc: 0.1418\n",
      "Epoch 20/50\n",
      "60000/60000 [==============================] - 1s 13us/sample - loss: 2.2460 - acc: 0.2110 - val_loss: 2.2390 - val_acc: 0.1452\n",
      "Epoch 21/50\n",
      "60000/60000 [==============================] - 1s 13us/sample - loss: 2.2413 - acc: 0.2232 - val_loss: 2.2345 - val_acc: 0.1477\n",
      "Epoch 22/50\n",
      "60000/60000 [==============================] - 1s 13us/sample - loss: 2.2369 - acc: 0.2346 - val_loss: 2.2302 - val_acc: 0.1516\n",
      "Epoch 23/50\n",
      "60000/60000 [==============================] - 1s 13us/sample - loss: 2.2327 - acc: 0.2464 - val_loss: 2.2261 - val_acc: 0.1565\n",
      "Epoch 24/50\n",
      "60000/60000 [==============================] - 1s 13us/sample - loss: 2.2286 - acc: 0.2571 - val_loss: 2.2221 - val_acc: 0.1611\n",
      "Epoch 25/50\n",
      "60000/60000 [==============================] - 1s 13us/sample - loss: 2.2247 - acc: 0.2681 - val_loss: 2.2182 - val_acc: 0.1654\n",
      "Epoch 26/50\n",
      "60000/60000 [==============================] - 1s 13us/sample - loss: 2.2209 - acc: 0.2778 - val_loss: 2.2144 - val_acc: 0.1724\n",
      "Epoch 27/50\n",
      "60000/60000 [==============================] - 1s 13us/sample - loss: 2.2172 - acc: 0.2877 - val_loss: 2.2107 - val_acc: 0.1775\n",
      "Epoch 28/50\n",
      "60000/60000 [==============================] - 1s 13us/sample - loss: 2.2136 - acc: 0.2985 - val_loss: 2.2070 - val_acc: 0.1849\n",
      "Epoch 29/50\n",
      "60000/60000 [==============================] - 1s 13us/sample - loss: 2.2101 - acc: 0.3087 - val_loss: 2.2034 - val_acc: 0.1939\n",
      "Epoch 30/50\n",
      "60000/60000 [==============================] - 1s 13us/sample - loss: 2.2066 - acc: 0.3193 - val_loss: 2.1998 - val_acc: 0.2032\n",
      "Epoch 31/50\n",
      "60000/60000 [==============================] - 1s 13us/sample - loss: 2.2032 - acc: 0.3302 - val_loss: 2.1963 - val_acc: 0.2130\n",
      "Epoch 32/50\n",
      "60000/60000 [==============================] - 1s 13us/sample - loss: 2.1998 - acc: 0.3409 - val_loss: 2.1928 - val_acc: 0.2226\n",
      "Epoch 33/50\n",
      "60000/60000 [==============================] - 1s 13us/sample - loss: 2.1965 - acc: 0.3528 - val_loss: 2.1893 - val_acc: 0.2310\n",
      "Epoch 34/50\n",
      "60000/60000 [==============================] - 1s 13us/sample - loss: 2.1932 - acc: 0.3643 - val_loss: 2.1858 - val_acc: 0.2387\n",
      "Epoch 35/50\n",
      "60000/60000 [==============================] - 1s 13us/sample - loss: 2.1899 - acc: 0.3760 - val_loss: 2.1824 - val_acc: 0.2470\n",
      "Epoch 36/50\n",
      "60000/60000 [==============================] - 1s 13us/sample - loss: 2.1866 - acc: 0.3873 - val_loss: 2.1789 - val_acc: 0.2555\n",
      "Epoch 37/50\n",
      "60000/60000 [==============================] - 1s 13us/sample - loss: 2.1833 - acc: 0.3989 - val_loss: 2.1755 - val_acc: 0.2641\n",
      "Epoch 38/50\n",
      "60000/60000 [==============================] - 1s 13us/sample - loss: 2.1801 - acc: 0.4091 - val_loss: 2.1721 - val_acc: 0.2745\n",
      "Epoch 39/50\n",
      "60000/60000 [==============================] - 1s 13us/sample - loss: 2.1769 - acc: 0.4189 - val_loss: 2.1687 - val_acc: 0.2851\n",
      "Epoch 40/50\n",
      "60000/60000 [==============================] - 1s 13us/sample - loss: 2.1737 - acc: 0.4283 - val_loss: 2.1653 - val_acc: 0.2941\n",
      "Epoch 41/50\n",
      "60000/60000 [==============================] - 1s 13us/sample - loss: 2.1705 - acc: 0.4354 - val_loss: 2.1620 - val_acc: 0.3036\n",
      "Epoch 42/50\n",
      "60000/60000 [==============================] - 1s 13us/sample - loss: 2.1673 - acc: 0.4429 - val_loss: 2.1586 - val_acc: 0.3119\n",
      "Epoch 43/50\n",
      "60000/60000 [==============================] - 1s 13us/sample - loss: 2.1641 - acc: 0.4490 - val_loss: 2.1553 - val_acc: 0.3211\n",
      "Epoch 44/50\n",
      "60000/60000 [==============================] - 1s 13us/sample - loss: 2.1610 - acc: 0.4545 - val_loss: 2.1519 - val_acc: 0.3302\n",
      "Epoch 45/50\n",
      "60000/60000 [==============================] - 1s 13us/sample - loss: 2.1578 - acc: 0.4588 - val_loss: 2.1486 - val_acc: 0.3376\n",
      "Epoch 46/50\n",
      "60000/60000 [==============================] - 1s 13us/sample - loss: 2.1547 - acc: 0.4629 - val_loss: 2.1453 - val_acc: 0.3463\n",
      "Epoch 47/50\n",
      "60000/60000 [==============================] - 1s 13us/sample - loss: 2.1516 - acc: 0.4670 - val_loss: 2.1420 - val_acc: 0.3518\n",
      "Epoch 48/50\n",
      "60000/60000 [==============================] - 1s 14us/sample - loss: 2.1484 - acc: 0.4708 - val_loss: 2.1387 - val_acc: 0.3584\n",
      "Epoch 49/50\n",
      "60000/60000 [==============================] - 1s 14us/sample - loss: 2.1453 - acc: 0.4740 - val_loss: 2.1354 - val_acc: 0.3630\n",
      "Epoch 50/50\n",
      "60000/60000 [==============================] - 1s 13us/sample - loss: 2.1422 - acc: 0.4770 - val_loss: 2.1321 - val_acc: 0.3684\n"
     ]
    },
    {
     "data": {
      "text/plain": [
       "<tensorflow.python.keras.callbacks.History at 0xb29667cf8>"
      ]
     },
     "execution_count": 55,
     "metadata": {},
     "output_type": "execute_result"
    }
   ],
   "source": [
    "model_dense.fit(trainX, trainY, \n",
    "          validation_data=(testX, testY), \n",
    "          epochs=50,\n",
    "          batch_size=trainX.shape[0])"
   ]
  },
  {
   "cell_type": "code",
   "execution_count": null,
   "metadata": {},
   "outputs": [],
   "source": []
  }
 ],
 "metadata": {
  "colab": {
   "name": "R6_ExternalLab_AIML.ipynb",
   "provenance": [],
   "version": "0.3.2"
  },
  "kernelspec": {
   "display_name": "Python 3",
   "language": "python",
   "name": "python3"
  },
  "language_info": {
   "codemirror_mode": {
    "name": "ipython",
    "version": 3
   },
   "file_extension": ".py",
   "mimetype": "text/x-python",
   "name": "python",
   "nbconvert_exporter": "python",
   "pygments_lexer": "ipython3",
   "version": "3.7.2"
  }
 },
 "nbformat": 4,
 "nbformat_minor": 1
}
