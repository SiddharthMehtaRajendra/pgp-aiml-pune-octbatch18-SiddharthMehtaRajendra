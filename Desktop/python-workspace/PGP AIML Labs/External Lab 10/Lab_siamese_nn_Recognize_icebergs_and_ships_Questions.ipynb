{
  "nbformat": 4,
  "nbformat_minor": 0,
  "metadata": {
    "colab": {
      "name": "Lab-siamese-nn-Recognize icebergs and ships-Questions.ipynb",
      "version": "0.3.2",
      "provenance": [],
      "collapsed_sections": []
    },
    "language_info": {
      "codemirror_mode": {
        "name": "ipython",
        "version": 3
      },
      "file_extension": ".py",
      "mimetype": "text/x-python",
      "name": "python",
      "nbconvert_exporter": "python",
      "pygments_lexer": "ipython3",
      "version": "3.6.8"
    },
    "kernelspec": {
      "name": "python3",
      "display_name": "Python 3"
    },
    "accelerator": "GPU"
  },
  "cells": [
    {
      "cell_type": "markdown",
      "metadata": {
        "_cell_guid": "608e43e3-8699-4299-9d18-9e9a6a3dd9bf",
        "_uuid": "434ffd54c774edd4e8b851ab0a4b6675425e46da",
        "id": "157fTuQx5RhG",
        "colab_type": "text"
      },
      "source": [
        "# Siamese Neural Networks\n",
        "Recognize images of icebergs from images of ships. \n",
        "These images were taken from space with a Sentinel-4 satellite. The goal was to create the most accurate neural network to differentiate them. However, neural networks usually only work well with A LOT of data, and I constrained you guys to 1000 examples to train on. That seems like a lot, but a CONVENTIONAL neural network needs more data. However, we are going to make a special kind of neural network: *Siamese Network*. This special network is used for face recognition and few-shot learning(learning from few examples). Let's get started by importing the usual liraries:"
      ]
    },
    {
      "cell_type": "code",
      "metadata": {
        "_cell_guid": "b1076dfc-b9ad-4769-8c92-a6c4dae69d19",
        "_uuid": "8f2839f25d086af736a60e9eeb907d3b93b6e0e5",
        "id": "tUn20Tsn5RhJ",
        "colab_type": "code",
        "colab": {
          "base_uri": "https://localhost:8080/",
          "height": 34
        },
        "outputId": "9905afd8-1750-43ee-a7eb-a8d22aa47f6a"
      },
      "source": [
        "from keras.layers import Input, Conv2D, Lambda, merge, Dense, Flatten,MaxPooling2D,Activation, Dropout\n",
        "from keras.models import Model, Sequential\n",
        "from keras.regularizers import l2\n",
        "from keras import backend as K\n",
        "from keras.optimizers import Adam\n",
        "from skimage.io import imshow\n",
        "import matplotlib.pyplot as plt\n",
        "import numpy as np\n",
        "import pandas as pd\n",
        "import random"
      ],
      "execution_count": 1,
      "outputs": [
        {
          "output_type": "stream",
          "text": [
            "Using TensorFlow backend.\n"
          ],
          "name": "stderr"
        }
      ]
    },
    {
      "cell_type": "code",
      "metadata": {
        "id": "iXwS0pxy5Ua6",
        "colab_type": "code",
        "colab": {
          "base_uri": "https://localhost:8080/",
          "height": 34
        },
        "outputId": "2c291d6b-c39c-44d0-9ad4-6b0a52bc4ccf"
      },
      "source": [
        "from google.colab import drive\n",
        "drive.mount('/content/drive/')"
      ],
      "execution_count": 8,
      "outputs": [
        {
          "output_type": "stream",
          "text": [
            "Drive already mounted at /content/drive/; to attempt to forcibly remount, call drive.mount(\"/content/drive/\", force_remount=True).\n"
          ],
          "name": "stdout"
        }
      ]
    },
    {
      "cell_type": "code",
      "metadata": {
        "id": "avZu8NHU5-UE",
        "colab_type": "code",
        "colab": {}
      },
      "source": [
        "import os\n",
        "project_path = '../content/drive/My Drive/Colab Notebooks/External Lab 10/'\n",
        "os.chdir(project_path)"
      ],
      "execution_count": 0,
      "outputs": []
    },
    {
      "cell_type": "code",
      "metadata": {
        "id": "ASZqSp7l6gpT",
        "colab_type": "code",
        "colab": {
          "base_uri": "https://localhost:8080/",
          "height": 34
        },
        "outputId": "ad3bda39-5c8e-476d-af0a-752fadd4adf5"
      },
      "source": [
        "print(\"Drive: \", os.getcwd())"
      ],
      "execution_count": 12,
      "outputs": [
        {
          "output_type": "stream",
          "text": [
            "Drive:  /content/drive/My Drive/Colab Notebooks/External Lab 10\n"
          ],
          "name": "stdout"
        }
      ]
    },
    {
      "cell_type": "markdown",
      "metadata": {
        "_cell_guid": "adbffb0a-1784-4595-b3f2-2ea930abc31f",
        "_uuid": "b9200b733a896e4b6f261122fe9134c00955cc91",
        "id": "Jxfe6NMB5RhP",
        "colab_type": "text"
      },
      "source": [
        "## Load the Data\n"
      ]
    },
    {
      "cell_type": "code",
      "metadata": {
        "_cell_guid": "79c7e3d0-c299-4dcb-8224-4455121ee9b0",
        "_uuid": "d629ff2d2480ee46fbb7e2d37f6b5fab8052498a",
        "id": "2rreDhPV5RhQ",
        "colab_type": "code",
        "colab": {
          "base_uri": "https://localhost:8080/",
          "height": 34
        },
        "outputId": "21c9d2c9-029d-4aa6-96f8-d4932ee89f5b"
      },
      "source": [
        "npz = np.load('input_data.npz')\n",
        "X_train = npz['X_train']\n",
        "Y_train = npz['Y_train']\n",
        "del npz\n",
        "print ('We have {} examples to work with'.format(Y_train.shape[0]-1000))"
      ],
      "execution_count": 13,
      "outputs": [
        {
          "output_type": "stream",
          "text": [
            "We have 3113 examples to work with\n"
          ],
          "name": "stdout"
        }
      ]
    },
    {
      "cell_type": "markdown",
      "metadata": {
        "_cell_guid": "ed28bc84-1a8a-472f-98ae-9553fe6d1097",
        "_uuid": "b2e2306b8b16ae7f4f9b63249d1f2ff6e29559d3",
        "id": "kNwbJLF75RhX",
        "colab_type": "text"
      },
      "source": [
        "## Check the data\n",
        "\n",
        "Load some of the images to observe how your data look like."
      ]
    },
    {
      "cell_type": "code",
      "metadata": {
        "id": "E4iWAOg45RhY",
        "colab_type": "code",
        "colab": {
          "base_uri": "https://localhost:8080/",
          "height": 314
        },
        "outputId": "0b210425-5ca0-41f8-faf1-dae7241acb17"
      },
      "source": [
        "ix = 100 #0-4112\n",
        "imshow(np.squeeze(X_train[ix,:,:,2]))#Looking at the combined channel\n",
        "plt.show()\n",
        "labels = ['Ship','Iceberg']  #0 is no iceberg(ship) and 1 is iceberg\n",
        "print ('This is:',labels[int(Y_train[ix])])"
      ],
      "execution_count": 14,
      "outputs": [
        {
          "output_type": "display_data",
          "data": {
            "image/png": "[encoded data removed]",
            "text/plain": [
              "<Figure size 432x288 with 2 Axes>"
            ]
          },
          "metadata": {
            "tags": []
          }
        },
        {
          "output_type": "stream",
          "text": [
            "This is: Ship\n"
          ],
          "name": "stdout"
        }
      ]
    },
    {
      "cell_type": "code",
      "metadata": {
        "id": "4e8L8DAR7dS-",
        "colab_type": "code",
        "colab": {
          "base_uri": "https://localhost:8080/",
          "height": 314
        },
        "outputId": "764c70cc-19d0-4a26-e14c-d98c5669387b"
      },
      "source": [
        "ix = 110 #0-4112\n",
        "imshow(np.squeeze(X_train[ix,:,:,2]))#Looking at the combined channel\n",
        "plt.show()\n",
        "labels = ['Ship','Iceberg']  #0 is no iceberg(ship) and 1 is iceberg\n",
        "print ('This is:',labels[int(Y_train[ix])])"
      ],
      "execution_count": 15,
      "outputs": [
        {
          "output_type": "display_data",
          "data": {
            "image/png": "[encoded data removed]",
            "text/plain": [
              "<Figure size 432x288 with 2 Axes>"
            ]
          },
          "metadata": {
            "tags": []
          }
        },
        {
          "output_type": "stream",
          "text": [
            "This is: Iceberg\n"
          ],
          "name": "stdout"
        }
      ]
    },
    {
      "cell_type": "markdown",
      "metadata": {
        "id": "QywlaFsm5Rha",
        "colab_type": "text"
      },
      "source": [
        "# Creating the structure of Siamese Network"
      ]
    },
    {
      "cell_type": "markdown",
      "metadata": {
        "id": "WcJUVNev5Rhb",
        "colab_type": "raw"
      },
      "source": [
        "You just need to break it into some steps:\n",
        "1. 2 Inputs for each images\n",
        "2. Creating a network which both images will go through individually\n",
        "3. Couple the network to each input\n",
        "4. Calculate the L1 distance between them. Just (x1,y1)-(x2,y2)\n",
        "5. 1 Added layer that will say 1 if they are the same and 0 if they are different"
      ]
    },
    {
      "cell_type": "markdown",
      "metadata": {
        "id": "xCgB8zAv5Rhb",
        "colab_type": "text"
      },
      "source": [
        "# Create two Inputs for each image - left_input and right_input\n",
        "Hint - use Input Function in Keras and keep the shape to be 75,75,3"
      ]
    },
    {
      "cell_type": "code",
      "metadata": {
        "id": "DleUDDut5Rhd",
        "colab_type": "code",
        "colab": {
          "base_uri": "https://localhost:8080/",
          "height": 142
        },
        "outputId": "a8962e0a-3eb6-4698-e526-ea9af48d0362"
      },
      "source": [
        "left_input = Input((75,75,3))\n",
        "right_input = Input((75,75,3))"
      ],
      "execution_count": 16,
      "outputs": [
        {
          "output_type": "stream",
          "text": [
            "WARNING: Logging before flag parsing goes to stderr.\n",
            "W0713 06:03:51.769337 139621981665152 deprecation_wrapper.py:119] From /usr/local/lib/python3.6/dist-packages/keras/backend/tensorflow_backend.py:74: The name tf.get_default_graph is deprecated. Please use tf.compat.v1.get_default_graph instead.\n",
            "\n",
            "W0713 06:03:51.816511 139621981665152 deprecation_wrapper.py:119] From /usr/local/lib/python3.6/dist-packages/keras/backend/tensorflow_backend.py:517: The name tf.placeholder is deprecated. Please use tf.compat.v1.placeholder instead.\n",
            "\n"
          ],
          "name": "stderr"
        }
      ]
    },
    {
      "cell_type": "markdown",
      "metadata": {
        "id": "u77-QKH05Rhe",
        "colab_type": "text"
      },
      "source": [
        "# Create a base Network in which both images will go through individually.\n",
        "\n",
        "Hint - Use Sequential Model in Keras with convolution layers, Maxpooling Layers, Flatten Layer and Denser Layer with appropriate activation functions.\n",
        "Name the network as base_network"
      ]
    },
    {
      "cell_type": "code",
      "metadata": {
        "id": "25RuUZbA5Rhf",
        "colab_type": "code",
        "colab": {
          "base_uri": "https://localhost:8080/",
          "height": 125
        },
        "outputId": "512fbced-9ad8-4de9-8025-b3eeac7be2ff"
      },
      "source": [
        "# We will use 2 instances of 1 network for this task\n",
        "base_network = Sequential([\n",
        "    Conv2D(5,3, input_shape=(75,75,3)),\n",
        "    Activation('relu'),\n",
        "    MaxPooling2D(),\n",
        "    Conv2D(5,3),\n",
        "    Activation('relu'),\n",
        "    MaxPooling2D(),\n",
        "    Conv2D(7,2),\n",
        "    Activation('relu'),\n",
        "    MaxPooling2D(),\n",
        "    Conv2D(7,2),\n",
        "    Activation('relu'),\n",
        "    Flatten(),\n",
        "    Dense(18),\n",
        "    Activation('sigmoid')\n",
        "])"
      ],
      "execution_count": 17,
      "outputs": [
        {
          "output_type": "stream",
          "text": [
            "W0713 06:04:09.362051 139621981665152 deprecation_wrapper.py:119] From /usr/local/lib/python3.6/dist-packages/keras/backend/tensorflow_backend.py:4138: The name tf.random_uniform is deprecated. Please use tf.random.uniform instead.\n",
            "\n",
            "W0713 06:04:09.424490 139621981665152 deprecation_wrapper.py:119] From /usr/local/lib/python3.6/dist-packages/keras/backend/tensorflow_backend.py:3976: The name tf.nn.max_pool is deprecated. Please use tf.nn.max_pool2d instead.\n",
            "\n"
          ],
          "name": "stderr"
        }
      ]
    },
    {
      "cell_type": "markdown",
      "metadata": {
        "id": "zDCD8zXb5Rhi",
        "colab_type": "text"
      },
      "source": [
        "# Process the left and right inputs to the same Base Network(base_network)"
      ]
    },
    {
      "cell_type": "code",
      "metadata": {
        "id": "znDHYsz-5Rhj",
        "colab_type": "code",
        "colab": {}
      },
      "source": [
        "# Connect both left and right input to the same network\n",
        "# Remember, they have the same weights\n",
        "processed_a = base_network(left_input)\n",
        "processed_b = base_network(right_input)"
      ],
      "execution_count": 0,
      "outputs": []
    },
    {
      "cell_type": "markdown",
      "metadata": {
        "id": "NqmYPvxk5Rhl",
        "colab_type": "text"
      },
      "source": [
        "# Get the L1 Distance layer between the 2 processed encodings (processed_a and processed_b)\n",
        "Hint - You can use Lambda function for this."
      ]
    },
    {
      "cell_type": "code",
      "metadata": {
        "id": "xVae81uB5Rhm",
        "colab_type": "code",
        "colab": {}
      },
      "source": [
        "# Getting the L1 Distance between the 2 encodings\n",
        "L1_layer = Lambda(lambda tensor:K.abs(tensor[0] - tensor[1]))"
      ],
      "execution_count": 0,
      "outputs": []
    },
    {
      "cell_type": "code",
      "metadata": {
        "id": "AZ1ELDim5Rhn",
        "colab_type": "code",
        "colab": {}
      },
      "source": [
        "# Add the distance function to the network\n",
        "L1_distance = L1_layer([processed_a, processed_b])"
      ],
      "execution_count": 0,
      "outputs": []
    },
    {
      "cell_type": "markdown",
      "metadata": {
        "id": "3nTszl2K5Rho",
        "colab_type": "text"
      },
      "source": [
        "# Add the prediction layer in the end and create the Siamese Network using Model function."
      ]
    },
    {
      "cell_type": "code",
      "metadata": {
        "id": "9bGCaltC5Rho",
        "colab_type": "code",
        "colab": {}
      },
      "source": [
        "prediction = Dense(1,activation='sigmoid')(L1_distance)\n",
        "siamese_net = Model(inputs=[left_input,right_input],outputs=prediction)"
      ],
      "execution_count": 0,
      "outputs": []
    },
    {
      "cell_type": "markdown",
      "metadata": {
        "id": "bOROkf4m5Rhp",
        "colab_type": "text"
      },
      "source": [
        "# Define the Optimizer Adam and Compile the Siamese Model."
      ]
    },
    {
      "cell_type": "code",
      "metadata": {
        "id": "oEws3lOq5Rhq",
        "colab_type": "code",
        "colab": {
          "base_uri": "https://localhost:8080/",
          "height": 176
        },
        "outputId": "f5d527d3-8fbe-4acf-b7da-87c5db5617e7"
      },
      "source": [
        "optimizer = Adam(0.001, decay=2.5e-4)\n",
        "\n",
        "siamese_net.compile(loss=\"binary_crossentropy\",optimizer=optimizer,metrics=['accuracy'])"
      ],
      "execution_count": 22,
      "outputs": [
        {
          "output_type": "stream",
          "text": [
            "W0713 06:05:30.738519 139621981665152 deprecation_wrapper.py:119] From /usr/local/lib/python3.6/dist-packages/keras/optimizers.py:790: The name tf.train.Optimizer is deprecated. Please use tf.compat.v1.train.Optimizer instead.\n",
            "\n",
            "W0713 06:05:30.750970 139621981665152 deprecation_wrapper.py:119] From /usr/local/lib/python3.6/dist-packages/keras/backend/tensorflow_backend.py:3376: The name tf.log is deprecated. Please use tf.math.log instead.\n",
            "\n",
            "W0713 06:05:30.762641 139621981665152 deprecation.py:323] From /usr/local/lib/python3.6/dist-packages/tensorflow/python/ops/nn_impl.py:180: add_dispatch_support.<locals>.wrapper (from tensorflow.python.ops.array_ops) is deprecated and will be removed in a future version.\n",
            "Instructions for updating:\n",
            "Use tf.where in 2.0, which has the same broadcast rule as np.where\n"
          ],
          "name": "stderr"
        }
      ]
    },
    {
      "cell_type": "markdown",
      "metadata": {
        "_cell_guid": "dbba8e74-6b9c-4c84-96ed-55137265280b",
        "_uuid": "28e3843cae1a192bb14eb04cc1fe1705ef69f405",
        "id": "fj37ahgr5Rhr",
        "colab_type": "text"
      },
      "source": [
        "# Show the Summary of your Siamese Network"
      ]
    },
    {
      "cell_type": "code",
      "metadata": {
        "id": "0TjVSiug5Rhr",
        "colab_type": "code",
        "colab": {
          "base_uri": "https://localhost:8080/",
          "height": 340
        },
        "outputId": "786e74ac-76b2-48e2-cc12-f69f89e721ea"
      },
      "source": [
        "siamese_net.summary()"
      ],
      "execution_count": 23,
      "outputs": [
        {
          "output_type": "stream",
          "text": [
            "__________________________________________________________________________________________________\n",
            "Layer (type)                    Output Shape         Param #     Connected to                     \n",
            "==================================================================================================\n",
            "input_1 (InputLayer)            (None, 75, 75, 3)    0                                            \n",
            "__________________________________________________________________________________________________\n",
            "input_2 (InputLayer)            (None, 75, 75, 3)    0                                            \n",
            "__________________________________________________________________________________________________\n",
            "sequential_1 (Sequential)       (None, 18)           6912        input_1[0][0]                    \n",
            "                                                                 input_2[0][0]                    \n",
            "__________________________________________________________________________________________________\n",
            "lambda_1 (Lambda)               (None, 18)           0           sequential_1[1][0]               \n",
            "                                                                 sequential_1[2][0]               \n",
            "__________________________________________________________________________________________________\n",
            "dense_2 (Dense)                 (None, 1)            19          lambda_1[0][0]                   \n",
            "==================================================================================================\n",
            "Total params: 6,931\n",
            "Trainable params: 6,931\n",
            "Non-trainable params: 0\n",
            "__________________________________________________________________________________________________\n"
          ],
          "name": "stdout"
        }
      ]
    },
    {
      "cell_type": "markdown",
      "metadata": {
        "id": "ZjQdTrg05Rhs",
        "colab_type": "text"
      },
      "source": [
        "# Creating the Pair of Images to train on"
      ]
    },
    {
      "cell_type": "markdown",
      "metadata": {
        "_cell_guid": "7080234f-01f4-4df1-88a7-459746335c50",
        "_uuid": "4553890c8130dc76076252a09290497a4afc27e6",
        "id": "MyUxRYDZ5Rht",
        "colab_type": "text"
      },
      "source": [
        "It's not time to train though. We still have to create pairs of images to train on. There will be Positive(the same class) or Negative(different classes) for outputs. Let's construct this dataset. It is recommended that there are equal amounts positive and negative."
      ]
    },
    {
      "cell_type": "code",
      "metadata": {
        "_cell_guid": "32cb30db-144d-4f93-af05-6cb9a697c084",
        "_uuid": "09a3e9d488acd34e99912c5f01474029e77637f5",
        "id": "Rd4iXjpQ5Rht",
        "colab_type": "code",
        "colab": {}
      },
      "source": [
        "# First let's separate the dataset from 1 matrix to a list of matricies\n",
        "image_list = np.split(X_train[:1000],1000)\n",
        "label_list = np.split(Y_train[:1000],1000)\n",
        "\n",
        "left_input = []\n",
        "right_input = []\n",
        "targets = []\n",
        "\n",
        "#Number of pairs per image\n",
        "pairs = 5\n",
        "#Let's create the new dataset to train on\n",
        "for i in range(len(label_list)):\n",
        "    for _ in range(pairs):\n",
        "        compare_to = i\n",
        "        while compare_to == i: #Make sure it's not comparing to itself\n",
        "            compare_to = random.randint(0,999)\n",
        "        left_input.append(image_list[i])\n",
        "        right_input.append(image_list[compare_to])\n",
        "        if label_list[i] == label_list[compare_to]:# They are the same\n",
        "            targets.append(1.)\n",
        "        else:# Not the same\n",
        "            targets.append(0.)\n",
        "            \n",
        "left_input = np.squeeze(np.array(left_input))\n",
        "right_input = np.squeeze(np.array(right_input))\n",
        "targets = np.squeeze(np.array(targets))\n",
        "\n",
        "iceimage = X_train[101]\n",
        "test_left = []\n",
        "test_right = []\n",
        "test_targets = []\n",
        "\n",
        "for i in range(Y_train.shape[0]-1000):\n",
        "    test_left.append(iceimage)\n",
        "    test_right.append(X_train[i+1000])\n",
        "    test_targets.append(Y_train[i+1000])\n",
        "\n",
        "test_left = np.squeeze(np.array(test_left))\n",
        "test_right = np.squeeze(np.array(test_right))\n",
        "test_targets = np.squeeze(np.array(test_targets))"
      ],
      "execution_count": 0,
      "outputs": []
    },
    {
      "cell_type": "markdown",
      "metadata": {
        "id": "vfABP3tu5Rhu",
        "colab_type": "text"
      },
      "source": [
        "Now we have a lot more examples.\n",
        "Now we have pairs x 1000 examples to train the network on. \n",
        "Each side will have an input of an image and the output will be one if they are the same and zero if not."
      ]
    },
    {
      "cell_type": "markdown",
      "metadata": {
        "id": "UYqqh2Mi5Rhv",
        "colab_type": "text"
      },
      "source": [
        "# Train the Siamese train on left and right input image pairs created and validate it by test pairs."
      ]
    },
    {
      "cell_type": "code",
      "metadata": {
        "id": "dF7ZUSpL5Rhv",
        "colab_type": "code",
        "colab": {
          "base_uri": "https://localhost:8080/",
          "height": 1000
        },
        "outputId": "66fd1b2a-1e59-4a70-f285-3c8657296dbf"
      },
      "source": [
        "siamese_net.fit([left_input,right_input], targets,\n",
        "          batch_size=16,\n",
        "          epochs=10,\n",
        "          verbose=1,\n",
        "          validation_data=([test_left,test_right],test_targets))"
      ],
      "execution_count": 25,
      "outputs": [
        {
          "output_type": "stream",
          "text": [
            "W0713 06:06:15.983903 139621981665152 deprecation_wrapper.py:119] From /usr/local/lib/python3.6/dist-packages/keras/backend/tensorflow_backend.py:986: The name tf.assign_add is deprecated. Please use tf.compat.v1.assign_add instead.\n",
            "\n"
          ],
          "name": "stderr"
        },
        {
          "output_type": "stream",
          "text": [
            "Train on 5000 samples, validate on 3113 samples\n",
            "Epoch 1/10\n",
            "5000/5000 [==============================] - 38s 8ms/step - loss: 0.6772 - acc: 0.5656 - val_loss: 0.7526 - val_acc: 0.4362\n",
            "Epoch 2/10\n",
            "5000/5000 [==============================] - 37s 7ms/step - loss: 0.6208 - acc: 0.6694 - val_loss: 0.7541 - val_acc: 0.4777\n",
            "Epoch 3/10\n",
            "5000/5000 [==============================] - 37s 7ms/step - loss: 0.5659 - acc: 0.7288 - val_loss: 0.5796 - val_acc: 0.7064\n",
            "Epoch 4/10\n",
            "5000/5000 [==============================] - 37s 7ms/step - loss: 0.5042 - acc: 0.7790 - val_loss: 0.4541 - val_acc: 0.8236\n",
            "Epoch 5/10\n",
            "5000/5000 [==============================] - 37s 7ms/step - loss: 0.4577 - acc: 0.8118 - val_loss: 0.4485 - val_acc: 0.8185\n",
            "Epoch 6/10\n",
            "5000/5000 [==============================] - 37s 7ms/step - loss: 0.4209 - acc: 0.8282 - val_loss: 0.5036 - val_acc: 0.7963\n",
            "Epoch 7/10\n",
            "5000/5000 [==============================] - 38s 8ms/step - loss: 0.3923 - acc: 0.8482 - val_loss: 0.4683 - val_acc: 0.8102\n",
            "Epoch 8/10\n",
            "5000/5000 [==============================] - 38s 8ms/step - loss: 0.3688 - acc: 0.8594 - val_loss: 0.4597 - val_acc: 0.8137\n",
            "Epoch 9/10\n",
            "5000/5000 [==============================] - 38s 8ms/step - loss: 0.3436 - acc: 0.8686 - val_loss: 0.4696 - val_acc: 0.7983\n",
            "Epoch 10/10\n",
            "5000/5000 [==============================] - 38s 8ms/step - loss: 0.3253 - acc: 0.8750 - val_loss: 0.5222 - val_acc: 0.7896\n"
          ],
          "name": "stdout"
        },
        {
          "output_type": "execute_result",
          "data": {
            "text/plain": [
              "<keras.callbacks.History at 0x7efbfe8dc588>"
            ]
          },
          "metadata": {
            "tags": []
          },
          "execution_count": 25
        }
      ]
    },
    {
      "cell_type": "code",
      "metadata": {
        "id": "5TeGkITl5Rhx",
        "colab_type": "code",
        "colab": {
          "base_uri": "https://localhost:8080/",
          "height": 34
        },
        "outputId": "38909734-e916-4fc5-987a-05a6aaaac913"
      },
      "source": [
        "results = siamese_net.evaluate([test_left,test_right],test_targets)"
      ],
      "execution_count": 26,
      "outputs": [
        {
          "output_type": "stream",
          "text": [
            "3113/3113 [==============================] - 8s 3ms/step\n"
          ],
          "name": "stdout"
        }
      ]
    },
    {
      "cell_type": "code",
      "metadata": {
        "_uuid": "e572afcaaf7dc8632d813031ebd828d9eec0f9aa",
        "id": "LF06ynE05Rhz",
        "colab_type": "code",
        "colab": {
          "base_uri": "https://localhost:8080/",
          "height": 51
        },
        "outputId": "2a9d392d-1336-44b1-a210-0bad265be6df"
      },
      "source": [
        "print(\"Loss: \", results[0])\n",
        "print(\"Accuracy: \", results[1]*100, \"%\")"
      ],
      "execution_count": 38,
      "outputs": [
        {
          "output_type": "stream",
          "text": [
            "Loss:  0.5222346353025402\n",
            "Accuracy:  78.95920334274348 %\n"
          ],
          "name": "stdout"
        }
      ]
    },
    {
      "cell_type": "code",
      "metadata": {
        "id": "Bvx96E9zEhG7",
        "colab_type": "code",
        "colab": {}
      },
      "source": [
        "siamese_net.save('/content/drive/My Drive/Colab Notebooks/External Lab 10/siamese_net_model.h5')"
      ],
      "execution_count": 0,
      "outputs": []
    }
  ]
}