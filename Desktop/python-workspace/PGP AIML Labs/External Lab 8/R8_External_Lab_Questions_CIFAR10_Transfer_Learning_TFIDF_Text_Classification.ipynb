{
  "nbformat": 4,
  "nbformat_minor": 0,
  "metadata": {
    "colab": {
      "name": "R8_External_Lab_Questions_CIFAR10_Transfer_Learning_TFIDF_Text_Classification.ipynb",
      "version": "0.3.2",
      "provenance": [],
      "collapsed_sections": []
    },
    "kernelspec": {
      "name": "python3",
      "display_name": "Python 3"
    },
    "accelerator": "GPU"
  },
  "cells": [
    {
      "cell_type": "markdown",
      "metadata": {
        "id": "QGIsF1ADyJ58",
        "colab_type": "text"
      },
      "source": [
        "# Transfer Learning CIFAR10"
      ]
    },
    {
      "cell_type": "markdown",
      "metadata": {
        "id": "E-n6tVFayGBe",
        "colab_type": "text"
      },
      "source": [
        "* Train a simple convnet on the CIFAR dataset the first 5 output classes [0..4].\n",
        "* Freeze convolutional layers and fine-tune dense layers for the last 5 ouput classes [5..9].\n"
      ]
    },
    {
      "cell_type": "markdown",
      "metadata": {
        "id": "Cq8ejXHJyGYq",
        "colab_type": "text"
      },
      "source": [
        "### 1. Import CIFAR10 data and create 2 datasets with one dataset having classes from 0 to 4 and other having classes from 5 to 9 "
      ]
    },
    {
      "cell_type": "code",
      "metadata": {
        "id": "uWYbxnBayFUP",
        "colab_type": "code",
        "colab": {}
      },
      "source": [
        "import pandas as pd\n",
        "import numpy as np\n",
        "from sklearn.model_selection import train_test_split\n",
        "from keras import applications\n",
        "from keras.models import Sequential, Model \n",
        "from keras import backend as k \n",
        "from keras.callbacks import ModelCheckpoint, EarlyStopping\n",
        "from keras.layers import Conv2D, MaxPooling2D, Activation, Flatten, Dense, Dropout\n",
        "from keras.callbacks import EarlyStopping, ModelCheckpoint\n",
        "import keras as keras\n",
        "import vis"
      ],
      "execution_count": 0,
      "outputs": []
    },
    {
      "cell_type": "code",
      "metadata": {
        "id": "HwTdidP2xa26",
        "colab_type": "code",
        "colab": {}
      },
      "source": [
        "from keras.datasets import cifar10\n",
        "(x_train, y_train), (x_test, y_test) = cifar10.load_data()"
      ],
      "execution_count": 0,
      "outputs": []
    },
    {
      "cell_type": "code",
      "metadata": {
        "id": "fbejBhOFxqZr",
        "colab_type": "code",
        "colab": {
          "base_uri": "https://localhost:8080/",
          "height": 51
        },
        "outputId": "cd189c09-851a-4656-c4f2-c41f38748d26"
      },
      "source": [
        "y_train_1d = y_train[:, 0]\n",
        "y_test_1d = y_test[:, 0]\n",
        "print(y_train_1d.shape)\n",
        "print(y_test_1d.shape)"
      ],
      "execution_count": 165,
      "outputs": [
        {
          "output_type": "stream",
          "text": [
            "(50000,)\n",
            "(10000,)\n"
          ],
          "name": "stdout"
        }
      ]
    },
    {
      "cell_type": "code",
      "metadata": {
        "id": "yWJwNuiH003C",
        "colab_type": "code",
        "colab": {}
      },
      "source": [
        "# create two datasets one with classes from 0 to 4 and one with 5 to 9\n",
        "x_train_lt5 = x_train[y_train_1d < 5]\n",
        "y_train_lt5 = y_train_1d[y_train_1d < 5]\n",
        "x_test_lt5 = x_test[y_test_1d < 5]\n",
        "y_test_lt5 = y_test_1d[y_test_1d < 5]\n",
        "\n",
        "x_train_gte5 = x_train[y_train_1d >= 5]\n",
        "y_train_gte5 = y_train_1d[y_train_1d >= 5]\n",
        "x_test_gte5 = x_test[y_test_1d >= 5]\n",
        "y_test_gte5 = y_test_1d[y_test_1d >= 5]"
      ],
      "execution_count": 0,
      "outputs": []
    },
    {
      "cell_type": "code",
      "metadata": {
        "id": "B_pIQ_ID16dc",
        "colab_type": "code",
        "colab": {
          "base_uri": "https://localhost:8080/",
          "height": 187
        },
        "outputId": "18fc6ea0-c73c-4116-d755-f7054240f62f"
      },
      "source": [
        "print(\"Dataset Samples: \\n\")\n",
        "print(\"X Train < 5: \", x_train_lt5[x_train_lt5 > 0])\n",
        "print(\"X Test < 5: \", x_test_lt5[x_test_lt5 > 0])\n",
        "print(\"Y Train < 5: \", y_train_lt5[0])\n",
        "print(\"Y Test < 5: \", y_test_lt5[0])\n",
        "print(\"X Train >= 5: \", x_train_gte5[x_train_gte5 > 0])\n",
        "print(\"X Test >=5 : \", x_test_gte5[x_test_gte5 > 0])\n",
        "print(\"Y Train >= 5: \", y_train_gte5[0])\n",
        "print(\"Y Test >= 5: \", y_test_gte5[0])"
      ],
      "execution_count": 167,
      "outputs": [
        {
          "output_type": "stream",
          "text": [
            "Dataset Samples: \n",
            "\n",
            "X Train < 5:  [ 28  25  10 ... 163 163 161]\n",
            "X Test < 5:  [158 112  49 ...  92 120  80]\n",
            "Y Train < 5:  4\n",
            "Y Test < 5:  3\n",
            "X Train >= 5:  [59 62 63 ... 12 31 50]\n",
            "X Test >=5 :  [235 235 235 ...  27  26  26]\n",
            "Y Train >= 5:  6\n",
            "Y Test >= 5:  8\n"
          ],
          "name": "stdout"
        }
      ]
    },
    {
      "cell_type": "markdown",
      "metadata": {
        "id": "xtCKmQh4yXhT",
        "colab_type": "text"
      },
      "source": [
        "### 2. Use One-hot encoding to divide y_train and y_test into required no of output classes"
      ]
    },
    {
      "cell_type": "code",
      "metadata": {
        "id": "uN5O2kJ3yYa6",
        "colab_type": "code",
        "colab": {}
      },
      "source": [
        "train_features_lt5 = x_train_lt5.astype('float32')/255\n",
        "test_features_lt5 = x_test_lt5.astype('float32')/255\n",
        "# convert class labels to binary class labels\n",
        "train_labels_lt5 = keras.utils.to_categorical(y_train_lt5, 10)\n",
        "test_labels_lt5 = keras.utils.to_categorical(y_test_lt5, 10)"
      ],
      "execution_count": 0,
      "outputs": []
    },
    {
      "cell_type": "markdown",
      "metadata": {
        "id": "cuOiKWfeybAl",
        "colab_type": "text"
      },
      "source": [
        "### 3. Build a sequential neural network model which can classify the classes 0 to 4 of CIFAR10 dataset with at least 80% accuracy on test data"
      ]
    },
    {
      "cell_type": "code",
      "metadata": {
        "id": "5HzxNbiiyoBD",
        "colab_type": "code",
        "colab": {}
      },
      "source": [
        "# input image dimensions\n",
        "IMG_SIZE = 32\n",
        "# number of convolutional filters to use\n",
        "filters = 32\n",
        "# size of pooling area for max pooling\n",
        "pool_size = 2\n",
        "# convolution kernel size\n",
        "kernel_size = 3\n",
        "# number of classes\n",
        "num_classes = 10\n",
        "\n",
        "conv_layers = [\n",
        "    Conv2D(filters, kernel_size,\n",
        "           padding='valid',\n",
        "           input_shape=(IMG_SIZE, IMG_SIZE, 3)),\n",
        "    keras.layers.BatchNormalization(),\n",
        "    Activation('relu'),\n",
        "    MaxPooling2D(pool_size = pool_size),\n",
        "    Conv2D(64, kernel_size),\n",
        "    keras.layers.BatchNormalization(),\n",
        "    Activation('relu'),\n",
        "    MaxPooling2D(pool_size = pool_size),\n",
        "    Conv2D(96, kernel_size),\n",
        "    keras.layers.BatchNormalization(),\n",
        "    Activation('relu'),\n",
        "    MaxPooling2D(pool_size = pool_size),\n",
        "    Flatten(),\n",
        "]\n",
        "\n",
        "output_layers = [\n",
        "    Dense(128),\n",
        "    keras.layers.BatchNormalization(),\n",
        "    Activation('relu'),\n",
        "    Dropout(0.25),\n",
        "    Dense(num_classes),\n",
        "    Activation('softmax')\n",
        "]"
      ],
      "execution_count": 0,
      "outputs": []
    },
    {
      "cell_type": "code",
      "metadata": {
        "id": "0FeRs-2y-ugm",
        "colab_type": "code",
        "colab": {}
      },
      "source": [
        "from keras.preprocessing.image import ImageDataGenerator\n",
        "#Attempting to use Data Augmentation\n",
        "data = ImageDataGenerator(samplewise_center=False, # set input mean to 0 over the sample\n",
        "                          samplewise_std_normalization=False,  # divide inputs by std of the sample\n",
        "                          rotation_range=90,       # randomly rotate images in the range (degrees, 0 to 180)\n",
        "                          width_shift_range=0.2,   # randomly shift images horizontally (fraction of total width)\n",
        "                          height_shift_range=0.2,  # randomly shift images vertically (fraction of total height)\n",
        "                          fill_mode='reflect',     # filling the area outside\n",
        "                          zoom_range=0.4,          # random zoom\n",
        "                          horizontal_flip=True,    # randomly flip images\n",
        "                          vertical_flip=True)      # randomly flip images"
      ],
      "execution_count": 0,
      "outputs": []
    },
    {
      "cell_type": "code",
      "metadata": {
        "id": "WtCujqny8Rag",
        "colab_type": "code",
        "colab": {}
      },
      "source": [
        "# create complete model\n",
        "model = Sequential(conv_layers + output_layers)\n",
        "\n",
        "# Save the model \n",
        "checkpoint = ModelCheckpoint(\"init_model_upto_4.h5\", monitor='val_acc', verbose=1, save_best_only=True, mode='auto')\n",
        "early = EarlyStopping(monitor='val_acc', min_delta=0, patience=5, verbose=1, mode='auto')"
      ],
      "execution_count": 0,
      "outputs": []
    },
    {
      "cell_type": "code",
      "metadata": {
        "id": "Ak1xm5hI9RhL",
        "colab_type": "code",
        "colab": {
          "base_uri": "https://localhost:8080/",
          "height": 782
        },
        "outputId": "13c87b9f-c172-4bf0-d421-c70d3f79cc56"
      },
      "source": [
        "model.summary()"
      ],
      "execution_count": 438,
      "outputs": [
        {
          "output_type": "stream",
          "text": [
            "_________________________________________________________________\n",
            "Layer (type)                 Output Shape              Param #   \n",
            "=================================================================\n",
            "conv2d_216 (Conv2D)          (None, 30, 30, 32)        896       \n",
            "_________________________________________________________________\n",
            "batch_normalization_232 (Bat (None, 30, 30, 32)        128       \n",
            "_________________________________________________________________\n",
            "activation_275 (Activation)  (None, 30, 30, 32)        0         \n",
            "_________________________________________________________________\n",
            "max_pooling2d_93 (MaxPooling (None, 15, 15, 32)        0         \n",
            "_________________________________________________________________\n",
            "conv2d_217 (Conv2D)          (None, 13, 13, 64)        18496     \n",
            "_________________________________________________________________\n",
            "batch_normalization_233 (Bat (None, 13, 13, 64)        256       \n",
            "_________________________________________________________________\n",
            "activation_276 (Activation)  (None, 13, 13, 64)        0         \n",
            "_________________________________________________________________\n",
            "max_pooling2d_94 (MaxPooling (None, 6, 6, 64)          0         \n",
            "_________________________________________________________________\n",
            "conv2d_218 (Conv2D)          (None, 4, 4, 96)          55392     \n",
            "_________________________________________________________________\n",
            "batch_normalization_234 (Bat (None, 4, 4, 96)          384       \n",
            "_________________________________________________________________\n",
            "activation_277 (Activation)  (None, 4, 4, 96)          0         \n",
            "_________________________________________________________________\n",
            "max_pooling2d_95 (MaxPooling (None, 2, 2, 96)          0         \n",
            "_________________________________________________________________\n",
            "flatten_29 (Flatten)         (None, 384)               0         \n",
            "_________________________________________________________________\n",
            "dense_63 (Dense)             (None, 128)               49280     \n",
            "_________________________________________________________________\n",
            "batch_normalization_235 (Bat (None, 128)               512       \n",
            "_________________________________________________________________\n",
            "activation_278 (Activation)  (None, 128)               0         \n",
            "_________________________________________________________________\n",
            "dropout_33 (Dropout)         (None, 128)               0         \n",
            "_________________________________________________________________\n",
            "dense_64 (Dense)             (None, 10)                1290      \n",
            "_________________________________________________________________\n",
            "activation_279 (Activation)  (None, 10)                0         \n",
            "=================================================================\n",
            "Total params: 126,634\n",
            "Trainable params: 125,994\n",
            "Non-trainable params: 640\n",
            "_________________________________________________________________\n"
          ],
          "name": "stdout"
        }
      ]
    },
    {
      "cell_type": "code",
      "metadata": {
        "id": "Mphz01wyEuk5",
        "colab_type": "code",
        "colab": {
          "base_uri": "https://localhost:8080/",
          "height": 34
        },
        "outputId": "f9808eb3-2e8a-4721-a139-cee0aab6b26a"
      },
      "source": [
        "train_features_lt5.shape[0]"
      ],
      "execution_count": 439,
      "outputs": [
        {
          "output_type": "execute_result",
          "data": {
            "text/plain": [
              "25000"
            ]
          },
          "metadata": {
            "tags": []
          },
          "execution_count": 439
        }
      ]
    },
    {
      "cell_type": "code",
      "metadata": {
        "id": "IOHYVgzJ9ZtT",
        "colab_type": "code",
        "colab": {
          "base_uri": "https://localhost:8080/",
          "height": 493
        },
        "outputId": "17304af1-8b57-466c-80e8-2544dc95958b"
      },
      "source": [
        "model.compile(loss='binary_crossentropy', optimizer='adam', metrics=['accuracy'])\n",
        "\n",
        "history = model.fit_generator(data.flow(train_features_lt5, train_labels_lt5, batch_size = 512),\n",
        "          steps_per_epoch = train_features_lt5.shape[0]/350, epochs = 7,\n",
        "          verbose = 1,\n",
        "          callbacks = [checkpoint, early],\n",
        "          validation_data= (test_features_lt5, test_labels_lt5))"
      ],
      "execution_count": 563,
      "outputs": [
        {
          "output_type": "stream",
          "text": [
            "Epoch 1/7\n",
            "72/71 [==============================] - 38s 527ms/step - loss: 0.4075 - acc: 0.8907 - val_loss: 0.3166 - val_acc: 0.9115\n",
            "\n",
            "Epoch 00001: val_acc did not improve from 0.93726\n",
            "Epoch 2/7\n",
            "72/71 [==============================] - 13s 183ms/step - loss: 0.1835 - acc: 0.9273 - val_loss: 0.2302 - val_acc: 0.9161\n",
            "\n",
            "Epoch 00002: val_acc did not improve from 0.93726\n",
            "Epoch 3/7\n",
            "72/71 [==============================] - 15s 208ms/step - loss: 0.1691 - acc: 0.9300 - val_loss: 0.2169 - val_acc: 0.9166\n",
            "\n",
            "Epoch 00003: val_acc did not improve from 0.93726\n",
            "Epoch 4/7\n",
            "72/71 [==============================] - 15s 203ms/step - loss: 0.1639 - acc: 0.9310 - val_loss: 0.2078 - val_acc: 0.9182\n",
            "\n",
            "Epoch 00004: val_acc did not improve from 0.93726\n",
            "Epoch 5/7\n",
            "72/71 [==============================] - 15s 203ms/step - loss: 0.1608 - acc: 0.9320 - val_loss: 0.1873 - val_acc: 0.9227\n",
            "\n",
            "Epoch 00005: val_acc did not improve from 0.93726\n",
            "Epoch 6/7\n",
            "72/71 [==============================] - 15s 204ms/step - loss: 0.1606 - acc: 0.9318 - val_loss: 0.1776 - val_acc: 0.9251\n",
            "\n",
            "Epoch 00006: val_acc did not improve from 0.93726\n",
            "Epoch 7/7\n",
            "72/71 [==============================] - 15s 203ms/step - loss: 0.1600 - acc: 0.9314 - val_loss: 0.1743 - val_acc: 0.9254\n",
            "\n",
            "Epoch 00007: val_acc did not improve from 0.93726\n"
          ],
          "name": "stdout"
        }
      ]
    },
    {
      "cell_type": "code",
      "metadata": {
        "id": "tpsOiNi1clLt",
        "colab_type": "code",
        "colab": {
          "base_uri": "https://localhost:8080/",
          "height": 51
        },
        "outputId": "0e92f341-d3ae-4c7f-8a70-e1dacb8af511"
      },
      "source": [
        "output_model_train = model.evaluate(train_features_lt5, train_labels_lt5)\n",
        "output_model_test = model.evaluate(test_features_lt5, test_labels_lt5)"
      ],
      "execution_count": 564,
      "outputs": [
        {
          "output_type": "stream",
          "text": [
            "25000/25000 [==============================] - 5s 193us/step\n",
            "5000/5000 [==============================] - 1s 185us/step\n"
          ],
          "name": "stdout"
        }
      ]
    },
    {
      "cell_type": "code",
      "metadata": {
        "id": "M1VNWToZcxPY",
        "colab_type": "code",
        "colab": {
          "base_uri": "https://localhost:8080/",
          "height": 51
        },
        "outputId": "2be1dfa1-fe58-48ce-ae9d-a5ea4b7b02bf"
      },
      "source": [
        "print('Model Train Accuracy:', output_model_train[1] * 100, \"%\")\n",
        "print('Model Test accuracy:', output_model_test[1] * 100, \"%\")"
      ],
      "execution_count": 567,
      "outputs": [
        {
          "output_type": "stream",
          "text": [
            "Model Train Accuracy: 92.82359925079345 %\n",
            "Model Test accuracy: 92.54399892807007 %\n"
          ],
          "name": "stdout"
        }
      ]
    },
    {
      "cell_type": "code",
      "metadata": {
        "id": "6unHGzLkd1ha",
        "colab_type": "code",
        "colab": {
          "base_uri": "https://localhost:8080/",
          "height": 295
        },
        "outputId": "c8dec600-4017-4d81-9640-ab60a9f60a7b"
      },
      "source": [
        "import matplotlib.pyplot as plt\n",
        "\n",
        "loss = history.history['loss']\n",
        "val_loss = history.history['val_loss']\n",
        "epochs = range(1, len(loss) + 1)\n",
        "plt.plot(epochs, loss, color='red', label='Training loss')\n",
        "plt.plot(epochs, val_loss, color='green', label='Validation loss')\n",
        "plt.title('Training and validation loss')\n",
        "plt.xlabel('Epochs')\n",
        "plt.ylabel('Loss')\n",
        "plt.legend()\n",
        "plt.show()"
      ],
      "execution_count": 569,
      "outputs": [
        {
          "output_type": "display_data",
          "data": {
            "image/png": "[encoded data removed]",
            "text/plain": [
              "<Figure size 432x288 with 1 Axes>"
            ]
          },
          "metadata": {
            "tags": []
          }
        }
      ]
    },
    {
      "cell_type": "code",
      "metadata": {
        "id": "1gN7ysgXeUmy",
        "colab_type": "code",
        "colab": {
          "base_uri": "https://localhost:8080/",
          "height": 295
        },
        "outputId": "edcba704-c287-43c0-c719-211f2409965b"
      },
      "source": [
        "acc = history.history['acc']\n",
        "val_acc = history.history['val_acc']\n",
        "plt.plot(epochs, acc, color='red', label='Training acc')\n",
        "plt.plot(epochs, val_acc, color='green', label='Validation acc')\n",
        "plt.title('Training and validation accuracy')\n",
        "plt.xlabel('Epochs')\n",
        "plt.ylabel('Loss')\n",
        "plt.legend()\n",
        "plt.show()"
      ],
      "execution_count": 570,
      "outputs": [
        {
          "output_type": "display_data",
          "data": {
            "image/png": "[encoded data removed]",
            "text/plain": [
              "<Figure size 432x288 with 1 Axes>"
            ]
          },
          "metadata": {
            "tags": []
          }
        }
      ]
    },
    {
      "cell_type": "markdown",
      "metadata": {
        "id": "WLzeCv5gfKnj",
        "colab_type": "text"
      },
      "source": [
        "## Kindly do not consider below model. POC only."
      ]
    },
    {
      "cell_type": "code",
      "metadata": {
        "id": "ciGhegPdiliP",
        "colab_type": "code",
        "colab": {}
      },
      "source": [
        "#New Model, with Reference from an internet source (POC only, Please dont consider) #Please do not consider. Abandoned this approach.\n",
        "model_new = Sequential()\n",
        "model_new.add(Conv2D(32, kernel_size, padding='valid', input_shape=(IMG_SIZE, IMG_SIZE, 3)))\n",
        "model_new.add(keras.layers.BatchNormalization())\n",
        "model_new.add(Activation('relu'))\n",
        "model_new.add(Conv2D(32, kernel_size))\n",
        "model_new.add(keras.layers.BatchNormalization())\n",
        "model_new.add(Activation('relu'))\n",
        "model_new.add(MaxPooling2D(pool_size= pool_size))\n",
        "model_new.add(keras.layers.BatchNormalization())\n",
        "model_new.add(Activation('relu'))\n",
        "model_new.add(Conv2D(64, kernel_size))\n",
        "model_new.add(keras.layers.BatchNormalization())\n",
        "model_new.add(Activation('relu'))\n",
        "model_new.add(MaxPooling2D(pool_size= pool_size))\n",
        "model_new.add(Conv2D(64, kernel_size))\n",
        "model_new.add(keras.layers.BatchNormalization())\n",
        "model_new.add(Activation('relu'))\n",
        "model_new.add(Conv2D(96, kernel_size))\n",
        "model_new.add(keras.layers.BatchNormalization())\n",
        "model_new.add(Activation('relu'))\n",
        "model_new.add(MaxPooling2D(pool_size= pool_size))\n",
        "model_new.add(Flatten())\n",
        "model_new.add(Dense(512))\n",
        "model_new.add(Activation('relu'))\n",
        "model_new.add(Dropout(0.5))\n",
        "model_new.add(Dense(256))\n",
        "model_new.add(Activation('relu'))\n",
        "model_new.add(Dropout(0.5))\n",
        "model_new.add(Dense(num_classes, activation='softmax'))"
      ],
      "execution_count": 0,
      "outputs": []
    },
    {
      "cell_type": "code",
      "metadata": {
        "id": "etKjxajrniU3",
        "colab_type": "code",
        "colab": {
          "base_uri": "https://localhost:8080/",
          "height": 1088
        },
        "outputId": "c2628070-9fe9-428d-ceb7-4438ec861561"
      },
      "source": [
        "model_new.summary()"
      ],
      "execution_count": 217,
      "outputs": [
        {
          "output_type": "stream",
          "text": [
            "_________________________________________________________________\n",
            "Layer (type)                 Output Shape              Param #   \n",
            "=================================================================\n",
            "conv2d_187 (Conv2D)          (None, 30, 30, 32)        896       \n",
            "_________________________________________________________________\n",
            "batch_normalization_194 (Bat (None, 30, 30, 32)        128       \n",
            "_________________________________________________________________\n",
            "activation_227 (Activation)  (None, 30, 30, 32)        0         \n",
            "_________________________________________________________________\n",
            "conv2d_188 (Conv2D)          (None, 28, 28, 32)        9248      \n",
            "_________________________________________________________________\n",
            "batch_normalization_195 (Bat (None, 28, 28, 32)        128       \n",
            "_________________________________________________________________\n",
            "activation_228 (Activation)  (None, 28, 28, 32)        0         \n",
            "_________________________________________________________________\n",
            "max_pooling2d_66 (MaxPooling (None, 14, 14, 32)        0         \n",
            "_________________________________________________________________\n",
            "batch_normalization_196 (Bat (None, 14, 14, 32)        128       \n",
            "_________________________________________________________________\n",
            "activation_229 (Activation)  (None, 14, 14, 32)        0         \n",
            "_________________________________________________________________\n",
            "conv2d_189 (Conv2D)          (None, 12, 12, 64)        18496     \n",
            "_________________________________________________________________\n",
            "batch_normalization_197 (Bat (None, 12, 12, 64)        256       \n",
            "_________________________________________________________________\n",
            "activation_230 (Activation)  (None, 12, 12, 64)        0         \n",
            "_________________________________________________________________\n",
            "max_pooling2d_67 (MaxPooling (None, 6, 6, 64)          0         \n",
            "_________________________________________________________________\n",
            "conv2d_190 (Conv2D)          (None, 4, 4, 64)          36928     \n",
            "_________________________________________________________________\n",
            "batch_normalization_198 (Bat (None, 4, 4, 64)          256       \n",
            "_________________________________________________________________\n",
            "activation_231 (Activation)  (None, 4, 4, 64)          0         \n",
            "_________________________________________________________________\n",
            "conv2d_191 (Conv2D)          (None, 2, 2, 96)          55392     \n",
            "_________________________________________________________________\n",
            "batch_normalization_199 (Bat (None, 2, 2, 96)          384       \n",
            "_________________________________________________________________\n",
            "activation_232 (Activation)  (None, 2, 2, 96)          0         \n",
            "_________________________________________________________________\n",
            "max_pooling2d_68 (MaxPooling (None, 1, 1, 96)          0         \n",
            "_________________________________________________________________\n",
            "flatten_20 (Flatten)         (None, 96)                0         \n",
            "_________________________________________________________________\n",
            "dense_41 (Dense)             (None, 512)               49664     \n",
            "_________________________________________________________________\n",
            "activation_233 (Activation)  (None, 512)               0         \n",
            "_________________________________________________________________\n",
            "dropout_22 (Dropout)         (None, 512)               0         \n",
            "_________________________________________________________________\n",
            "dense_42 (Dense)             (None, 256)               131328    \n",
            "_________________________________________________________________\n",
            "activation_234 (Activation)  (None, 256)               0         \n",
            "_________________________________________________________________\n",
            "dropout_23 (Dropout)         (None, 256)               0         \n",
            "_________________________________________________________________\n",
            "dense_43 (Dense)             (None, 5)                 1285      \n",
            "=================================================================\n",
            "Total params: 304,517\n",
            "Trainable params: 303,877\n",
            "Non-trainable params: 640\n",
            "_________________________________________________________________\n"
          ],
          "name": "stdout"
        }
      ]
    },
    {
      "cell_type": "code",
      "metadata": {
        "id": "4MBh_T-XE4s9",
        "colab_type": "code",
        "colab": {}
      },
      "source": [
        "#model_new.compile(loss='categorical_crossentropy', optimizer='adam', metrics=['accuracy'])\n",
        "\n",
        "#history_new = model_new.fit_generator(data.flow(train_features_lt5, train_labels_lt5, batch_size = 128),\n",
        "#         steps_per_epoch = train_features_lt5.shape[0]/256, nb_epoch = 50,\n",
        "#         verbose = 1,\n",
        "#          callbacks = [checkpoint, early],\n",
        "#          validation_data= (test_features_lt5, test_labels_lt5))\n",
        "#Abandoned Model, Not to be considered"
      ],
      "execution_count": 0,
      "outputs": []
    },
    {
      "cell_type": "markdown",
      "metadata": {
        "id": "SvSdHeJCfU9V",
        "colab_type": "text"
      },
      "source": [
        "## Transfer Learning Starts Here"
      ]
    },
    {
      "cell_type": "markdown",
      "metadata": {
        "id": "woTfNst_ynRG",
        "colab_type": "text"
      },
      "source": [
        "### 4. In the model which was built above (for classification of classes 0-4 in CIFAR10), make only the dense layers to be trainable and conv layers to be non-trainable"
      ]
    },
    {
      "cell_type": "code",
      "metadata": {
        "id": "o_VCDB3Byb1a",
        "colab_type": "code",
        "colab": {}
      },
      "source": [
        "#Freezing layers in the model which don't have 'dense' in their name\n",
        "for layer in model.layers:\n",
        "    if('dense' not in layer.name): #prefix detection to freeze layers which does not have dense\n",
        "    #Freezing a layer\n",
        "        layer.trainable = False"
      ],
      "execution_count": 0,
      "outputs": []
    },
    {
      "cell_type": "code",
      "metadata": {
        "id": "SskEmBC19JdH",
        "colab_type": "code",
        "colab": {
          "base_uri": "https://localhost:8080/",
          "height": 663
        },
        "outputId": "d37c6930-3a94-4557-f8ba-206e0345ab61"
      },
      "source": [
        "#Module to print colourful statements\n",
        "from termcolor import colored\n",
        "\n",
        "#Check which layers have been frozen \n",
        "for layer in model.layers:\n",
        "    print (colored(layer.name, 'blue'))\n",
        "    print (colored(layer.trainable, 'red'))"
      ],
      "execution_count": 447,
      "outputs": [
        {
          "output_type": "stream",
          "text": [
            "\u001b[34mconv2d_216\u001b[0m\n",
            "\u001b[31mFalse\u001b[0m\n",
            "\u001b[34mbatch_normalization_232\u001b[0m\n",
            "\u001b[31mFalse\u001b[0m\n",
            "\u001b[34mactivation_275\u001b[0m\n",
            "\u001b[31mFalse\u001b[0m\n",
            "\u001b[34mmax_pooling2d_93\u001b[0m\n",
            "\u001b[31mFalse\u001b[0m\n",
            "\u001b[34mconv2d_217\u001b[0m\n",
            "\u001b[31mFalse\u001b[0m\n",
            "\u001b[34mbatch_normalization_233\u001b[0m\n",
            "\u001b[31mFalse\u001b[0m\n",
            "\u001b[34mactivation_276\u001b[0m\n",
            "\u001b[31mFalse\u001b[0m\n",
            "\u001b[34mmax_pooling2d_94\u001b[0m\n",
            "\u001b[31mFalse\u001b[0m\n",
            "\u001b[34mconv2d_218\u001b[0m\n",
            "\u001b[31mFalse\u001b[0m\n",
            "\u001b[34mbatch_normalization_234\u001b[0m\n",
            "\u001b[31mFalse\u001b[0m\n",
            "\u001b[34mactivation_277\u001b[0m\n",
            "\u001b[31mFalse\u001b[0m\n",
            "\u001b[34mmax_pooling2d_95\u001b[0m\n",
            "\u001b[31mFalse\u001b[0m\n",
            "\u001b[34mflatten_29\u001b[0m\n",
            "\u001b[31mFalse\u001b[0m\n",
            "\u001b[34mdense_63\u001b[0m\n",
            "\u001b[31mTrue\u001b[0m\n",
            "\u001b[34mbatch_normalization_235\u001b[0m\n",
            "\u001b[31mFalse\u001b[0m\n",
            "\u001b[34mactivation_278\u001b[0m\n",
            "\u001b[31mFalse\u001b[0m\n",
            "\u001b[34mdropout_33\u001b[0m\n",
            "\u001b[31mFalse\u001b[0m\n",
            "\u001b[34mdense_64\u001b[0m\n",
            "\u001b[31mTrue\u001b[0m\n",
            "\u001b[34mactivation_279\u001b[0m\n",
            "\u001b[31mFalse\u001b[0m\n"
          ],
          "name": "stdout"
        }
      ]
    },
    {
      "cell_type": "markdown",
      "metadata": {
        "id": "1-uUPqWpyeyX",
        "colab_type": "text"
      },
      "source": [
        "### 5. Utilize the the model trained on CIFAR 10 (classes 0 to 4) to classify the classes 5 to 9 of CIFAR 10  (Use Transfer Learning) <br>\n",
        "Achieve an accuracy of more than 85% on test data"
      ]
    },
    {
      "cell_type": "code",
      "metadata": {
        "id": "zfiJmT08H6UJ",
        "colab_type": "code",
        "colab": {}
      },
      "source": [
        "train_features_gte5 = x_train_gte5.astype('float32')/255\n",
        "test_features_gte5 = x_test_gte5.astype('float32')/255\n",
        "train_labels_gte5 = keras.utils.to_categorical(y_train_gte5, 10)\n",
        "test_labels_gte5 = keras.utils.to_categorical(y_test_gte5, 10)"
      ],
      "execution_count": 0,
      "outputs": []
    },
    {
      "cell_type": "code",
      "metadata": {
        "id": "2KQh5HGTyygn",
        "colab_type": "code",
        "colab": {
          "base_uri": "https://localhost:8080/",
          "height": 51
        },
        "outputId": "67a43c15-b096-4110-f3b7-7b4f6e96cb1b"
      },
      "source": [
        "print(train_labels_gte5.shape)\n",
        "print(test_labels_gte5.shape)"
      ],
      "execution_count": 449,
      "outputs": [
        {
          "output_type": "stream",
          "text": [
            "(25000, 10)\n",
            "(5000, 10)\n"
          ],
          "name": "stdout"
        }
      ]
    },
    {
      "cell_type": "code",
      "metadata": {
        "id": "vps9DBC8JVJe",
        "colab_type": "code",
        "colab": {
          "base_uri": "https://localhost:8080/",
          "height": 663
        },
        "outputId": "9a4344b4-f946-45f3-d98f-2c523b57b9bd"
      },
      "source": [
        "#Module to print colourful statements\n",
        "from termcolor import colored\n",
        "\n",
        "#Check which layers have been frozen \n",
        "for layer in model.layers:\n",
        "    print (colored(layer.name, 'blue'))\n",
        "    print (colored(layer.trainable, 'red'))"
      ],
      "execution_count": 450,
      "outputs": [
        {
          "output_type": "stream",
          "text": [
            "\u001b[34mconv2d_216\u001b[0m\n",
            "\u001b[31mFalse\u001b[0m\n",
            "\u001b[34mbatch_normalization_232\u001b[0m\n",
            "\u001b[31mFalse\u001b[0m\n",
            "\u001b[34mactivation_275\u001b[0m\n",
            "\u001b[31mFalse\u001b[0m\n",
            "\u001b[34mmax_pooling2d_93\u001b[0m\n",
            "\u001b[31mFalse\u001b[0m\n",
            "\u001b[34mconv2d_217\u001b[0m\n",
            "\u001b[31mFalse\u001b[0m\n",
            "\u001b[34mbatch_normalization_233\u001b[0m\n",
            "\u001b[31mFalse\u001b[0m\n",
            "\u001b[34mactivation_276\u001b[0m\n",
            "\u001b[31mFalse\u001b[0m\n",
            "\u001b[34mmax_pooling2d_94\u001b[0m\n",
            "\u001b[31mFalse\u001b[0m\n",
            "\u001b[34mconv2d_218\u001b[0m\n",
            "\u001b[31mFalse\u001b[0m\n",
            "\u001b[34mbatch_normalization_234\u001b[0m\n",
            "\u001b[31mFalse\u001b[0m\n",
            "\u001b[34mactivation_277\u001b[0m\n",
            "\u001b[31mFalse\u001b[0m\n",
            "\u001b[34mmax_pooling2d_95\u001b[0m\n",
            "\u001b[31mFalse\u001b[0m\n",
            "\u001b[34mflatten_29\u001b[0m\n",
            "\u001b[31mFalse\u001b[0m\n",
            "\u001b[34mdense_63\u001b[0m\n",
            "\u001b[31mTrue\u001b[0m\n",
            "\u001b[34mbatch_normalization_235\u001b[0m\n",
            "\u001b[31mFalse\u001b[0m\n",
            "\u001b[34mactivation_278\u001b[0m\n",
            "\u001b[31mFalse\u001b[0m\n",
            "\u001b[34mdropout_33\u001b[0m\n",
            "\u001b[31mFalse\u001b[0m\n",
            "\u001b[34mdense_64\u001b[0m\n",
            "\u001b[31mTrue\u001b[0m\n",
            "\u001b[34mactivation_279\u001b[0m\n",
            "\u001b[31mFalse\u001b[0m\n"
          ],
          "name": "stdout"
        }
      ]
    },
    {
      "cell_type": "code",
      "metadata": {
        "id": "jPUN9UL2II4k",
        "colab_type": "code",
        "colab": {
          "base_uri": "https://localhost:8080/",
          "height": 340
        },
        "outputId": "dea6138a-c8fa-4c1a-cda8-22034eaa2eef"
      },
      "source": [
        "model.layers"
      ],
      "execution_count": 451,
      "outputs": [
        {
          "output_type": "execute_result",
          "data": {
            "text/plain": [
              "[<keras.layers.convolutional.Conv2D at 0x7f2215926cf8>,\n",
              " <keras.layers.normalization.BatchNormalization at 0x7f2215926eb8>,\n",
              " <keras.layers.core.Activation at 0x7f2215926fd0>,\n",
              " <keras.layers.pooling.MaxPooling2D at 0x7f2216323048>,\n",
              " <keras.layers.convolutional.Conv2D at 0x7f22163230f0>,\n",
              " <keras.layers.normalization.BatchNormalization at 0x7f2216323278>,\n",
              " <keras.layers.core.Activation at 0x7f2216323390>,\n",
              " <keras.layers.pooling.MaxPooling2D at 0x7f22163233c8>,\n",
              " <keras.layers.convolutional.Conv2D at 0x7f2216323470>,\n",
              " <keras.layers.normalization.BatchNormalization at 0x7f22163235f8>,\n",
              " <keras.layers.core.Activation at 0x7f2216323710>,\n",
              " <keras.layers.pooling.MaxPooling2D at 0x7f2216323748>,\n",
              " <keras.layers.core.Flatten at 0x7f22163237f0>,\n",
              " <keras.layers.core.Dense at 0x7f2216323898>,\n",
              " <keras.layers.normalization.BatchNormalization at 0x7f22163239e8>,\n",
              " <keras.layers.core.Activation at 0x7f2216323b70>,\n",
              " <keras.layers.core.Dropout at 0x7f2216323ba8>,\n",
              " <keras.layers.core.Dense at 0x7f2216323be0>,\n",
              " <keras.layers.core.Activation at 0x7f2216323d30>]"
            ]
          },
          "metadata": {
            "tags": []
          },
          "execution_count": 451
        }
      ]
    },
    {
      "cell_type": "code",
      "metadata": {
        "id": "T8Jk3gYQ4icE",
        "colab_type": "code",
        "colab": {}
      },
      "source": [
        "trans_model = Sequential(model.layers[:13])"
      ],
      "execution_count": 0,
      "outputs": []
    },
    {
      "cell_type": "code",
      "metadata": {
        "id": "gYAwhmqgIwq8",
        "colab_type": "code",
        "colab": {
          "base_uri": "https://localhost:8080/",
          "height": 748
        },
        "outputId": "af90d847-db6e-4799-ae7b-af4ddfa06dad"
      },
      "source": [
        "trans_model.add(Dense(256))\n",
        "trans_model.add(Activation('relu'))\n",
        "trans_model.add(Dropout(0.25))\n",
        "trans_model.add(Dense(10))\n",
        "trans_model.add(Activation('softmax'))\n",
        "trans_model.summary()"
      ],
      "execution_count": 549,
      "outputs": [
        {
          "output_type": "stream",
          "text": [
            "_________________________________________________________________\n",
            "Layer (type)                 Output Shape              Param #   \n",
            "=================================================================\n",
            "conv2d_216 (Conv2D)          (None, 30, 30, 32)        896       \n",
            "_________________________________________________________________\n",
            "batch_normalization_232 (Bat (None, 30, 30, 32)        128       \n",
            "_________________________________________________________________\n",
            "activation_275 (Activation)  (None, 30, 30, 32)        0         \n",
            "_________________________________________________________________\n",
            "max_pooling2d_93 (MaxPooling (None, 15, 15, 32)        0         \n",
            "_________________________________________________________________\n",
            "conv2d_217 (Conv2D)          (None, 13, 13, 64)        18496     \n",
            "_________________________________________________________________\n",
            "batch_normalization_233 (Bat (None, 13, 13, 64)        256       \n",
            "_________________________________________________________________\n",
            "activation_276 (Activation)  (None, 13, 13, 64)        0         \n",
            "_________________________________________________________________\n",
            "max_pooling2d_94 (MaxPooling (None, 6, 6, 64)          0         \n",
            "_________________________________________________________________\n",
            "conv2d_218 (Conv2D)          (None, 4, 4, 96)          55392     \n",
            "_________________________________________________________________\n",
            "batch_normalization_234 (Bat (None, 4, 4, 96)          384       \n",
            "_________________________________________________________________\n",
            "activation_277 (Activation)  (None, 4, 4, 96)          0         \n",
            "_________________________________________________________________\n",
            "max_pooling2d_95 (MaxPooling (None, 2, 2, 96)          0         \n",
            "_________________________________________________________________\n",
            "flatten_29 (Flatten)         (None, 384)               0         \n",
            "_________________________________________________________________\n",
            "dense_93 (Dense)             (None, 256)               98560     \n",
            "_________________________________________________________________\n",
            "activation_308 (Activation)  (None, 256)               0         \n",
            "_________________________________________________________________\n",
            "dropout_44 (Dropout)         (None, 256)               0         \n",
            "_________________________________________________________________\n",
            "dense_94 (Dense)             (None, 10)                2570      \n",
            "_________________________________________________________________\n",
            "activation_309 (Activation)  (None, 10)                0         \n",
            "=================================================================\n",
            "Total params: 176,682\n",
            "Trainable params: 101,130\n",
            "Non-trainable params: 75,552\n",
            "_________________________________________________________________\n"
          ],
          "name": "stdout"
        }
      ]
    },
    {
      "cell_type": "code",
      "metadata": {
        "id": "HcTjM_xP45cb",
        "colab_type": "code",
        "colab": {}
      },
      "source": [
        "trans_model.compile(loss='categorical_crossentropy', optimizer=\"adam\", metrics=['accuracy'])"
      ],
      "execution_count": 0,
      "outputs": []
    },
    {
      "cell_type": "code",
      "metadata": {
        "id": "e4c8jyfE5oxr",
        "colab_type": "code",
        "colab": {
          "base_uri": "https://localhost:8080/",
          "height": 714
        },
        "outputId": "05564066-d72f-4202-eafd-d1986961102d"
      },
      "source": [
        "output_transfer = trans_model.fit(train_features_gte5, train_labels_gte5, batch_size = 256, epochs = 20,verbose = 2,\n",
        "          validation_data= (test_features_gte5, test_labels_gte5))"
      ],
      "execution_count": 554,
      "outputs": [
        {
          "output_type": "stream",
          "text": [
            "Train on 25000 samples, validate on 5000 samples\n",
            "Epoch 1/20\n",
            " - 1s - loss: 0.6795 - acc: 0.7462 - val_loss: 0.7474 - val_acc: 0.7192\n",
            "Epoch 2/20\n",
            " - 1s - loss: 0.5915 - acc: 0.7807 - val_loss: 0.7830 - val_acc: 0.7052\n",
            "Epoch 3/20\n",
            " - 1s - loss: 0.5499 - acc: 0.7960 - val_loss: 0.7353 - val_acc: 0.7224\n",
            "Epoch 4/20\n",
            " - 1s - loss: 0.5231 - acc: 0.8086 - val_loss: 0.7295 - val_acc: 0.7282\n",
            "Epoch 5/20\n",
            " - 1s - loss: 0.4970 - acc: 0.8196 - val_loss: 0.8724 - val_acc: 0.6882\n",
            "Epoch 6/20\n",
            " - 1s - loss: 0.4809 - acc: 0.8234 - val_loss: 0.8794 - val_acc: 0.6986\n",
            "Epoch 7/20\n",
            " - 1s - loss: 0.4630 - acc: 0.8292 - val_loss: 0.8045 - val_acc: 0.7184\n",
            "Epoch 8/20\n",
            " - 1s - loss: 0.4507 - acc: 0.8371 - val_loss: 0.9357 - val_acc: 0.6884\n",
            "Epoch 9/20\n",
            " - 1s - loss: 0.4367 - acc: 0.8387 - val_loss: 0.8612 - val_acc: 0.7024\n",
            "Epoch 10/20\n",
            " - 1s - loss: 0.4278 - acc: 0.8438 - val_loss: 0.8780 - val_acc: 0.7124\n",
            "Epoch 11/20\n",
            " - 1s - loss: 0.4125 - acc: 0.8494 - val_loss: 0.7460 - val_acc: 0.7406\n",
            "Epoch 12/20\n",
            " - 1s - loss: 0.4038 - acc: 0.8536 - val_loss: 0.9004 - val_acc: 0.7018\n",
            "Epoch 13/20\n",
            " - 1s - loss: 0.3930 - acc: 0.8552 - val_loss: 0.9229 - val_acc: 0.7058\n",
            "Epoch 14/20\n",
            " - 1s - loss: 0.3802 - acc: 0.8623 - val_loss: 0.8508 - val_acc: 0.7240\n",
            "Epoch 15/20\n",
            " - 1s - loss: 0.3651 - acc: 0.8663 - val_loss: 0.8898 - val_acc: 0.7156\n",
            "Epoch 16/20\n",
            " - 1s - loss: 0.3594 - acc: 0.8705 - val_loss: 0.9061 - val_acc: 0.7092\n",
            "Epoch 17/20\n",
            " - 1s - loss: 0.3486 - acc: 0.8752 - val_loss: 0.8653 - val_acc: 0.7326\n",
            "Epoch 18/20\n",
            " - 1s - loss: 0.3424 - acc: 0.8747 - val_loss: 0.9236 - val_acc: 0.7112\n",
            "Epoch 19/20\n",
            " - 1s - loss: 0.3328 - acc: 0.8799 - val_loss: 0.9750 - val_acc: 0.7008\n",
            "Epoch 20/20\n",
            " - 1s - loss: 0.3234 - acc: 0.8821 - val_loss: 0.9734 - val_acc: 0.7036\n"
          ],
          "name": "stdout"
        }
      ]
    },
    {
      "cell_type": "code",
      "metadata": {
        "id": "ynYN5a8Ybryy",
        "colab_type": "code",
        "colab": {
          "base_uri": "https://localhost:8080/",
          "height": 51
        },
        "outputId": "ee926bcf-47a0-4fa7-c947-19f4034ab6e0"
      },
      "source": [
        "output_transfer_model_train = trans_model.evaluate(train_features_gte5, train_labels_gte5)\n",
        "output_transfer_model_test = trans_model.evaluate(test_features_gte5, test_labels_gte5)"
      ],
      "execution_count": 556,
      "outputs": [
        {
          "output_type": "stream",
          "text": [
            "25000/25000 [==============================] - 5s 180us/step\n",
            "5000/5000 [==============================] - 1s 181us/step\n"
          ],
          "name": "stdout"
        }
      ]
    },
    {
      "cell_type": "code",
      "metadata": {
        "id": "RcuR8tVCcI6J",
        "colab_type": "code",
        "colab": {
          "base_uri": "https://localhost:8080/",
          "height": 51
        },
        "outputId": "f9f54fbf-dc8b-4f3d-c497-e99fe16d95b2"
      },
      "source": [
        "print('Transfer Model Train Accuracy:', output_transfer_model_train[1] * 100, \"%\")\n",
        "print('Transfer Model Test accuracy:', output_transfer_model_test[1] * 100, \"%\")"
      ],
      "execution_count": 566,
      "outputs": [
        {
          "output_type": "stream",
          "text": [
            "Transfer Model Train Accuracy: 74.64 %\n",
            "Transfer Model Test accuracy: 70.36 %\n"
          ],
          "name": "stdout"
        }
      ]
    },
    {
      "cell_type": "code",
      "metadata": {
        "id": "IT6iT11uec6P",
        "colab_type": "code",
        "colab": {
          "base_uri": "https://localhost:8080/",
          "height": 295
        },
        "outputId": "b4e7ab1a-0680-4793-d2fa-dd744a9a43be"
      },
      "source": [
        "import matplotlib.pyplot as plt\n",
        "\n",
        "loss = output_transfer.history['loss']\n",
        "val_loss = output_transfer.history['val_loss']\n",
        "epochs = range(1, len(loss) + 1)\n",
        "plt.plot(epochs, loss, color='red', label='Training loss')\n",
        "plt.plot(epochs, val_loss, color='green', label='Validation loss')\n",
        "plt.title('Training and validation loss')\n",
        "plt.xlabel('Epochs')\n",
        "plt.ylabel('Loss')\n",
        "plt.legend()\n",
        "plt.show()"
      ],
      "execution_count": 576,
      "outputs": [
        {
          "output_type": "display_data",
          "data": {
            "image/png": "[encoded data removed]",
            "text/plain": [
              "<Figure size 432x288 with 1 Axes>"
            ]
          },
          "metadata": {
            "tags": []
          }
        }
      ]
    },
    {
      "cell_type": "code",
      "metadata": {
        "id": "Hmea0q9pedDE",
        "colab_type": "code",
        "colab": {
          "base_uri": "https://localhost:8080/",
          "height": 295
        },
        "outputId": "7cb719d4-5de5-41d7-9402-c9992544dffa"
      },
      "source": [
        "acc = output_transfer.history['acc']\n",
        "val_acc = output_transfer.history['val_acc']\n",
        "plt.plot(epochs, acc, color='red', label='Training acc')\n",
        "plt.plot(epochs, val_acc, color='green', label='Validation acc')\n",
        "plt.title('Training and validation accuracy')\n",
        "plt.xlabel('Epochs')\n",
        "plt.ylabel('Loss')\n",
        "plt.legend()\n",
        "plt.show()"
      ],
      "execution_count": 577,
      "outputs": [
        {
          "output_type": "display_data",
          "data": {
            "image/png": "[encoded data removed]",
            "text/plain": [
              "<Figure size 432x288 with 1 Axes>"
            ]
          },
          "metadata": {
            "tags": []
          }
        }
      ]
    },
    {
      "cell_type": "markdown",
      "metadata": {
        "id": "0zDuRecXzEtr",
        "colab_type": "text"
      },
      "source": [
        "# Text classification using TF-IDF"
      ]
    },
    {
      "cell_type": "markdown",
      "metadata": {
        "id": "xMPlEJhHzb6P",
        "colab_type": "text"
      },
      "source": [
        "### 6. Load the dataset from sklearn.datasets"
      ]
    },
    {
      "cell_type": "code",
      "metadata": {
        "id": "Fe-B59u3zHNb",
        "colab_type": "code",
        "colab": {}
      },
      "source": [
        "from sklearn.datasets import fetch_20newsgroups"
      ],
      "execution_count": 0,
      "outputs": []
    },
    {
      "cell_type": "code",
      "metadata": {
        "id": "PRrMemVQzbHU",
        "colab_type": "code",
        "colab": {}
      },
      "source": [
        "categories = ['alt.atheism', 'soc.religion.christian', 'comp.graphics', 'sci.med']"
      ],
      "execution_count": 0,
      "outputs": []
    },
    {
      "cell_type": "markdown",
      "metadata": {
        "id": "-sZX0UbJzmg5",
        "colab_type": "text"
      },
      "source": [
        "### 7. Training data"
      ]
    },
    {
      "cell_type": "code",
      "metadata": {
        "id": "CITr_5aXziJ2",
        "colab_type": "code",
        "colab": {
          "base_uri": "https://localhost:8080/",
          "height": 51
        },
        "outputId": "f7b96135-6a75-4f02-d4dd-ab5458771a19"
      },
      "source": [
        "twenty_train = fetch_20newsgroups(subset='train', categories=categories, shuffle=True, random_state=42)"
      ],
      "execution_count": 509,
      "outputs": [
        {
          "output_type": "stream",
          "text": [
            "Downloading 20news dataset. This may take a few minutes.\n",
            "Downloading dataset from https://ndownloader.figshare.com/files/5975967 (14 MB)\n"
          ],
          "name": "stderr"
        }
      ]
    },
    {
      "cell_type": "markdown",
      "metadata": {
        "id": "xcESc5QXzr6p",
        "colab_type": "text"
      },
      "source": [
        "### 8. Test data"
      ]
    },
    {
      "cell_type": "code",
      "metadata": {
        "id": "ysInblUMzpvl",
        "colab_type": "code",
        "colab": {}
      },
      "source": [
        "twenty_test = fetch_20newsgroups(subset='test', categories=categories, shuffle=True, random_state=42)"
      ],
      "execution_count": 0,
      "outputs": []
    },
    {
      "cell_type": "markdown",
      "metadata": {
        "id": "DriL2yZ50DQq",
        "colab_type": "text"
      },
      "source": [
        "###  a.  You can access the values for the target variable using .target attribute \n",
        "###  b. You can access the name of the class in the target variable with .target_names\n"
      ]
    },
    {
      "cell_type": "code",
      "metadata": {
        "id": "vlUuai99z1hX",
        "colab_type": "code",
        "colab": {
          "base_uri": "https://localhost:8080/",
          "height": 34
        },
        "outputId": "2734e62e-1302-4a4e-c6a5-2f7183a60fc0"
      },
      "source": [
        "twenty_train.target"
      ],
      "execution_count": 511,
      "outputs": [
        {
          "output_type": "execute_result",
          "data": {
            "text/plain": [
              "array([1, 1, 3, ..., 2, 2, 2])"
            ]
          },
          "metadata": {
            "tags": []
          },
          "execution_count": 511
        }
      ]
    },
    {
      "cell_type": "code",
      "metadata": {
        "id": "VEKzaDfSz5E-",
        "colab_type": "code",
        "colab": {
          "base_uri": "https://localhost:8080/",
          "height": 34
        },
        "outputId": "a5ff46eb-f0a3-4e03-82d7-9d0debaf823e"
      },
      "source": [
        "twenty_train.target_names"
      ],
      "execution_count": 512,
      "outputs": [
        {
          "output_type": "execute_result",
          "data": {
            "text/plain": [
              "['alt.atheism', 'comp.graphics', 'sci.med', 'soc.religion.christian']"
            ]
          },
          "metadata": {
            "tags": []
          },
          "execution_count": 512
        }
      ]
    },
    {
      "cell_type": "code",
      "metadata": {
        "id": "clBMKHzC0_N1",
        "colab_type": "code",
        "colab": {
          "base_uri": "https://localhost:8080/",
          "height": 142
        },
        "outputId": "5622f8fa-e5fa-4d99-e515-bcbd873ae18d"
      },
      "source": [
        "twenty_train.data[0:5]"
      ],
      "execution_count": 513,
      "outputs": [
        {
          "output_type": "execute_result",
          "data": {
            "text/plain": [
              "['From: sd345@city.ac.uk (Michael Collier)\\nSubject: Converting images to HP LaserJet III?\\nNntp-Posting-Host: hampton\\nOrganization: The City University\\nLines: 14\\n\\nDoes anyone know of a good way (standard PC application/PD utility) to\\nconvert tif/img/tga files into LaserJet III format.  We would also like to\\ndo the same, converting to HPGL (HP plotter) files.\\n\\nPlease email any response.\\n\\nIs this the correct group?\\n\\nThanks in advance.  Michael.\\n-- \\nMichael Collier (Programmer)                 The Computer Unit,\\nEmail: M.P.Collier@uk.ac.city                The City University,\\nTel: 071 477-8000 x3769                      London,\\nFax: 071 477-8565                            EC1V 0HB.\\n',\n",
              " \"From: ani@ms.uky.edu (Aniruddha B. Deglurkar)\\nSubject: help: Splitting a trimming region along a mesh \\nOrganization: University Of Kentucky, Dept. of Math Sciences\\nLines: 28\\n\\n\\n\\n\\tHi,\\n\\n\\tI have a problem, I hope some of the 'gurus' can help me solve.\\n\\n\\tBackground of the problem:\\n\\tI have a rectangular mesh in the uv domain, i.e  the mesh is a \\n\\tmapping of a 3d Bezier patch into 2d. The area in this domain\\n\\twhich is inside a trimming loop had to be rendered. The trimming\\n\\tloop is a set of 2d Bezier curve segments.\\n\\tFor the sake of notation: the mesh is made up of cells.\\n\\n\\tMy problem is this :\\n\\tThe trimming area has to be split up into individual smaller\\n\\tcells bounded by the trimming curve segments. If a cell\\n\\tis wholly inside the area...then it is output as a whole ,\\n\\telse it is trivially rejected. \\n\\n\\tDoes any body know how thiss can be done, or is there any algo. \\n\\tsomewhere for doing this.\\n\\n\\tAny help would be appreciated.\\n\\n\\tThanks, \\n\\tAni.\\n-- \\nTo get irritated is human, to stay cool, divine.\\n\",\n",
              " \"From: djohnson@cs.ucsd.edu (Darin Johnson)\\nSubject: Re: harrassed at work, could use some prayers\\nOrganization: =CSE Dept., U.C. San Diego\\nLines: 63\\n\\n(Well, I'll email also, but this may apply to other people, so\\nI'll post also.)\\n\\n>I've been working at this company for eight years in various\\n>engineering jobs.  I'm female.  Yesterday I counted and realized that\\n>on seven different occasions I've been sexually harrassed at this\\n>company.\\n\\n>I dreaded coming back to work today.  What if my boss comes in to ask\\n>me some kind of question...\\n\\nYour boss should be the person bring these problems to.  If he/she\\ndoes not seem to take any action, keep going up higher and higher.\\nSexual harrassment does not need to be tolerated, and it can be an\\nenormous emotional support to discuss this with someone and know that\\nthey are trying to do something about it.  If you feel you can not\\ndiscuss this with your boss, perhaps your company has a personnel\\ndepartment that can work for you while preserving your privacy.  Most\\ncompanies will want to deal with this problem because constant anxiety\\ndoes seriously affect how effectively employees do their jobs.\\n\\nIt is unclear from your letter if you have done this or not.  It is\\nnot inconceivable that management remains ignorant of employee\\nproblems/strife even after eight years (it's a miracle if they do\\nnotice).  Perhaps your manager did not bring to the attention of\\nhigher ups?  If the company indeed does seem to want to ignore the\\nentire problem, there may be a state agency willing to fight with\\nyou.  (check with a lawyer, a women's resource center, etc to find out)\\n\\nYou may also want to discuss this with your paster, priest, husband,\\netc.  That is, someone you know will not be judgemental and that is\\nsupportive, comforting, etc.  This will bring a lot of healing.\\n\\n>So I returned at 11:25, only to find that ever single\\n>person had already left for lunch.  They left at 11:15 or so.  No one\\n>could be bothered to call me at the other building, even though my\\n>number was posted.\\n\\nThis happens to a lot of people.  Honest.  I believe it may seem\\nto be due to gross insensitivity because of the feelings you are\\ngoing through.  People in offices tend to be more insensitive while\\nworking than they normally are (maybe it's the hustle or stress or...)\\nI've had this happen to me a lot, often because they didn't realize\\nmy car was broken, etc.  Then they will come back and wonder why I\\ndidn't want to go (this would tend to make me stop being angry at\\nbeing ignored and make me laugh).  Once, we went off without our\\nboss, who was paying for the lunch :-)\\n\\n>For this\\n>reason I hope good Mr. Moderator allows me this latest indulgence.\\n\\nWell, if you can't turn to the computer for support, what would\\nwe do?  (signs of the computer age :-)\\n\\nIn closing, please don't let the hateful actions of a single person\\nharm you.  They are doing it because they are still the playground\\nbully and enjoy seeing the hurt they cause.  And you should not\\naccept the opinions of an imbecile that you are worthless - much\\nwiser people hold you in great esteem.\\n-- \\nDarin Johnson\\ndjohnson@ucsd.edu\\n  - Luxury!  In MY day, we had to make do with 5 bytes of swap...\\n\",\n",
              " 'From: s0612596@let.rug.nl (M.M. Zwart)\\nSubject: catholic church poland\\nOrganization: Faculteit der Letteren, Rijksuniversiteit Groningen, NL\\nLines: 10\\n\\nHello,\\n\\nI\\'m writing a paper on the role of the catholic church in Poland after 1989. \\nCan anyone tell me more about this, or fill me in on recent books/articles(\\nin english, german or french). Most important for me is the role of the \\nchurch concerning the abortion-law, religious education at schools,\\nbirth-control and the relation church-state(government). Thanx,\\n\\n                                                 Masja,\\n\"M.M.Zwart\"<s0612596@let.rug.nl>\\n',\n",
              " 'From: stanly@grok11.columbiasc.ncr.com (stanly)\\nSubject: Re: Elder Brother\\nOrganization: NCR Corp., Columbia SC\\nLines: 15\\n\\nIn article <Apr.8.00.57.41.1993.28246@athos.rutgers.edu> REXLEX@fnal.gov writes:\\n>In article <Apr.7.01.56.56.1993.22824@athos.rutgers.edu> shrum@hpfcso.fc.hp.com\\n>Matt. 22:9-14 \\'Go therefore to the main highways, and as many as you find\\n>there, invite to the wedding feast.\\'...\\n\\n>hmmmmmm.  Sounds like your theology and Christ\\'s are at odds. Which one am I \\n>to believe?\\n\\nIn this parable, Jesus tells the parable of the wedding feast. \"The kingdom\\nof heaven is like unto a certain king which made a marriage for his son\".\\nSo the wedding clothes were customary,  and \"given\" to those who \"chose\" to\\nattend.  This man \"refused\" to wear the clothes.  The wedding clothes are\\nequalivant to the \"clothes of righteousness\".  When Jesus died for our sins,\\nthose \"clothes\" were then provided.  Like that man, it is our decision to\\nput the clothes on.\\n']"
            ]
          },
          "metadata": {
            "tags": []
          },
          "execution_count": 513
        }
      ]
    },
    {
      "cell_type": "code",
      "metadata": {
        "id": "1kT8qtCFToPA",
        "colab_type": "code",
        "colab": {
          "base_uri": "https://localhost:8080/",
          "height": 136
        },
        "outputId": "78f6d6f2-224a-4781-9b3f-203019fc4c2f"
      },
      "source": [
        "print(twenty_train.filenames)"
      ],
      "execution_count": 522,
      "outputs": [
        {
          "output_type": "stream",
          "text": [
            "['/root/scikit_learn_data/20news_home/20news-bydate-train/comp.graphics/38440'\n",
            " '/root/scikit_learn_data/20news_home/20news-bydate-train/comp.graphics/38479'\n",
            " '/root/scikit_learn_data/20news_home/20news-bydate-train/soc.religion.christian/20737'\n",
            " ...\n",
            " '/root/scikit_learn_data/20news_home/20news-bydate-train/sci.med/58112'\n",
            " '/root/scikit_learn_data/20news_home/20news-bydate-train/sci.med/58578'\n",
            " '/root/scikit_learn_data/20news_home/20news-bydate-train/sci.med/58895']\n"
          ],
          "name": "stdout"
        }
      ]
    },
    {
      "cell_type": "markdown",
      "metadata": {
        "id": "hTz4EaN_1WGc",
        "colab_type": "text"
      },
      "source": [
        "### 9.  Now with dependent and independent data available for both train and test datasets, using TfidfVectorizer fit and transform the training data and test data and get the tfidf features for both"
      ]
    },
    {
      "cell_type": "code",
      "metadata": {
        "id": "H5G477f81C0Z",
        "colab_type": "code",
        "colab": {
          "base_uri": "https://localhost:8080/",
          "height": 34
        },
        "outputId": "726fe782-47f4-4931-daaa-753e68cba64c"
      },
      "source": [
        "from sklearn.feature_extraction.text import TfidfVectorizer\n",
        "vectorizer = TfidfVectorizer()\n",
        "vectors = vectorizer.fit_transform(twenty_train.data)\n",
        "vectors.shape"
      ],
      "execution_count": 532,
      "outputs": [
        {
          "output_type": "execute_result",
          "data": {
            "text/plain": [
              "(2257, 35788)"
            ]
          },
          "metadata": {
            "tags": []
          },
          "execution_count": 532
        }
      ]
    },
    {
      "cell_type": "code",
      "metadata": {
        "id": "b2FAzdzfUZAw",
        "colab_type": "code",
        "colab": {}
      },
      "source": [
        "from sklearn import metrics\n",
        "vectors_test = vectorizer.transform(twenty_test.data)"
      ],
      "execution_count": 0,
      "outputs": []
    },
    {
      "cell_type": "code",
      "metadata": {
        "id": "pOjR3OVBYu6Q",
        "colab_type": "code",
        "colab": {
          "base_uri": "https://localhost:8080/",
          "height": 34
        },
        "outputId": "66a84008-5357-438d-c66d-734a56b6b1d2"
      },
      "source": [
        "vectors_test.shape"
      ],
      "execution_count": 539,
      "outputs": [
        {
          "output_type": "execute_result",
          "data": {
            "text/plain": [
              "(1502, 35788)"
            ]
          },
          "metadata": {
            "tags": []
          },
          "execution_count": 539
        }
      ]
    },
    {
      "cell_type": "markdown",
      "metadata": {
        "id": "tp_fDINJ1t4L",
        "colab_type": "text"
      },
      "source": [
        "### 10. Use logisticRegression with tfidf features as input and targets as output and train the model and report the train and test accuracy score"
      ]
    },
    {
      "cell_type": "markdown",
      "metadata": {
        "id": "6q6-tXSPbxhB",
        "colab_type": "text"
      },
      "source": [
        ""
      ]
    },
    {
      "cell_type": "code",
      "metadata": {
        "id": "THlN2b5d1yQp",
        "colab_type": "code",
        "colab": {
          "base_uri": "https://localhost:8080/",
          "height": 142
        },
        "outputId": "e9cdabe9-d1dd-426c-bb6d-ed125cbc5789"
      },
      "source": [
        "from sklearn.linear_model import LogisticRegression\n",
        "clf = LogisticRegression()\n",
        "clf.fit(vectors, twenty_train.target)\n",
        "pred = clf.predict(vectors_test)\n",
        "metrics.f1_score(twenty_test.target, pred, average='macro')"
      ],
      "execution_count": 536,
      "outputs": [
        {
          "output_type": "stream",
          "text": [
            "/usr/local/lib/python3.6/dist-packages/sklearn/linear_model/logistic.py:433: FutureWarning: Default solver will be changed to 'lbfgs' in 0.22. Specify a solver to silence this warning.\n",
            "  FutureWarning)\n",
            "/usr/local/lib/python3.6/dist-packages/sklearn/linear_model/logistic.py:460: FutureWarning: Default multi_class will be changed to 'auto' in 0.22. Specify the multi_class option to silence this warning.\n",
            "  \"this warning.\", FutureWarning)\n"
          ],
          "name": "stderr"
        },
        {
          "output_type": "execute_result",
          "data": {
            "text/plain": [
              "0.8836373105379085"
            ]
          },
          "metadata": {
            "tags": []
          },
          "execution_count": 536
        }
      ]
    },
    {
      "cell_type": "code",
      "metadata": {
        "id": "Niz_1b9IXXvE",
        "colab_type": "code",
        "colab": {
          "base_uri": "https://localhost:8080/",
          "height": 136
        },
        "outputId": "dffa598b-5a80-436a-c002-700e39f070ee"
      },
      "source": [
        "print(\"Train Accuracy: \\n\")\n",
        "print(metrics.accuracy_score(twenty_train.target, clf.predict(vectors)))\n",
        "print(\"\\n Test Accuracy: \\n\")\n",
        "print(metrics.accuracy_score(twenty_test.target, pred))"
      ],
      "execution_count": 543,
      "outputs": [
        {
          "output_type": "stream",
          "text": [
            "Train Accuracy: \n",
            "\n",
            "0.9827204253433761\n",
            "\n",
            " Test Accuracy: \n",
            "\n",
            "0.8868175765645806\n"
          ],
          "name": "stdout"
        }
      ]
    }
  ]
}