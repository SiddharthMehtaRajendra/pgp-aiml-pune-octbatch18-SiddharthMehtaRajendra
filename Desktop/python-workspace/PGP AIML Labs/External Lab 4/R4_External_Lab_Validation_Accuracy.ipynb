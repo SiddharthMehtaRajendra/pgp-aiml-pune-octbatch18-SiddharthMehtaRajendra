{
 "cells": [
  {
   "cell_type": "code",
   "execution_count": 265,
   "metadata": {
    "colab": {},
    "colab_type": "code",
    "id": "Y3vvEXP1_0og"
   },
   "outputs": [],
   "source": [
    "# Import important library\n",
    "import numpy as np\n",
    "import pandas as pd\n",
    "import matplotlib.pyplot as plt\n",
    "import seaborn as sns\n",
    "from sklearn.model_selection import train_test_split\n",
    "%matplotlib inline\n",
    "import warnings\n",
    "warnings.filterwarnings('ignore')"
   ]
  },
  {
   "cell_type": "markdown",
   "metadata": {
    "colab_type": "text",
    "id": "7O83uMqA_0ol"
   },
   "source": [
    "### Read the input file and check the data dimension"
   ]
  },
  {
   "cell_type": "code",
   "execution_count": 266,
   "metadata": {
    "colab": {},
    "colab_type": "code",
    "id": "EC9Oup3w_0on",
    "outputId": "08aa9a88-57df-4c19-ee40-7335b11c8b0d"
   },
   "outputs": [],
   "source": [
    "# You can access from https://www.kaggle.com/uciml/german-credit\n",
    "#Read input file and understand the data\n",
    "# \"default\" is my dependent variable\n",
    "df = pd.read_csv(\"german_credit.csv\")\n",
    "X = df.iloc[:, df.columns != 'default']\n",
    "Y = df.iloc[:, df.columns == 'default']"
   ]
  },
  {
   "cell_type": "markdown",
   "metadata": {
    "colab_type": "text",
    "id": "ASgoNlMB_0ov"
   },
   "source": [
    "### Q1 Randomly select 50% data for this use case( 1 Marks)\n",
    "###### Hint: Use train_test_split"
   ]
  },
  {
   "cell_type": "code",
   "execution_count": 267,
   "metadata": {
    "colab": {},
    "colab_type": "code",
    "id": "_LGo1xnK_0ow"
   },
   "outputs": [],
   "source": [
    "train_size=0.50\n",
    "test_size = 0.50 # taking 70:30 training and test set\n",
    "seed = 7 # Random number seeding for reapeatability of the code\n",
    "X_train, X_test, y_train, y_test = train_test_split(X, Y, train_size=train_size, test_size=test_size, random_state=seed)"
   ]
  },
  {
   "cell_type": "code",
   "execution_count": 268,
   "metadata": {
    "colab": {},
    "colab_type": "code",
    "id": "gKaiZis__0o0"
   },
   "outputs": [],
   "source": [
    "# Lets build a Ensemble model but need to modify the dataset first"
   ]
  },
  {
   "cell_type": "markdown",
   "metadata": {
    "colab_type": "text",
    "id": "utYEGBER_0o4"
   },
   "source": [
    "### Q2.Prepare the model data by converting non-numeric to dummy ( 1 Marks)\n",
    "##### Hint: Use get_dummies"
   ]
  },
  {
   "cell_type": "code",
   "execution_count": 269,
   "metadata": {
    "colab": {},
    "colab_type": "code",
    "id": "wjyTJcA6_0o6",
    "outputId": "e6bf7e9d-5732-4836-c0bb-fe03ba34683e"
   },
   "outputs": [
    {
     "name": "stdout",
     "output_type": "stream",
     "text": [
      "X Shape:  (500, 20)\n",
      "Y Shape:  (500, 1)\n"
     ]
    }
   ],
   "source": [
    "# Print Shape of model data\n",
    "print(\"X Shape: \", X_train.shape)\n",
    "print(\"Y Shape: \", y_train.shape)"
   ]
  },
  {
   "cell_type": "code",
   "execution_count": 270,
   "metadata": {},
   "outputs": [
    {
     "name": "stdout",
     "output_type": "stream",
     "text": [
      "<class 'pandas.core.frame.DataFrame'>\n",
      "Int64Index: 500 entries, 262 to 175\n",
      "Data columns (total 72 columns):\n",
      "account_check_status                                                500 non-null object\n",
      "duration_in_month                                                   500 non-null int64\n",
      "credit_history                                                      500 non-null object\n",
      "purpose                                                             500 non-null object\n",
      "credit_amount                                                       500 non-null int64\n",
      "savings                                                             500 non-null object\n",
      "present_emp_since                                                   500 non-null object\n",
      "installment_as_income_perc                                          500 non-null int64\n",
      "personal_status_sex                                                 500 non-null object\n",
      "other_debtors                                                       500 non-null object\n",
      "present_res_since                                                   500 non-null int64\n",
      "property                                                            500 non-null object\n",
      "age                                                                 500 non-null int64\n",
      "other_installment_plans                                             500 non-null object\n",
      "housing                                                             500 non-null object\n",
      "credits_this_bank                                                   500 non-null int64\n",
      "job                                                                 500 non-null object\n",
      "people_under_maintenance                                            500 non-null int64\n",
      "telephone                                                           500 non-null object\n",
      "foreign_worker                                                      500 non-null object\n",
      "0 <= ... < 200 DM                                                   500 non-null uint8\n",
      "< 0 DM                                                              500 non-null uint8\n",
      ">= 200 DM / salary assignments for at least 1 year                  500 non-null uint8\n",
      "no checking account                                                 500 non-null uint8\n",
      "all credits at this bank paid back duly                             500 non-null uint8\n",
      "critical account/ other credits existing (not at this bank)         500 non-null uint8\n",
      "delay in paying off in the past                                     500 non-null uint8\n",
      "existing credits paid back duly till now                            500 non-null uint8\n",
      "no credits taken/ all credits paid back duly                        500 non-null uint8\n",
      "(vacation - does not exist?)                                        500 non-null uint8\n",
      "business                                                            500 non-null uint8\n",
      "car (new)                                                           500 non-null uint8\n",
      "car (used)                                                          500 non-null uint8\n",
      "domestic appliances                                                 500 non-null uint8\n",
      "education                                                           500 non-null uint8\n",
      "furniture/equipment                                                 500 non-null uint8\n",
      "radio/television                                                    500 non-null uint8\n",
      "repairs                                                             500 non-null uint8\n",
      "retraining                                                          500 non-null uint8\n",
      ".. >= 1000 DM                                                       500 non-null uint8\n",
      "... < 100 DM                                                        500 non-null uint8\n",
      "100 <= ... < 500 DM                                                 500 non-null uint8\n",
      "500 <= ... < 1000 DM                                                500 non-null uint8\n",
      "unknown/ no savings account                                         500 non-null uint8\n",
      ".. >= 7 years                                                       500 non-null uint8\n",
      "... < 1 year                                                        500 non-null uint8\n",
      "1 <= ... < 4 years                                                  500 non-null uint8\n",
      "4 <= ... < 7 years                                                  500 non-null uint8\n",
      "unemployed                                                          500 non-null uint8\n",
      "female : divorced/separated/married                                 500 non-null uint8\n",
      "male : divorced/separated                                           500 non-null uint8\n",
      "male : married/widowed                                              500 non-null uint8\n",
      "male : single                                                       500 non-null uint8\n",
      "co-applicant                                                        500 non-null uint8\n",
      "guarantor                                                           500 non-null uint8\n",
      "none                                                                500 non-null uint8\n",
      "if not A121 : building society savings agreement/ life insurance    500 non-null uint8\n",
      "if not A121/A122 : car or other, not in attribute 6                 500 non-null uint8\n",
      "real estate                                                         500 non-null uint8\n",
      "unknown / no property                                               500 non-null uint8\n",
      "bank                                                                500 non-null uint8\n",
      "stores                                                              500 non-null uint8\n",
      "for free                                                            500 non-null uint8\n",
      "own                                                                 500 non-null uint8\n",
      "rent                                                                500 non-null uint8\n",
      "management/ self-employed/ highly qualified employee/ officer       500 non-null uint8\n",
      "skilled employee / official                                         500 non-null uint8\n",
      "unemployed/ unskilled - non-resident                                500 non-null uint8\n",
      "unskilled - resident                                                500 non-null uint8\n",
      "yes, registered under the customers name                            500 non-null uint8\n",
      "no                                                                  500 non-null uint8\n",
      "yes                                                                 500 non-null uint8\n",
      "dtypes: int64(7), object(13), uint8(52)\n",
      "memory usage: 107.4+ KB\n"
     ]
    }
   ],
   "source": [
    "for col in X_train.columns:\n",
    "    if(X_train[col].dtype == object):\n",
    "        dummies = pd.get_dummies(X_train[col])\n",
    "        X_train[dummies.columns] = dummies\n",
    "X_train.info()"
   ]
  },
  {
   "cell_type": "markdown",
   "metadata": {
    "colab_type": "text",
    "id": "ytl4nlUW_0pA"
   },
   "source": [
    "### Check for highly correlated variables but don't required any treatment for this use case"
   ]
  },
  {
   "cell_type": "code",
   "execution_count": 271,
   "metadata": {
    "colab": {},
    "colab_type": "code",
    "id": "0W02DKRx_0pA"
   },
   "outputs": [
    {
     "data": {
      "text/html": [
       "<div>\n",
       "<style scoped>\n",
       "    .dataframe tbody tr th:only-of-type {\n",
       "        vertical-align: middle;\n",
       "    }\n",
       "\n",
       "    .dataframe tbody tr th {\n",
       "        vertical-align: top;\n",
       "    }\n",
       "\n",
       "    .dataframe thead th {\n",
       "        text-align: right;\n",
       "    }\n",
       "</style>\n",
       "<table border=\"1\" class=\"dataframe\">\n",
       "  <thead>\n",
       "    <tr style=\"text-align: right;\">\n",
       "      <th></th>\n",
       "      <th></th>\n",
       "      <th>0</th>\n",
       "    </tr>\n",
       "    <tr>\n",
       "      <th>Col1</th>\n",
       "      <th>Col2</th>\n",
       "      <th></th>\n",
       "    </tr>\n",
       "  </thead>\n",
       "  <tbody>\n",
       "    <tr>\n",
       "      <th>duration_in_month</th>\n",
       "      <th>credit_amount</th>\n",
       "      <td>0.669686</td>\n",
       "    </tr>\n",
       "    <tr>\n",
       "      <th rowspan=\"2\" valign=\"top\">credit_amount</th>\n",
       "      <th>unknown / no property</th>\n",
       "      <td>0.307632</td>\n",
       "    </tr>\n",
       "    <tr>\n",
       "      <th>management/ self-employed/ highly qualified employee/ officer</th>\n",
       "      <td>0.334242</td>\n",
       "    </tr>\n",
       "    <tr>\n",
       "      <th>present_res_since</th>\n",
       "      <th>.. &gt;= 7 years</th>\n",
       "      <td>0.319913</td>\n",
       "    </tr>\n",
       "    <tr>\n",
       "      <th>age</th>\n",
       "      <th>.. &gt;= 7 years</th>\n",
       "      <td>0.352581</td>\n",
       "    </tr>\n",
       "    <tr>\n",
       "      <th>credits_this_bank</th>\n",
       "      <th>critical account/ other credits existing (not at this bank)</th>\n",
       "      <td>0.540030</td>\n",
       "    </tr>\n",
       "    <tr>\n",
       "      <th>people_under_maintenance</th>\n",
       "      <th>male : single</th>\n",
       "      <td>0.300646</td>\n",
       "    </tr>\n",
       "    <tr>\n",
       "      <th>all credits at this bank paid back duly</th>\n",
       "      <th>bank</th>\n",
       "      <td>0.353811</td>\n",
       "    </tr>\n",
       "    <tr>\n",
       "      <th>unemployed</th>\n",
       "      <th>unemployed/ unskilled - non-resident</th>\n",
       "      <td>0.550908</td>\n",
       "    </tr>\n",
       "    <tr>\n",
       "      <th>unknown / no property</th>\n",
       "      <th>for free</th>\n",
       "      <td>0.808156</td>\n",
       "    </tr>\n",
       "    <tr>\n",
       "      <th>management/ self-employed/ highly qualified employee/ officer</th>\n",
       "      <th>yes, registered under the customers name</th>\n",
       "      <td>0.414907</td>\n",
       "    </tr>\n",
       "  </tbody>\n",
       "</table>\n",
       "</div>"
      ],
      "text/plain": [
       "                                                                                                              0\n",
       "Col1                                               Col2                                                        \n",
       "duration_in_month                                  credit_amount                                       0.669686\n",
       "credit_amount                                      unknown / no property                               0.307632\n",
       "                                                   management/ self-employed/ highly qualified emp...  0.334242\n",
       "present_res_since                                  .. >= 7 years                                       0.319913\n",
       "age                                                .. >= 7 years                                       0.352581\n",
       "credits_this_bank                                  critical account/ other credits existing (not a...  0.540030\n",
       "people_under_maintenance                           male : single                                       0.300646\n",
       "all credits at this bank paid back duly            bank                                                0.353811\n",
       "unemployed                                         unemployed/ unskilled - non-resident                0.550908\n",
       "unknown / no property                              for free                                            0.808156\n",
       "management/ self-employed/ highly qualified emp... yes, registered under the customers name            0.414907"
      ]
     },
     "execution_count": 271,
     "metadata": {},
     "output_type": "execute_result"
    }
   ],
   "source": [
    "#Highly Correlated Variables will be those with correlation above 0.3\n",
    "corrTable = X_train.corr()\n",
    "corr_triu = corrTable.where(~np.tril(np.ones(corrTable.shape)).astype(np.bool))\n",
    "corr_triu = corr_triu.stack()\n",
    "corr_triu.index.names = ['Col1', 'Col2']\n",
    "corr_triu = corr_triu[corr_triu > 0.3].to_frame()\n",
    "corr_triu"
   ]
  },
  {
   "cell_type": "markdown",
   "metadata": {
    "colab_type": "text",
    "id": "jeI1_7is_0pG"
   },
   "source": [
    "### Drop the original variables which are converted to dummy"
   ]
  },
  {
   "cell_type": "code",
   "execution_count": 272,
   "metadata": {
    "colab": {},
    "colab_type": "code",
    "id": "LYeShbCO_0pI"
   },
   "outputs": [
    {
     "name": "stdout",
     "output_type": "stream",
     "text": [
      "NaN Values (if any):  (0, 59)\n",
      "Null Values (if any):  (0, 59)\n"
     ]
    }
   ],
   "source": [
    "for col in X_train.columns:\n",
    "    if(X_train[col].dtype == object):\n",
    "        X_train.drop(columns = col, axis = 1, inplace = True)\n",
    "print(\"NaN Values (if any): \", X_train[X_train.isna().any(axis=1)].shape)\n",
    "print(\"Null Values (if any): \", X_train[X_train.isnull().any(axis=1)].shape)\n",
    "#No Null"
   ]
  },
  {
   "cell_type": "markdown",
   "metadata": {
    "colab_type": "text",
    "id": "XLtFcI1m_0pQ"
   },
   "source": [
    "### Q3 Split Train/Test data 70:30 ratio( 1 Marks)\n",
    "##### Hint:from sklearn.model_selection import train_test_split"
   ]
  },
  {
   "cell_type": "code",
   "execution_count": 273,
   "metadata": {
    "colab": {},
    "colab_type": "code",
    "id": "pHxXKL92_0pS"
   },
   "outputs": [],
   "source": [
    "X_train_final, X_test_final, y_train_final, y_test_final = train_test_split(X_train, y_train, train_size = 0.7, test_size = 0.3, random_state=seed)"
   ]
  },
  {
   "cell_type": "markdown",
   "metadata": {
    "colab_type": "text",
    "id": "wWTpd4Ng_0pW"
   },
   "source": [
    "### Q4 Build Random Forest Model( 1 Marks)\n",
    "#### Hint:from sklearn.ensemble import RandomForestClassifier using n_jobs=2,n_estimators=500,criterion=\"entropy\",random_state=9999"
   ]
  },
  {
   "cell_type": "code",
   "execution_count": 274,
   "metadata": {
    "colab": {},
    "colab_type": "code",
    "id": "AHX5tgQm_0pY"
   },
   "outputs": [],
   "source": [
    "from sklearn.ensemble import RandomForestClassifier\n",
    "rfcl = RandomForestClassifier(n_jobs = 2, n_estimators = 500, criterion = \"entropy\", random_state=9999)\n",
    "rfcl = rfcl.fit(X_train_final, y_train_final)\n",
    "rfcl_prediction = rfcl.predict(X_test_final)"
   ]
  },
  {
   "cell_type": "markdown",
   "metadata": {
    "colab_type": "text",
    "id": "LuQwgG7T_0pa"
   },
   "source": [
    "### Q5 Calculate Confusion Matrix and Accuracy score (1 Marks)\n",
    "##### Hint: Use confusion_matrix and accuracy_score"
   ]
  },
  {
   "cell_type": "code",
   "execution_count": 275,
   "metadata": {
    "colab": {},
    "colab_type": "code",
    "id": "YgczdMEB_0pc"
   },
   "outputs": [
    {
     "data": {
      "text/plain": [
       "array([[95,  8],\n",
       "       [32, 15]])"
      ]
     },
     "execution_count": 275,
     "metadata": {},
     "output_type": "execute_result"
    }
   ],
   "source": [
    "from sklearn.metrics import accuracy_score, confusion_matrix, recall_score, precision_score, auc, roc_curve\n",
    "confusion_matrix(y_test_final, rfcl_prediction)"
   ]
  },
  {
   "cell_type": "code",
   "execution_count": 276,
   "metadata": {},
   "outputs": [
    {
     "data": {
      "text/plain": [
       "0.7333333333333333"
      ]
     },
     "execution_count": 276,
     "metadata": {},
     "output_type": "execute_result"
    }
   ],
   "source": [
    "accuracy_score(y_test_final, rfcl_prediction)"
   ]
  },
  {
   "cell_type": "markdown",
   "metadata": {
    "colab_type": "text",
    "id": "x2wDGYcC_0pf"
   },
   "source": [
    "### Q6 Show the list of the features importance( 1 Marks)"
   ]
  },
  {
   "cell_type": "code",
   "execution_count": 277,
   "metadata": {},
   "outputs": [
    {
     "name": "stdout",
     "output_type": "stream",
     "text": [
      "Number of Features:  59\n"
     ]
    },
    {
     "data": {
      "text/html": [
       "<div>\n",
       "<style scoped>\n",
       "    .dataframe tbody tr th:only-of-type {\n",
       "        vertical-align: middle;\n",
       "    }\n",
       "\n",
       "    .dataframe tbody tr th {\n",
       "        vertical-align: top;\n",
       "    }\n",
       "\n",
       "    .dataframe thead th {\n",
       "        text-align: right;\n",
       "    }\n",
       "</style>\n",
       "<table border=\"1\" class=\"dataframe\">\n",
       "  <thead>\n",
       "    <tr style=\"text-align: right;\">\n",
       "      <th></th>\n",
       "      <th>duration_in_month</th>\n",
       "      <th>credit_amount</th>\n",
       "      <th>installment_as_income_perc</th>\n",
       "      <th>present_res_since</th>\n",
       "      <th>age</th>\n",
       "      <th>credits_this_bank</th>\n",
       "      <th>people_under_maintenance</th>\n",
       "      <th>0 &lt;= ... &lt; 200 DM</th>\n",
       "      <th>&lt; 0 DM</th>\n",
       "      <th>&gt;= 200 DM / salary assignments for at least 1 year</th>\n",
       "      <th>...</th>\n",
       "      <th>for free</th>\n",
       "      <th>own</th>\n",
       "      <th>rent</th>\n",
       "      <th>management/ self-employed/ highly qualified employee/ officer</th>\n",
       "      <th>skilled employee / official</th>\n",
       "      <th>unemployed/ unskilled - non-resident</th>\n",
       "      <th>unskilled - resident</th>\n",
       "      <th>yes, registered under the customers name</th>\n",
       "      <th>no</th>\n",
       "      <th>yes</th>\n",
       "    </tr>\n",
       "  </thead>\n",
       "  <tbody>\n",
       "    <tr>\n",
       "      <th>0</th>\n",
       "      <td>0.08718</td>\n",
       "      <td>0.114664</td>\n",
       "      <td>0.035242</td>\n",
       "      <td>0.033788</td>\n",
       "      <td>0.073983</td>\n",
       "      <td>0.018826</td>\n",
       "      <td>0.016358</td>\n",
       "      <td>0.017301</td>\n",
       "      <td>0.024839</td>\n",
       "      <td>0.009382</td>\n",
       "      <td>...</td>\n",
       "      <td>0.007677</td>\n",
       "      <td>0.015864</td>\n",
       "      <td>0.012451</td>\n",
       "      <td>0.009979</td>\n",
       "      <td>0.016833</td>\n",
       "      <td>0.001877</td>\n",
       "      <td>0.012547</td>\n",
       "      <td>0.01325</td>\n",
       "      <td>0.001644</td>\n",
       "      <td>0.001443</td>\n",
       "    </tr>\n",
       "  </tbody>\n",
       "</table>\n",
       "<p>1 rows × 59 columns</p>\n",
       "</div>"
      ],
      "text/plain": [
       "   duration_in_month  credit_amount  installment_as_income_perc  \\\n",
       "0            0.08718       0.114664                    0.035242   \n",
       "\n",
       "   present_res_since       age  credits_this_bank  people_under_maintenance  \\\n",
       "0           0.033788  0.073983           0.018826                  0.016358   \n",
       "\n",
       "   0 <= ... < 200 DM    < 0 DM  \\\n",
       "0           0.017301  0.024839   \n",
       "\n",
       "   >= 200 DM / salary assignments for at least 1 year    ...     for free  \\\n",
       "0                                           0.009382     ...     0.007677   \n",
       "\n",
       "        own      rent  \\\n",
       "0  0.015864  0.012451   \n",
       "\n",
       "   management/ self-employed/ highly qualified employee/ officer  \\\n",
       "0                                           0.009979               \n",
       "\n",
       "   skilled employee / official  unemployed/ unskilled - non-resident  \\\n",
       "0                     0.016833                              0.001877   \n",
       "\n",
       "   unskilled - resident  yes, registered under the customers name         no  \\\n",
       "0              0.012547                                    0.01325  0.001644   \n",
       "\n",
       "        yes  \n",
       "0  0.001443  \n",
       "\n",
       "[1 rows x 59 columns]"
      ]
     },
     "execution_count": 277,
     "metadata": {},
     "output_type": "execute_result"
    }
   ],
   "source": [
    "print(\"Number of Features: \", rfcl.feature_importances_.size)\n",
    "feature_importance_list = pd.DataFrame(rfcl.feature_importances_)\n",
    "feature_importance_list = feature_importance_list.T\n",
    "feature_importance_list.columns = X_train_final.columns\n",
    "feature_importance_list"
   ]
  },
  {
   "cell_type": "markdown",
   "metadata": {
    "colab_type": "text",
    "id": "U7VnUE71_0pk"
   },
   "source": [
    "### Q7 K-fold cross-validation( 2 Marks)\n",
    "##### k-fold cross validation( without stratification)\n",
    "##### Usually k is set as 10-20 in practical settings, depends on data set size"
   ]
  },
  {
   "cell_type": "code",
   "execution_count": 278,
   "metadata": {
    "colab": {},
    "colab_type": "code",
    "id": "Pf6rIo-c_0pm"
   },
   "outputs": [],
   "source": [
    "from sklearn.model_selection import KFold\n",
    "from sklearn.model_selection import cross_val_score"
   ]
  },
  {
   "cell_type": "code",
   "execution_count": 279,
   "metadata": {
    "colab": {},
    "colab_type": "code",
    "id": "SLIiX3BP_0pp"
   },
   "outputs": [],
   "source": [
    "# Use below values\n",
    "num_folds = 10\n",
    "seed = 77\n",
    "k_fold = KFold(n_splits = num_folds,shuffle = True, random_state = seed)"
   ]
  },
  {
   "cell_type": "code",
   "execution_count": 280,
   "metadata": {
    "colab": {},
    "colab_type": "code",
    "id": "lDyCh_OG_0pt"
   },
   "outputs": [],
   "source": [
    "#Validate the Random Forest model build above using k fold"
   ]
  },
  {
   "cell_type": "code",
   "execution_count": 281,
   "metadata": {
    "colab": {},
    "colab_type": "code",
    "id": "fvxAgXik_0p0"
   },
   "outputs": [
    {
     "name": "stdout",
     "output_type": "stream",
     "text": [
      "[0.77142857 0.68571429 0.68571429 0.71428571 0.65714286 0.77142857\n",
      " 0.77142857 0.71428571 0.77142857 0.85714286]\n"
     ]
    }
   ],
   "source": [
    "score_array = cross_val_score(rfcl, X_train_final, y_train_final, cv = k_fold)\n",
    "print(score_array)"
   ]
  },
  {
   "cell_type": "code",
   "execution_count": 282,
   "metadata": {
    "colab": {},
    "colab_type": "code",
    "id": "6r8p73dT_0p6"
   },
   "outputs": [],
   "source": [
    "#Calculate Mean score"
   ]
  },
  {
   "cell_type": "code",
   "execution_count": 283,
   "metadata": {
    "colab": {},
    "colab_type": "code",
    "id": "qtGEiGuu_0qA"
   },
   "outputs": [
    {
     "name": "stdout",
     "output_type": "stream",
     "text": [
      "Average Score:  0.74\n"
     ]
    }
   ],
   "source": [
    "avg_score = np.mean(score_array)\n",
    "print(\"Average Score: \", avg_score)"
   ]
  },
  {
   "cell_type": "code",
   "execution_count": 284,
   "metadata": {
    "colab": {},
    "colab_type": "code",
    "id": "Rr132f7H_0qD"
   },
   "outputs": [],
   "source": [
    "# Calculate score standard deviation using std()"
   ]
  },
  {
   "cell_type": "code",
   "execution_count": 285,
   "metadata": {
    "colab": {},
    "colab_type": "code",
    "id": "44JxPbHG_0qH"
   },
   "outputs": [
    {
     "name": "stdout",
     "output_type": "stream",
     "text": [
      "Standard Score Deviation:  0.05635166549518862\n"
     ]
    },
    {
     "data": {
      "text/html": [
       "<div>\n",
       "<style scoped>\n",
       "    .dataframe tbody tr th:only-of-type {\n",
       "        vertical-align: middle;\n",
       "    }\n",
       "\n",
       "    .dataframe tbody tr th {\n",
       "        vertical-align: top;\n",
       "    }\n",
       "\n",
       "    .dataframe thead th {\n",
       "        text-align: right;\n",
       "    }\n",
       "</style>\n",
       "<table border=\"1\" class=\"dataframe\">\n",
       "  <thead>\n",
       "    <tr style=\"text-align: right;\">\n",
       "      <th></th>\n",
       "      <th>duration_in_month</th>\n",
       "      <th>credit_amount</th>\n",
       "      <th>installment_as_income_perc</th>\n",
       "      <th>present_res_since</th>\n",
       "      <th>age</th>\n",
       "      <th>credits_this_bank</th>\n",
       "      <th>people_under_maintenance</th>\n",
       "      <th>0 &lt;= ... &lt; 200 DM</th>\n",
       "      <th>&lt; 0 DM</th>\n",
       "      <th>&gt;= 200 DM / salary assignments for at least 1 year</th>\n",
       "      <th>...</th>\n",
       "      <th>for free</th>\n",
       "      <th>own</th>\n",
       "      <th>rent</th>\n",
       "      <th>management/ self-employed/ highly qualified employee/ officer</th>\n",
       "      <th>skilled employee / official</th>\n",
       "      <th>unemployed/ unskilled - non-resident</th>\n",
       "      <th>unskilled - resident</th>\n",
       "      <th>yes, registered under the customers name</th>\n",
       "      <th>no</th>\n",
       "      <th>yes</th>\n",
       "    </tr>\n",
       "  </thead>\n",
       "  <tbody>\n",
       "    <tr>\n",
       "      <th>262</th>\n",
       "      <td>18</td>\n",
       "      <td>5302</td>\n",
       "      <td>2</td>\n",
       "      <td>4</td>\n",
       "      <td>36</td>\n",
       "      <td>3</td>\n",
       "      <td>1</td>\n",
       "      <td>0</td>\n",
       "      <td>1</td>\n",
       "      <td>0</td>\n",
       "      <td>...</td>\n",
       "      <td>1</td>\n",
       "      <td>0</td>\n",
       "      <td>0</td>\n",
       "      <td>1</td>\n",
       "      <td>0</td>\n",
       "      <td>0</td>\n",
       "      <td>0</td>\n",
       "      <td>1</td>\n",
       "      <td>0</td>\n",
       "      <td>1</td>\n",
       "    </tr>\n",
       "    <tr>\n",
       "      <th>457</th>\n",
       "      <td>12</td>\n",
       "      <td>3386</td>\n",
       "      <td>3</td>\n",
       "      <td>4</td>\n",
       "      <td>35</td>\n",
       "      <td>1</td>\n",
       "      <td>1</td>\n",
       "      <td>0</td>\n",
       "      <td>1</td>\n",
       "      <td>0</td>\n",
       "      <td>...</td>\n",
       "      <td>1</td>\n",
       "      <td>0</td>\n",
       "      <td>0</td>\n",
       "      <td>0</td>\n",
       "      <td>1</td>\n",
       "      <td>0</td>\n",
       "      <td>0</td>\n",
       "      <td>1</td>\n",
       "      <td>0</td>\n",
       "      <td>1</td>\n",
       "    </tr>\n",
       "    <tr>\n",
       "      <th>82</th>\n",
       "      <td>18</td>\n",
       "      <td>1568</td>\n",
       "      <td>3</td>\n",
       "      <td>4</td>\n",
       "      <td>24</td>\n",
       "      <td>1</td>\n",
       "      <td>1</td>\n",
       "      <td>0</td>\n",
       "      <td>0</td>\n",
       "      <td>0</td>\n",
       "      <td>...</td>\n",
       "      <td>0</td>\n",
       "      <td>0</td>\n",
       "      <td>1</td>\n",
       "      <td>0</td>\n",
       "      <td>0</td>\n",
       "      <td>0</td>\n",
       "      <td>1</td>\n",
       "      <td>0</td>\n",
       "      <td>0</td>\n",
       "      <td>1</td>\n",
       "    </tr>\n",
       "    <tr>\n",
       "      <th>563</th>\n",
       "      <td>36</td>\n",
       "      <td>12389</td>\n",
       "      <td>1</td>\n",
       "      <td>4</td>\n",
       "      <td>37</td>\n",
       "      <td>1</td>\n",
       "      <td>1</td>\n",
       "      <td>1</td>\n",
       "      <td>0</td>\n",
       "      <td>0</td>\n",
       "      <td>...</td>\n",
       "      <td>1</td>\n",
       "      <td>0</td>\n",
       "      <td>0</td>\n",
       "      <td>0</td>\n",
       "      <td>1</td>\n",
       "      <td>0</td>\n",
       "      <td>0</td>\n",
       "      <td>1</td>\n",
       "      <td>0</td>\n",
       "      <td>1</td>\n",
       "    </tr>\n",
       "    <tr>\n",
       "      <th>407</th>\n",
       "      <td>15</td>\n",
       "      <td>1053</td>\n",
       "      <td>4</td>\n",
       "      <td>2</td>\n",
       "      <td>27</td>\n",
       "      <td>1</td>\n",
       "      <td>1</td>\n",
       "      <td>0</td>\n",
       "      <td>1</td>\n",
       "      <td>0</td>\n",
       "      <td>...</td>\n",
       "      <td>0</td>\n",
       "      <td>1</td>\n",
       "      <td>0</td>\n",
       "      <td>0</td>\n",
       "      <td>1</td>\n",
       "      <td>0</td>\n",
       "      <td>0</td>\n",
       "      <td>0</td>\n",
       "      <td>1</td>\n",
       "      <td>0</td>\n",
       "    </tr>\n",
       "  </tbody>\n",
       "</table>\n",
       "<p>5 rows × 59 columns</p>\n",
       "</div>"
      ],
      "text/plain": [
       "     duration_in_month  credit_amount  installment_as_income_perc  \\\n",
       "262                 18           5302                           2   \n",
       "457                 12           3386                           3   \n",
       "82                  18           1568                           3   \n",
       "563                 36          12389                           1   \n",
       "407                 15           1053                           4   \n",
       "\n",
       "     present_res_since  age  credits_this_bank  people_under_maintenance  \\\n",
       "262                  4   36                  3                         1   \n",
       "457                  4   35                  1                         1   \n",
       "82                   4   24                  1                         1   \n",
       "563                  4   37                  1                         1   \n",
       "407                  2   27                  1                         1   \n",
       "\n",
       "     0 <= ... < 200 DM  < 0 DM  \\\n",
       "262                  0       1   \n",
       "457                  0       1   \n",
       "82                   0       0   \n",
       "563                  1       0   \n",
       "407                  0       1   \n",
       "\n",
       "     >= 200 DM / salary assignments for at least 1 year ...   for free  own  \\\n",
       "262                                                  0  ...          1    0   \n",
       "457                                                  0  ...          1    0   \n",
       "82                                                   0  ...          0    0   \n",
       "563                                                  0  ...          1    0   \n",
       "407                                                  0  ...          0    1   \n",
       "\n",
       "     rent  management/ self-employed/ highly qualified employee/ officer  \\\n",
       "262     0                                                  1               \n",
       "457     0                                                  0               \n",
       "82      1                                                  0               \n",
       "563     0                                                  0               \n",
       "407     0                                                  0               \n",
       "\n",
       "     skilled employee / official  unemployed/ unskilled - non-resident  \\\n",
       "262                            0                                     0   \n",
       "457                            1                                     0   \n",
       "82                             0                                     0   \n",
       "563                            1                                     0   \n",
       "407                            1                                     0   \n",
       "\n",
       "     unskilled - resident  yes, registered under the customers name   no  yes  \n",
       "262                     0                                          1   0    1  \n",
       "457                     0                                          1   0    1  \n",
       "82                      1                                          0   0    1  \n",
       "563                     0                                          1   0    1  \n",
       "407                     0                                          0   1    0  \n",
       "\n",
       "[5 rows x 59 columns]"
      ]
     },
     "execution_count": 285,
     "metadata": {},
     "output_type": "execute_result"
    }
   ],
   "source": [
    "print(\"Standard Score Deviation: \", score_array.std())\n",
    "X_train.head()"
   ]
  },
  {
   "cell_type": "markdown",
   "metadata": {
    "colab_type": "text",
    "id": "kB0x5yLs_0qM"
   },
   "source": [
    "# Q8 Print the confusion matrix( 1 Marks)"
   ]
  },
  {
   "cell_type": "code",
   "execution_count": 286,
   "metadata": {
    "colab": {},
    "colab_type": "code",
    "id": "WiS5l8Cn_0qO"
   },
   "outputs": [
    {
     "name": "stdout",
     "output_type": "stream",
     "text": [
      "Iteration 1\n",
      "Confusion Matrix: \n",
      " [[34  1]\n",
      " [ 4 11]]\n",
      "Iteration 2\n",
      "Confusion Matrix: \n",
      " [[35  0]\n",
      " [ 2 13]]\n",
      "Iteration 3\n",
      "Confusion Matrix: \n",
      " [[32  1]\n",
      " [ 5 12]]\n",
      "Iteration 4\n",
      "Confusion Matrix: \n",
      " [[36  1]\n",
      " [ 5  8]]\n",
      "Iteration 5\n",
      "Confusion Matrix: \n",
      " [[35  0]\n",
      " [ 1 14]]\n",
      "Iteration 6\n",
      "Confusion Matrix: \n",
      " [[31  0]\n",
      " [ 1 18]]\n",
      "Iteration 7\n",
      "Confusion Matrix: \n",
      " [[38  1]\n",
      " [ 3  8]]\n",
      "Iteration 8\n",
      "Confusion Matrix: \n",
      " [[32  2]\n",
      " [ 5 11]]\n",
      "Iteration 9\n",
      "Confusion Matrix: \n",
      " [[33  0]\n",
      " [ 2 15]]\n",
      "Iteration 10\n",
      "Confusion Matrix: \n",
      " [[29  2]\n",
      " [ 4 15]]\n"
     ]
    }
   ],
   "source": [
    "i = 1\n",
    "for train_index, test_index in k_fold.split(X_train, y_train):\n",
    "    print(\"Iteration {0}\".format(i))\n",
    "    X_train_k, X_test_k = X_train.iloc[train_index], X_train.iloc[test_index]\n",
    "    y_train_k, y_test_k = y_train.iloc[train_index], y_train.iloc[test_index]\n",
    "    y_pred_k=rfcl.predict(X_test_k)\n",
    "    print(\"Confusion Matrix: \\n\", confusion_matrix(y_test_k, y_pred_k))\n",
    "    i = i + 1"
   ]
  },
  {
   "cell_type": "markdown",
   "metadata": {
    "colab_type": "text",
    "id": "uMLxrkNg_0qR"
   },
   "source": [
    "# Q9.Classification accuracy: \n",
    "percentage of correct predictions and Calculate sensitivity (or True Positive Rate or Recall) and Precision.\n",
    "( 1 Marks)"
   ]
  },
  {
   "cell_type": "code",
   "execution_count": 287,
   "metadata": {
    "colab": {},
    "colab_type": "code",
    "id": "QUG5Y_li_0qT"
   },
   "outputs": [
    {
     "name": "stdout",
     "output_type": "stream",
     "text": [
      "Iteration 1\n",
      "Accuracy Score:  0.9\n",
      "Recall (Sensitivity/True Positive Rate):  0.7333333333333333\n",
      "Precision:  0.9166666666666666\n",
      "Iteration 2\n",
      "Accuracy Score:  0.96\n",
      "Recall (Sensitivity/True Positive Rate):  0.8666666666666667\n",
      "Precision:  1.0\n",
      "Iteration 3\n",
      "Accuracy Score:  0.88\n",
      "Recall (Sensitivity/True Positive Rate):  0.7058823529411765\n",
      "Precision:  0.9230769230769231\n",
      "Iteration 4\n",
      "Accuracy Score:  0.88\n",
      "Recall (Sensitivity/True Positive Rate):  0.6153846153846154\n",
      "Precision:  0.8888888888888888\n",
      "Iteration 5\n",
      "Accuracy Score:  0.98\n",
      "Recall (Sensitivity/True Positive Rate):  0.9333333333333333\n",
      "Precision:  1.0\n",
      "Iteration 6\n",
      "Accuracy Score:  0.98\n",
      "Recall (Sensitivity/True Positive Rate):  0.9473684210526315\n",
      "Precision:  1.0\n",
      "Iteration 7\n",
      "Accuracy Score:  0.92\n",
      "Recall (Sensitivity/True Positive Rate):  0.7272727272727273\n",
      "Precision:  0.8888888888888888\n",
      "Iteration 8\n",
      "Accuracy Score:  0.86\n",
      "Recall (Sensitivity/True Positive Rate):  0.6875\n",
      "Precision:  0.8461538461538461\n",
      "Iteration 9\n",
      "Accuracy Score:  0.96\n",
      "Recall (Sensitivity/True Positive Rate):  0.8823529411764706\n",
      "Precision:  1.0\n",
      "Iteration 10\n",
      "Accuracy Score:  0.88\n",
      "Recall (Sensitivity/True Positive Rate):  0.7894736842105263\n",
      "Precision:  0.8823529411764706\n"
     ]
    }
   ],
   "source": [
    "i = 1\n",
    "for train_index, test_index in k_fold.split(X_train, y_train):\n",
    "    print(\"Iteration {0}\".format(i))\n",
    "    X_train_k, X_test_k = X_train.iloc[train_index], X_train.iloc[test_index]\n",
    "    y_train_k, y_test_k = y_train.iloc[train_index], y_train.iloc[test_index]\n",
    "    y_pred_k=rfcl.predict(X_test_k)\n",
    "    print(\"Accuracy Score: \", accuracy_score(y_test_k, y_pred_k))\n",
    "    print(\"Recall (Sensitivity/True Positive Rate): \", recall_score(y_test_k, y_pred_k))\n",
    "    print(\"Precision: \", precision_score(y_test_k, y_pred_k))\n",
    "    i = i + 1"
   ]
  },
  {
   "cell_type": "markdown",
   "metadata": {
    "colab_type": "text",
    "id": "IlPEO3pO_0qa"
   },
   "source": [
    "# Q10.Plot Receiver Operating Characteristic (ROC) Curves( 1 Marks)"
   ]
  },
  {
   "cell_type": "code",
   "execution_count": 288,
   "metadata": {
    "colab": {},
    "colab_type": "code",
    "id": "YGyM8Uh4_0qb"
   },
   "outputs": [],
   "source": [
    "#Hint: Use roc_curve"
   ]
  },
  {
   "cell_type": "code",
   "execution_count": 294,
   "metadata": {
    "colab": {},
    "colab_type": "code",
    "id": "ZCJ-wYLX_0qo"
   },
   "outputs": [
    {
     "name": "stdout",
     "output_type": "stream",
     "text": [
      "Iteration 1\n",
      "Iteration 2\n",
      "Iteration 3\n",
      "Iteration 4\n",
      "Iteration 5\n",
      "Iteration 6\n",
      "Iteration 7\n",
      "Iteration 8\n",
      "Iteration 9\n",
      "Iteration 10\n"
     ]
    },
    {
     "data": {
      "image/png": "[encoded data removed]",
      "text/plain": [
       "<Figure size 432x288 with 1 Axes>"
      ]
     },
     "metadata": {
      "needs_background": "light"
     },
     "output_type": "display_data"
    }
   ],
   "source": [
    "from scipy import interp\n",
    "tprs = []\n",
    "aucs = []\n",
    "mean_fpr = np.linspace(0, 1, 100)\n",
    "arr_prob = []\n",
    "\n",
    "i = 1\n",
    "for train_index, test_index in k_fold.split(X_train, y_train):\n",
    "    print(\"Iteration {0}\".format(i))\n",
    "    X_train_k, X_test_k = X_train.iloc[train_index], X_train.iloc[test_index]\n",
    "    y_train_k, y_test_k = y_train.iloc[train_index], y_train.iloc[test_index]\n",
    "    probas_ = rfcl.fit(X_train_k, y_train_k).predict_proba(X_test_k)\n",
    "    arr_prob.append(probas_)\n",
    "    # Compute ROC curve and area the curve\n",
    "    fpr, tpr, thresholds = roc_curve(y_test_k, probas_[:, 1])\n",
    "    tprs.append(interp(mean_fpr, fpr, tpr))\n",
    "    tprs[-1][0] = 0.0\n",
    "    roc_auc = auc(fpr, tpr)\n",
    "    aucs.append(roc_auc)\n",
    "    plt.plot(fpr, tpr, lw=1, alpha=0.3,\n",
    "             label='ROC fold %d (AUC = %0.2f)' % (i, roc_auc))\n",
    "\n",
    "    i += 1\n",
    "plt.plot([0, 1], [0, 1], linestyle='--', lw=2, color='r',\n",
    "         label='Chance', alpha=.8)\n",
    "\n",
    "mean_tpr = np.mean(tprs, axis=0)\n",
    "mean_tpr[-1] = 1.0\n",
    "mean_auc = auc(mean_fpr, mean_tpr)\n",
    "std_auc = np.std(aucs)\n",
    "plt.plot(mean_fpr, mean_tpr, color='b',\n",
    "         label=r'Mean ROC (AUC = %0.2f $\\pm$ %0.2f)' % (mean_auc, std_auc),\n",
    "         lw=2, alpha=.8)\n",
    "\n",
    "std_tpr = np.std(tprs, axis=0)\n",
    "tprs_upper = np.minimum(mean_tpr + std_tpr, 1)\n",
    "tprs_lower = np.maximum(mean_tpr - std_tpr, 0)\n",
    "plt.fill_between(mean_fpr, tprs_lower, tprs_upper, color='grey', alpha=.2,\n",
    "                 label=r'$\\pm$ 1 std. dev.')\n",
    "\n",
    "plt.xlim([-0.05, 1.05])\n",
    "plt.ylim([-0.05, 1.05])\n",
    "plt.xlabel('False Positive Rate')\n",
    "plt.ylabel('True Positive Rate')\n",
    "plt.title('Receiver operating characteristic example')\n",
    "plt.legend(loc=\"lower right\")\n",
    "plt.show()"
   ]
  },
  {
   "cell_type": "markdown",
   "metadata": {
    "colab_type": "text",
    "id": "annGF0Bh_0qr"
   },
   "source": [
    "ROC curve can help you to choose a threshold that balances sensitivity and specificity in a way that makes sense for your particular context"
   ]
  },
  {
   "cell_type": "markdown",
   "metadata": {
    "colab_type": "text",
    "id": "rE4Qbbh5_0qt"
   },
   "source": [
    "# Q11. Calculate AUC(the percentage of the ROC plot that is underneath the curve) - optional"
   ]
  },
  {
   "cell_type": "code",
   "execution_count": 295,
   "metadata": {
    "colab": {},
    "colab_type": "code",
    "id": "8nwRSPz4_0qu"
   },
   "outputs": [
    {
     "name": "stdout",
     "output_type": "stream",
     "text": [
      "Iteration 1\n",
      "AUC: \t 0.7657142857142858\n",
      "Iteration 2\n",
      "AUC: \t 0.7523809523809524\n",
      "Iteration 3\n",
      "AUC: \t 0.7566844919786097\n",
      "Iteration 4\n",
      "AUC: \t 0.7920997920997921\n",
      "Iteration 5\n",
      "AUC: \t 0.839047619047619\n",
      "Iteration 6\n",
      "AUC: \t 0.6833616298811545\n",
      "Iteration 7\n",
      "AUC: \t 0.7797202797202798\n",
      "Iteration 8\n",
      "AUC: \t 0.7518382352941178\n",
      "Iteration 9\n",
      "AUC: \t 0.8172905525846702\n",
      "Iteration 10\n",
      "AUC: \t 0.8081494057724957\n"
     ]
    }
   ],
   "source": [
    "arr_prob = []\n",
    "i = 1\n",
    "for train_index, test_index in k_fold.split(X_train, y_train):\n",
    "    print(\"Iteration {0}\".format(i))\n",
    "    X_train_k, X_test_k = X_train.iloc[train_index], X_train.iloc[test_index]\n",
    "    y_train_k, y_test_k = y_train.iloc[train_index], y_train.iloc[test_index]\n",
    "    probas_ = rfcl.fit(X_train_k, y_train_k).predict_proba(X_test_k)\n",
    "    false_positive_rate, true_positive_rate, thresholds = roc_curve(y_test_k, probas_[:, 1])\n",
    "    print(\"AUC: \\t\", auc(false_positive_rate, true_positive_rate))\n",
    "    i = i + 1"
   ]
  },
  {
   "cell_type": "markdown",
   "metadata": {
    "colab_type": "text",
    "id": "BZ43LYtQ_0q9"
   },
   "source": [
    "### Bootstrapping ( Bonus)\n",
    "##### Given a dataset of size n, a bootstrap sample is created by sampling n instances uniformly from the data (with/without replacement)\n",
    "##### Create a model with each bootstrap sample and validate it with the test set\n",
    "##### Final result is calculated by averaging the accuracy of models"
   ]
  },
  {
   "cell_type": "code",
   "execution_count": 296,
   "metadata": {
    "colab": {},
    "colab_type": "code",
    "id": "8KwXPTNE_0q9"
   },
   "outputs": [],
   "source": [
    "# Number of iterations for bootstrapping\n",
    "bootstrap_iteration = 10\n",
    "accuracy = []"
   ]
  },
  {
   "cell_type": "code",
   "execution_count": 297,
   "metadata": {
    "colab": {},
    "colab_type": "code",
    "id": "rVQTCij9_0rA"
   },
   "outputs": [],
   "source": [
    "from sklearn.utils import resample\n",
    "from sklearn.metrics import accuracy_score\n",
    "\n",
    "for i in range(bootstrap_iteration):\n",
    "    X_, y_ = resample(X_train_final, y_train_final)\n",
    "    rfcl.fit(X_, y_)\n",
    "    y_pred = rfcl.predict(X_test_final)\n",
    "    \n",
    "    acc = accuracy_score(y_pred, y_test_final)\n",
    "    accuracy.append(acc)"
   ]
  },
  {
   "cell_type": "code",
   "execution_count": 298,
   "metadata": {
    "colab": {},
    "colab_type": "code",
    "id": "lRtfc6p7_0rD",
    "outputId": "6b6e9b14-0652-4550-83e0-7bb2ca3f0481"
   },
   "outputs": [
    {
     "name": "stdout",
     "output_type": "stream",
     "text": [
      "Accuracy Score\n",
      "Average:  0.7313333333333334\n",
      "Standard deviation:  0.01579029237643601\n"
     ]
    }
   ],
   "source": [
    "accuracy = np.array(accuracy)\n",
    "print('Accuracy Score')\n",
    "print('Average: ', accuracy.mean())\n",
    "print('Standard deviation: ', accuracy.std())"
   ]
  },
  {
   "cell_type": "code",
   "execution_count": null,
   "metadata": {
    "colab": {},
    "colab_type": "code",
    "id": "7ItbXIpd_0rH"
   },
   "outputs": [],
   "source": []
  }
 ],
 "metadata": {
  "colab": {
   "name": "R4_External_Lab_Validation_Accuracy.ipynb",
   "provenance": [],
   "version": "0.3.2"
  },
  "kernelspec": {
   "display_name": "Python 3",
   "language": "python",
   "name": "python3"
  },
  "language_info": {
   "codemirror_mode": {
    "name": "ipython",
    "version": 3
   },
   "file_extension": ".py",
   "mimetype": "text/x-python",
   "name": "python",
   "nbconvert_exporter": "python",
   "pygments_lexer": "ipython3",
   "version": "3.7.0"
  }
 },
 "nbformat": 4,
 "nbformat_minor": 1
}
