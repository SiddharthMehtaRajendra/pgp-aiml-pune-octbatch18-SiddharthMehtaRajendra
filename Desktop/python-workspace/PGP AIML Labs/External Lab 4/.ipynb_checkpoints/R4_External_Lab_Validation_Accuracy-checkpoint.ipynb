{
 "cells": [
  {
   "cell_type": "code",
   "execution_count": 68,
   "metadata": {
    "colab": {},
    "colab_type": "code",
    "id": "Y3vvEXP1_0og"
   },
   "outputs": [],
   "source": [
    "# Import important library\n",
    "import numpy as np\n",
    "import pandas as pd\n",
    "import matplotlib.pyplot as plt\n",
    "import seaborn as sns\n",
    "from sklearn.model_selection import train_test_split\n",
    "%matplotlib inline\n",
    "import warnings\n",
    "warnings.filterwarnings('ignore')"
   ]
  },
  {
   "cell_type": "markdown",
   "metadata": {
    "colab_type": "text",
    "id": "7O83uMqA_0ol"
   },
   "source": [
    "### Read the input file and check the data dimension"
   ]
  },
  {
   "cell_type": "code",
   "execution_count": 69,
   "metadata": {
    "colab": {},
    "colab_type": "code",
    "id": "EC9Oup3w_0on",
    "outputId": "08aa9a88-57df-4c19-ee40-7335b11c8b0d"
   },
   "outputs": [],
   "source": [
    "# You can access from https://www.kaggle.com/uciml/german-credit\n",
    "#Read input file and understand the data\n",
    "# \"default\" is my dependent variable\n",
    "df = pd.read_csv(\"german_credit.csv\")\n",
    "X = df.iloc[:, df.columns != 'default']\n",
    "Y = df.iloc[:, df.columns == 'default']"
   ]
  },
  {
   "cell_type": "markdown",
   "metadata": {
    "colab_type": "text",
    "id": "ASgoNlMB_0ov"
   },
   "source": [
    "### Q1 Randomly select 50% data for this use case( 1 Marks)\n",
    "###### Hint: Use train_test_split"
   ]
  },
  {
   "cell_type": "code",
   "execution_count": 70,
   "metadata": {
    "colab": {},
    "colab_type": "code",
    "id": "_LGo1xnK_0ow"
   },
   "outputs": [],
   "source": [
    "train_size=0.50\n",
    "test_size = 0.50 # taking 70:30 training and test set\n",
    "seed = 7 # Random number seeding for reapeatability of the code\n",
    "X_train, X_test, y_train, y_test = train_test_split(X, Y, train_size=train_size, test_size=test_size, random_state=seed)"
   ]
  },
  {
   "cell_type": "code",
   "execution_count": 71,
   "metadata": {
    "colab": {},
    "colab_type": "code",
    "id": "gKaiZis__0o0"
   },
   "outputs": [],
   "source": [
    "# Lets build a Ensemble model but need to modify the dataset first"
   ]
  },
  {
   "cell_type": "markdown",
   "metadata": {
    "colab_type": "text",
    "id": "utYEGBER_0o4"
   },
   "source": [
    "### Q2.Prepare the model data by converting non-numeric to dummy ( 1 Marks)\n",
    "##### Hint: Use get_dummies"
   ]
  },
  {
   "cell_type": "code",
   "execution_count": 101,
   "metadata": {
    "colab": {},
    "colab_type": "code",
    "id": "wjyTJcA6_0o6",
    "outputId": "e6bf7e9d-5732-4836-c0bb-fe03ba34683e"
   },
   "outputs": [
    {
     "name": "stdout",
     "output_type": "stream",
     "text": [
      "X Shape:  (500, 20)\n",
      "Y Shape:  (500, 1)\n"
     ]
    }
   ],
   "source": [
    "# Print Shape of model data\n",
    "print(\"X Shape: \", X_train.shape)\n",
    "print(\"Y Shape: \", y_train.shape)"
   ]
  },
  {
   "cell_type": "code",
   "execution_count": 103,
   "metadata": {},
   "outputs": [
    {
     "name": "stdout",
     "output_type": "stream",
     "text": [
      "<class 'pandas.core.frame.DataFrame'>\n",
      "Int64Index: 500 entries, 262 to 175\n",
      "Data columns (total 72 columns):\n",
      "account_check_status                                                500 non-null object\n",
      "duration_in_month                                                   500 non-null int64\n",
      "credit_history                                                      500 non-null object\n",
      "purpose                                                             500 non-null object\n",
      "credit_amount                                                       500 non-null int64\n",
      "savings                                                             500 non-null object\n",
      "present_emp_since                                                   500 non-null object\n",
      "installment_as_income_perc                                          500 non-null int64\n",
      "personal_status_sex                                                 500 non-null object\n",
      "other_debtors                                                       500 non-null object\n",
      "present_res_since                                                   500 non-null int64\n",
      "property                                                            500 non-null object\n",
      "age                                                                 500 non-null int64\n",
      "other_installment_plans                                             500 non-null object\n",
      "housing                                                             500 non-null object\n",
      "credits_this_bank                                                   500 non-null int64\n",
      "job                                                                 500 non-null object\n",
      "people_under_maintenance                                            500 non-null int64\n",
      "telephone                                                           500 non-null object\n",
      "foreign_worker                                                      500 non-null object\n",
      "0 <= ... < 200 DM                                                   500 non-null uint8\n",
      "< 0 DM                                                              500 non-null uint8\n",
      ">= 200 DM / salary assignments for at least 1 year                  500 non-null uint8\n",
      "no checking account                                                 500 non-null uint8\n",
      "all credits at this bank paid back duly                             500 non-null uint8\n",
      "critical account/ other credits existing (not at this bank)         500 non-null uint8\n",
      "delay in paying off in the past                                     500 non-null uint8\n",
      "existing credits paid back duly till now                            500 non-null uint8\n",
      "no credits taken/ all credits paid back duly                        500 non-null uint8\n",
      "(vacation - does not exist?)                                        500 non-null uint8\n",
      "business                                                            500 non-null uint8\n",
      "car (new)                                                           500 non-null uint8\n",
      "car (used)                                                          500 non-null uint8\n",
      "domestic appliances                                                 500 non-null uint8\n",
      "education                                                           500 non-null uint8\n",
      "furniture/equipment                                                 500 non-null uint8\n",
      "radio/television                                                    500 non-null uint8\n",
      "repairs                                                             500 non-null uint8\n",
      "retraining                                                          500 non-null uint8\n",
      ".. >= 1000 DM                                                       500 non-null uint8\n",
      "... < 100 DM                                                        500 non-null uint8\n",
      "100 <= ... < 500 DM                                                 500 non-null uint8\n",
      "500 <= ... < 1000 DM                                                500 non-null uint8\n",
      "unknown/ no savings account                                         500 non-null uint8\n",
      ".. >= 7 years                                                       500 non-null uint8\n",
      "... < 1 year                                                        500 non-null uint8\n",
      "1 <= ... < 4 years                                                  500 non-null uint8\n",
      "4 <= ... < 7 years                                                  500 non-null uint8\n",
      "unemployed                                                          500 non-null uint8\n",
      "female : divorced/separated/married                                 500 non-null uint8\n",
      "male : divorced/separated                                           500 non-null uint8\n",
      "male : married/widowed                                              500 non-null uint8\n",
      "male : single                                                       500 non-null uint8\n",
      "co-applicant                                                        500 non-null uint8\n",
      "guarantor                                                           500 non-null uint8\n",
      "none                                                                500 non-null uint8\n",
      "if not A121 : building society savings agreement/ life insurance    500 non-null uint8\n",
      "if not A121/A122 : car or other, not in attribute 6                 500 non-null uint8\n",
      "real estate                                                         500 non-null uint8\n",
      "unknown / no property                                               500 non-null uint8\n",
      "bank                                                                500 non-null uint8\n",
      "stores                                                              500 non-null uint8\n",
      "for free                                                            500 non-null uint8\n",
      "own                                                                 500 non-null uint8\n",
      "rent                                                                500 non-null uint8\n",
      "management/ self-employed/ highly qualified employee/ officer       500 non-null uint8\n",
      "skilled employee / official                                         500 non-null uint8\n",
      "unemployed/ unskilled - non-resident                                500 non-null uint8\n",
      "unskilled - resident                                                500 non-null uint8\n",
      "yes, registered under the customers name                            500 non-null uint8\n",
      "no                                                                  500 non-null uint8\n",
      "yes                                                                 500 non-null uint8\n",
      "dtypes: int64(7), object(13), uint8(52)\n",
      "memory usage: 107.4+ KB\n"
     ]
    }
   ],
   "source": [
    "for col in X_train.columns:\n",
    "    if(X_train[col].dtype == object):\n",
    "        dummies = pd.get_dummies(X_train[col])\n",
    "        X_train[dummies.columns] = dummies\n",
    "X_train.info()"
   ]
  },
  {
   "cell_type": "markdown",
   "metadata": {
    "colab_type": "text",
    "id": "ytl4nlUW_0pA"
   },
   "source": [
    "### Check for highly correlated variables but don't required any treatment for this use case"
   ]
  },
  {
   "cell_type": "code",
   "execution_count": 104,
   "metadata": {
    "colab": {},
    "colab_type": "code",
    "id": "0W02DKRx_0pA"
   },
   "outputs": [
    {
     "data": {
      "text/html": [
       "<div>\n",
       "<style scoped>\n",
       "    .dataframe tbody tr th:only-of-type {\n",
       "        vertical-align: middle;\n",
       "    }\n",
       "\n",
       "    .dataframe tbody tr th {\n",
       "        vertical-align: top;\n",
       "    }\n",
       "\n",
       "    .dataframe thead th {\n",
       "        text-align: right;\n",
       "    }\n",
       "</style>\n",
       "<table border=\"1\" class=\"dataframe\">\n",
       "  <thead>\n",
       "    <tr style=\"text-align: right;\">\n",
       "      <th></th>\n",
       "      <th></th>\n",
       "      <th>0</th>\n",
       "    </tr>\n",
       "    <tr>\n",
       "      <th>Col1</th>\n",
       "      <th>Col2</th>\n",
       "      <th></th>\n",
       "    </tr>\n",
       "  </thead>\n",
       "  <tbody>\n",
       "    <tr>\n",
       "      <th>duration_in_month</th>\n",
       "      <th>credit_amount</th>\n",
       "      <td>0.669686</td>\n",
       "    </tr>\n",
       "    <tr>\n",
       "      <th rowspan=\"2\" valign=\"top\">credit_amount</th>\n",
       "      <th>unknown / no property</th>\n",
       "      <td>0.307632</td>\n",
       "    </tr>\n",
       "    <tr>\n",
       "      <th>management/ self-employed/ highly qualified employee/ officer</th>\n",
       "      <td>0.334242</td>\n",
       "    </tr>\n",
       "    <tr>\n",
       "      <th>present_res_since</th>\n",
       "      <th>.. &gt;= 7 years</th>\n",
       "      <td>0.319913</td>\n",
       "    </tr>\n",
       "    <tr>\n",
       "      <th>age</th>\n",
       "      <th>.. &gt;= 7 years</th>\n",
       "      <td>0.352581</td>\n",
       "    </tr>\n",
       "    <tr>\n",
       "      <th>credits_this_bank</th>\n",
       "      <th>critical account/ other credits existing (not at this bank)</th>\n",
       "      <td>0.540030</td>\n",
       "    </tr>\n",
       "    <tr>\n",
       "      <th>people_under_maintenance</th>\n",
       "      <th>male : single</th>\n",
       "      <td>0.300646</td>\n",
       "    </tr>\n",
       "    <tr>\n",
       "      <th>all credits at this bank paid back duly</th>\n",
       "      <th>bank</th>\n",
       "      <td>0.353811</td>\n",
       "    </tr>\n",
       "    <tr>\n",
       "      <th>unemployed</th>\n",
       "      <th>unemployed/ unskilled - non-resident</th>\n",
       "      <td>0.550908</td>\n",
       "    </tr>\n",
       "    <tr>\n",
       "      <th>unknown / no property</th>\n",
       "      <th>for free</th>\n",
       "      <td>0.808156</td>\n",
       "    </tr>\n",
       "    <tr>\n",
       "      <th>management/ self-employed/ highly qualified employee/ officer</th>\n",
       "      <th>yes, registered under the customers name</th>\n",
       "      <td>0.414907</td>\n",
       "    </tr>\n",
       "  </tbody>\n",
       "</table>\n",
       "</div>"
      ],
      "text/plain": [
       "                                                                                                              0\n",
       "Col1                                               Col2                                                        \n",
       "duration_in_month                                  credit_amount                                       0.669686\n",
       "credit_amount                                      unknown / no property                               0.307632\n",
       "                                                   management/ self-employed/ highly qualified emp...  0.334242\n",
       "present_res_since                                  .. >= 7 years                                       0.319913\n",
       "age                                                .. >= 7 years                                       0.352581\n",
       "credits_this_bank                                  critical account/ other credits existing (not a...  0.540030\n",
       "people_under_maintenance                           male : single                                       0.300646\n",
       "all credits at this bank paid back duly            bank                                                0.353811\n",
       "unemployed                                         unemployed/ unskilled - non-resident                0.550908\n",
       "unknown / no property                              for free                                            0.808156\n",
       "management/ self-employed/ highly qualified emp... yes, registered under the customers name            0.414907"
      ]
     },
     "execution_count": 104,
     "metadata": {},
     "output_type": "execute_result"
    }
   ],
   "source": [
    "#Highly Correlated Variables will be those with correlation above 0.3\n",
    "corrTable = X_train.corr()\n",
    "corr_triu = corrTable.where(~np.tril(np.ones(corrTable.shape)).astype(np.bool))\n",
    "corr_triu = corr_triu.stack()\n",
    "corr_triu.index.names = ['Col1', 'Col2']\n",
    "corr_triu = corr_triu[corr_triu > 0.3].to_frame()\n",
    "corr_triu"
   ]
  },
  {
   "cell_type": "markdown",
   "metadata": {
    "colab_type": "text",
    "id": "jeI1_7is_0pG"
   },
   "source": [
    "### Drop the original variables which are converted to dummy"
   ]
  },
  {
   "cell_type": "code",
   "execution_count": 117,
   "metadata": {
    "colab": {},
    "colab_type": "code",
    "id": "LYeShbCO_0pI"
   },
   "outputs": [
    {
     "name": "stdout",
     "output_type": "stream",
     "text": [
      "NaN Values (if any):  (0, 59)\n",
      "Null Values (if any):  (0, 59)\n"
     ]
    }
   ],
   "source": [
    "for col in X_train.columns:\n",
    "    if(X_train[col].dtype == object):\n",
    "        X_train.drop(columns = col, axis = 1, inplace = True)\n",
    "print(\"NaN Values (if any): \", X_train[X_train.isna().any(axis=1)].shape)\n",
    "print(\"Null Values (if any): \", X_train[X_train.isnull().any(axis=1)].shape)\n",
    "#No Null"
   ]
  },
  {
   "cell_type": "markdown",
   "metadata": {
    "colab_type": "text",
    "id": "XLtFcI1m_0pQ"
   },
   "source": [
    "### Q3 Split Train/Test data 70:30 ratio( 1 Marks)\n",
    "##### Hint:from sklearn.model_selection import train_test_split"
   ]
  },
  {
   "cell_type": "code",
   "execution_count": 193,
   "metadata": {
    "colab": {},
    "colab_type": "code",
    "id": "pHxXKL92_0pS"
   },
   "outputs": [],
   "source": [
    "X_train_final, X_test_final, y_train_final, y_test_final = train_test_split(X_train, y_train, train_size = 0.7, test_size = 0.3, random_state=seed)"
   ]
  },
  {
   "cell_type": "markdown",
   "metadata": {
    "colab_type": "text",
    "id": "wWTpd4Ng_0pW"
   },
   "source": [
    "### Q4 Build Random Forest Model( 1 Marks)\n",
    "#### Hint:from sklearn.ensemble import RandomForestClassifier using n_jobs=2,n_estimators=500,criterion=\"entropy\",random_state=9999"
   ]
  },
  {
   "cell_type": "code",
   "execution_count": 194,
   "metadata": {
    "colab": {},
    "colab_type": "code",
    "id": "AHX5tgQm_0pY"
   },
   "outputs": [],
   "source": [
    "from sklearn.ensemble import RandomForestClassifier\n",
    "rfcl = RandomForestClassifier(n_jobs = 2, n_estimators = 500, criterion = \"entropy\", random_state=9999)\n",
    "rfcl = rfcl.fit(X_train_final, y_train_final)\n",
    "rfcl_prediction = rfcl.predict(X_test_final)"
   ]
  },
  {
   "cell_type": "markdown",
   "metadata": {
    "colab_type": "text",
    "id": "LuQwgG7T_0pa"
   },
   "source": [
    "### Q5 Calculate Confusion Matrix and Accuracy score (1 Marks)\n",
    "##### Hint: Use confusion_matrix and accuracy_score"
   ]
  },
  {
   "cell_type": "code",
   "execution_count": 195,
   "metadata": {
    "colab": {},
    "colab_type": "code",
    "id": "YgczdMEB_0pc"
   },
   "outputs": [
    {
     "data": {
      "text/plain": [
       "array([[96,  7],\n",
       "       [34, 13]])"
      ]
     },
     "execution_count": 195,
     "metadata": {},
     "output_type": "execute_result"
    }
   ],
   "source": [
    "from sklearn.metrics import accuracy_score, confusion_matrix, recall_score, precision_score, auc\n",
    "confusion_matrix(y_test_final, rfcl_prediction)"
   ]
  },
  {
   "cell_type": "code",
   "execution_count": 196,
   "metadata": {},
   "outputs": [
    {
     "data": {
      "text/plain": [
       "0.7266666666666667"
      ]
     },
     "execution_count": 196,
     "metadata": {},
     "output_type": "execute_result"
    }
   ],
   "source": [
    "accuracy_score(y_test_final, rfcl_prediction)"
   ]
  },
  {
   "cell_type": "markdown",
   "metadata": {
    "colab_type": "text",
    "id": "x2wDGYcC_0pf"
   },
   "source": [
    "### Q6 Show the list of the features importance( 1 Marks)"
   ]
  },
  {
   "cell_type": "code",
   "execution_count": 197,
   "metadata": {},
   "outputs": [
    {
     "name": "stdout",
     "output_type": "stream",
     "text": [
      "Number of Features:  59\n"
     ]
    },
    {
     "data": {
      "text/html": [
       "<div>\n",
       "<style scoped>\n",
       "    .dataframe tbody tr th:only-of-type {\n",
       "        vertical-align: middle;\n",
       "    }\n",
       "\n",
       "    .dataframe tbody tr th {\n",
       "        vertical-align: top;\n",
       "    }\n",
       "\n",
       "    .dataframe thead th {\n",
       "        text-align: right;\n",
       "    }\n",
       "</style>\n",
       "<table border=\"1\" class=\"dataframe\">\n",
       "  <thead>\n",
       "    <tr style=\"text-align: right;\">\n",
       "      <th></th>\n",
       "      <th>duration_in_month</th>\n",
       "      <th>credit_amount</th>\n",
       "      <th>installment_as_income_perc</th>\n",
       "      <th>present_res_since</th>\n",
       "      <th>age</th>\n",
       "      <th>credits_this_bank</th>\n",
       "      <th>people_under_maintenance</th>\n",
       "      <th>0 &lt;= ... &lt; 200 DM</th>\n",
       "      <th>&lt; 0 DM</th>\n",
       "      <th>&gt;= 200 DM / salary assignments for at least 1 year</th>\n",
       "      <th>...</th>\n",
       "      <th>for free</th>\n",
       "      <th>own</th>\n",
       "      <th>rent</th>\n",
       "      <th>management/ self-employed/ highly qualified employee/ officer</th>\n",
       "      <th>skilled employee / official</th>\n",
       "      <th>unemployed/ unskilled - non-resident</th>\n",
       "      <th>unskilled - resident</th>\n",
       "      <th>yes, registered under the customers name</th>\n",
       "      <th>no</th>\n",
       "      <th>yes</th>\n",
       "    </tr>\n",
       "  </thead>\n",
       "  <tbody>\n",
       "    <tr>\n",
       "      <th>0</th>\n",
       "      <td>0.087359</td>\n",
       "      <td>0.109353</td>\n",
       "      <td>0.034252</td>\n",
       "      <td>0.035137</td>\n",
       "      <td>0.074353</td>\n",
       "      <td>0.015803</td>\n",
       "      <td>0.01056</td>\n",
       "      <td>0.017504</td>\n",
       "      <td>0.028865</td>\n",
       "      <td>0.007796</td>\n",
       "      <td>...</td>\n",
       "      <td>0.006268</td>\n",
       "      <td>0.016677</td>\n",
       "      <td>0.011936</td>\n",
       "      <td>0.008481</td>\n",
       "      <td>0.016435</td>\n",
       "      <td>0.003946</td>\n",
       "      <td>0.01158</td>\n",
       "      <td>0.014117</td>\n",
       "      <td>0.002102</td>\n",
       "      <td>0.001537</td>\n",
       "    </tr>\n",
       "  </tbody>\n",
       "</table>\n",
       "<p>1 rows × 59 columns</p>\n",
       "</div>"
      ],
      "text/plain": [
       "   duration_in_month  credit_amount  installment_as_income_perc  \\\n",
       "0           0.087359       0.109353                    0.034252   \n",
       "\n",
       "   present_res_since       age  credits_this_bank  people_under_maintenance  \\\n",
       "0           0.035137  0.074353           0.015803                   0.01056   \n",
       "\n",
       "   0 <= ... < 200 DM    < 0 DM  \\\n",
       "0           0.017504  0.028865   \n",
       "\n",
       "   >= 200 DM / salary assignments for at least 1 year    ...     for free  \\\n",
       "0                                           0.007796     ...     0.006268   \n",
       "\n",
       "        own      rent  \\\n",
       "0  0.016677  0.011936   \n",
       "\n",
       "   management/ self-employed/ highly qualified employee/ officer  \\\n",
       "0                                           0.008481               \n",
       "\n",
       "   skilled employee / official  unemployed/ unskilled - non-resident  \\\n",
       "0                     0.016435                              0.003946   \n",
       "\n",
       "   unskilled - resident  yes, registered under the customers name         no  \\\n",
       "0               0.01158                                   0.014117  0.002102   \n",
       "\n",
       "        yes  \n",
       "0  0.001537  \n",
       "\n",
       "[1 rows x 59 columns]"
      ]
     },
     "execution_count": 197,
     "metadata": {},
     "output_type": "execute_result"
    }
   ],
   "source": [
    "print(\"Number of Features: \", rfcl.feature_importances_.size)\n",
    "feature_importance_list = pd.DataFrame(rfcl.feature_importances_)\n",
    "feature_importance_list = feature_importance_list.T\n",
    "feature_importance_list.columns = X_train_final.columns\n",
    "feature_importance_list"
   ]
  },
  {
   "cell_type": "markdown",
   "metadata": {
    "colab_type": "text",
    "id": "U7VnUE71_0pk"
   },
   "source": [
    "### Q7 K-fold cross-validation( 2 Marks)\n",
    "##### k-fold cross validation( without stratification)\n",
    "##### Usually k is set as 10-20 in practical settings, depends on data set size"
   ]
  },
  {
   "cell_type": "code",
   "execution_count": 198,
   "metadata": {
    "colab": {},
    "colab_type": "code",
    "id": "Pf6rIo-c_0pm"
   },
   "outputs": [],
   "source": [
    "from sklearn.model_selection import KFold\n",
    "from sklearn.model_selection import cross_val_score"
   ]
  },
  {
   "cell_type": "code",
   "execution_count": 199,
   "metadata": {
    "colab": {},
    "colab_type": "code",
    "id": "SLIiX3BP_0pp"
   },
   "outputs": [
    {
     "data": {
      "text/plain": [
       "10"
      ]
     },
     "execution_count": 199,
     "metadata": {},
     "output_type": "execute_result"
    }
   ],
   "source": [
    "# Use below values\n",
    "num_folds = 10\n",
    "seed = 77\n",
    "k_fold = KFold(n_splits = num_folds, random_state = seed)"
   ]
  },
  {
   "cell_type": "code",
   "execution_count": 200,
   "metadata": {
    "colab": {},
    "colab_type": "code",
    "id": "lDyCh_OG_0pt"
   },
   "outputs": [],
   "source": [
    "#Validate the Random Forest model build above using k fold"
   ]
  },
  {
   "cell_type": "code",
   "execution_count": 201,
   "metadata": {
    "colab": {},
    "colab_type": "code",
    "id": "fvxAgXik_0p0"
   },
   "outputs": [
    {
     "name": "stdout",
     "output_type": "stream",
     "text": [
      "[0.82857143 0.77142857 0.71428571 0.71428571 0.74285714 0.74285714\n",
      " 0.68571429 0.74285714 0.77142857 0.6       ]\n"
     ]
    }
   ],
   "source": [
    "score_array = cross_val_score(rfcl, X_train_final, y_train_final, cv = k_fold)\n",
    "print(score_array)"
   ]
  },
  {
   "cell_type": "code",
   "execution_count": 202,
   "metadata": {
    "colab": {},
    "colab_type": "code",
    "id": "6r8p73dT_0p6"
   },
   "outputs": [],
   "source": [
    "#Calculate Mean score"
   ]
  },
  {
   "cell_type": "code",
   "execution_count": 203,
   "metadata": {
    "colab": {},
    "colab_type": "code",
    "id": "qtGEiGuu_0qA"
   },
   "outputs": [
    {
     "name": "stdout",
     "output_type": "stream",
     "text": [
      "Average Score:  0.7314285714285714\n"
     ]
    }
   ],
   "source": [
    "avg_score = np.mean(score_array)\n",
    "print(\"Average Score: \", avg_score)"
   ]
  },
  {
   "cell_type": "code",
   "execution_count": 204,
   "metadata": {
    "colab": {},
    "colab_type": "code",
    "id": "Rr132f7H_0qD"
   },
   "outputs": [],
   "source": [
    "# Calculate score standard deviation using std()"
   ]
  },
  {
   "cell_type": "code",
   "execution_count": 205,
   "metadata": {
    "colab": {},
    "colab_type": "code",
    "id": "44JxPbHG_0qH"
   },
   "outputs": [
    {
     "name": "stdout",
     "output_type": "stream",
     "text": [
      "Standard Score Deviation:  0.057427860692119394\n"
     ]
    }
   ],
   "source": [
    "print(\"Standard Score Deviation: \", score_array.std())"
   ]
  },
  {
   "cell_type": "markdown",
   "metadata": {
    "colab_type": "text",
    "id": "kB0x5yLs_0qM"
   },
   "source": [
    "# Q8 Print the confusion matrix( 1 Marks)"
   ]
  },
  {
   "cell_type": "code",
   "execution_count": 210,
   "metadata": {
    "colab": {},
    "colab_type": "code",
    "id": "WiS5l8Cn_0qO"
   },
   "outputs": [
    {
     "name": "stdout",
     "output_type": "stream",
     "text": [
      "[ 35  36  37  38  39  40  41  42  43  44  45  46  47  48  49  50  51  52\n",
      "  53  54  55  56  57  58  59  60  61  62  63  64  65  66  67  68  69  70\n",
      "  71  72  73  74  75  76  77  78  79  80  81  82  83  84  85  86  87  88\n",
      "  89  90  91  92  93  94  95  96  97  98  99 100 101 102 103 104 105 106\n",
      " 107 108 109 110 111 112 113 114 115 116 117 118 119 120 121 122 123 124\n",
      " 125 126 127 128 129 130 131 132 133 134 135 136 137 138 139 140 141 142\n",
      " 143 144 145 146 147 148 149 150 151 152 153 154 155 156 157 158 159 160\n",
      " 161 162 163 164 165 166 167 168 169 170 171 172 173 174 175 176 177 178\n",
      " 179 180 181 182 183 184 185 186 187 188 189 190 191 192 193 194 195 196\n",
      " 197 198 199 200 201 202 203 204 205 206 207 208 209 210 211 212 213 214\n",
      " 215 216 217 218 219 220 221 222 223 224 225 226 227 228 229 230 231 232\n",
      " 233 234 235 236 237 238 239 240 241 242 243 244 245 246 247 248 249 250\n",
      " 251 252 253 254 255 256 257 258 259 260 261 262 263 264 265 266 267 268\n",
      " 269 270 271 272 273 274 275 276 277 278 279 280 281 282 283 284 285 286\n",
      " 287 288 289 290 291 292 293 294 295 296 297 298 299 300 301 302 303 304\n",
      " 305 306 307 308 309 310 311 312 313 314 315 316 317 318 319 320 321 322\n",
      " 323 324 325 326 327 328 329 330 331 332 333 334 335 336 337 338 339 340\n",
      " 341 342 343 344 345 346 347 348 349] [ 0  1  2  3  4  5  6  7  8  9 10 11 12 13 14 15 16 17 18 19 20 21 22 23\n",
      " 24 25 26 27 28 29 30 31 32 33 34]\n"
     ]
    },
    {
     "ename": "KeyError",
     "evalue": "'[ 35  36  37  38  39  40  41  42  43  44  45  46  47  48  49  50  51  52\\n  53  54  55  56  57  58  59  60  61  62  63  64  65  66  67  68  69  70\\n  71  72  73  74  75  76  77  78  79  80  81  82  83  84  85  86  87  88\\n  89  90  91  92  93  94  95  96  97  98  99 100 101 102 103 104 105 106\\n 107 108 109 110 111 112 113 114 115 116 117 118 119 120 121 122 123 124\\n 125 126 127 128 129 130 131 132 133 134 135 136 137 138 139 140 141 142\\n 143 144 145 146 147 148 149 150 151 152 153 154 155 156 157 158 159 160\\n 161 162 163 164 165 166 167 168 169 170 171 172 173 174 175 176 177 178\\n 179 180 181 182 183 184 185 186 187 188 189 190 191 192 193 194 195 196\\n 197 198 199 200 201 202 203 204 205 206 207 208 209 210 211 212 213 214\\n 215 216 217 218 219 220 221 222 223 224 225 226 227 228 229 230 231 232\\n 233 234 235 236 237 238 239 240 241 242 243 244 245 246 247 248 249 250\\n 251 252 253 254 255 256 257 258 259 260 261 262 263 264 265 266 267 268\\n 269 270 271 272 273 274 275 276 277 278 279 280 281 282 283 284 285 286\\n 287 288 289 290 291 292 293 294 295 296 297 298 299 300 301 302 303 304\\n 305 306 307 308 309 310 311 312 313 314 315 316 317 318 319 320 321 322\\n 323 324 325 326 327 328 329 330 331 332 333 334 335 336 337 338 339 340\\n 341 342 343 344 345 346 347 348 349] not in index'",
     "output_type": "error",
     "traceback": [
      "\u001b[0;31m---------------------------------------------------------------------------\u001b[0m",
      "\u001b[0;31mKeyError\u001b[0m                                  Traceback (most recent call last)",
      "\u001b[0;32m<ipython-input-210-7f4e089f736d>\u001b[0m in \u001b[0;36m<module>\u001b[0;34m()\u001b[0m\n\u001b[1;32m      1\u001b[0m \u001b[0;32mfor\u001b[0m \u001b[0mtrain_index\u001b[0m\u001b[0;34m,\u001b[0m \u001b[0mtest_index\u001b[0m \u001b[0;32min\u001b[0m \u001b[0mk_fold\u001b[0m\u001b[0;34m.\u001b[0m\u001b[0msplit\u001b[0m\u001b[0;34m(\u001b[0m\u001b[0mX_train_final\u001b[0m\u001b[0;34m,\u001b[0m \u001b[0my_train_final\u001b[0m\u001b[0;34m)\u001b[0m\u001b[0;34m:\u001b[0m\u001b[0;34m\u001b[0m\u001b[0m\n\u001b[1;32m      2\u001b[0m     \u001b[0mprint\u001b[0m\u001b[0;34m(\u001b[0m\u001b[0mtrain_index\u001b[0m\u001b[0;34m,\u001b[0m \u001b[0mtest_index\u001b[0m\u001b[0;34m)\u001b[0m\u001b[0;34m\u001b[0m\u001b[0m\n\u001b[0;32m----> 3\u001b[0;31m     \u001b[0mX_train\u001b[0m\u001b[0;34m,\u001b[0m \u001b[0mX_test\u001b[0m \u001b[0;34m=\u001b[0m \u001b[0mX_train_final\u001b[0m\u001b[0;34m[\u001b[0m\u001b[0mtrain_index\u001b[0m\u001b[0;34m]\u001b[0m\u001b[0;34m,\u001b[0m \u001b[0mX_test_final\u001b[0m\u001b[0;34m[\u001b[0m\u001b[0mtest_index\u001b[0m\u001b[0;34m]\u001b[0m\u001b[0;34m\u001b[0m\u001b[0m\n\u001b[0m\u001b[1;32m      4\u001b[0m     \u001b[0my_train\u001b[0m\u001b[0;34m,\u001b[0m \u001b[0my_test\u001b[0m \u001b[0;34m=\u001b[0m \u001b[0my_train_final\u001b[0m\u001b[0;34m[\u001b[0m\u001b[0mtrain_index\u001b[0m\u001b[0;34m]\u001b[0m\u001b[0;34m,\u001b[0m \u001b[0my_test_final\u001b[0m\u001b[0;34m[\u001b[0m\u001b[0mtest_index\u001b[0m\u001b[0;34m]\u001b[0m\u001b[0;34m\u001b[0m\u001b[0m\n\u001b[1;32m      5\u001b[0m     \u001b[0my_pred\u001b[0m\u001b[0;34m=\u001b[0m\u001b[0mrfcl\u001b[0m\u001b[0;34m.\u001b[0m\u001b[0mpredict\u001b[0m\u001b[0;34m(\u001b[0m\u001b[0mX_test\u001b[0m\u001b[0;34m)\u001b[0m\u001b[0;34m\u001b[0m\u001b[0m\n",
      "\u001b[0;32m/anaconda3/lib/python3.7/site-packages/pandas/core/frame.py\u001b[0m in \u001b[0;36m__getitem__\u001b[0;34m(self, key)\u001b[0m\n\u001b[1;32m   2680\u001b[0m         \u001b[0;32mif\u001b[0m \u001b[0misinstance\u001b[0m\u001b[0;34m(\u001b[0m\u001b[0mkey\u001b[0m\u001b[0;34m,\u001b[0m \u001b[0;34m(\u001b[0m\u001b[0mSeries\u001b[0m\u001b[0;34m,\u001b[0m \u001b[0mnp\u001b[0m\u001b[0;34m.\u001b[0m\u001b[0mndarray\u001b[0m\u001b[0;34m,\u001b[0m \u001b[0mIndex\u001b[0m\u001b[0;34m,\u001b[0m \u001b[0mlist\u001b[0m\u001b[0;34m)\u001b[0m\u001b[0;34m)\u001b[0m\u001b[0;34m:\u001b[0m\u001b[0;34m\u001b[0m\u001b[0m\n\u001b[1;32m   2681\u001b[0m             \u001b[0;31m# either boolean or fancy integer index\u001b[0m\u001b[0;34m\u001b[0m\u001b[0;34m\u001b[0m\u001b[0m\n\u001b[0;32m-> 2682\u001b[0;31m             \u001b[0;32mreturn\u001b[0m \u001b[0mself\u001b[0m\u001b[0;34m.\u001b[0m\u001b[0m_getitem_array\u001b[0m\u001b[0;34m(\u001b[0m\u001b[0mkey\u001b[0m\u001b[0;34m)\u001b[0m\u001b[0;34m\u001b[0m\u001b[0m\n\u001b[0m\u001b[1;32m   2683\u001b[0m         \u001b[0;32melif\u001b[0m \u001b[0misinstance\u001b[0m\u001b[0;34m(\u001b[0m\u001b[0mkey\u001b[0m\u001b[0;34m,\u001b[0m \u001b[0mDataFrame\u001b[0m\u001b[0;34m)\u001b[0m\u001b[0;34m:\u001b[0m\u001b[0;34m\u001b[0m\u001b[0m\n\u001b[1;32m   2684\u001b[0m             \u001b[0;32mreturn\u001b[0m \u001b[0mself\u001b[0m\u001b[0;34m.\u001b[0m\u001b[0m_getitem_frame\u001b[0m\u001b[0;34m(\u001b[0m\u001b[0mkey\u001b[0m\u001b[0;34m)\u001b[0m\u001b[0;34m\u001b[0m\u001b[0m\n",
      "\u001b[0;32m/anaconda3/lib/python3.7/site-packages/pandas/core/frame.py\u001b[0m in \u001b[0;36m_getitem_array\u001b[0;34m(self, key)\u001b[0m\n\u001b[1;32m   2724\u001b[0m             \u001b[0;32mreturn\u001b[0m \u001b[0mself\u001b[0m\u001b[0;34m.\u001b[0m\u001b[0m_take\u001b[0m\u001b[0;34m(\u001b[0m\u001b[0mindexer\u001b[0m\u001b[0;34m,\u001b[0m \u001b[0maxis\u001b[0m\u001b[0;34m=\u001b[0m\u001b[0;36m0\u001b[0m\u001b[0;34m)\u001b[0m\u001b[0;34m\u001b[0m\u001b[0m\n\u001b[1;32m   2725\u001b[0m         \u001b[0;32melse\u001b[0m\u001b[0;34m:\u001b[0m\u001b[0;34m\u001b[0m\u001b[0m\n\u001b[0;32m-> 2726\u001b[0;31m             \u001b[0mindexer\u001b[0m \u001b[0;34m=\u001b[0m \u001b[0mself\u001b[0m\u001b[0;34m.\u001b[0m\u001b[0mloc\u001b[0m\u001b[0;34m.\u001b[0m\u001b[0m_convert_to_indexer\u001b[0m\u001b[0;34m(\u001b[0m\u001b[0mkey\u001b[0m\u001b[0;34m,\u001b[0m \u001b[0maxis\u001b[0m\u001b[0;34m=\u001b[0m\u001b[0;36m1\u001b[0m\u001b[0;34m)\u001b[0m\u001b[0;34m\u001b[0m\u001b[0m\n\u001b[0m\u001b[1;32m   2727\u001b[0m             \u001b[0;32mreturn\u001b[0m \u001b[0mself\u001b[0m\u001b[0;34m.\u001b[0m\u001b[0m_take\u001b[0m\u001b[0;34m(\u001b[0m\u001b[0mindexer\u001b[0m\u001b[0;34m,\u001b[0m \u001b[0maxis\u001b[0m\u001b[0;34m=\u001b[0m\u001b[0;36m1\u001b[0m\u001b[0;34m)\u001b[0m\u001b[0;34m\u001b[0m\u001b[0m\n\u001b[1;32m   2728\u001b[0m \u001b[0;34m\u001b[0m\u001b[0m\n",
      "\u001b[0;32m/anaconda3/lib/python3.7/site-packages/pandas/core/indexing.py\u001b[0m in \u001b[0;36m_convert_to_indexer\u001b[0;34m(self, obj, axis, is_setter)\u001b[0m\n\u001b[1;32m   1325\u001b[0m                 \u001b[0;32mif\u001b[0m \u001b[0mmask\u001b[0m\u001b[0;34m.\u001b[0m\u001b[0many\u001b[0m\u001b[0;34m(\u001b[0m\u001b[0;34m)\u001b[0m\u001b[0;34m:\u001b[0m\u001b[0;34m\u001b[0m\u001b[0m\n\u001b[1;32m   1326\u001b[0m                     raise KeyError('{mask} not in index'\n\u001b[0;32m-> 1327\u001b[0;31m                                    .format(mask=objarr[mask]))\n\u001b[0m\u001b[1;32m   1328\u001b[0m \u001b[0;34m\u001b[0m\u001b[0m\n\u001b[1;32m   1329\u001b[0m                 \u001b[0;32mreturn\u001b[0m \u001b[0mcom\u001b[0m\u001b[0;34m.\u001b[0m\u001b[0m_values_from_object\u001b[0m\u001b[0;34m(\u001b[0m\u001b[0mindexer\u001b[0m\u001b[0;34m)\u001b[0m\u001b[0;34m\u001b[0m\u001b[0m\n",
      "\u001b[0;31mKeyError\u001b[0m: '[ 35  36  37  38  39  40  41  42  43  44  45  46  47  48  49  50  51  52\\n  53  54  55  56  57  58  59  60  61  62  63  64  65  66  67  68  69  70\\n  71  72  73  74  75  76  77  78  79  80  81  82  83  84  85  86  87  88\\n  89  90  91  92  93  94  95  96  97  98  99 100 101 102 103 104 105 106\\n 107 108 109 110 111 112 113 114 115 116 117 118 119 120 121 122 123 124\\n 125 126 127 128 129 130 131 132 133 134 135 136 137 138 139 140 141 142\\n 143 144 145 146 147 148 149 150 151 152 153 154 155 156 157 158 159 160\\n 161 162 163 164 165 166 167 168 169 170 171 172 173 174 175 176 177 178\\n 179 180 181 182 183 184 185 186 187 188 189 190 191 192 193 194 195 196\\n 197 198 199 200 201 202 203 204 205 206 207 208 209 210 211 212 213 214\\n 215 216 217 218 219 220 221 222 223 224 225 226 227 228 229 230 231 232\\n 233 234 235 236 237 238 239 240 241 242 243 244 245 246 247 248 249 250\\n 251 252 253 254 255 256 257 258 259 260 261 262 263 264 265 266 267 268\\n 269 270 271 272 273 274 275 276 277 278 279 280 281 282 283 284 285 286\\n 287 288 289 290 291 292 293 294 295 296 297 298 299 300 301 302 303 304\\n 305 306 307 308 309 310 311 312 313 314 315 316 317 318 319 320 321 322\\n 323 324 325 326 327 328 329 330 331 332 333 334 335 336 337 338 339 340\\n 341 342 343 344 345 346 347 348 349] not in index'"
     ]
    }
   ],
   "source": [
    "for train_index, test_index in k_fold.split(X_train_final, y_train_final):\n",
    "    print(train_index, test_index)\n",
    "    X_train, X_test = X_train_final[train_index], X_test_final[test_index]\n",
    "    y_train, y_test = y_train_final[train_index], y_test_final[test_index]\n",
    "    y_pred=rfcl.predict(X_test)\n",
    "    cnf_matrix = confusion_matrix(y_test, y_pred)\n",
    "    np.set_printoptions(precision=2)\n",
    "\n",
    "    # Plot non-normalized confusion matrix\n",
    "    plt.figure()\n",
    "    plot_confusion_matrix(cnf_matrix, classes=class_names,\n",
    "                      title='Confusion matrix, without normalization')\n",
    "    # Plot normalized confusion matrix\n",
    "    plt.figure()\n",
    "    plot_confusion_matrix(cnf_matrix, classes=class_names, normalize=True,\n",
    "                      title='Normalized confusion matrix')\n",
    "\n",
    "    plt.show()"
   ]
  },
  {
   "cell_type": "markdown",
   "metadata": {
    "colab_type": "text",
    "id": "uMLxrkNg_0qR"
   },
   "source": [
    "# Q9.Classification accuracy: \n",
    "percentage of correct predictions and Calculate sensitivity (or True Positive Rate or Recall) and Precision.\n",
    "( 1 Marks)"
   ]
  },
  {
   "cell_type": "code",
   "execution_count": 0,
   "metadata": {
    "colab": {},
    "colab_type": "code",
    "id": "QUG5Y_li_0qT"
   },
   "outputs": [],
   "source": []
  },
  {
   "cell_type": "code",
   "execution_count": 0,
   "metadata": {
    "colab": {},
    "colab_type": "code",
    "id": "IS9CZaZr_0qX"
   },
   "outputs": [],
   "source": []
  },
  {
   "cell_type": "markdown",
   "metadata": {
    "colab_type": "text",
    "id": "IlPEO3pO_0qa"
   },
   "source": [
    "# Q10.Plot Receiver Operating Characteristic (ROC) Curves( 1 Marks)"
   ]
  },
  {
   "cell_type": "code",
   "execution_count": 0,
   "metadata": {
    "colab": {},
    "colab_type": "code",
    "id": "YGyM8Uh4_0qb"
   },
   "outputs": [],
   "source": [
    "#Hint: Use roc_curve"
   ]
  },
  {
   "cell_type": "code",
   "execution_count": 0,
   "metadata": {
    "colab": {},
    "colab_type": "code",
    "id": "ZCJ-wYLX_0qo"
   },
   "outputs": [],
   "source": []
  },
  {
   "cell_type": "markdown",
   "metadata": {
    "colab_type": "text",
    "id": "annGF0Bh_0qr"
   },
   "source": [
    "ROC curve can help you to choose a threshold that balances sensitivity and specificity in a way that makes sense for your particular context"
   ]
  },
  {
   "cell_type": "markdown",
   "metadata": {
    "colab_type": "text",
    "id": "rE4Qbbh5_0qt"
   },
   "source": [
    "# Q11. Calculate AUC(the percentage of the ROC plot that is underneath the curve) - optional"
   ]
  },
  {
   "cell_type": "code",
   "execution_count": 0,
   "metadata": {
    "colab": {},
    "colab_type": "code",
    "id": "8nwRSPz4_0qu"
   },
   "outputs": [],
   "source": []
  },
  {
   "cell_type": "code",
   "execution_count": 0,
   "metadata": {
    "colab": {},
    "colab_type": "code",
    "id": "fsjK0GSg_0qx"
   },
   "outputs": [],
   "source": []
  },
  {
   "cell_type": "code",
   "execution_count": 0,
   "metadata": {
    "colab": {},
    "colab_type": "code",
    "id": "dA8Cha75_0qz"
   },
   "outputs": [],
   "source": []
  },
  {
   "cell_type": "code",
   "execution_count": 0,
   "metadata": {
    "colab": {},
    "colab_type": "code",
    "id": "NiON-6bu_0q4"
   },
   "outputs": [],
   "source": []
  },
  {
   "cell_type": "markdown",
   "metadata": {
    "colab_type": "text",
    "id": "BZ43LYtQ_0q9"
   },
   "source": [
    "### Bootstrapping ( Bonus)\n",
    "##### Given a dataset of size n, a bootstrap sample is created by sampling n instances uniformly from the data (with/without replacement)\n",
    "##### Create a model with each bootstrap sample and validate it with the test set\n",
    "##### Final result is calculated by averaging the accuracy of models"
   ]
  },
  {
   "cell_type": "code",
   "execution_count": 0,
   "metadata": {
    "colab": {},
    "colab_type": "code",
    "id": "8KwXPTNE_0q9"
   },
   "outputs": [],
   "source": [
    "# Number of iterations for bootstrapping\n",
    "bootstrap_iteration = 10\n",
    "accuracy = []"
   ]
  },
  {
   "cell_type": "code",
   "execution_count": 0,
   "metadata": {
    "colab": {},
    "colab_type": "code",
    "id": "rVQTCij9_0rA"
   },
   "outputs": [],
   "source": [
    "from sklearn.utils import resample\n",
    "from sklearn.metrics import accuracy_score\n",
    "\n",
    "for i in range(bootstrap_iteration):\n",
    "    X_, y_ = resample(X_train, y_train)\n",
    "    rfm.fit(X_, y_)\n",
    "    y_pred = rfm.predict(X_test)\n",
    "    \n",
    "    acc = accuracy_score(y_pred, y_test)\n",
    "    accuracy.append(acc)"
   ]
  },
  {
   "cell_type": "code",
   "execution_count": 0,
   "metadata": {
    "colab": {},
    "colab_type": "code",
    "id": "lRtfc6p7_0rD",
    "outputId": "6b6e9b14-0652-4550-83e0-7bb2ca3f0481"
   },
   "outputs": [
    {
     "name": "stdout",
     "output_type": "stream",
     "text": [
      "Accuracy Score\n",
      "Avearge:  0.6893333333333334\n",
      "Standard deviation:  0.014966629547095768\n"
     ]
    }
   ],
   "source": [
    "accuracy = np.array(accuracy)\n",
    "print('Accuracy Score')\n",
    "print('Avearge: ', accuracy.mean())\n",
    "print('Standard deviation: ', accuracy.std())"
   ]
  },
  {
   "cell_type": "code",
   "execution_count": 0,
   "metadata": {
    "colab": {},
    "colab_type": "code",
    "id": "7ItbXIpd_0rH"
   },
   "outputs": [],
   "source": []
  }
 ],
 "metadata": {
  "colab": {
   "name": "R4_External_Lab_Validation_Accuracy.ipynb",
   "provenance": [],
   "version": "0.3.2"
  },
  "kernelspec": {
   "display_name": "Python 3",
   "language": "python",
   "name": "python3"
  },
  "language_info": {
   "codemirror_mode": {
    "name": "ipython",
    "version": 3
   },
   "file_extension": ".py",
   "mimetype": "text/x-python",
   "name": "python",
   "nbconvert_exporter": "python",
   "pygments_lexer": "ipython3",
   "version": "3.7.0"
  }
 },
 "nbformat": 4,
 "nbformat_minor": 1
}
